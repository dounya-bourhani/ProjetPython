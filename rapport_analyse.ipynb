{
 "cells": [
  {
   "cell_type": "markdown",
   "metadata": {},
   "source": [
    "## 1-Traitement des valeurs foncières"
   ]
  },
  {
   "cell_type": "markdown",
   "metadata": {},
   "source": [
    "### A - Importation des données"
   ]
  },
  {
   "cell_type": "markdown",
   "metadata": {},
   "source": [
    "Première étape, on charge les 4 fichiers .txt correspondants aux données sur les valeurs foncières de  2018 à 2021.  \n",
    "On les regroupe en un seul dataframe 'df'."
   ]
  },
  {
   "cell_type": "code",
   "execution_count": 1,
   "metadata": {},
   "outputs": [
    {
     "name": "stderr",
     "output_type": "stream",
     "text": [
      "/var/folders/0b/1f6rtdh943b_w3yh5c9675cw0000gn/T/ipykernel_54912/993720581.py:3: DtypeWarning: Columns (18,23,24,26,28,30,41) have mixed types. Specify dtype option on import or set low_memory=False.\n",
      "  df = pd.read_csv('./donnees/valeursfoncieres-2021.txt', sep=\"|\", decimal=\",\")\n",
      "/var/folders/0b/1f6rtdh943b_w3yh5c9675cw0000gn/T/ipykernel_54912/993720581.py:4: DtypeWarning: Columns (18,23,24,26,28,41) have mixed types. Specify dtype option on import or set low_memory=False.\n",
      "  df2 = pd.read_csv('./donnees/valeursfoncieres-2020.txt', sep=\"|\", decimal=\",\")\n",
      "/var/folders/0b/1f6rtdh943b_w3yh5c9675cw0000gn/T/ipykernel_54912/993720581.py:5: DtypeWarning: Columns (18,23,24,26,28,41) have mixed types. Specify dtype option on import or set low_memory=False.\n",
      "  df3 = pd.read_csv('./donnees/valeursfoncieres-2019.txt', sep=\"|\", decimal=\",\")\n",
      "/var/folders/0b/1f6rtdh943b_w3yh5c9675cw0000gn/T/ipykernel_54912/993720581.py:6: DtypeWarning: Columns (14,18,23,24,26,28,32,41) have mixed types. Specify dtype option on import or set low_memory=False.\n",
      "  df4 = pd.read_csv('./donnees/valeursfoncieres-2018.txt', sep=\"|\", decimal=\",\")\n"
     ]
    },
    {
     "ename": "",
     "evalue": "",
     "output_type": "error",
     "traceback": [
      "\u001b[1;31mLe Kernel s’est bloqué lors de l’exécution du code dans la cellule active ou une cellule précédente. Veuillez vérifier le code dans la ou les cellules pour identifier une cause possible de l’échec. Cliquez <a href='https://aka.ms/vscodeJupyterKernelCrash'>ici</a> pour plus d’informations. Pour plus d’informations, consultez Jupyter <a href='command:jupyter.viewOutput'>log</a>."
     ]
    }
   ],
   "source": [
    "import pandas as pd\n",
    "\n",
    "df = pd.read_csv('./donnees/valeursfoncieres-2021.txt', sep=\"|\", decimal=\",\")\n",
    "df2 = pd.read_csv('./donnees/valeursfoncieres-2020.txt', sep=\"|\", decimal=\",\")\n",
    "df3 = pd.read_csv('./donnees/valeursfoncieres-2019.txt', sep=\"|\", decimal=\",\")\n",
    "df4 = pd.read_csv('./donnees/valeursfoncieres-2018.txt', sep=\"|\", decimal=\",\")\n",
    "df.head()\n",
    "\n",
    "\n",
    "df = pd.concat([df, df2, df3, df4], axis=0, ignore_index=True)\n",
    "df"
   ]
  },
  {
   "cell_type": "markdown",
   "metadata": {},
   "source": [
    "'df' contient 15125102 lignes & 43 colonnes."
   ]
  },
  {
   "cell_type": "markdown",
   "metadata": {},
   "source": [
    "### B - Nettoyage des données"
   ]
  },
  {
   "cell_type": "code",
   "execution_count": null,
   "metadata": {},
   "outputs": [
    {
     "ename": "NameError",
     "evalue": "name 'df' is not defined",
     "output_type": "error",
     "traceback": [
      "\u001b[0;31m---------------------------------------------------------------------------\u001b[0m",
      "\u001b[0;31mNameError\u001b[0m                                 Traceback (most recent call last)",
      "\u001b[1;32m/Users/martinrevel/Documents/ProjetPython/rapport_analyse.ipynb Cellule 7\u001b[0m line \u001b[0;36m<cell line: 1>\u001b[0;34m()\u001b[0m\n\u001b[0;32m----> <a href='vscode-notebook-cell:/Users/martinrevel/Documents/ProjetPython/rapport_analyse.ipynb#X12sZmlsZQ%3D%3D?line=0'>1</a>\u001b[0m pourcentage_manquant \u001b[39m=\u001b[39m (df\u001b[39m.\u001b[39misna()\u001b[39m.\u001b[39msum() \u001b[39m/\u001b[39m \u001b[39mlen\u001b[39m(df)) \u001b[39m*\u001b[39m \u001b[39m100\u001b[39m\n\u001b[1;32m      <a href='vscode-notebook-cell:/Users/martinrevel/Documents/ProjetPython/rapport_analyse.ipynb#X12sZmlsZQ%3D%3D?line=1'>2</a>\u001b[0m pourcentage_manquant\n",
      "\u001b[0;31mNameError\u001b[0m: name 'df' is not defined"
     ]
    }
   ],
   "source": [
    "pourcentage_manquant = (df.isna().sum() / len(df)) * 100\n",
    "pourcentage_manquant = pourcentage_manquant.sort_values(ascending=False)\n",
    "pourcentage_manquant "
   ]
  },
  {
   "cell_type": "markdown",
   "metadata": {},
   "source": [
    "On supprime les ventes qui apparaissent plus d'une fois le même jour ET à la même adresse:  \n",
    "-On créer un nouvelle colonne 'col_concat' avec l'adresse et la date de vente jointe.  \n",
    "-On supprime les lignes ayant la même valeur dans col_concat"
   ]
  },
  {
   "cell_type": "code",
   "execution_count": null,
   "metadata": {},
   "outputs": [],
   "source": [
    "cols_to_join = ['Date mutation', 'Type de voie', 'No voie', 'Code voie', 'Voie', 'Code postal', 'Commune']\n",
    "df['col_concat'] = df[cols_to_join].apply(lambda x: ''.join(map(str,x)), axis=1)\n",
    "df = df.drop_duplicates(subset='col_concat', keep=False)\n",
    "df"
   ]
  },
  {
   "cell_type": "markdown",
   "metadata": {},
   "source": [
    "On constate que plusieurs variables sont vides ou presques vide.  \n",
    "On supprime ces variables ainsi que certaines autres qui ne seront pas exploitées dans les modèles."
   ]
  },
  {
   "cell_type": "code",
   "execution_count": null,
   "metadata": {},
   "outputs": [],
   "source": [
    "df = df.dropna(axis=1, how='all') \n",
    "df = df.drop(columns= {'Surface Carrez du 5eme lot', 'Surface Carrez du 4eme lot', 'Surface Carrez du 3eme lot', 'No Volume', '5eme lot', '4eme lot', '3eme lot', 'Surface Carrez du 2eme lot', 'Nature culture speciale', 'B/T/Q',  'Prefixe de section', '2eme lot', 'Code type local', 'No voie', 'Code voie', 'Code departement'})\n",
    "df"
   ]
  },
  {
   "cell_type": "markdown",
   "metadata": {},
   "source": [
    "On supprime les lignes qui n'ont pas de 'type local' renseigné car c'est une variable utilisée pour l'entrainement des modèles."
   ]
  },
  {
   "cell_type": "code",
   "execution_count": null,
   "metadata": {},
   "outputs": [],
   "source": [
    "df = df.dropna(subset=['Type local'])\n",
    "df"
   ]
  },
  {
   "cell_type": "markdown",
   "metadata": {},
   "source": [
    "On supprime les outliers concernant la valeur foncière par précaution pour ne pas perturber les modèles."
   ]
  },
  {
   "cell_type": "code",
   "execution_count": null,
   "metadata": {},
   "outputs": [],
   "source": [
    "Q1 = df['Valeur fonciere'].quantile(0.25)\n",
    "Q3 = df['Valeur fonciere'].quantile(0.75)\n",
    "IQR = Q3-Q1\n",
    "df = df[(df['Valeur fonciere'] >= Q1 - 1.5 * IQR) & (df['Valeur fonciere'] <= Q3 + 1.5 * IQR)]"
   ]
  },
  {
   "cell_type": "markdown",
   "metadata": {},
   "source": [
    "Étant donné que le but de nos modèle sera de prédire la valeurs foncière, correspondant donc à une vente, nous décidons de supprimer les lignes où 'Nature mutation' n'est pas 'vente'."
   ]
  },
  {
   "cell_type": "code",
   "execution_count": null,
   "metadata": {},
   "outputs": [],
   "source": [
    "df = df.loc[df['Nature mutation'] == 'Vente']"
   ]
  },
  {
   "cell_type": "markdown",
   "metadata": {},
   "source": [
    "### C - Open Data"
   ]
  },
  {
   "cell_type": "code",
   "execution_count": null,
   "metadata": {},
   "outputs": [],
   "source": [
    "print(\"Taille de notre dataframe nettoyé :\", df.shape)"
   ]
  },
  {
   "cell_type": "markdown",
   "metadata": {},
   "source": [
    "On a perdu ? lignes et ? colonnes en nettoyant les données.  \n",
    "On va maintenant enrichir le dataframe avec de l'Open Data."
   ]
  },
  {
   "cell_type": "markdown",
   "metadata": {},
   "source": [
    "#### Taux de chômage"
   ]
  },
  {
   "cell_type": "markdown",
   "metadata": {},
   "source": [
    "On a trouvé un fichier sl_etc_2023T2.xls contenant le taux de chômage par département et par année. Ça pourra nous aider dans les modèles de régression.  \n",
    "Après un nettoyage du fichier, nous avons pu rajouter à notre dataframe une nouvelle variable 'Moyenne Taux Chomage' indiquant la moyenne du taux de chômage  \n",
    "entre les années 2018 à 2021 par département."
   ]
  },
  {
   "cell_type": "code",
   "execution_count": null,
   "metadata": {},
   "outputs": [
    {
     "data": {
      "text/html": [
       "<div>\n",
       "<style scoped>\n",
       "    .dataframe tbody tr th:only-of-type {\n",
       "        vertical-align: middle;\n",
       "    }\n",
       "\n",
       "    .dataframe tbody tr th {\n",
       "        vertical-align: top;\n",
       "    }\n",
       "\n",
       "    .dataframe thead th {\n",
       "        text-align: right;\n",
       "    }\n",
       "</style>\n",
       "<table border=\"1\" class=\"dataframe\">\n",
       "  <thead>\n",
       "    <tr style=\"text-align: right;\">\n",
       "      <th></th>\n",
       "      <th>Code</th>\n",
       "      <th>Libellé</th>\n",
       "      <th>T1_1982</th>\n",
       "      <th>T2_1982</th>\n",
       "      <th>T3_1982</th>\n",
       "      <th>T4_1982</th>\n",
       "      <th>T1_1983</th>\n",
       "      <th>T2_1983</th>\n",
       "      <th>T3_1983</th>\n",
       "      <th>T4_1983</th>\n",
       "      <th>...</th>\n",
       "      <th>T1_2021</th>\n",
       "      <th>T2_2021</th>\n",
       "      <th>T3_2021</th>\n",
       "      <th>T4_2021</th>\n",
       "      <th>T1_2022</th>\n",
       "      <th>T2_2022</th>\n",
       "      <th>T3_2022</th>\n",
       "      <th>T4_2022</th>\n",
       "      <th>T1_2023</th>\n",
       "      <th>T2_2023</th>\n",
       "    </tr>\n",
       "  </thead>\n",
       "  <tbody>\n",
       "    <tr>\n",
       "      <th>0</th>\n",
       "      <td>01</td>\n",
       "      <td>AIN</td>\n",
       "      <td>3.8</td>\n",
       "      <td>3.9</td>\n",
       "      <td>4.0</td>\n",
       "      <td>4.1</td>\n",
       "      <td>4.2</td>\n",
       "      <td>4.2</td>\n",
       "      <td>4.4</td>\n",
       "      <td>4.6</td>\n",
       "      <td>...</td>\n",
       "      <td>6.2</td>\n",
       "      <td>5.9</td>\n",
       "      <td>6.0</td>\n",
       "      <td>5.6</td>\n",
       "      <td>5.5</td>\n",
       "      <td>5.5</td>\n",
       "      <td>5.5</td>\n",
       "      <td>5.3</td>\n",
       "      <td>5.3</td>\n",
       "      <td>5.4</td>\n",
       "    </tr>\n",
       "    <tr>\n",
       "      <th>1</th>\n",
       "      <td>02</td>\n",
       "      <td>AISNE</td>\n",
       "      <td>8.3</td>\n",
       "      <td>8.4</td>\n",
       "      <td>8.6</td>\n",
       "      <td>8.5</td>\n",
       "      <td>8.5</td>\n",
       "      <td>8.5</td>\n",
       "      <td>8.8</td>\n",
       "      <td>9.2</td>\n",
       "      <td>...</td>\n",
       "      <td>11.1</td>\n",
       "      <td>10.9</td>\n",
       "      <td>11.3</td>\n",
       "      <td>10.7</td>\n",
       "      <td>10.6</td>\n",
       "      <td>10.5</td>\n",
       "      <td>10.5</td>\n",
       "      <td>10.3</td>\n",
       "      <td>10.3</td>\n",
       "      <td>10.3</td>\n",
       "    </tr>\n",
       "    <tr>\n",
       "      <th>2</th>\n",
       "      <td>03</td>\n",
       "      <td>ALLIER</td>\n",
       "      <td>7.3</td>\n",
       "      <td>7.5</td>\n",
       "      <td>7.7</td>\n",
       "      <td>7.7</td>\n",
       "      <td>7.7</td>\n",
       "      <td>7.7</td>\n",
       "      <td>7.8</td>\n",
       "      <td>8.4</td>\n",
       "      <td>...</td>\n",
       "      <td>8.3</td>\n",
       "      <td>8.2</td>\n",
       "      <td>8.2</td>\n",
       "      <td>7.8</td>\n",
       "      <td>7.7</td>\n",
       "      <td>7.7</td>\n",
       "      <td>7.7</td>\n",
       "      <td>7.5</td>\n",
       "      <td>7.4</td>\n",
       "      <td>7.6</td>\n",
       "    </tr>\n",
       "    <tr>\n",
       "      <th>3</th>\n",
       "      <td>04</td>\n",
       "      <td>ALPES-DE-HAUTE-PROVENCE</td>\n",
       "      <td>5.5</td>\n",
       "      <td>5.6</td>\n",
       "      <td>5.8</td>\n",
       "      <td>6.0</td>\n",
       "      <td>6.1</td>\n",
       "      <td>6.1</td>\n",
       "      <td>6.3</td>\n",
       "      <td>6.6</td>\n",
       "      <td>...</td>\n",
       "      <td>9.2</td>\n",
       "      <td>9.1</td>\n",
       "      <td>8.8</td>\n",
       "      <td>8.3</td>\n",
       "      <td>8.2</td>\n",
       "      <td>8.2</td>\n",
       "      <td>8.4</td>\n",
       "      <td>8.1</td>\n",
       "      <td>7.9</td>\n",
       "      <td>7.9</td>\n",
       "    </tr>\n",
       "    <tr>\n",
       "      <th>4</th>\n",
       "      <td>05</td>\n",
       "      <td>HAUTES-ALPES</td>\n",
       "      <td>4.9</td>\n",
       "      <td>4.9</td>\n",
       "      <td>5.0</td>\n",
       "      <td>5.3</td>\n",
       "      <td>5.7</td>\n",
       "      <td>5.8</td>\n",
       "      <td>6.0</td>\n",
       "      <td>6.4</td>\n",
       "      <td>...</td>\n",
       "      <td>9.6</td>\n",
       "      <td>8.0</td>\n",
       "      <td>7.5</td>\n",
       "      <td>7.0</td>\n",
       "      <td>7.1</td>\n",
       "      <td>6.9</td>\n",
       "      <td>7.0</td>\n",
       "      <td>6.7</td>\n",
       "      <td>6.7</td>\n",
       "      <td>6.6</td>\n",
       "    </tr>\n",
       "    <tr>\n",
       "      <th>...</th>\n",
       "      <td>...</td>\n",
       "      <td>...</td>\n",
       "      <td>...</td>\n",
       "      <td>...</td>\n",
       "      <td>...</td>\n",
       "      <td>...</td>\n",
       "      <td>...</td>\n",
       "      <td>...</td>\n",
       "      <td>...</td>\n",
       "      <td>...</td>\n",
       "      <td>...</td>\n",
       "      <td>...</td>\n",
       "      <td>...</td>\n",
       "      <td>...</td>\n",
       "      <td>...</td>\n",
       "      <td>...</td>\n",
       "      <td>...</td>\n",
       "      <td>...</td>\n",
       "      <td>...</td>\n",
       "      <td>...</td>\n",
       "      <td>...</td>\n",
       "    </tr>\n",
       "    <tr>\n",
       "      <th>95</th>\n",
       "      <td>95</td>\n",
       "      <td>VAL-D'OISE</td>\n",
       "      <td>5.3</td>\n",
       "      <td>5.4</td>\n",
       "      <td>5.5</td>\n",
       "      <td>5.5</td>\n",
       "      <td>5.6</td>\n",
       "      <td>5.6</td>\n",
       "      <td>5.6</td>\n",
       "      <td>5.9</td>\n",
       "      <td>...</td>\n",
       "      <td>9.0</td>\n",
       "      <td>8.7</td>\n",
       "      <td>8.9</td>\n",
       "      <td>8.3</td>\n",
       "      <td>8.1</td>\n",
       "      <td>8.1</td>\n",
       "      <td>8.0</td>\n",
       "      <td>7.9</td>\n",
       "      <td>7.7</td>\n",
       "      <td>7.8</td>\n",
       "    </tr>\n",
       "    <tr>\n",
       "      <th>96</th>\n",
       "      <td>971</td>\n",
       "      <td>GUADELOUPE</td>\n",
       "      <td>NaN</td>\n",
       "      <td>NaN</td>\n",
       "      <td>NaN</td>\n",
       "      <td>NaN</td>\n",
       "      <td>NaN</td>\n",
       "      <td>NaN</td>\n",
       "      <td>NaN</td>\n",
       "      <td>NaN</td>\n",
       "      <td>...</td>\n",
       "      <td>17.3</td>\n",
       "      <td>19.5</td>\n",
       "      <td>16.4</td>\n",
       "      <td>15.5</td>\n",
       "      <td>18.1</td>\n",
       "      <td>18.5</td>\n",
       "      <td>18.3</td>\n",
       "      <td>19.3</td>\n",
       "      <td>18.2</td>\n",
       "      <td>19.5</td>\n",
       "    </tr>\n",
       "    <tr>\n",
       "      <th>97</th>\n",
       "      <td>972</td>\n",
       "      <td>MARTINIQUE</td>\n",
       "      <td>NaN</td>\n",
       "      <td>NaN</td>\n",
       "      <td>NaN</td>\n",
       "      <td>NaN</td>\n",
       "      <td>NaN</td>\n",
       "      <td>NaN</td>\n",
       "      <td>NaN</td>\n",
       "      <td>NaN</td>\n",
       "      <td>...</td>\n",
       "      <td>12.8</td>\n",
       "      <td>14.8</td>\n",
       "      <td>13.2</td>\n",
       "      <td>10.9</td>\n",
       "      <td>12.5</td>\n",
       "      <td>13.6</td>\n",
       "      <td>13.3</td>\n",
       "      <td>10.2</td>\n",
       "      <td>12.4</td>\n",
       "      <td>10.7</td>\n",
       "    </tr>\n",
       "    <tr>\n",
       "      <th>98</th>\n",
       "      <td>973</td>\n",
       "      <td>GUYANE</td>\n",
       "      <td>NaN</td>\n",
       "      <td>NaN</td>\n",
       "      <td>NaN</td>\n",
       "      <td>NaN</td>\n",
       "      <td>NaN</td>\n",
       "      <td>NaN</td>\n",
       "      <td>NaN</td>\n",
       "      <td>NaN</td>\n",
       "      <td>...</td>\n",
       "      <td>12.3</td>\n",
       "      <td>13.5</td>\n",
       "      <td>17.1</td>\n",
       "      <td>14.2</td>\n",
       "      <td>15.5</td>\n",
       "      <td>13.3</td>\n",
       "      <td>13.5</td>\n",
       "      <td>10.9</td>\n",
       "      <td>13.9</td>\n",
       "      <td>13.8</td>\n",
       "    </tr>\n",
       "    <tr>\n",
       "      <th>99</th>\n",
       "      <td>974</td>\n",
       "      <td>LA REUNION</td>\n",
       "      <td>NaN</td>\n",
       "      <td>NaN</td>\n",
       "      <td>NaN</td>\n",
       "      <td>NaN</td>\n",
       "      <td>NaN</td>\n",
       "      <td>NaN</td>\n",
       "      <td>NaN</td>\n",
       "      <td>NaN</td>\n",
       "      <td>...</td>\n",
       "      <td>17.5</td>\n",
       "      <td>16.7</td>\n",
       "      <td>18.6</td>\n",
       "      <td>19.0</td>\n",
       "      <td>18.5</td>\n",
       "      <td>18.9</td>\n",
       "      <td>17.6</td>\n",
       "      <td>17.1</td>\n",
       "      <td>18.7</td>\n",
       "      <td>18.8</td>\n",
       "    </tr>\n",
       "  </tbody>\n",
       "</table>\n",
       "<p>100 rows × 168 columns</p>\n",
       "</div>"
      ],
      "text/plain": [
       "   Code                  Libellé  T1_1982  T2_1982  T3_1982  T4_1982  T1_1983  \\\n",
       "0    01                      AIN      3.8      3.9      4.0      4.1      4.2   \n",
       "1    02                    AISNE      8.3      8.4      8.6      8.5      8.5   \n",
       "2    03                   ALLIER      7.3      7.5      7.7      7.7      7.7   \n",
       "3    04  ALPES-DE-HAUTE-PROVENCE      5.5      5.6      5.8      6.0      6.1   \n",
       "4    05             HAUTES-ALPES      4.9      4.9      5.0      5.3      5.7   \n",
       "..  ...                      ...      ...      ...      ...      ...      ...   \n",
       "95   95               VAL-D'OISE      5.3      5.4      5.5      5.5      5.6   \n",
       "96  971               GUADELOUPE      NaN      NaN      NaN      NaN      NaN   \n",
       "97  972               MARTINIQUE      NaN      NaN      NaN      NaN      NaN   \n",
       "98  973                   GUYANE      NaN      NaN      NaN      NaN      NaN   \n",
       "99  974               LA REUNION      NaN      NaN      NaN      NaN      NaN   \n",
       "\n",
       "    T2_1983  T3_1983  T4_1983  ...  T1_2021  T2_2021  T3_2021  T4_2021  \\\n",
       "0       4.2      4.4      4.6  ...      6.2      5.9      6.0      5.6   \n",
       "1       8.5      8.8      9.2  ...     11.1     10.9     11.3     10.7   \n",
       "2       7.7      7.8      8.4  ...      8.3      8.2      8.2      7.8   \n",
       "3       6.1      6.3      6.6  ...      9.2      9.1      8.8      8.3   \n",
       "4       5.8      6.0      6.4  ...      9.6      8.0      7.5      7.0   \n",
       "..      ...      ...      ...  ...      ...      ...      ...      ...   \n",
       "95      5.6      5.6      5.9  ...      9.0      8.7      8.9      8.3   \n",
       "96      NaN      NaN      NaN  ...     17.3     19.5     16.4     15.5   \n",
       "97      NaN      NaN      NaN  ...     12.8     14.8     13.2     10.9   \n",
       "98      NaN      NaN      NaN  ...     12.3     13.5     17.1     14.2   \n",
       "99      NaN      NaN      NaN  ...     17.5     16.7     18.6     19.0   \n",
       "\n",
       "    T1_2022  T2_2022  T3_2022  T4_2022  T1_2023  T2_2023  \n",
       "0       5.5      5.5      5.5      5.3      5.3      5.4  \n",
       "1      10.6     10.5     10.5     10.3     10.3     10.3  \n",
       "2       7.7      7.7      7.7      7.5      7.4      7.6  \n",
       "3       8.2      8.2      8.4      8.1      7.9      7.9  \n",
       "4       7.1      6.9      7.0      6.7      6.7      6.6  \n",
       "..      ...      ...      ...      ...      ...      ...  \n",
       "95      8.1      8.1      8.0      7.9      7.7      7.8  \n",
       "96     18.1     18.5     18.3     19.3     18.2     19.5  \n",
       "97     12.5     13.6     13.3     10.2     12.4     10.7  \n",
       "98     15.5     13.3     13.5     10.9     13.9     13.8  \n",
       "99     18.5     18.9     17.6     17.1     18.7     18.8  \n",
       "\n",
       "[100 rows x 168 columns]"
      ]
     },
     "metadata": {},
     "output_type": "display_data"
    }
   ],
   "source": [
    "import pandas as pd\n",
    "chomage = pd.read_excel('sl_etc_2023T2.xls',sheet_name='Département')\n",
    "\n",
    "total_rows = len(chomage)\n",
    "chomage = chomage.iloc[:total_rows - 4]\n",
    "chomage"
   ]
  },
  {
   "cell_type": "code",
   "execution_count": null,
   "metadata": {},
   "outputs": [
    {
     "data": {
      "text/html": [
       "<div>\n",
       "<style scoped>\n",
       "    .dataframe tbody tr th:only-of-type {\n",
       "        vertical-align: middle;\n",
       "    }\n",
       "\n",
       "    .dataframe tbody tr th {\n",
       "        vertical-align: top;\n",
       "    }\n",
       "\n",
       "    .dataframe thead th {\n",
       "        text-align: right;\n",
       "    }\n",
       "</style>\n",
       "<table border=\"1\" class=\"dataframe\">\n",
       "  <thead>\n",
       "    <tr style=\"text-align: right;\">\n",
       "      <th></th>\n",
       "      <th>T1_2018</th>\n",
       "      <th>T2_2018</th>\n",
       "      <th>T3_2018</th>\n",
       "      <th>T4_2018</th>\n",
       "      <th>T1_2019</th>\n",
       "      <th>T2_2019</th>\n",
       "      <th>T3_2019</th>\n",
       "      <th>T4_2019</th>\n",
       "      <th>T1_2020</th>\n",
       "      <th>T2_2020</th>\n",
       "      <th>T3_2020</th>\n",
       "      <th>T4_2020</th>\n",
       "      <th>T1_2021</th>\n",
       "      <th>T2_2021</th>\n",
       "      <th>T3_2021</th>\n",
       "      <th>T4_2021</th>\n",
       "    </tr>\n",
       "  </thead>\n",
       "  <tbody>\n",
       "    <tr>\n",
       "      <th>0</th>\n",
       "      <td>6.4</td>\n",
       "      <td>6.3</td>\n",
       "      <td>6.4</td>\n",
       "      <td>6.2</td>\n",
       "      <td>6.2</td>\n",
       "      <td>6.0</td>\n",
       "      <td>6.1</td>\n",
       "      <td>6.0</td>\n",
       "      <td>5.8</td>\n",
       "      <td>5.6</td>\n",
       "      <td>6.8</td>\n",
       "      <td>6.1</td>\n",
       "      <td>6.2</td>\n",
       "      <td>5.9</td>\n",
       "      <td>6.0</td>\n",
       "      <td>5.6</td>\n",
       "    </tr>\n",
       "    <tr>\n",
       "      <th>1</th>\n",
       "      <td>12.8</td>\n",
       "      <td>12.6</td>\n",
       "      <td>12.3</td>\n",
       "      <td>12.0</td>\n",
       "      <td>12.1</td>\n",
       "      <td>11.6</td>\n",
       "      <td>11.6</td>\n",
       "      <td>11.3</td>\n",
       "      <td>11.1</td>\n",
       "      <td>9.5</td>\n",
       "      <td>12.2</td>\n",
       "      <td>11.0</td>\n",
       "      <td>11.1</td>\n",
       "      <td>10.9</td>\n",
       "      <td>11.3</td>\n",
       "      <td>10.7</td>\n",
       "    </tr>\n",
       "    <tr>\n",
       "      <th>2</th>\n",
       "      <td>9.6</td>\n",
       "      <td>9.4</td>\n",
       "      <td>9.3</td>\n",
       "      <td>9.1</td>\n",
       "      <td>9.2</td>\n",
       "      <td>8.9</td>\n",
       "      <td>8.8</td>\n",
       "      <td>8.7</td>\n",
       "      <td>8.3</td>\n",
       "      <td>7.8</td>\n",
       "      <td>9.5</td>\n",
       "      <td>8.3</td>\n",
       "      <td>8.3</td>\n",
       "      <td>8.2</td>\n",
       "      <td>8.2</td>\n",
       "      <td>7.8</td>\n",
       "    </tr>\n",
       "    <tr>\n",
       "      <th>3</th>\n",
       "      <td>10.7</td>\n",
       "      <td>10.5</td>\n",
       "      <td>10.3</td>\n",
       "      <td>10.2</td>\n",
       "      <td>10.2</td>\n",
       "      <td>9.8</td>\n",
       "      <td>9.8</td>\n",
       "      <td>9.3</td>\n",
       "      <td>8.9</td>\n",
       "      <td>8.4</td>\n",
       "      <td>10.2</td>\n",
       "      <td>8.9</td>\n",
       "      <td>9.2</td>\n",
       "      <td>9.1</td>\n",
       "      <td>8.8</td>\n",
       "      <td>8.3</td>\n",
       "    </tr>\n",
       "    <tr>\n",
       "      <th>4</th>\n",
       "      <td>8.5</td>\n",
       "      <td>8.5</td>\n",
       "      <td>8.5</td>\n",
       "      <td>8.3</td>\n",
       "      <td>8.2</td>\n",
       "      <td>8.0</td>\n",
       "      <td>7.9</td>\n",
       "      <td>7.8</td>\n",
       "      <td>7.4</td>\n",
       "      <td>7.1</td>\n",
       "      <td>8.5</td>\n",
       "      <td>7.8</td>\n",
       "      <td>9.6</td>\n",
       "      <td>8.0</td>\n",
       "      <td>7.5</td>\n",
       "      <td>7.0</td>\n",
       "    </tr>\n",
       "    <tr>\n",
       "      <th>...</th>\n",
       "      <td>...</td>\n",
       "      <td>...</td>\n",
       "      <td>...</td>\n",
       "      <td>...</td>\n",
       "      <td>...</td>\n",
       "      <td>...</td>\n",
       "      <td>...</td>\n",
       "      <td>...</td>\n",
       "      <td>...</td>\n",
       "      <td>...</td>\n",
       "      <td>...</td>\n",
       "      <td>...</td>\n",
       "      <td>...</td>\n",
       "      <td>...</td>\n",
       "      <td>...</td>\n",
       "      <td>...</td>\n",
       "    </tr>\n",
       "    <tr>\n",
       "      <th>95</th>\n",
       "      <td>9.4</td>\n",
       "      <td>9.3</td>\n",
       "      <td>9.1</td>\n",
       "      <td>8.9</td>\n",
       "      <td>8.8</td>\n",
       "      <td>8.5</td>\n",
       "      <td>8.5</td>\n",
       "      <td>8.3</td>\n",
       "      <td>8.1</td>\n",
       "      <td>7.3</td>\n",
       "      <td>9.6</td>\n",
       "      <td>8.9</td>\n",
       "      <td>9.0</td>\n",
       "      <td>8.7</td>\n",
       "      <td>8.9</td>\n",
       "      <td>8.3</td>\n",
       "    </tr>\n",
       "    <tr>\n",
       "      <th>96</th>\n",
       "      <td>24.0</td>\n",
       "      <td>21.0</td>\n",
       "      <td>23.5</td>\n",
       "      <td>22.0</td>\n",
       "      <td>21.8</td>\n",
       "      <td>19.5</td>\n",
       "      <td>20.6</td>\n",
       "      <td>20.8</td>\n",
       "      <td>18.9</td>\n",
       "      <td>11.4</td>\n",
       "      <td>19.5</td>\n",
       "      <td>19.7</td>\n",
       "      <td>17.3</td>\n",
       "      <td>19.5</td>\n",
       "      <td>16.4</td>\n",
       "      <td>15.5</td>\n",
       "    </tr>\n",
       "    <tr>\n",
       "      <th>97</th>\n",
       "      <td>15.6</td>\n",
       "      <td>18.3</td>\n",
       "      <td>17.1</td>\n",
       "      <td>18.3</td>\n",
       "      <td>16.2</td>\n",
       "      <td>14.4</td>\n",
       "      <td>13.8</td>\n",
       "      <td>15.3</td>\n",
       "      <td>11.8</td>\n",
       "      <td>8.2</td>\n",
       "      <td>15.4</td>\n",
       "      <td>14.2</td>\n",
       "      <td>12.8</td>\n",
       "      <td>14.8</td>\n",
       "      <td>13.2</td>\n",
       "      <td>10.9</td>\n",
       "    </tr>\n",
       "    <tr>\n",
       "      <th>98</th>\n",
       "      <td>18.1</td>\n",
       "      <td>19.5</td>\n",
       "      <td>19.2</td>\n",
       "      <td>19.1</td>\n",
       "      <td>17.6</td>\n",
       "      <td>20.2</td>\n",
       "      <td>20.0</td>\n",
       "      <td>19.6</td>\n",
       "      <td>16.4</td>\n",
       "      <td>8.7</td>\n",
       "      <td>18.7</td>\n",
       "      <td>20.5</td>\n",
       "      <td>12.3</td>\n",
       "      <td>13.5</td>\n",
       "      <td>17.1</td>\n",
       "      <td>14.2</td>\n",
       "    </tr>\n",
       "    <tr>\n",
       "      <th>99</th>\n",
       "      <td>23.8</td>\n",
       "      <td>24.3</td>\n",
       "      <td>24.3</td>\n",
       "      <td>23.5</td>\n",
       "      <td>22.3</td>\n",
       "      <td>22.1</td>\n",
       "      <td>20.4</td>\n",
       "      <td>20.1</td>\n",
       "      <td>18.9</td>\n",
       "      <td>13.4</td>\n",
       "      <td>19.6</td>\n",
       "      <td>17.1</td>\n",
       "      <td>17.5</td>\n",
       "      <td>16.7</td>\n",
       "      <td>18.6</td>\n",
       "      <td>19.0</td>\n",
       "    </tr>\n",
       "  </tbody>\n",
       "</table>\n",
       "<p>100 rows × 16 columns</p>\n",
       "</div>"
      ],
      "text/plain": [
       "    T1_2018  T2_2018  T3_2018  T4_2018  T1_2019  T2_2019  T3_2019  T4_2019  \\\n",
       "0       6.4      6.3      6.4      6.2      6.2      6.0      6.1      6.0   \n",
       "1      12.8     12.6     12.3     12.0     12.1     11.6     11.6     11.3   \n",
       "2       9.6      9.4      9.3      9.1      9.2      8.9      8.8      8.7   \n",
       "3      10.7     10.5     10.3     10.2     10.2      9.8      9.8      9.3   \n",
       "4       8.5      8.5      8.5      8.3      8.2      8.0      7.9      7.8   \n",
       "..      ...      ...      ...      ...      ...      ...      ...      ...   \n",
       "95      9.4      9.3      9.1      8.9      8.8      8.5      8.5      8.3   \n",
       "96     24.0     21.0     23.5     22.0     21.8     19.5     20.6     20.8   \n",
       "97     15.6     18.3     17.1     18.3     16.2     14.4     13.8     15.3   \n",
       "98     18.1     19.5     19.2     19.1     17.6     20.2     20.0     19.6   \n",
       "99     23.8     24.3     24.3     23.5     22.3     22.1     20.4     20.1   \n",
       "\n",
       "    T1_2020  T2_2020  T3_2020  T4_2020  T1_2021  T2_2021  T3_2021  T4_2021  \n",
       "0       5.8      5.6      6.8      6.1      6.2      5.9      6.0      5.6  \n",
       "1      11.1      9.5     12.2     11.0     11.1     10.9     11.3     10.7  \n",
       "2       8.3      7.8      9.5      8.3      8.3      8.2      8.2      7.8  \n",
       "3       8.9      8.4     10.2      8.9      9.2      9.1      8.8      8.3  \n",
       "4       7.4      7.1      8.5      7.8      9.6      8.0      7.5      7.0  \n",
       "..      ...      ...      ...      ...      ...      ...      ...      ...  \n",
       "95      8.1      7.3      9.6      8.9      9.0      8.7      8.9      8.3  \n",
       "96     18.9     11.4     19.5     19.7     17.3     19.5     16.4     15.5  \n",
       "97     11.8      8.2     15.4     14.2     12.8     14.8     13.2     10.9  \n",
       "98     16.4      8.7     18.7     20.5     12.3     13.5     17.1     14.2  \n",
       "99     18.9     13.4     19.6     17.1     17.5     16.7     18.6     19.0  \n",
       "\n",
       "[100 rows x 16 columns]"
      ]
     },
     "metadata": {},
     "output_type": "display_data"
    }
   ],
   "source": [
    "colonnes_selectionnees = chomage.filter(like='2018').columns.tolist() + \\\n",
    "                         chomage.filter(like='2019').columns.tolist() + \\\n",
    "                         chomage.filter(like='2020').columns.tolist() + \\\n",
    "                         chomage.filter(like='2021').columns.tolist()\n",
    "\n",
    "nouveau_chomage = chomage[colonnes_selectionnees]\n",
    "nouveau_chomage\n"
   ]
  },
  {
   "cell_type": "code",
   "execution_count": null,
   "metadata": {},
   "outputs": [
    {
     "data": {
      "text/plain": [
       "0      01\n",
       "1      02\n",
       "2      03\n",
       "3      04\n",
       "4      05\n",
       "     ... \n",
       "95     95\n",
       "96    971\n",
       "97    972\n",
       "98    973\n",
       "99    974\n",
       "Name: Code, Length: 100, dtype: object"
      ]
     },
     "metadata": {},
     "output_type": "display_data"
    }
   ],
   "source": [
    "code_postal = chomage['Code'].astype('str')\n",
    "code_postal"
   ]
  },
  {
   "cell_type": "code",
   "execution_count": null,
   "metadata": {},
   "outputs": [
    {
     "data": {
      "text/plain": [
       "0      6.10000\n",
       "1     11.50625\n",
       "2      8.71250\n",
       "3      9.53750\n",
       "4      8.03750\n",
       "        ...   \n",
       "95     8.72500\n",
       "96    19.46250\n",
       "97    14.39375\n",
       "98    17.16875\n",
       "99    20.10000\n",
       "Length: 100, dtype: float64"
      ]
     },
     "metadata": {},
     "output_type": "display_data"
    }
   ],
   "source": [
    "moyenne_par_ligne = nouveau_chomage.mean(axis=1)\n",
    "moyenne_par_ligne"
   ]
  },
  {
   "cell_type": "code",
   "execution_count": null,
   "metadata": {},
   "outputs": [
    {
     "name": "stdout",
     "output_type": "stream",
     "text": [
      "   Code postal  Moyenne Taux Chomage\n",
      "0           01               6.10000\n",
      "1           02              11.50625\n",
      "2           03               8.71250\n",
      "3           04               9.53750\n",
      "4           05               8.03750\n",
      "..         ...                   ...\n",
      "95          95               8.72500\n",
      "96         971              19.46250\n",
      "97         972              14.39375\n",
      "98         973              17.16875\n",
      "99         974              20.10000\n",
      "\n",
      "[100 rows x 2 columns]\n"
     ]
    }
   ],
   "source": [
    "data = {\n",
    "    'Code postal': code_postal,\n",
    "    'Moyenne Taux Chomage': moyenne_par_ligne\n",
    "}\n",
    "\n",
    "moyenne_taux_chomage = pd.DataFrame(data)\n",
    "\n",
    "print(moyenne_taux_chomage)\n"
   ]
  },
  {
   "cell_type": "code",
   "execution_count": null,
   "metadata": {},
   "outputs": [],
   "source": [
    "df = df.dropna(subset=['Code postal'])\n",
    "# df = df.dropna(subset=['Surface terrain'])\n",
    "\n",
    "\n",
    "def tronquer_valeur(valeur):\n",
    "    str_valeur = str(valeur)\n",
    "    if len(str_valeur) == 7:\n",
    "        return int(str_valeur[:2])\n",
    "    elif len(str_valeur) == 6:\n",
    "        return int(str_valeur[:1])\n",
    "    else: \n",
    "        return str_valeur\n",
    "\n",
    "def ajout_0(valeur):\n",
    "    str_valeur = str(valeur)\n",
    "    if len(str_valeur) == 1:\n",
    "        return ('0' + str(str_valeur))\n",
    "    else: \n",
    "        return str_valeur\n",
    "    \n",
    "df['Code postal'] = df['Code postal'].astype(str)\n",
    "df['Code postal'] = df['Code postal'].apply(tronquer_valeur)\n",
    "df['Code postal'] = df['Code postal'].apply(ajout_0)\n",
    "df['Code postal'] = df['Code postal'].astype(str)"
   ]
  },
  {
   "cell_type": "code",
   "execution_count": null,
   "metadata": {},
   "outputs": [
    {
     "data": {
      "text/html": [
       "<div>\n",
       "<style scoped>\n",
       "    .dataframe tbody tr th:only-of-type {\n",
       "        vertical-align: middle;\n",
       "    }\n",
       "\n",
       "    .dataframe tbody tr th {\n",
       "        vertical-align: top;\n",
       "    }\n",
       "\n",
       "    .dataframe thead th {\n",
       "        text-align: right;\n",
       "    }\n",
       "</style>\n",
       "<table border=\"1\" class=\"dataframe\">\n",
       "  <thead>\n",
       "    <tr style=\"text-align: right;\">\n",
       "      <th></th>\n",
       "      <th>No disposition</th>\n",
       "      <th>Date mutation</th>\n",
       "      <th>Nature mutation</th>\n",
       "      <th>Valeur fonciere</th>\n",
       "      <th>Type de voie</th>\n",
       "      <th>Voie</th>\n",
       "      <th>Code postal</th>\n",
       "      <th>Commune</th>\n",
       "      <th>Code commune</th>\n",
       "      <th>Section</th>\n",
       "      <th>...</th>\n",
       "      <th>1er lot</th>\n",
       "      <th>Surface Carrez du 1er lot</th>\n",
       "      <th>Nombre de lots</th>\n",
       "      <th>Type local</th>\n",
       "      <th>Surface reelle bati</th>\n",
       "      <th>Nombre pieces principales</th>\n",
       "      <th>Nature culture</th>\n",
       "      <th>Surface terrain</th>\n",
       "      <th>col_concat</th>\n",
       "      <th>Moyenne Taux Chomage</th>\n",
       "    </tr>\n",
       "  </thead>\n",
       "  <tbody>\n",
       "    <tr>\n",
       "      <th>0</th>\n",
       "      <td>1</td>\n",
       "      <td>04/01/2021</td>\n",
       "      <td>Vente</td>\n",
       "      <td>204332.0</td>\n",
       "      <td>ALL</td>\n",
       "      <td>DES ECUREUILS</td>\n",
       "      <td>01</td>\n",
       "      <td>BUELLAS</td>\n",
       "      <td>65</td>\n",
       "      <td>B</td>\n",
       "      <td>...</td>\n",
       "      <td>NaN</td>\n",
       "      <td>NaN</td>\n",
       "      <td>0</td>\n",
       "      <td>Maison</td>\n",
       "      <td>88.0</td>\n",
       "      <td>4.0</td>\n",
       "      <td>S</td>\n",
       "      <td>866.0</td>\n",
       "      <td>04/01/2021ALL7.00276DES ECUREUILS1310.0BUELLAS</td>\n",
       "      <td>6.10000</td>\n",
       "    </tr>\n",
       "    <tr>\n",
       "      <th>1</th>\n",
       "      <td>2</td>\n",
       "      <td>04/01/2021</td>\n",
       "      <td>Vente</td>\n",
       "      <td>226700.0</td>\n",
       "      <td>CHE</td>\n",
       "      <td>DU MOULIN DE POLAIZE</td>\n",
       "      <td>01</td>\n",
       "      <td>POLLIAT</td>\n",
       "      <td>301</td>\n",
       "      <td>AA</td>\n",
       "      <td>...</td>\n",
       "      <td>NaN</td>\n",
       "      <td>NaN</td>\n",
       "      <td>0</td>\n",
       "      <td>Maison</td>\n",
       "      <td>96.0</td>\n",
       "      <td>3.0</td>\n",
       "      <td>NaN</td>\n",
       "      <td>NaN</td>\n",
       "      <td>04/01/2021CHE173.00164DU MOULIN DE POLAIZE1310...</td>\n",
       "      <td>6.10000</td>\n",
       "    </tr>\n",
       "    <tr>\n",
       "      <th>2</th>\n",
       "      <td>1</td>\n",
       "      <td>08/01/2021</td>\n",
       "      <td>Vente</td>\n",
       "      <td>185000.0</td>\n",
       "      <td>RUE</td>\n",
       "      <td>DES GRANGES BONNET</td>\n",
       "      <td>01</td>\n",
       "      <td>PERONNAS</td>\n",
       "      <td>289</td>\n",
       "      <td>AD</td>\n",
       "      <td>...</td>\n",
       "      <td>NaN</td>\n",
       "      <td>NaN</td>\n",
       "      <td>0</td>\n",
       "      <td>Maison</td>\n",
       "      <td>100.0</td>\n",
       "      <td>4.0</td>\n",
       "      <td>S</td>\n",
       "      <td>703.0</td>\n",
       "      <td>08/01/2021RUE46.00161DES GRANGES BONNET1960.0P...</td>\n",
       "      <td>6.10000</td>\n",
       "    </tr>\n",
       "    <tr>\n",
       "      <th>3</th>\n",
       "      <td>1</td>\n",
       "      <td>07/01/2021</td>\n",
       "      <td>Vente</td>\n",
       "      <td>114500.0</td>\n",
       "      <td>RUE</td>\n",
       "      <td>DE LA MAIRIE</td>\n",
       "      <td>01</td>\n",
       "      <td>FOISSIAT</td>\n",
       "      <td>163</td>\n",
       "      <td>AB</td>\n",
       "      <td>...</td>\n",
       "      <td>NaN</td>\n",
       "      <td>NaN</td>\n",
       "      <td>0</td>\n",
       "      <td>Maison</td>\n",
       "      <td>85.0</td>\n",
       "      <td>2.0</td>\n",
       "      <td>S</td>\n",
       "      <td>87.0</td>\n",
       "      <td>07/01/2021RUE179.00110DE LA MAIRIE1340.0FOISSIAT</td>\n",
       "      <td>6.10000</td>\n",
       "    </tr>\n",
       "    <tr>\n",
       "      <th>4</th>\n",
       "      <td>1</td>\n",
       "      <td>08/01/2021</td>\n",
       "      <td>Vente</td>\n",
       "      <td>145000.0</td>\n",
       "      <td>IMP</td>\n",
       "      <td>DE CHAMANDRE</td>\n",
       "      <td>01</td>\n",
       "      <td>FOISSIAT</td>\n",
       "      <td>163</td>\n",
       "      <td>WC</td>\n",
       "      <td>...</td>\n",
       "      <td>NaN</td>\n",
       "      <td>NaN</td>\n",
       "      <td>0</td>\n",
       "      <td>Maison</td>\n",
       "      <td>92.0</td>\n",
       "      <td>1.0</td>\n",
       "      <td>S</td>\n",
       "      <td>2480.0</td>\n",
       "      <td>08/01/2021IMP8.00255DE CHAMANDRE1340.0FOISSIAT</td>\n",
       "      <td>6.10000</td>\n",
       "    </tr>\n",
       "    <tr>\n",
       "      <th>...</th>\n",
       "      <td>...</td>\n",
       "      <td>...</td>\n",
       "      <td>...</td>\n",
       "      <td>...</td>\n",
       "      <td>...</td>\n",
       "      <td>...</td>\n",
       "      <td>...</td>\n",
       "      <td>...</td>\n",
       "      <td>...</td>\n",
       "      <td>...</td>\n",
       "      <td>...</td>\n",
       "      <td>...</td>\n",
       "      <td>...</td>\n",
       "      <td>...</td>\n",
       "      <td>...</td>\n",
       "      <td>...</td>\n",
       "      <td>...</td>\n",
       "      <td>...</td>\n",
       "      <td>...</td>\n",
       "      <td>...</td>\n",
       "      <td>...</td>\n",
       "    </tr>\n",
       "    <tr>\n",
       "      <th>2765379</th>\n",
       "      <td>1</td>\n",
       "      <td>27/12/2018</td>\n",
       "      <td>Vente</td>\n",
       "      <td>1800.0</td>\n",
       "      <td>PL</td>\n",
       "      <td>DES VOSGES</td>\n",
       "      <td>75</td>\n",
       "      <td>PARIS 04</td>\n",
       "      <td>104</td>\n",
       "      <td>AO</td>\n",
       "      <td>...</td>\n",
       "      <td>109.0</td>\n",
       "      <td>NaN</td>\n",
       "      <td>1</td>\n",
       "      <td>Appartement</td>\n",
       "      <td>20.0</td>\n",
       "      <td>2.0</td>\n",
       "      <td>NaN</td>\n",
       "      <td>NaN</td>\n",
       "      <td>27/12/2018PL9.09917DES VOSGES75004.0PARIS 04</td>\n",
       "      <td>6.63125</td>\n",
       "    </tr>\n",
       "    <tr>\n",
       "      <th>2765380</th>\n",
       "      <td>1</td>\n",
       "      <td>28/12/2018</td>\n",
       "      <td>Vente</td>\n",
       "      <td>405000.0</td>\n",
       "      <td>RUE</td>\n",
       "      <td>BEAUTREILLIS</td>\n",
       "      <td>75</td>\n",
       "      <td>PARIS 04</td>\n",
       "      <td>104</td>\n",
       "      <td>AQ</td>\n",
       "      <td>...</td>\n",
       "      <td>16.0</td>\n",
       "      <td>33.87</td>\n",
       "      <td>2</td>\n",
       "      <td>Appartement</td>\n",
       "      <td>34.0</td>\n",
       "      <td>1.0</td>\n",
       "      <td>NaN</td>\n",
       "      <td>NaN</td>\n",
       "      <td>28/12/2018RUE13.00797BEAUTREILLIS75004.0PARIS 04</td>\n",
       "      <td>6.63125</td>\n",
       "    </tr>\n",
       "    <tr>\n",
       "      <th>2765381</th>\n",
       "      <td>1</td>\n",
       "      <td>26/12/2018</td>\n",
       "      <td>Vente</td>\n",
       "      <td>220000.0</td>\n",
       "      <td>RUE</td>\n",
       "      <td>DES LIONS SAINT PAUL</td>\n",
       "      <td>75</td>\n",
       "      <td>PARIS 04</td>\n",
       "      <td>104</td>\n",
       "      <td>AQ</td>\n",
       "      <td>...</td>\n",
       "      <td>126.0</td>\n",
       "      <td>NaN</td>\n",
       "      <td>2</td>\n",
       "      <td>Appartement</td>\n",
       "      <td>29.0</td>\n",
       "      <td>1.0</td>\n",
       "      <td>NaN</td>\n",
       "      <td>NaN</td>\n",
       "      <td>26/12/2018RUE14.05702DES LIONS SAINT PAUL75004...</td>\n",
       "      <td>6.63125</td>\n",
       "    </tr>\n",
       "    <tr>\n",
       "      <th>2765382</th>\n",
       "      <td>1</td>\n",
       "      <td>03/12/2018</td>\n",
       "      <td>Vente</td>\n",
       "      <td>383000.0</td>\n",
       "      <td>RUE</td>\n",
       "      <td>POISSONNIERE</td>\n",
       "      <td>75</td>\n",
       "      <td>PARIS 02</td>\n",
       "      <td>102</td>\n",
       "      <td>AO</td>\n",
       "      <td>...</td>\n",
       "      <td>9.0</td>\n",
       "      <td>34.78</td>\n",
       "      <td>1</td>\n",
       "      <td>Appartement</td>\n",
       "      <td>34.0</td>\n",
       "      <td>1.0</td>\n",
       "      <td>NaN</td>\n",
       "      <td>NaN</td>\n",
       "      <td>03/12/2018RUE12.07561POISSONNIERE75002.0PARIS 02</td>\n",
       "      <td>6.63125</td>\n",
       "    </tr>\n",
       "    <tr>\n",
       "      <th>2765383</th>\n",
       "      <td>1</td>\n",
       "      <td>17/10/2018</td>\n",
       "      <td>Vente</td>\n",
       "      <td>45000.0</td>\n",
       "      <td>RUE</td>\n",
       "      <td>SAINT-DENIS</td>\n",
       "      <td>75</td>\n",
       "      <td>PARIS 02</td>\n",
       "      <td>102</td>\n",
       "      <td>AP</td>\n",
       "      <td>...</td>\n",
       "      <td>57.0</td>\n",
       "      <td>NaN</td>\n",
       "      <td>1</td>\n",
       "      <td>Appartement</td>\n",
       "      <td>11.0</td>\n",
       "      <td>1.0</td>\n",
       "      <td>NaN</td>\n",
       "      <td>NaN</td>\n",
       "      <td>17/10/2018RUE273.08525SAINT-DENIS75002.0PARIS 02</td>\n",
       "      <td>6.63125</td>\n",
       "    </tr>\n",
       "  </tbody>\n",
       "</table>\n",
       "<p>2765384 rows × 21 columns</p>\n",
       "</div>"
      ],
      "text/plain": [
       "         No disposition Date mutation Nature mutation  Valeur fonciere  \\\n",
       "0                     1    04/01/2021           Vente         204332.0   \n",
       "1                     2    04/01/2021           Vente         226700.0   \n",
       "2                     1    08/01/2021           Vente         185000.0   \n",
       "3                     1    07/01/2021           Vente         114500.0   \n",
       "4                     1    08/01/2021           Vente         145000.0   \n",
       "...                 ...           ...             ...              ...   \n",
       "2765379               1    27/12/2018           Vente           1800.0   \n",
       "2765380               1    28/12/2018           Vente         405000.0   \n",
       "2765381               1    26/12/2018           Vente         220000.0   \n",
       "2765382               1    03/12/2018           Vente         383000.0   \n",
       "2765383               1    17/10/2018           Vente          45000.0   \n",
       "\n",
       "        Type de voie                  Voie Code postal   Commune  \\\n",
       "0                ALL         DES ECUREUILS          01   BUELLAS   \n",
       "1                CHE  DU MOULIN DE POLAIZE          01   POLLIAT   \n",
       "2                RUE    DES GRANGES BONNET          01  PERONNAS   \n",
       "3                RUE          DE LA MAIRIE          01  FOISSIAT   \n",
       "4                IMP          DE CHAMANDRE          01  FOISSIAT   \n",
       "...              ...                   ...         ...       ...   \n",
       "2765379           PL            DES VOSGES          75  PARIS 04   \n",
       "2765380          RUE          BEAUTREILLIS          75  PARIS 04   \n",
       "2765381          RUE  DES LIONS SAINT PAUL          75  PARIS 04   \n",
       "2765382          RUE          POISSONNIERE          75  PARIS 02   \n",
       "2765383          RUE           SAINT-DENIS          75  PARIS 02   \n",
       "\n",
       "         Code commune Section  ...  1er lot Surface Carrez du 1er lot  \\\n",
       "0                  65       B  ...      NaN                       NaN   \n",
       "1                 301      AA  ...      NaN                       NaN   \n",
       "2                 289      AD  ...      NaN                       NaN   \n",
       "3                 163      AB  ...      NaN                       NaN   \n",
       "4                 163      WC  ...      NaN                       NaN   \n",
       "...               ...     ...  ...      ...                       ...   \n",
       "2765379           104      AO  ...    109.0                       NaN   \n",
       "2765380           104      AQ  ...     16.0                     33.87   \n",
       "2765381           104      AQ  ...    126.0                       NaN   \n",
       "2765382           102      AO  ...      9.0                     34.78   \n",
       "2765383           102      AP  ...     57.0                       NaN   \n",
       "\n",
       "         Nombre de lots   Type local Surface reelle bati  \\\n",
       "0                     0       Maison                88.0   \n",
       "1                     0       Maison                96.0   \n",
       "2                     0       Maison               100.0   \n",
       "3                     0       Maison                85.0   \n",
       "4                     0       Maison                92.0   \n",
       "...                 ...          ...                 ...   \n",
       "2765379               1  Appartement                20.0   \n",
       "2765380               2  Appartement                34.0   \n",
       "2765381               2  Appartement                29.0   \n",
       "2765382               1  Appartement                34.0   \n",
       "2765383               1  Appartement                11.0   \n",
       "\n",
       "         Nombre pieces principales  Nature culture Surface terrain  \\\n",
       "0                              4.0               S           866.0   \n",
       "1                              3.0             NaN             NaN   \n",
       "2                              4.0               S           703.0   \n",
       "3                              2.0               S            87.0   \n",
       "4                              1.0               S          2480.0   \n",
       "...                            ...             ...             ...   \n",
       "2765379                        2.0             NaN             NaN   \n",
       "2765380                        1.0             NaN             NaN   \n",
       "2765381                        1.0             NaN             NaN   \n",
       "2765382                        1.0             NaN             NaN   \n",
       "2765383                        1.0             NaN             NaN   \n",
       "\n",
       "                                                col_concat  \\\n",
       "0           04/01/2021ALL7.00276DES ECUREUILS1310.0BUELLAS   \n",
       "1        04/01/2021CHE173.00164DU MOULIN DE POLAIZE1310...   \n",
       "2        08/01/2021RUE46.00161DES GRANGES BONNET1960.0P...   \n",
       "3         07/01/2021RUE179.00110DE LA MAIRIE1340.0FOISSIAT   \n",
       "4           08/01/2021IMP8.00255DE CHAMANDRE1340.0FOISSIAT   \n",
       "...                                                    ...   \n",
       "2765379       27/12/2018PL9.09917DES VOSGES75004.0PARIS 04   \n",
       "2765380   28/12/2018RUE13.00797BEAUTREILLIS75004.0PARIS 04   \n",
       "2765381  26/12/2018RUE14.05702DES LIONS SAINT PAUL75004...   \n",
       "2765382   03/12/2018RUE12.07561POISSONNIERE75002.0PARIS 02   \n",
       "2765383   17/10/2018RUE273.08525SAINT-DENIS75002.0PARIS 02   \n",
       "\n",
       "        Moyenne Taux Chomage  \n",
       "0                    6.10000  \n",
       "1                    6.10000  \n",
       "2                    6.10000  \n",
       "3                    6.10000  \n",
       "4                    6.10000  \n",
       "...                      ...  \n",
       "2765379              6.63125  \n",
       "2765380              6.63125  \n",
       "2765381              6.63125  \n",
       "2765382              6.63125  \n",
       "2765383              6.63125  \n",
       "\n",
       "[2765384 rows x 21 columns]"
      ]
     },
     "metadata": {},
     "output_type": "display_data"
    }
   ],
   "source": [
    "df_merged = df.merge(moyenne_taux_chomage, on='Code postal', how='left')\n",
    "df_merged"
   ]
  },
  {
   "cell_type": "code",
   "execution_count": 1,
   "metadata": {},
   "outputs": [],
   "source": [
    "# faire un graph du taux de chomage par departement\n",
    "chomage_par_dep = df.groupby('Code postal')['Moyenne Taux Chomage'].mean()\n",
    "# Créez un histogramme\n",
    "plt.bar(chomage_par_dep.index, chomage_par_dep.values)\n",
    "\n",
    "# Étiquetez les axes et le titre\n",
    "plt.xlabel('Code postal')\n",
    "plt.ylabel('Moyenne Taux Chomage')\n",
    "plt.title('Histogramme du taux moyen de chômage par departement')\n",
    "\n",
    "# Affichez l'histogramme\n",
    "plt.show()"
   ]
  },
  {
   "cell_type": "markdown",
   "metadata": {},
   "source": [
    "#### Moyenne prix/m2/departement"
   ]
  },
  {
   "cell_type": "markdown",
   "metadata": {},
   "source": [
    "On a créer deux nouvelles variables 'prix_par_m2' et 'moyenne_prix_par_m2_par_code_postal' calculée directement à partir des vraiables 'Valeur fonciere', 'Surface reelle bati' et 'Code postal' de notre dataframe. Ce seront des bons indicateurs pour nos modèles."
   ]
  },
  {
   "cell_type": "code",
   "execution_count": null,
   "metadata": {},
   "outputs": [],
   "source": [
    "df['prix_par_m2'] = df['Valeur fonciere'] / df['Surface reelle bati']\n",
    "\n",
    "pd.to_numeric(df['Valeur fonciere'], errors='coerce')\n",
    "\n",
    "grouped_values = df.groupby('Code postal')['prix_par_m2'].mean()\n",
    "\n",
    "df['moyenne_prix_par_m2_par_code_postal'] = df['Code postal'].map(grouped_values)  # Ajoute la moyenne par 'Code postal'\n",
    "df"
   ]
  },
  {
   "cell_type": "markdown",
   "metadata": {},
   "source": [
    "### D - Exploration des données nettoyées"
   ]
  },
  {
   "cell_type": "markdown",
   "metadata": {},
   "source": [
    "Voici quelques graphs permettant de se faire une idée du dataframe df"
   ]
  },
  {
   "cell_type": "code",
   "execution_count": null,
   "metadata": {},
   "outputs": [],
   "source": [
    "df.shape()"
   ]
  },
  {
   "cell_type": "code",
   "execution_count": null,
   "metadata": {},
   "outputs": [],
   "source": [
    "import plotly.express as px"
   ]
  },
  {
   "cell_type": "code",
   "execution_count": null,
   "metadata": {},
   "outputs": [],
   "source": [
    "fig1 = px.histogram(df, x='Type local', y='Valeur fonciere', histfunc='avg', title='Moyenne des prix des biens par type de local', color=\"Type local\")"
   ]
  },
  {
   "cell_type": "code",
   "execution_count": null,
   "metadata": {},
   "outputs": [],
   "source": [
    "fig2 = px.histogram(df, x='Type local', y='Surface terrain', histfunc='avg', title='Moyenne des surfaces des biens par type de local', color=\"Type local\")"
   ]
  },
  {
   "cell_type": "code",
   "execution_count": null,
   "metadata": {},
   "outputs": [],
   "source": [
    "fig3 = px.scatter(df, x='Commune', y=\"Valeur fonciere\", title='Prix des biens dans les communes', color=\"Type local\")"
   ]
  },
  {
   "cell_type": "code",
   "execution_count": null,
   "metadata": {},
   "outputs": [],
   "source": [
    "fig4 = px.histogram(df, x=\"Mois\", y='Valeur fonciere', title='Nombre de Ventes par mois', histfunc='count')"
   ]
  },
  {
   "cell_type": "code",
   "execution_count": null,
   "metadata": {},
   "outputs": [],
   "source": [
    "fig5 = px.histogram(df, x=\"Mois\", y='Valeur fonciere', title='Moyennes des prix de ventes par mois', histfunc='avg')"
   ]
  },
  {
   "cell_type": "code",
   "execution_count": null,
   "metadata": {},
   "outputs": [],
   "source": [
    "fig6 = px.scatter(df, x='Surface reelle bati', y=\"Valeur fonciere\", title='Prix des biens avec leur superficie')\n",
    "fig6.update_xaxes(range=[10, 600]) "
   ]
  },
  {
   "cell_type": "code",
   "execution_count": null,
   "metadata": {},
   "outputs": [],
   "source": [
    "fig7 = px.histogram(df, x=\"Surface reelle bati\", y=\"Valeur fonciere\", color=\"Type local\", marginal=\"rug\", hover_data=df.columns)\n",
    "fig7.update_xaxes(range=[10, 500])"
   ]
  },
  {
   "cell_type": "markdown",
   "metadata": {},
   "source": [
    "## 2 - Modèle de Classification sur la variable 'Type local'"
   ]
  },
  {
   "cell_type": "markdown",
   "metadata": {},
   "source": [
    "Le but final du projet est de prédire la valeur foncière d'un bien. Une étape intermédiaire pour y parvenir est de créer un modèle pour prédire la variable 'type local', car c'est une variable explicative très importante qui nous servira ensuite pour les modèle de regression sur la valeur foncière.  \n",
    "Pour prédire le 'type local' nous utilisons un arbre de décision."
   ]
  },
  {
   "cell_type": "code",
   "execution_count": null,
   "metadata": {},
   "outputs": [],
   "source": [
    "import pickle\n",
    "import pandas as pd"
   ]
  },
  {
   "cell_type": "markdown",
   "metadata": {},
   "source": [
    "#### Création des groupes train et test"
   ]
  },
  {
   "cell_type": "code",
   "execution_count": null,
   "metadata": {},
   "outputs": [],
   "source": [
    "# Sélectionner uniquement les lignes où 'Type local' est renseigné\n",
    "df_filtered = df[df['Type local'].notna()]"
   ]
  },
  {
   "cell_type": "code",
   "execution_count": null,
   "metadata": {},
   "outputs": [],
   "source": [
    "# on prend quelques variables explicatives\n",
    "\n",
    "X = df_filtered[[\"Surface reelle bati\", \"Surface terrain\", \"Nombre pieces principales\", \"Nombre de lots\",\"Code commune\" ]]\n",
    "\n",
    "#on nomme la variale cible\n",
    "\n",
    "Y= df_filtered[\"Type local\"]"
   ]
  },
  {
   "cell_type": "code",
   "execution_count": null,
   "metadata": {},
   "outputs": [
    {
     "name": "stdout",
     "output_type": "stream",
     "text": [
      "Collecting scikit-learn\n",
      "  Using cached scikit_learn-1.3.1-cp311-cp311-win_amd64.whl (9.2 MB)\n",
      "Requirement already satisfied: numpy<2.0,>=1.17.3 in c:\\python311\\lib\\site-packages (from scikit-learn) (1.26.0)\n",
      "Collecting scipy>=1.5.0 (from scikit-learn)\n",
      "  Using cached scipy-1.11.3-cp311-cp311-win_amd64.whl (44.1 MB)\n",
      "Collecting joblib>=1.1.1 (from scikit-learn)\n",
      "  Using cached joblib-1.3.2-py3-none-any.whl (302 kB)\n",
      "Collecting threadpoolctl>=2.0.0 (from scikit-learn)\n",
      "  Using cached threadpoolctl-3.2.0-py3-none-any.whl (15 kB)\n",
      "Installing collected packages: threadpoolctl, scipy, joblib, scikit-learn\n",
      "Successfully installed joblib-1.3.2 scikit-learn-1.3.1 scipy-1.11.3 threadpoolctl-3.2.0\n",
      "Note: you may need to restart the kernel to use updated packages.\n"
     ]
    },
    {
     "name": "stderr",
     "output_type": "stream",
     "text": [
      "\n",
      "[notice] A new release of pip is available: 23.1.2 -> 23.2.1\n",
      "[notice] To update, run: python.exe -m pip install --upgrade pip\n"
     ]
    }
   ],
   "source": [
    "pip install scikit-learn\n"
   ]
  },
  {
   "cell_type": "code",
   "execution_count": null,
   "metadata": {},
   "outputs": [],
   "source": [
    "# on scinde les données en echantillon test et train\n",
    "#70% des données pour l’apprentissage\n",
    "#30% des données pour l'échantillon test\n",
    "\n",
    "from sklearn.model_selection import train_test_split\n",
    "\n",
    "X_train, X_test, y_train, y_test = train_test_split(X, Y,\n",
    "                                                    test_size = 0.30,\n",
    "                                                    stratify = Y,\n",
    "                                                    random_state = 42)"
   ]
  },
  {
   "cell_type": "markdown",
   "metadata": {},
   "source": [
    "On va gerer les valeurs manquantes dans l'echantillon d'apprentissage"
   ]
  },
  {
   "cell_type": "code",
   "execution_count": null,
   "metadata": {},
   "outputs": [],
   "source": [
    "X_train['Nombre pieces principales'].fillna(X_train['Nombre pieces principales'].mean(), inplace=True)\n",
    "X_test['Nombre pieces principales'].fillna(X_test['Nombre pieces principales'].mean(), inplace=True)\n",
    "X_train['Surface reelle bati'].fillna(X_train['Surface reelle bati'].mean(), inplace=True)\n",
    "X_test['Surface reelle bati'].fillna(X_test['Surface reelle bati'].mean(), inplace=True)\n",
    "X_train[\"Surface terrain\"].fillna(X_train[\"Surface terrain\"].mean(), inplace=True)\n",
    "X_test[\"Surface terrain\"].fillna(X_test[\"Surface terrain\"].mean(), inplace=True)\n",
    "X_train[\"Nombre de lots\"].fillna(X_train[\"Nombre de lots\"].mean(), inplace=True)\n",
    "X_test[\"Nombre de lots\"].fillna(X_test[\"Nombre de lots\"].mean(), inplace=True)\n",
    "X_train[\"Code commune\"].fillna(X_train[\"Code commune\"].mean(), inplace=True)\n",
    "X_test[\"Code commune\"].fillna(X_test[\"Code commune\"].mean(), inplace=True)\n"
   ]
  },
  {
   "cell_type": "markdown",
   "metadata": {},
   "source": [
    "#### Apprentissage"
   ]
  },
  {
   "cell_type": "code",
   "execution_count": null,
   "metadata": {},
   "outputs": [],
   "source": [
    "from sklearn.tree import DecisionTreeClassifier\n",
    "from sklearn.tree import plot_tree"
   ]
  },
  {
   "cell_type": "code",
   "execution_count": null,
   "metadata": {},
   "outputs": [],
   "source": [
    "model_1 = DecisionTreeClassifier(max_depth=3 , min_samples_leaf=10, min_samples_split=20)\n",
    "model_1 = model_1.fit(X_train,y_train)"
   ]
  },
  {
   "cell_type": "markdown",
   "metadata": {},
   "source": [
    "#### Prediction"
   ]
  },
  {
   "cell_type": "code",
   "execution_count": null,
   "metadata": {},
   "outputs": [
    {
     "data": {
      "text/plain": [
       "array(['Maison', 'Local industriel. commercial ou assimilé', 'Maison',\n",
       "       'Maison', 'Dépendance', 'Maison', 'Maison', 'Maison',\n",
       "       'Appartement', 'Maison'], dtype=object)"
      ]
     },
     "metadata": {},
     "output_type": "display_data"
    }
   ],
   "source": [
    "y_pred = model_1.predict(X_test)\n",
    "y_pred[0:10]"
   ]
  },
  {
   "cell_type": "code",
   "execution_count": null,
   "metadata": {},
   "outputs": [
    {
     "name": "stdout",
     "output_type": "stream",
     "text": [
      "recall : 0.9730989707955009\n",
      "precision : 0.9681546865145049\n",
      "f1_score : 0.9700326574267171\n"
     ]
    }
   ],
   "source": [
    "from sklearn.metrics import recall_score, precision_score, f1_score\n",
    "\n",
    "print('recall : ' + str(recall_score(y_test,y_pred,average='macro')))\n",
    "print('precision : ' + str(precision_score(y_test,y_pred, average='macro')))\n",
    "print('f1_score : ' + str(f1_score(y_test,y_pred, average='macro')))\n"
   ]
  },
  {
   "cell_type": "markdown",
   "metadata": {},
   "source": [
    "#### Optimisation des parametres de l'arbre"
   ]
  },
  {
   "cell_type": "markdown",
   "metadata": {},
   "source": [
    "On va utiliser un greedsearch pour améliorer les performances du modèle"
   ]
  },
  {
   "cell_type": "code",
   "execution_count": null,
   "metadata": {},
   "outputs": [],
   "source": [
    "from sklearn.model_selection import GridSearchCV\n",
    "from sklearn.model_selection import ShuffleSplit"
   ]
  },
  {
   "cell_type": "code",
   "execution_count": null,
   "metadata": {},
   "outputs": [
    {
     "name": "stdout",
     "output_type": "stream",
     "text": [
      "Voici les paramètres du meilleure modèle : DecisionTreeClassifier(max_depth=6, min_samples_leaf=10, min_samples_split=100)\n",
      "Voici le score make_scorer(accuracy_score) du meilleure modèle : 0.9731413574039098\n"
     ]
    }
   ],
   "source": [
    "parameters = {'max_depth' : [1,2,3,4,5,6] ,\n",
    "              'min_samples_leaf' : [10,20,30,40],\n",
    "              'min_samples_split' : [50,100,200]}\n",
    "\n",
    "dtc = DecisionTreeClassifier()\n",
    "dtc_model_1 = GridSearchCV(dtc, parameters, scoring = 'accuracy' ,\n",
    "                   cv = ShuffleSplit(test_size=0.30, n_splits=1, random_state=0))\n",
    "dtc_model_1.fit(X_train, y_train )\n",
    "\n",
    "print(\"Voici les paramètres du meilleure modèle : \" + str(dtc_model_1.best_estimator_))\n",
    "print(\"Voici le score \"  + str(dtc_model_1.scorer_) + \" du meilleure modèle : \" + str(dtc_model_1.best_score_))"
   ]
  },
  {
   "cell_type": "code",
   "execution_count": null,
   "metadata": {},
   "outputs": [],
   "source": [
    "y_pred_dtc = dtc_model_1.predict(X_test)"
   ]
  },
  {
   "cell_type": "code",
   "execution_count": null,
   "metadata": {},
   "outputs": [
    {
     "name": "stdout",
     "output_type": "stream",
     "text": [
      "recall : 0.9776428794967764\n",
      "precision : 0.9710341328596991\n",
      "f1_score : 0.9741343893976641\n"
     ]
    }
   ],
   "source": [
    "print('recall : ' + str(recall_score(y_test,y_pred_dtc,average='macro')))\n",
    "print('precision : ' + str(precision_score(y_test,y_pred_dtc, average='macro')))\n",
    "print('f1_score : ' + str(f1_score(y_test,y_pred_dtc, average='macro')))"
   ]
  },
  {
   "cell_type": "markdown",
   "metadata": {},
   "source": [
    "Les performances du modèle sont très bonnes."
   ]
  },
  {
   "cell_type": "markdown",
   "metadata": {},
   "source": [
    "## 3 - Reggresion sur la variable 'Valeur fonciere' "
   ]
  },
  {
   "cell_type": "code",
   "execution_count": 12,
   "metadata": {},
   "outputs": [],
   "source": [
    "# librairie utilisées\n",
    "import pickle\n",
    "import pandas as pd\n",
    "import numpy as np\n",
    "from sklearn.model_selection import train_test_split\n",
    "from sklearn.preprocessing import StandardScaler\n",
    "from sklearn.linear_model import Ridge\n",
    "from sklearn.tree import DecisionTreeRegressor\n",
    "from sklearn.model_selection import GridSearchCV\n",
    "from sklearn.metrics import mean_squared_error\n"
   ]
  },
  {
   "cell_type": "markdown",
   "metadata": {},
   "source": [
    "Maintenant que nous pouvons prédire la variable des 'Type local' nous pouvons passer à l'étape final qui est de trouver le meilleur modèle de régression afin de prédire les meilleures 'Valeur foncière'. Pour cette étape nous avons étudié pas mal d'options. Tout d'abord le choix des variables explicatives. Après pas mal de test, nous avons trouvé que les variables les plus pertinentes et qui renvoyaient les meilleurs résultats sont : 'Type local', 'Nombre pieces principales', 'Surface reelle bati', 'Surface terrain', 'Nombre de lots', 'Moyenne Taux Chomage', 'prix_par_m2', 'moyenne_prix_par_m2_par_code_postal'. A cela nous avons ajouté des données OpenData qui sont le prix par m2 de la vente et la moyenne du prix par m2 dans le département.   "
   ]
  },
  {
   "cell_type": "code",
   "execution_count": 4,
   "metadata": {},
   "outputs": [
    {
     "data": {
      "text/html": [
       "<div>\n",
       "<style scoped>\n",
       "    .dataframe tbody tr th:only-of-type {\n",
       "        vertical-align: middle;\n",
       "    }\n",
       "\n",
       "    .dataframe tbody tr th {\n",
       "        vertical-align: top;\n",
       "    }\n",
       "\n",
       "    .dataframe thead th {\n",
       "        text-align: right;\n",
       "    }\n",
       "</style>\n",
       "<table border=\"1\" class=\"dataframe\">\n",
       "  <thead>\n",
       "    <tr style=\"text-align: right;\">\n",
       "      <th></th>\n",
       "      <th>No disposition</th>\n",
       "      <th>Date mutation</th>\n",
       "      <th>Nature mutation</th>\n",
       "      <th>Valeur fonciere</th>\n",
       "      <th>Type de voie</th>\n",
       "      <th>Voie</th>\n",
       "      <th>Code postal</th>\n",
       "      <th>Commune</th>\n",
       "      <th>Code commune</th>\n",
       "      <th>Section</th>\n",
       "      <th>...</th>\n",
       "      <th>Nombre de lots</th>\n",
       "      <th>Type local</th>\n",
       "      <th>Surface reelle bati</th>\n",
       "      <th>Nombre pieces principales</th>\n",
       "      <th>Nature culture</th>\n",
       "      <th>Surface terrain</th>\n",
       "      <th>col_concat</th>\n",
       "      <th>Moyenne Taux Chomage</th>\n",
       "      <th>prix_par_m2</th>\n",
       "      <th>moyenne_prix_par_m2_par_code_postal</th>\n",
       "    </tr>\n",
       "  </thead>\n",
       "  <tbody>\n",
       "    <tr>\n",
       "      <th>0</th>\n",
       "      <td>1</td>\n",
       "      <td>04/01/2021</td>\n",
       "      <td>Vente</td>\n",
       "      <td>204332.0</td>\n",
       "      <td>ALL</td>\n",
       "      <td>DES ECUREUILS</td>\n",
       "      <td>01</td>\n",
       "      <td>BUELLAS</td>\n",
       "      <td>65</td>\n",
       "      <td>B</td>\n",
       "      <td>...</td>\n",
       "      <td>0</td>\n",
       "      <td>Maison</td>\n",
       "      <td>88.0</td>\n",
       "      <td>4.0</td>\n",
       "      <td>S</td>\n",
       "      <td>866.0</td>\n",
       "      <td>04/01/2021ALL7.00276DES ECUREUILS1310.0BUELLAS</td>\n",
       "      <td>6.1</td>\n",
       "      <td>2321.954545</td>\n",
       "      <td>184483.787842</td>\n",
       "    </tr>\n",
       "    <tr>\n",
       "      <th>1</th>\n",
       "      <td>2</td>\n",
       "      <td>04/01/2021</td>\n",
       "      <td>Vente</td>\n",
       "      <td>226700.0</td>\n",
       "      <td>CHE</td>\n",
       "      <td>DU MOULIN DE POLAIZE</td>\n",
       "      <td>01</td>\n",
       "      <td>POLLIAT</td>\n",
       "      <td>301</td>\n",
       "      <td>AA</td>\n",
       "      <td>...</td>\n",
       "      <td>0</td>\n",
       "      <td>Maison</td>\n",
       "      <td>96.0</td>\n",
       "      <td>3.0</td>\n",
       "      <td>NaN</td>\n",
       "      <td>NaN</td>\n",
       "      <td>04/01/2021CHE173.00164DU MOULIN DE POLAIZE1310...</td>\n",
       "      <td>6.1</td>\n",
       "      <td>2361.458333</td>\n",
       "      <td>184483.787842</td>\n",
       "    </tr>\n",
       "    <tr>\n",
       "      <th>2</th>\n",
       "      <td>1</td>\n",
       "      <td>08/01/2021</td>\n",
       "      <td>Vente</td>\n",
       "      <td>185000.0</td>\n",
       "      <td>RUE</td>\n",
       "      <td>DES GRANGES BONNET</td>\n",
       "      <td>01</td>\n",
       "      <td>PERONNAS</td>\n",
       "      <td>289</td>\n",
       "      <td>AD</td>\n",
       "      <td>...</td>\n",
       "      <td>0</td>\n",
       "      <td>Maison</td>\n",
       "      <td>100.0</td>\n",
       "      <td>4.0</td>\n",
       "      <td>S</td>\n",
       "      <td>703.0</td>\n",
       "      <td>08/01/2021RUE46.00161DES GRANGES BONNET1960.0P...</td>\n",
       "      <td>6.1</td>\n",
       "      <td>1850.000000</td>\n",
       "      <td>184483.787842</td>\n",
       "    </tr>\n",
       "  </tbody>\n",
       "</table>\n",
       "<p>3 rows × 23 columns</p>\n",
       "</div>"
      ],
      "text/plain": [
       "   No disposition Date mutation Nature mutation  Valeur fonciere Type de voie  \\\n",
       "0               1    04/01/2021           Vente         204332.0          ALL   \n",
       "1               2    04/01/2021           Vente         226700.0          CHE   \n",
       "2               1    08/01/2021           Vente         185000.0          RUE   \n",
       "\n",
       "                   Voie Code postal   Commune  Code commune Section  ...  \\\n",
       "0         DES ECUREUILS          01   BUELLAS            65       B  ...   \n",
       "1  DU MOULIN DE POLAIZE          01   POLLIAT           301      AA  ...   \n",
       "2    DES GRANGES BONNET          01  PERONNAS           289      AD  ...   \n",
       "\n",
       "   Nombre de lots Type local  Surface reelle bati  Nombre pieces principales  \\\n",
       "0               0     Maison                 88.0                        4.0   \n",
       "1               0     Maison                 96.0                        3.0   \n",
       "2               0     Maison                100.0                        4.0   \n",
       "\n",
       "  Nature culture  Surface terrain  \\\n",
       "0              S            866.0   \n",
       "1            NaN              NaN   \n",
       "2              S            703.0   \n",
       "\n",
       "                                          col_concat Moyenne Taux Chomage  \\\n",
       "0     04/01/2021ALL7.00276DES ECUREUILS1310.0BUELLAS                  6.1   \n",
       "1  04/01/2021CHE173.00164DU MOULIN DE POLAIZE1310...                  6.1   \n",
       "2  08/01/2021RUE46.00161DES GRANGES BONNET1960.0P...                  6.1   \n",
       "\n",
       "   prix_par_m2 moyenne_prix_par_m2_par_code_postal  \n",
       "0  2321.954545                       184483.787842  \n",
       "1  2361.458333                       184483.787842  \n",
       "2  1850.000000                       184483.787842  \n",
       "\n",
       "[3 rows x 23 columns]"
      ]
     },
     "execution_count": 4,
     "metadata": {},
     "output_type": "execute_result"
    }
   ],
   "source": [
    "# pickle de notre dataframe retravaillé, contenant les données open source\n",
    "with open('dataframe2.pkl', 'rb') as file:\n",
    "    df = pickle.load(file)\n",
    "df.head(3)"
   ]
  },
  {
   "cell_type": "markdown",
   "metadata": {},
   "source": [
    "### A - Echantillonage"
   ]
  },
  {
   "cell_type": "code",
   "execution_count": 7,
   "metadata": {},
   "outputs": [
    {
     "data": {
      "text/html": [
       "<div>\n",
       "<style scoped>\n",
       "    .dataframe tbody tr th:only-of-type {\n",
       "        vertical-align: middle;\n",
       "    }\n",
       "\n",
       "    .dataframe tbody tr th {\n",
       "        vertical-align: top;\n",
       "    }\n",
       "\n",
       "    .dataframe thead th {\n",
       "        text-align: right;\n",
       "    }\n",
       "</style>\n",
       "<table border=\"1\" class=\"dataframe\">\n",
       "  <thead>\n",
       "    <tr style=\"text-align: right;\">\n",
       "      <th></th>\n",
       "      <th>Nombre pieces principales</th>\n",
       "      <th>Surface reelle bati</th>\n",
       "      <th>Surface terrain</th>\n",
       "      <th>Nombre de lots</th>\n",
       "      <th>Moyenne Taux Chomage</th>\n",
       "      <th>prix_par_m2</th>\n",
       "      <th>moyenne_prix_par_m2_par_code_postal</th>\n",
       "      <th>Type local_Appartement</th>\n",
       "      <th>Type local_Dépendance</th>\n",
       "      <th>Type local_Local industriel. commercial ou assimilé</th>\n",
       "      <th>Type local_Maison</th>\n",
       "    </tr>\n",
       "  </thead>\n",
       "  <tbody>\n",
       "    <tr>\n",
       "      <th>0</th>\n",
       "      <td>4.0</td>\n",
       "      <td>88.0</td>\n",
       "      <td>866.0</td>\n",
       "      <td>0</td>\n",
       "      <td>6.1</td>\n",
       "      <td>2321.954545</td>\n",
       "      <td>184483.787842</td>\n",
       "      <td>False</td>\n",
       "      <td>False</td>\n",
       "      <td>False</td>\n",
       "      <td>True</td>\n",
       "    </tr>\n",
       "    <tr>\n",
       "      <th>1</th>\n",
       "      <td>3.0</td>\n",
       "      <td>96.0</td>\n",
       "      <td>NaN</td>\n",
       "      <td>0</td>\n",
       "      <td>6.1</td>\n",
       "      <td>2361.458333</td>\n",
       "      <td>184483.787842</td>\n",
       "      <td>False</td>\n",
       "      <td>False</td>\n",
       "      <td>False</td>\n",
       "      <td>True</td>\n",
       "    </tr>\n",
       "    <tr>\n",
       "      <th>2</th>\n",
       "      <td>4.0</td>\n",
       "      <td>100.0</td>\n",
       "      <td>703.0</td>\n",
       "      <td>0</td>\n",
       "      <td>6.1</td>\n",
       "      <td>1850.000000</td>\n",
       "      <td>184483.787842</td>\n",
       "      <td>False</td>\n",
       "      <td>False</td>\n",
       "      <td>False</td>\n",
       "      <td>True</td>\n",
       "    </tr>\n",
       "  </tbody>\n",
       "</table>\n",
       "</div>"
      ],
      "text/plain": [
       "   Nombre pieces principales  Surface reelle bati  Surface terrain  \\\n",
       "0                        4.0                 88.0            866.0   \n",
       "1                        3.0                 96.0              NaN   \n",
       "2                        4.0                100.0            703.0   \n",
       "\n",
       "   Nombre de lots  Moyenne Taux Chomage  prix_par_m2  \\\n",
       "0               0                   6.1  2321.954545   \n",
       "1               0                   6.1  2361.458333   \n",
       "2               0                   6.1  1850.000000   \n",
       "\n",
       "   moyenne_prix_par_m2_par_code_postal  Type local_Appartement  \\\n",
       "0                        184483.787842                   False   \n",
       "1                        184483.787842                   False   \n",
       "2                        184483.787842                   False   \n",
       "\n",
       "   Type local_Dépendance  Type local_Local industriel. commercial ou assimilé  \\\n",
       "0                  False                                              False     \n",
       "1                  False                                              False     \n",
       "2                  False                                              False     \n",
       "\n",
       "   Type local_Maison  \n",
       "0               True  \n",
       "1               True  \n",
       "2               True  "
      ]
     },
     "execution_count": 7,
     "metadata": {},
     "output_type": "execute_result"
    }
   ],
   "source": [
    "variables_explicatives = ['Type local', 'Nombre pieces principales', 'Surface reelle bati', \n",
    "                          'Surface terrain', 'Nombre de lots', 'Moyenne Taux Chomage', 'prix_par_m2', \n",
    "                          'moyenne_prix_par_m2_par_code_postal']\n",
    "\n",
    "\n",
    "X = df[variables_explicatives]\n",
    "X = pd.get_dummies(data=X, columns=['Type local'])\n",
    "X.head(3)"
   ]
  },
  {
   "cell_type": "code",
   "execution_count": 8,
   "metadata": {},
   "outputs": [
    {
     "data": {
      "text/plain": [
       "0          204332.0\n",
       "1          226700.0\n",
       "2          185000.0\n",
       "3          114500.0\n",
       "4          145000.0\n",
       "             ...   \n",
       "2765379      1800.0\n",
       "2765380    405000.0\n",
       "2765381    220000.0\n",
       "2765382    383000.0\n",
       "2765383     45000.0\n",
       "Name: Valeur fonciere, Length: 2717931, dtype: float64"
      ]
     },
     "execution_count": 8,
     "metadata": {},
     "output_type": "execute_result"
    }
   ],
   "source": [
    "# notre target\n",
    "Y = df['Valeur fonciere']\n",
    "Y"
   ]
  },
  {
   "cell_type": "markdown",
   "metadata": {},
   "source": [
    "Pour les données manquantes, nous les avons remplacés par la moyenne de la variable. On a aussi dû traiter que des variables étaient 'inf' (venant de notre calcul du prix par m2). Ces valeurs infinies ont été remplacée par la moyenne du prix au m2 dans son département. "
   ]
  },
  {
   "cell_type": "code",
   "execution_count": 15,
   "metadata": {},
   "outputs": [],
   "source": [
    "# on remplace les NA dans les colonnes par leurs moyennes\n",
    "X['Nombre pieces principales'].fillna(X['Nombre pieces principales'].mean(), inplace=True)\n",
    "X['Surface reelle bati'].fillna(X['Surface reelle bati'].mean(), inplace=True)\n",
    "X['Surface terrain'].fillna(X['Surface terrain'].mean(), inplace=True)\n",
    "X['Nombre de lots'].fillna(X['Nombre de lots'].mean(), inplace=True)\n",
    "X['Moyenne Taux Chomage'].fillna(X['Moyenne Taux Chomage'].mean(), inplace=True)\n",
    "X['prix_par_m2'].fillna(X['prix_par_m2'].mean(), inplace=True)\n",
    "\n",
    "# Remplacer les lignes ou 'prix_par_m2' est infini\n",
    "masque_infini = np.isinf(X['prix_par_m2'])\n",
    "# Remplacez les valeurs infinies par la valeur de 'moyenne_prix_par_m2_par_code_postal'\n",
    "X.loc[masque_infini, 'prix_par_m2'] = X.loc[masque_infini, 'moyenne_prix_par_m2_par_code_postal']"
   ]
  },
  {
   "cell_type": "code",
   "execution_count": 16,
   "metadata": {},
   "outputs": [],
   "source": [
    "#70% des données pour l’apprentissage\n",
    "#30% des données pour l'échantillon test\n",
    "X_train, X_test, y_train, y_test = train_test_split(X, Y, test_size = 0.30, random_state = 42)"
   ]
  },
  {
   "cell_type": "markdown",
   "metadata": {},
   "source": [
    "Pour ne pas donner plus d'importance aux variables explicatives à forte variance, il est essentiel de centrer et réduire les données en amont. On centre et réduit également afin de les ramener à la même échelle."
   ]
  },
  {
   "cell_type": "code",
   "execution_count": 17,
   "metadata": {},
   "outputs": [
    {
     "data": {
      "text/html": [
       "<div>\n",
       "<style scoped>\n",
       "    .dataframe tbody tr th:only-of-type {\n",
       "        vertical-align: middle;\n",
       "    }\n",
       "\n",
       "    .dataframe tbody tr th {\n",
       "        vertical-align: top;\n",
       "    }\n",
       "\n",
       "    .dataframe thead th {\n",
       "        text-align: right;\n",
       "    }\n",
       "</style>\n",
       "<table border=\"1\" class=\"dataframe\">\n",
       "  <thead>\n",
       "    <tr style=\"text-align: right;\">\n",
       "      <th></th>\n",
       "      <th>Nombre pieces principales</th>\n",
       "      <th>Surface reelle bati</th>\n",
       "      <th>Surface terrain</th>\n",
       "      <th>Nombre de lots</th>\n",
       "      <th>Moyenne Taux Chomage</th>\n",
       "      <th>prix_par_m2</th>\n",
       "      <th>moyenne_prix_par_m2_par_code_postal</th>\n",
       "      <th>Type local_Appartement</th>\n",
       "      <th>Type local_Dépendance</th>\n",
       "      <th>Type local_Local industriel. commercial ou assimilé</th>\n",
       "      <th>Type local_Maison</th>\n",
       "    </tr>\n",
       "  </thead>\n",
       "  <tbody>\n",
       "    <tr>\n",
       "      <th>0</th>\n",
       "      <td>-1.487268</td>\n",
       "      <td>-0.312836</td>\n",
       "      <td>-0.384831</td>\n",
       "      <td>-0.696888</td>\n",
       "      <td>-0.862184</td>\n",
       "      <td>2.763116</td>\n",
       "      <td>0.857299</td>\n",
       "      <td>-0.604256</td>\n",
       "      <td>2.493000</td>\n",
       "      <td>-0.225365</td>\n",
       "      <td>-1.095766</td>\n",
       "    </tr>\n",
       "    <tr>\n",
       "      <th>1</th>\n",
       "      <td>0.056106</td>\n",
       "      <td>-0.038217</td>\n",
       "      <td>-0.243456</td>\n",
       "      <td>-0.696888</td>\n",
       "      <td>2.089573</td>\n",
       "      <td>-0.399679</td>\n",
       "      <td>-0.042272</td>\n",
       "      <td>-0.604256</td>\n",
       "      <td>-0.401123</td>\n",
       "      <td>-0.225365</td>\n",
       "      <td>0.912604</td>\n",
       "    </tr>\n",
       "    <tr>\n",
       "      <th>2</th>\n",
       "      <td>-0.458352</td>\n",
       "      <td>-0.155911</td>\n",
       "      <td>-0.000321</td>\n",
       "      <td>1.576243</td>\n",
       "      <td>-0.979162</td>\n",
       "      <td>-0.257236</td>\n",
       "      <td>1.615838</td>\n",
       "      <td>1.654927</td>\n",
       "      <td>-0.401123</td>\n",
       "      <td>-0.225365</td>\n",
       "      <td>-1.095766</td>\n",
       "    </tr>\n",
       "  </tbody>\n",
       "</table>\n",
       "</div>"
      ],
      "text/plain": [
       "   Nombre pieces principales  Surface reelle bati  Surface terrain  \\\n",
       "0                  -1.487268            -0.312836        -0.384831   \n",
       "1                   0.056106            -0.038217        -0.243456   \n",
       "2                  -0.458352            -0.155911        -0.000321   \n",
       "\n",
       "   Nombre de lots  Moyenne Taux Chomage  prix_par_m2  \\\n",
       "0       -0.696888             -0.862184     2.763116   \n",
       "1       -0.696888              2.089573    -0.399679   \n",
       "2        1.576243             -0.979162    -0.257236   \n",
       "\n",
       "   moyenne_prix_par_m2_par_code_postal  Type local_Appartement  \\\n",
       "0                             0.857299               -0.604256   \n",
       "1                            -0.042272               -0.604256   \n",
       "2                             1.615838                1.654927   \n",
       "\n",
       "   Type local_Dépendance  Type local_Local industriel. commercial ou assimilé  \\\n",
       "0               2.493000                                          -0.225365     \n",
       "1              -0.401123                                          -0.225365     \n",
       "2              -0.401123                                          -0.225365     \n",
       "\n",
       "   Type local_Maison  \n",
       "0          -1.095766  \n",
       "1           0.912604  \n",
       "2          -1.095766  "
      ]
     },
     "execution_count": 17,
     "metadata": {},
     "output_type": "execute_result"
    }
   ],
   "source": [
    "# Appliquez la standardisation aux données de X\n",
    "scaler = StandardScaler()\n",
    "X_train_CR = scaler.fit_transform(X_train)\n",
    "X_test_CR = scaler.fit_transform(X_test)\n",
    "pd.DataFrame(X_train_CR, columns=X_test.columns).head(3)"
   ]
  },
  {
   "cell_type": "markdown",
   "metadata": {},
   "source": [
    "### B - Apprentissage"
   ]
  },
  {
   "cell_type": "markdown",
   "metadata": {},
   "source": [
    "Pour l'apprentissage de notre modèle nous en avons testé des différents : Régression linéaire multiple, Ridge, Lasso, ElasticNet, Arbre de décision ou encore RandomForest. "
   ]
  },
  {
   "cell_type": "markdown",
   "metadata": {},
   "source": [
    "Pour maximiser les performances de nos modèles, nous avons effectué des GridSearch sur chacun d'eux afin de récupérer les meilleurs hyper-paramètres possibles. Lasso, ElasticNet et RandomForest prenaient un temps considérable d'éxecution (plus de 2h), et nous avons donc pas testé jusqu'au bout, mais lors de test manuel nous pouvions voir qu'ils ne seraient pas les plus satisfaisant. Tout comme la régression linéaire qui n'a pas rendu des très bon scores. Ci-dessous je vous montre 2 exemples de modèles qui nous ont parus performant : **Ridge** et **Arbre de Décision**. "
   ]
  },
  {
   "cell_type": "markdown",
   "metadata": {},
   "source": [
    "#### Régression Ridge"
   ]
  },
  {
   "cell_type": "code",
   "execution_count": 18,
   "metadata": {},
   "outputs": [
    {
     "data": {
      "text/html": [
       "<style>#sk-container-id-1 {color: black;}#sk-container-id-1 pre{padding: 0;}#sk-container-id-1 div.sk-toggleable {background-color: white;}#sk-container-id-1 label.sk-toggleable__label {cursor: pointer;display: block;width: 100%;margin-bottom: 0;padding: 0.3em;box-sizing: border-box;text-align: center;}#sk-container-id-1 label.sk-toggleable__label-arrow:before {content: \"▸\";float: left;margin-right: 0.25em;color: #696969;}#sk-container-id-1 label.sk-toggleable__label-arrow:hover:before {color: black;}#sk-container-id-1 div.sk-estimator:hover label.sk-toggleable__label-arrow:before {color: black;}#sk-container-id-1 div.sk-toggleable__content {max-height: 0;max-width: 0;overflow: hidden;text-align: left;background-color: #f0f8ff;}#sk-container-id-1 div.sk-toggleable__content pre {margin: 0.2em;color: black;border-radius: 0.25em;background-color: #f0f8ff;}#sk-container-id-1 input.sk-toggleable__control:checked~div.sk-toggleable__content {max-height: 200px;max-width: 100%;overflow: auto;}#sk-container-id-1 input.sk-toggleable__control:checked~label.sk-toggleable__label-arrow:before {content: \"▾\";}#sk-container-id-1 div.sk-estimator input.sk-toggleable__control:checked~label.sk-toggleable__label {background-color: #d4ebff;}#sk-container-id-1 div.sk-label input.sk-toggleable__control:checked~label.sk-toggleable__label {background-color: #d4ebff;}#sk-container-id-1 input.sk-hidden--visually {border: 0;clip: rect(1px 1px 1px 1px);clip: rect(1px, 1px, 1px, 1px);height: 1px;margin: -1px;overflow: hidden;padding: 0;position: absolute;width: 1px;}#sk-container-id-1 div.sk-estimator {font-family: monospace;background-color: #f0f8ff;border: 1px dotted black;border-radius: 0.25em;box-sizing: border-box;margin-bottom: 0.5em;}#sk-container-id-1 div.sk-estimator:hover {background-color: #d4ebff;}#sk-container-id-1 div.sk-parallel-item::after {content: \"\";width: 100%;border-bottom: 1px solid gray;flex-grow: 1;}#sk-container-id-1 div.sk-label:hover label.sk-toggleable__label {background-color: #d4ebff;}#sk-container-id-1 div.sk-serial::before {content: \"\";position: absolute;border-left: 1px solid gray;box-sizing: border-box;top: 0;bottom: 0;left: 50%;z-index: 0;}#sk-container-id-1 div.sk-serial {display: flex;flex-direction: column;align-items: center;background-color: white;padding-right: 0.2em;padding-left: 0.2em;position: relative;}#sk-container-id-1 div.sk-item {position: relative;z-index: 1;}#sk-container-id-1 div.sk-parallel {display: flex;align-items: stretch;justify-content: center;background-color: white;position: relative;}#sk-container-id-1 div.sk-item::before, #sk-container-id-1 div.sk-parallel-item::before {content: \"\";position: absolute;border-left: 1px solid gray;box-sizing: border-box;top: 0;bottom: 0;left: 50%;z-index: -1;}#sk-container-id-1 div.sk-parallel-item {display: flex;flex-direction: column;z-index: 1;position: relative;background-color: white;}#sk-container-id-1 div.sk-parallel-item:first-child::after {align-self: flex-end;width: 50%;}#sk-container-id-1 div.sk-parallel-item:last-child::after {align-self: flex-start;width: 50%;}#sk-container-id-1 div.sk-parallel-item:only-child::after {width: 0;}#sk-container-id-1 div.sk-dashed-wrapped {border: 1px dashed gray;margin: 0 0.4em 0.5em 0.4em;box-sizing: border-box;padding-bottom: 0.4em;background-color: white;}#sk-container-id-1 div.sk-label label {font-family: monospace;font-weight: bold;display: inline-block;line-height: 1.2em;}#sk-container-id-1 div.sk-label-container {text-align: center;}#sk-container-id-1 div.sk-container {/* jupyter's `normalize.less` sets `[hidden] { display: none; }` but bootstrap.min.css set `[hidden] { display: none !important; }` so we also need the `!important` here to be able to override the default hidden behavior on the sphinx rendered scikit-learn.org. See: https://github.com/scikit-learn/scikit-learn/issues/21755 */display: inline-block !important;position: relative;}#sk-container-id-1 div.sk-text-repr-fallback {display: none;}</style><div id=\"sk-container-id-1\" class=\"sk-top-container\"><div class=\"sk-text-repr-fallback\"><pre>GridSearchCV(estimator=Ridge(),\n",
       "             param_grid={&#x27;alpha&#x27;: array([0. , 0.5, 1. , 1.5, 2. , 2.5, 3. , 3.5, 4. , 4.5, 5. , 5.5, 6. ,\n",
       "       6.5, 7. , 7.5, 8. , 8.5, 9. , 9.5])},\n",
       "             scoring=&#x27;neg_mean_squared_error&#x27;)</pre><b>In a Jupyter environment, please rerun this cell to show the HTML representation or trust the notebook. <br />On GitHub, the HTML representation is unable to render, please try loading this page with nbviewer.org.</b></div><div class=\"sk-container\" hidden><div class=\"sk-item sk-dashed-wrapped\"><div class=\"sk-label-container\"><div class=\"sk-label sk-toggleable\"><input class=\"sk-toggleable__control sk-hidden--visually\" id=\"sk-estimator-id-1\" type=\"checkbox\" ><label for=\"sk-estimator-id-1\" class=\"sk-toggleable__label sk-toggleable__label-arrow\">GridSearchCV</label><div class=\"sk-toggleable__content\"><pre>GridSearchCV(estimator=Ridge(),\n",
       "             param_grid={&#x27;alpha&#x27;: array([0. , 0.5, 1. , 1.5, 2. , 2.5, 3. , 3.5, 4. , 4.5, 5. , 5.5, 6. ,\n",
       "       6.5, 7. , 7.5, 8. , 8.5, 9. , 9.5])},\n",
       "             scoring=&#x27;neg_mean_squared_error&#x27;)</pre></div></div></div><div class=\"sk-parallel\"><div class=\"sk-parallel-item\"><div class=\"sk-item\"><div class=\"sk-label-container\"><div class=\"sk-label sk-toggleable\"><input class=\"sk-toggleable__control sk-hidden--visually\" id=\"sk-estimator-id-2\" type=\"checkbox\" ><label for=\"sk-estimator-id-2\" class=\"sk-toggleable__label sk-toggleable__label-arrow\">estimator: Ridge</label><div class=\"sk-toggleable__content\"><pre>Ridge()</pre></div></div></div><div class=\"sk-serial\"><div class=\"sk-item\"><div class=\"sk-estimator sk-toggleable\"><input class=\"sk-toggleable__control sk-hidden--visually\" id=\"sk-estimator-id-3\" type=\"checkbox\" ><label for=\"sk-estimator-id-3\" class=\"sk-toggleable__label sk-toggleable__label-arrow\">Ridge</label><div class=\"sk-toggleable__content\"><pre>Ridge()</pre></div></div></div></div></div></div></div></div></div></div>"
      ],
      "text/plain": [
       "GridSearchCV(estimator=Ridge(),\n",
       "             param_grid={'alpha': array([0. , 0.5, 1. , 1.5, 2. , 2.5, 3. , 3.5, 4. , 4.5, 5. , 5.5, 6. ,\n",
       "       6.5, 7. , 7.5, 8. , 8.5, 9. , 9.5])},\n",
       "             scoring='neg_mean_squared_error')"
      ]
     },
     "execution_count": 18,
     "metadata": {},
     "output_type": "execute_result"
    }
   ],
   "source": [
    "parameters = {'alpha': np.arange(start = 0, stop = 10, step = 0.5)}\n",
    "\n",
    "ridge_model = Ridge()\n",
    "grid_ridge = GridSearchCV(ridge_model, parameters, scoring = 'neg_mean_squared_error')\n",
    "grid_ridge.fit(pd.DataFrame(X_train_CR, columns=X_train.columns), y_train)"
   ]
  },
  {
   "cell_type": "code",
   "execution_count": 22,
   "metadata": {},
   "outputs": [
    {
     "name": "stdout",
     "output_type": "stream",
     "text": [
      "Meilleur paramètre : {'alpha': 9.5}\n",
      "Meilleur score : -7927944888.914922\n",
      "RMSE : 88917.85600111628\n"
     ]
    }
   ],
   "source": [
    "print(\"Meilleur paramètre :\", grid_ridge.best_params_)\n",
    "print(\"Meilleur score :\", grid_ridge.best_score_)\n",
    "y_pred = grid_ridge.best_estimator_.predict(pd.DataFrame(X_test_CR, columns=X_train.columns))\n",
    "print(\"RMSE : \" + str(mean_squared_error(y_test, y_pred, squared= False)))"
   ]
  },
  {
   "cell_type": "code",
   "execution_count": 25,
   "metadata": {},
   "outputs": [
    {
     "data": {
      "text/html": [
       "<div>\n",
       "<style scoped>\n",
       "    .dataframe tbody tr th:only-of-type {\n",
       "        vertical-align: middle;\n",
       "    }\n",
       "\n",
       "    .dataframe tbody tr th {\n",
       "        vertical-align: top;\n",
       "    }\n",
       "\n",
       "    .dataframe thead th {\n",
       "        text-align: right;\n",
       "    }\n",
       "</style>\n",
       "<table border=\"1\" class=\"dataframe\">\n",
       "  <thead>\n",
       "    <tr style=\"text-align: right;\">\n",
       "      <th></th>\n",
       "      <th>Coef</th>\n",
       "    </tr>\n",
       "  </thead>\n",
       "  <tbody>\n",
       "    <tr>\n",
       "      <th>Nombre pieces principales</th>\n",
       "      <td>44515.754832</td>\n",
       "    </tr>\n",
       "    <tr>\n",
       "      <th>Surface reelle bati</th>\n",
       "      <td>4775.763449</td>\n",
       "    </tr>\n",
       "    <tr>\n",
       "      <th>Surface terrain</th>\n",
       "      <td>2773.626653</td>\n",
       "    </tr>\n",
       "    <tr>\n",
       "      <th>Nombre de lots</th>\n",
       "      <td>1282.645568</td>\n",
       "    </tr>\n",
       "    <tr>\n",
       "      <th>Moyenne Taux Chomage</th>\n",
       "      <td>231.720966</td>\n",
       "    </tr>\n",
       "    <tr>\n",
       "      <th>prix_par_m2</th>\n",
       "      <td>-14954.952431</td>\n",
       "    </tr>\n",
       "    <tr>\n",
       "      <th>moyenne_prix_par_m2_par_code_postal</th>\n",
       "      <td>51728.111576</td>\n",
       "    </tr>\n",
       "    <tr>\n",
       "      <th>Type local_Appartement</th>\n",
       "      <td>-12109.164103</td>\n",
       "    </tr>\n",
       "    <tr>\n",
       "      <th>Type local_Dépendance</th>\n",
       "      <td>11020.874450</td>\n",
       "    </tr>\n",
       "    <tr>\n",
       "      <th>Type local_Local industriel. commercial ou assimilé</th>\n",
       "      <td>10991.531461</td>\n",
       "    </tr>\n",
       "    <tr>\n",
       "      <th>Type local_Maison</th>\n",
       "      <td>-1617.586159</td>\n",
       "    </tr>\n",
       "    <tr>\n",
       "      <th>Constante</th>\n",
       "      <td>164152.163905</td>\n",
       "    </tr>\n",
       "  </tbody>\n",
       "</table>\n",
       "</div>"
      ],
      "text/plain": [
       "                                                             Coef\n",
       "Nombre pieces principales                            44515.754832\n",
       "Surface reelle bati                                   4775.763449\n",
       "Surface terrain                                       2773.626653\n",
       "Nombre de lots                                        1282.645568\n",
       "Moyenne Taux Chomage                                   231.720966\n",
       "prix_par_m2                                         -14954.952431\n",
       "moyenne_prix_par_m2_par_code_postal                  51728.111576\n",
       "Type local_Appartement                              -12109.164103\n",
       "Type local_Dépendance                                11020.874450\n",
       "Type local_Local industriel. commercial ou assi...   10991.531461\n",
       "Type local_Maison                                    -1617.586159\n",
       "Constante                                           164152.163905"
      ]
     },
     "execution_count": 25,
     "metadata": {},
     "output_type": "execute_result"
    }
   ],
   "source": [
    "coef = pd.DataFrame(grid_ridge.best_estimator_.coef_ ,\n",
    "                    index = X_train.columns, columns=['Coef'])\n",
    "coef.loc['Constante'] = grid_ridge.best_estimator_.intercept_\n",
    "coef"
   ]
  },
  {
   "cell_type": "markdown",
   "metadata": {},
   "source": [
    "On peut noter ici que les variables les plus significatives sont 'Nombre pieces principales' et 'moyenne_prix_par_m2_par_code_postal', tandis que le 'prix_par_m2' et le 'type_local' ont leur importance aussi dans le modèle."
   ]
  },
  {
   "cell_type": "markdown",
   "metadata": {},
   "source": [
    "#### Arbre de décision"
   ]
  },
  {
   "cell_type": "code",
   "execution_count": 26,
   "metadata": {},
   "outputs": [
    {
     "data": {
      "text/html": [
       "<style>#sk-container-id-2 {color: black;}#sk-container-id-2 pre{padding: 0;}#sk-container-id-2 div.sk-toggleable {background-color: white;}#sk-container-id-2 label.sk-toggleable__label {cursor: pointer;display: block;width: 100%;margin-bottom: 0;padding: 0.3em;box-sizing: border-box;text-align: center;}#sk-container-id-2 label.sk-toggleable__label-arrow:before {content: \"▸\";float: left;margin-right: 0.25em;color: #696969;}#sk-container-id-2 label.sk-toggleable__label-arrow:hover:before {color: black;}#sk-container-id-2 div.sk-estimator:hover label.sk-toggleable__label-arrow:before {color: black;}#sk-container-id-2 div.sk-toggleable__content {max-height: 0;max-width: 0;overflow: hidden;text-align: left;background-color: #f0f8ff;}#sk-container-id-2 div.sk-toggleable__content pre {margin: 0.2em;color: black;border-radius: 0.25em;background-color: #f0f8ff;}#sk-container-id-2 input.sk-toggleable__control:checked~div.sk-toggleable__content {max-height: 200px;max-width: 100%;overflow: auto;}#sk-container-id-2 input.sk-toggleable__control:checked~label.sk-toggleable__label-arrow:before {content: \"▾\";}#sk-container-id-2 div.sk-estimator input.sk-toggleable__control:checked~label.sk-toggleable__label {background-color: #d4ebff;}#sk-container-id-2 div.sk-label input.sk-toggleable__control:checked~label.sk-toggleable__label {background-color: #d4ebff;}#sk-container-id-2 input.sk-hidden--visually {border: 0;clip: rect(1px 1px 1px 1px);clip: rect(1px, 1px, 1px, 1px);height: 1px;margin: -1px;overflow: hidden;padding: 0;position: absolute;width: 1px;}#sk-container-id-2 div.sk-estimator {font-family: monospace;background-color: #f0f8ff;border: 1px dotted black;border-radius: 0.25em;box-sizing: border-box;margin-bottom: 0.5em;}#sk-container-id-2 div.sk-estimator:hover {background-color: #d4ebff;}#sk-container-id-2 div.sk-parallel-item::after {content: \"\";width: 100%;border-bottom: 1px solid gray;flex-grow: 1;}#sk-container-id-2 div.sk-label:hover label.sk-toggleable__label {background-color: #d4ebff;}#sk-container-id-2 div.sk-serial::before {content: \"\";position: absolute;border-left: 1px solid gray;box-sizing: border-box;top: 0;bottom: 0;left: 50%;z-index: 0;}#sk-container-id-2 div.sk-serial {display: flex;flex-direction: column;align-items: center;background-color: white;padding-right: 0.2em;padding-left: 0.2em;position: relative;}#sk-container-id-2 div.sk-item {position: relative;z-index: 1;}#sk-container-id-2 div.sk-parallel {display: flex;align-items: stretch;justify-content: center;background-color: white;position: relative;}#sk-container-id-2 div.sk-item::before, #sk-container-id-2 div.sk-parallel-item::before {content: \"\";position: absolute;border-left: 1px solid gray;box-sizing: border-box;top: 0;bottom: 0;left: 50%;z-index: -1;}#sk-container-id-2 div.sk-parallel-item {display: flex;flex-direction: column;z-index: 1;position: relative;background-color: white;}#sk-container-id-2 div.sk-parallel-item:first-child::after {align-self: flex-end;width: 50%;}#sk-container-id-2 div.sk-parallel-item:last-child::after {align-self: flex-start;width: 50%;}#sk-container-id-2 div.sk-parallel-item:only-child::after {width: 0;}#sk-container-id-2 div.sk-dashed-wrapped {border: 1px dashed gray;margin: 0 0.4em 0.5em 0.4em;box-sizing: border-box;padding-bottom: 0.4em;background-color: white;}#sk-container-id-2 div.sk-label label {font-family: monospace;font-weight: bold;display: inline-block;line-height: 1.2em;}#sk-container-id-2 div.sk-label-container {text-align: center;}#sk-container-id-2 div.sk-container {/* jupyter's `normalize.less` sets `[hidden] { display: none; }` but bootstrap.min.css set `[hidden] { display: none !important; }` so we also need the `!important` here to be able to override the default hidden behavior on the sphinx rendered scikit-learn.org. See: https://github.com/scikit-learn/scikit-learn/issues/21755 */display: inline-block !important;position: relative;}#sk-container-id-2 div.sk-text-repr-fallback {display: none;}</style><div id=\"sk-container-id-2\" class=\"sk-top-container\"><div class=\"sk-text-repr-fallback\"><pre>GridSearchCV(estimator=DecisionTreeRegressor(),\n",
       "             param_grid={&#x27;max_depth&#x27;: [None, 10, 20, 30],\n",
       "                         &#x27;min_samples_leaf&#x27;: [1, 2, 4],\n",
       "                         &#x27;min_samples_split&#x27;: [2, 5, 10]},\n",
       "             scoring=&#x27;neg_mean_squared_error&#x27;)</pre><b>In a Jupyter environment, please rerun this cell to show the HTML representation or trust the notebook. <br />On GitHub, the HTML representation is unable to render, please try loading this page with nbviewer.org.</b></div><div class=\"sk-container\" hidden><div class=\"sk-item sk-dashed-wrapped\"><div class=\"sk-label-container\"><div class=\"sk-label sk-toggleable\"><input class=\"sk-toggleable__control sk-hidden--visually\" id=\"sk-estimator-id-4\" type=\"checkbox\" ><label for=\"sk-estimator-id-4\" class=\"sk-toggleable__label sk-toggleable__label-arrow\">GridSearchCV</label><div class=\"sk-toggleable__content\"><pre>GridSearchCV(estimator=DecisionTreeRegressor(),\n",
       "             param_grid={&#x27;max_depth&#x27;: [None, 10, 20, 30],\n",
       "                         &#x27;min_samples_leaf&#x27;: [1, 2, 4],\n",
       "                         &#x27;min_samples_split&#x27;: [2, 5, 10]},\n",
       "             scoring=&#x27;neg_mean_squared_error&#x27;)</pre></div></div></div><div class=\"sk-parallel\"><div class=\"sk-parallel-item\"><div class=\"sk-item\"><div class=\"sk-label-container\"><div class=\"sk-label sk-toggleable\"><input class=\"sk-toggleable__control sk-hidden--visually\" id=\"sk-estimator-id-5\" type=\"checkbox\" ><label for=\"sk-estimator-id-5\" class=\"sk-toggleable__label sk-toggleable__label-arrow\">estimator: DecisionTreeRegressor</label><div class=\"sk-toggleable__content\"><pre>DecisionTreeRegressor()</pre></div></div></div><div class=\"sk-serial\"><div class=\"sk-item\"><div class=\"sk-estimator sk-toggleable\"><input class=\"sk-toggleable__control sk-hidden--visually\" id=\"sk-estimator-id-6\" type=\"checkbox\" ><label for=\"sk-estimator-id-6\" class=\"sk-toggleable__label sk-toggleable__label-arrow\">DecisionTreeRegressor</label><div class=\"sk-toggleable__content\"><pre>DecisionTreeRegressor()</pre></div></div></div></div></div></div></div></div></div></div>"
      ],
      "text/plain": [
       "GridSearchCV(estimator=DecisionTreeRegressor(),\n",
       "             param_grid={'max_depth': [None, 10, 20, 30],\n",
       "                         'min_samples_leaf': [1, 2, 4],\n",
       "                         'min_samples_split': [2, 5, 10]},\n",
       "             scoring='neg_mean_squared_error')"
      ]
     },
     "execution_count": 26,
     "metadata": {},
     "output_type": "execute_result"
    }
   ],
   "source": [
    "tree_regressor = DecisionTreeRegressor()\n",
    "param_grid = {\n",
    "    'max_depth': [None, 10, 20, 30],  # Profondeur maximale de l'arbre\n",
    "    'min_samples_split': [2, 5, 10],  # Nombre minimal d'échantillons requis pour diviser un nœud\n",
    "    'min_samples_leaf': [1, 2, 4]  # Nombre minimal d'échantillons requis dans une feuille\n",
    "}\n",
    "grid_tree_regressor = GridSearchCV(tree_regressor, param_grid=param_grid, scoring=\"neg_mean_squared_error\")\n",
    "grid_tree_regressor.fit(pd.DataFrame(X_train_CR, columns=X_train.columns), y_train)"
   ]
  },
  {
   "cell_type": "code",
   "execution_count": 27,
   "metadata": {},
   "outputs": [
    {
     "name": "stdout",
     "output_type": "stream",
     "text": [
      "Meilleur paramètre : {'max_depth': 20, 'min_samples_leaf': 4, 'min_samples_split': 10}\n",
      "Meilleur score : -1411872005.56255\n",
      "RMSE : 40351.40670365985\n"
     ]
    }
   ],
   "source": [
    "print(\"Meilleur paramètre :\", grid_tree_regressor.best_params_)\n",
    "print(\"Meilleur score :\", grid_tree_regressor.best_score_)\n",
    "\n",
    "y_pred = grid_tree_regressor.predict(pd.DataFrame(X_test_CR, columns=X_test.columns))\n",
    "print(\"RMSE : \" + str(mean_squared_error(y_test, y_pred, squared= False)))"
   ]
  },
  {
   "cell_type": "markdown",
   "metadata": {},
   "source": [
    "Les résultats de ces deux modèles furent les plus satisafaisants. Nous sommes donc partis sur la régression avec l'arbre de décision pour la prédiction des valeurs foncières sur le jeu de données Kaggle."
   ]
  },
  {
   "cell_type": "markdown",
   "metadata": {},
   "source": [
    "## 4 - Interface Dash"
   ]
  },
  {
   "cell_type": "markdown",
   "metadata": {},
   "source": [
    "Pour l'interface Dash, nous avons décider de faire 3 onglets. Un onglet statistiques avec les graphiques que nous avons effectués précédement. Un onglet Cartographie, pour visualisre nos données sur le territoire Français. Et un onglet Prédictions pour prédire/ Estimer un bien immobilier.\n",
    "L'interface demande un certain temps de chargement des données, c'est pour cela que nous avons limités les donnnées à 8000 lignes. Avant cela, nous avons évidemnt mélanger la datframe d'origine."
   ]
  },
  {
   "cell_type": "markdown",
   "metadata": {},
   "source": [
    "### A - Statistiques"
   ]
  },
  {
   "cell_type": "markdown",
   "metadata": {},
   "source": [
    "Pour les statisques, nous avons récupérés les graphiques pour étudier nos données. Deux Filtres ont été créés sur cette page: \n",
    "* un filtre sur l'année des données\n",
    "* un filtre sur le type local des donnés\n",
    "\n",
    "Ces filtres sont reliés aux graphiques et sont modifiés une fois les filtres selectionnés.\n"
   ]
  },
  {
   "cell_type": "markdown",
   "metadata": {},
   "source": [
    "![image.png](DASH1.png)"
   ]
  },
  {
   "cell_type": "markdown",
   "metadata": {},
   "source": [
    "Tous les graphiques sont exportables sous format png à l'aide de plotly.express. Comme on peux le voir sur la photo ci dessous, le graphique en bas à droite est exportable avec le pictogramme de plotly.express."
   ]
  },
  {
   "cell_type": "markdown",
   "metadata": {},
   "source": [
    "![image.png](Dash2.png)"
   ]
  },
  {
   "cell_type": "markdown",
   "metadata": {},
   "source": [
    "### B - Cartographie "
   ]
  },
  {
   "cell_type": "markdown",
   "metadata": {},
   "source": [
    "La Cartographie a été effectuée dans un premier temps sur les données initiales pour afficher le prix du mètre carré par département. Chaque Bien immobilier a eu son prix au mètres carré puis ce prix a été regroupé par département avec une moyenne.\n",
    "\n",
    "Ensuite, pour notre apprentissage des données Open Data sur le taux de chômage par départements a été ajouté. Il nous semblais pertinent d'effectuer une cratographie sur ce taux de chômage. \n",
    "\n",
    "Un histogramme a été également pertinent pour mieux voir quels sont les départements avec les prix au mètres carré le plus/le moins cher."
   ]
  },
  {
   "cell_type": "markdown",
   "metadata": {},
   "source": [
    "![image.png](Dash3.png)"
   ]
  },
  {
   "cell_type": "markdown",
   "metadata": {},
   "source": [
    "### C - Prédictions"
   ]
  },
  {
   "cell_type": "markdown",
   "metadata": {},
   "source": [
    "Pour la partie des prédictions, un bien est estimé à partir de plusieurs champs que l'utilisateur peut remplir. Si l'utilisateur ne remplit pas ou ne connait pas le type local de son bien, nous utilisons la classsification que nous avons mis en place afin de prédire le type du bien.\n",
    "\n",
    "Par la suite le prix du bien est prédit à l'aide du meilleur modèle de régression que nous avons effectué. \n",
    "\n",
    "Des règles sur ces champs sont évidements présentes. Si la surface réelle bati n'est pas rempli par exemple, nous demandons à l'utilisateur de remplir correctement les champs."
   ]
  },
  {
   "cell_type": "markdown",
   "metadata": {},
   "source": [
    "#### ??? AJOUTER IMAGE  ??? ###"
   ]
  }
 ],
 "metadata": {
  "kernelspec": {
   "display_name": "Python 3",
   "language": "python",
   "name": "python3"
  },
  "language_info": {
   "codemirror_mode": {
    "name": "ipython",
    "version": 3
   },
   "file_extension": ".py",
   "mimetype": "text/x-python",
   "name": "python",
   "nbconvert_exporter": "python",
   "pygments_lexer": "ipython3",
   "version": "3.9.12"
  },
  "orig_nbformat": 4
 },
 "nbformat": 4,
 "nbformat_minor": 2
}
