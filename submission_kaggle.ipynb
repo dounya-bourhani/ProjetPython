{
 "cells": [
  {
   "cell_type": "markdown",
   "metadata": {},
   "source": [
    "## Données \"submissions.csv\""
   ]
  },
  {
   "cell_type": "markdown",
   "metadata": {},
   "source": [
    "### Importation"
   ]
  },
  {
   "cell_type": "code",
   "execution_count": 1,
   "metadata": {},
   "outputs": [
    {
     "name": "stderr",
     "output_type": "stream",
     "text": [
      "C:\\Users\\bourh\\AppData\\Local\\Temp\\ipykernel_14116\\2974909922.py:2: DtypeWarning: Columns (9,15,17,19,31) have mixed types. Specify dtype option on import or set low_memory=False.\n",
      "  df_submissions = pd.read_csv('./content/submissions.csv')\n"
     ]
    }
   ],
   "source": [
    "import pandas as pd\n",
    "df_submissions = pd.read_csv('./content/submissions.csv')"
   ]
  },
  {
   "cell_type": "markdown",
   "metadata": {},
   "source": [
    "### Classification pour prédire notre variable 'Type local'"
   ]
  },
  {
   "cell_type": "code",
   "execution_count": 4,
   "metadata": {},
   "outputs": [
    {
     "data": {
      "text/plain": [
       "50000"
      ]
     },
     "execution_count": 4,
     "metadata": {},
     "output_type": "execute_result"
    }
   ],
   "source": [
    "df_submissions['Type local'].isna().sum()"
   ]
  },
  {
   "cell_type": "markdown",
   "metadata": {},
   "source": [
    "### Régression pour prédire notre valeur foncière"
   ]
  },
  {
   "cell_type": "markdown",
   "metadata": {},
   "source": [
    "D'après mes tests sur différents modèles, je priviligierais de prendre certaines variables : 'Type local', 'Nombre pieces principales', 'Surface reelle bati', 'Surface terrain' et 'Nombre de lots'"
   ]
  },
  {
   "cell_type": "code",
   "execution_count": 3,
   "metadata": {},
   "outputs": [],
   "source": [
    "variables_explicatives = ['Type local', 'Nombre pieces principales', 'Surface reelle bati', 'Surface terrain', 'Nombre de lots']\n",
    "\n",
    "X = df_submissions[variables_explicatives]\n",
    "X = pd.get_dummies(data=X, columns=['Type local'])\n"
   ]
  },
  {
   "cell_type": "code",
   "execution_count": 4,
   "metadata": {},
   "outputs": [
    {
     "data": {
      "text/plain": [
       "Surface terrain\n",
       "False    378041\n",
       "Name: count, dtype: int64"
      ]
     },
     "execution_count": 4,
     "metadata": {},
     "output_type": "execute_result"
    }
   ],
   "source": [
    "# on remplace les NA dans la colonne 'Nombre pieces principales' et dans 'Surface reelle bati'\n",
    "# et dans 'Surface terrain' par leurs moyennes\n",
    "X['Nombre pieces principales'].fillna(X['Nombre pieces principales'].mean(), inplace=True)\n",
    "X['Nombre pieces principales'].isna().value_counts()\n",
    "\n",
    "X['Surface reelle bati'].fillna(X['Surface reelle bati'].mean(), inplace=True)\n",
    "X['Surface reelle bati'].isna().value_counts()\n",
    "\n",
    "X['Surface terrain'].fillna(X['Surface terrain'].mean(), inplace=True)\n",
    "X['Surface terrain'].isna().value_counts()"
   ]
  },
  {
   "cell_type": "code",
   "execution_count": 5,
   "metadata": {},
   "outputs": [
    {
     "ename": "NameError",
     "evalue": "name 'Y' is not defined",
     "output_type": "error",
     "traceback": [
      "\u001b[1;31m---------------------------------------------------------------------------\u001b[0m",
      "\u001b[1;31mNameError\u001b[0m                                 Traceback (most recent call last)",
      "\u001b[1;32mc:\\Users\\bourh\\Cours\\CoursM2SISE\\Machine_Learning_Python\\ProjetPython\\submission_kaggle.ipynb Cell 6\u001b[0m line \u001b[0;36m4\n\u001b[0;32m      <a href='vscode-notebook-cell:/c%3A/Users/bourh/Cours/CoursM2SISE/Machine_Learning_Python/ProjetPython/submission_kaggle.ipynb#W6sZmlsZQ%3D%3D?line=0'>1</a>\u001b[0m \u001b[39mfrom\u001b[39;00m \u001b[39msklearn\u001b[39;00m\u001b[39m.\u001b[39;00m\u001b[39mmodel_selection\u001b[39;00m \u001b[39mimport\u001b[39;00m train_test_split\n\u001b[0;32m      <a href='vscode-notebook-cell:/c%3A/Users/bourh/Cours/CoursM2SISE/Machine_Learning_Python/ProjetPython/submission_kaggle.ipynb#W6sZmlsZQ%3D%3D?line=1'>2</a>\u001b[0m \u001b[39m#70% des données pour l’apprentissage\u001b[39;00m\n\u001b[0;32m      <a href='vscode-notebook-cell:/c%3A/Users/bourh/Cours/CoursM2SISE/Machine_Learning_Python/ProjetPython/submission_kaggle.ipynb#W6sZmlsZQ%3D%3D?line=2'>3</a>\u001b[0m \u001b[39m#30% des données pour l'échantillon test\u001b[39;00m\n\u001b[1;32m----> <a href='vscode-notebook-cell:/c%3A/Users/bourh/Cours/CoursM2SISE/Machine_Learning_Python/ProjetPython/submission_kaggle.ipynb#W6sZmlsZQ%3D%3D?line=3'>4</a>\u001b[0m X_train, X_test, y_train, y_test \u001b[39m=\u001b[39m train_test_split(X, Y, test_size \u001b[39m=\u001b[39m \u001b[39m0.30\u001b[39m, random_state \u001b[39m=\u001b[39m \u001b[39m42\u001b[39m)\n",
      "\u001b[1;31mNameError\u001b[0m: name 'Y' is not defined"
     ]
    }
   ],
   "source": [
    "from sklearn.model_selection import train_test_split\n",
    "#70% des données pour l’apprentissage\n",
    "#30% des données pour l'échantillon test\n",
    "X_train, X_test, y_train, y_test = train_test_split(X, Y, test_size = 0.30, random_state = 42)"
   ]
  },
  {
   "cell_type": "markdown",
   "metadata": {},
   "source": [
    "D'après mes tests sur différents modèles, je priviligierais d'utiliser le modèle 'Ridge' avec pour paramètre '{'alpha': 1}'"
   ]
  }
 ],
 "metadata": {
  "kernelspec": {
   "display_name": "Python 3",
   "language": "python",
   "name": "python3"
  },
  "language_info": {
   "codemirror_mode": {
    "name": "ipython",
    "version": 3
   },
   "file_extension": ".py",
   "mimetype": "text/x-python",
   "name": "python",
   "nbconvert_exporter": "python",
   "pygments_lexer": "ipython3",
   "version": "3.12.0"
  }
 },
 "nbformat": 4,
 "nbformat_minor": 2
}
