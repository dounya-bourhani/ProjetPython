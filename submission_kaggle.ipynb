{
 "cells": [
  {
   "cell_type": "markdown",
   "metadata": {},
   "source": [
    "## Données \"submissions.csv\""
   ]
  },
  {
   "cell_type": "markdown",
   "metadata": {},
   "source": [
    "### Importation"
   ]
  },
  {
   "cell_type": "code",
   "execution_count": 4,
   "metadata": {},
   "outputs": [
    {
     "data": {
      "text/plain": [
       "(2765530, 20)"
      ]
     },
     "execution_count": 4,
     "metadata": {},
     "output_type": "execute_result"
    }
   ],
   "source": [
    "# importation du training set\n",
    "import pickle\n",
    "\n",
    "with open('dataframe.pkl', 'rb') as file:\n",
    "    df_train = pickle.load(file)\n",
    "df_train.shape"
   ]
  },
  {
   "cell_type": "code",
   "execution_count": 8,
   "metadata": {},
   "outputs": [
    {
     "name": "stderr",
     "output_type": "stream",
     "text": [
      "C:\\Users\\bourh\\AppData\\Local\\Temp\\ipykernel_26720\\544240494.py:2: DtypeWarning: Columns (9,15,17,19,31) have mixed types. Specify dtype option on import or set low_memory=False.\n",
      "  df_test = pd.read_csv('./content/submissions.csv')\n"
     ]
    },
    {
     "data": {
      "text/plain": [
       "(378041, 34)"
      ]
     },
     "execution_count": 8,
     "metadata": {},
     "output_type": "execute_result"
    }
   ],
   "source": [
    "import pandas as pd\n",
    "df_test = pd.read_csv('./content/submissions.csv')\n",
    "df_test.shape"
   ]
  },
  {
   "cell_type": "code",
   "execution_count": 9,
   "metadata": {},
   "outputs": [
    {
     "name": "stdout",
     "output_type": "stream",
     "text": [
      "Nombre de valeurs manquantes pour type local : 50000\n"
     ]
    }
   ],
   "source": [
    "print(\"Nombre de valeurs manquantes pour type local :\", df_test['Type local'].isna().sum())"
   ]
  },
  {
   "cell_type": "markdown",
   "metadata": {},
   "source": [
    "### Classification pour prédire notre variable 'Type local'"
   ]
  },
  {
   "cell_type": "code",
   "execution_count": 10,
   "metadata": {},
   "outputs": [],
   "source": [
    "from sklearn.tree import DecisionTreeClassifier\n",
    "from sklearn.model_selection import GridSearchCV\n",
    "from sklearn.model_selection import ShuffleSplit"
   ]
  },
  {
   "cell_type": "markdown",
   "metadata": {},
   "source": [
    "#### Echantillonage"
   ]
  },
  {
   "cell_type": "code",
   "execution_count": 28,
   "metadata": {},
   "outputs": [],
   "source": [
    "# on prend nos variables explicatives\n",
    "variables_explicatives = [\"Surface reelle bati\", \"Surface terrain\", \"Nombre pieces principales\", \"Nombre de lots\",\"Code commune\"]\n",
    "X_train_classif = df_train[variables_explicatives]\n",
    "\n",
    "#on nomme la variale cible\n",
    "y_train_classif = df_train[\"Type local\"]"
   ]
  },
  {
   "cell_type": "code",
   "execution_count": 24,
   "metadata": {},
   "outputs": [
    {
     "data": {
      "text/plain": [
       "Type local\n",
       "Maison                                      0.539749\n",
       "Appartement                                 0.270128\n",
       "Dépendance                                  0.140131\n",
       "Local industriel. commercial ou assimilé    0.049992\n",
       "Name: proportion, dtype: float64"
      ]
     },
     "execution_count": 24,
     "metadata": {},
     "output_type": "execute_result"
    }
   ],
   "source": [
    "y_train_classif.value_counts(normalize=True)"
   ]
  },
  {
   "cell_type": "code",
   "execution_count": 34,
   "metadata": {},
   "outputs": [
    {
     "data": {
      "text/html": [
       "<div>\n",
       "<style scoped>\n",
       "    .dataframe tbody tr th:only-of-type {\n",
       "        vertical-align: middle;\n",
       "    }\n",
       "\n",
       "    .dataframe tbody tr th {\n",
       "        vertical-align: top;\n",
       "    }\n",
       "\n",
       "    .dataframe thead th {\n",
       "        text-align: right;\n",
       "    }\n",
       "</style>\n",
       "<table border=\"1\" class=\"dataframe\">\n",
       "  <thead>\n",
       "    <tr style=\"text-align: right;\">\n",
       "      <th></th>\n",
       "      <th>Surface reelle bati</th>\n",
       "      <th>Surface terrain</th>\n",
       "      <th>Nombre pieces principales</th>\n",
       "      <th>Nombre de lots</th>\n",
       "      <th>Code commune</th>\n",
       "    </tr>\n",
       "  </thead>\n",
       "  <tbody>\n",
       "    <tr>\n",
       "      <th>4</th>\n",
       "      <td>99.0</td>\n",
       "      <td>765.0</td>\n",
       "      <td>5.0</td>\n",
       "      <td>0</td>\n",
       "      <td>53</td>\n",
       "    </tr>\n",
       "    <tr>\n",
       "      <th>13</th>\n",
       "      <td>76.0</td>\n",
       "      <td>1134.0</td>\n",
       "      <td>3.0</td>\n",
       "      <td>0</td>\n",
       "      <td>231</td>\n",
       "    </tr>\n",
       "    <tr>\n",
       "      <th>33</th>\n",
       "      <td>95.0</td>\n",
       "      <td>342.0</td>\n",
       "      <td>5.0</td>\n",
       "      <td>0</td>\n",
       "      <td>435</td>\n",
       "    </tr>\n",
       "    <tr>\n",
       "      <th>40</th>\n",
       "      <td>230.0</td>\n",
       "      <td>627.0</td>\n",
       "      <td>0.0</td>\n",
       "      <td>0</td>\n",
       "      <td>249</td>\n",
       "    </tr>\n",
       "    <tr>\n",
       "      <th>44</th>\n",
       "      <td>0.0</td>\n",
       "      <td>NaN</td>\n",
       "      <td>0.0</td>\n",
       "      <td>1</td>\n",
       "      <td>354</td>\n",
       "    </tr>\n",
       "    <tr>\n",
       "      <th>...</th>\n",
       "      <td>...</td>\n",
       "      <td>...</td>\n",
       "      <td>...</td>\n",
       "      <td>...</td>\n",
       "      <td>...</td>\n",
       "    </tr>\n",
       "    <tr>\n",
       "      <th>378010</th>\n",
       "      <td>34.0</td>\n",
       "      <td>NaN</td>\n",
       "      <td>2.0</td>\n",
       "      <td>1</td>\n",
       "      <td>111</td>\n",
       "    </tr>\n",
       "    <tr>\n",
       "      <th>378015</th>\n",
       "      <td>0.0</td>\n",
       "      <td>NaN</td>\n",
       "      <td>0.0</td>\n",
       "      <td>1</td>\n",
       "      <td>111</td>\n",
       "    </tr>\n",
       "    <tr>\n",
       "      <th>378019</th>\n",
       "      <td>0.0</td>\n",
       "      <td>NaN</td>\n",
       "      <td>0.0</td>\n",
       "      <td>1</td>\n",
       "      <td>116</td>\n",
       "    </tr>\n",
       "    <tr>\n",
       "      <th>378023</th>\n",
       "      <td>10.0</td>\n",
       "      <td>NaN</td>\n",
       "      <td>1.0</td>\n",
       "      <td>1</td>\n",
       "      <td>113</td>\n",
       "    </tr>\n",
       "    <tr>\n",
       "      <th>378024</th>\n",
       "      <td>10.0</td>\n",
       "      <td>NaN</td>\n",
       "      <td>0.0</td>\n",
       "      <td>1</td>\n",
       "      <td>112</td>\n",
       "    </tr>\n",
       "  </tbody>\n",
       "</table>\n",
       "<p>50000 rows × 5 columns</p>\n",
       "</div>"
      ],
      "text/plain": [
       "        Surface reelle bati  Surface terrain  Nombre pieces principales  \\\n",
       "4                      99.0            765.0                        5.0   \n",
       "13                     76.0           1134.0                        3.0   \n",
       "33                     95.0            342.0                        5.0   \n",
       "40                    230.0            627.0                        0.0   \n",
       "44                      0.0              NaN                        0.0   \n",
       "...                     ...              ...                        ...   \n",
       "378010                 34.0              NaN                        2.0   \n",
       "378015                  0.0              NaN                        0.0   \n",
       "378019                  0.0              NaN                        0.0   \n",
       "378023                 10.0              NaN                        1.0   \n",
       "378024                 10.0              NaN                        0.0   \n",
       "\n",
       "        Nombre de lots  Code commune  \n",
       "4                    0            53  \n",
       "13                   0           231  \n",
       "33                   0           435  \n",
       "40                   0           249  \n",
       "44                   1           354  \n",
       "...                ...           ...  \n",
       "378010               1           111  \n",
       "378015               1           111  \n",
       "378019               1           116  \n",
       "378023               1           113  \n",
       "378024               1           112  \n",
       "\n",
       "[50000 rows x 5 columns]"
      ]
     },
     "execution_count": 34,
     "metadata": {},
     "output_type": "execute_result"
    }
   ],
   "source": [
    "X_test_classif = df_test[df_test['Type local'].isna()][variables_explicatives]\n",
    "X_test_classif"
   ]
  },
  {
   "cell_type": "code",
   "execution_count": 39,
   "metadata": {},
   "outputs": [
    {
     "name": "stderr",
     "output_type": "stream",
     "text": [
      "C:\\Users\\bourh\\AppData\\Local\\Temp\\ipykernel_26720\\4136062022.py:1: SettingWithCopyWarning: \n",
      "A value is trying to be set on a copy of a slice from a DataFrame\n",
      "\n",
      "See the caveats in the documentation: https://pandas.pydata.org/pandas-docs/stable/user_guide/indexing.html#returning-a-view-versus-a-copy\n",
      "  X_train_classif['Nombre pieces principales'].fillna(X_train_classif['Nombre pieces principales'].mean(), inplace=True)\n",
      "C:\\Users\\bourh\\AppData\\Local\\Temp\\ipykernel_26720\\4136062022.py:3: SettingWithCopyWarning: \n",
      "A value is trying to be set on a copy of a slice from a DataFrame\n",
      "\n",
      "See the caveats in the documentation: https://pandas.pydata.org/pandas-docs/stable/user_guide/indexing.html#returning-a-view-versus-a-copy\n",
      "  X_train_classif['Surface reelle bati'].fillna(X_train_classif['Surface reelle bati'].mean(), inplace=True)\n",
      "C:\\Users\\bourh\\AppData\\Local\\Temp\\ipykernel_26720\\4136062022.py:5: SettingWithCopyWarning: \n",
      "A value is trying to be set on a copy of a slice from a DataFrame\n",
      "\n",
      "See the caveats in the documentation: https://pandas.pydata.org/pandas-docs/stable/user_guide/indexing.html#returning-a-view-versus-a-copy\n",
      "  X_train_classif[\"Surface terrain\"].fillna(X_train_classif[\"Surface terrain\"].mean(), inplace=True)\n",
      "C:\\Users\\bourh\\AppData\\Local\\Temp\\ipykernel_26720\\4136062022.py:7: SettingWithCopyWarning: \n",
      "A value is trying to be set on a copy of a slice from a DataFrame\n",
      "\n",
      "See the caveats in the documentation: https://pandas.pydata.org/pandas-docs/stable/user_guide/indexing.html#returning-a-view-versus-a-copy\n",
      "  X_train_classif[\"Nombre de lots\"].fillna(X_train_classif[\"Nombre de lots\"].mean(), inplace=True)\n",
      "C:\\Users\\bourh\\AppData\\Local\\Temp\\ipykernel_26720\\4136062022.py:9: SettingWithCopyWarning: \n",
      "A value is trying to be set on a copy of a slice from a DataFrame\n",
      "\n",
      "See the caveats in the documentation: https://pandas.pydata.org/pandas-docs/stable/user_guide/indexing.html#returning-a-view-versus-a-copy\n",
      "  X_train_classif[\"Code commune\"].fillna(X_train_classif[\"Code commune\"].mean(), inplace=True)\n"
     ]
    }
   ],
   "source": [
    "X_train_classif['Nombre pieces principales'].fillna(X_train_classif['Nombre pieces principales'].mean(), inplace=True)\n",
    "X_test_classif['Nombre pieces principales'].fillna(X_test_classif['Nombre pieces principales'].mean(), inplace=True)\n",
    "X_train_classif['Surface reelle bati'].fillna(X_train_classif['Surface reelle bati'].mean(), inplace=True)\n",
    "X_test_classif['Surface reelle bati'].fillna(X_test_classif['Surface reelle bati'].mean(), inplace=True)\n",
    "X_train_classif[\"Surface terrain\"].fillna(X_train_classif[\"Surface terrain\"].mean(), inplace=True)\n",
    "X_test_classif[\"Surface terrain\"].fillna(X_test_classif[\"Surface terrain\"].mean(), inplace=True)\n",
    "X_train_classif[\"Nombre de lots\"].fillna(X_train_classif[\"Nombre de lots\"].mean(), inplace=True)\n",
    "X_test_classif[\"Nombre de lots\"].fillna(X_test_classif[\"Nombre de lots\"].mean(), inplace=True)\n",
    "X_train_classif[\"Code commune\"].fillna(X_train_classif[\"Code commune\"].mean(), inplace=True)\n",
    "X_test_classif[\"Code commune\"].fillna(X_test_classif[\"Code commune\"].mean(), inplace=True)\n"
   ]
  },
  {
   "cell_type": "code",
   "execution_count": 40,
   "metadata": {},
   "outputs": [
    {
     "data": {
      "text/plain": [
       "Surface reelle bati          0.0\n",
       "Surface terrain              0.0\n",
       "Nombre pieces principales    0.0\n",
       "Nombre de lots               0.0\n",
       "Code commune                 0.0\n",
       "dtype: float64"
      ]
     },
     "execution_count": 40,
     "metadata": {},
     "output_type": "execute_result"
    }
   ],
   "source": [
    "pourcentage_manquant = (X_test_classif.isna().sum() / len(X_test_classif)) * 100\n",
    "pourcentage_manquant"
   ]
  },
  {
   "cell_type": "code",
   "execution_count": 41,
   "metadata": {},
   "outputs": [
    {
     "name": "stdout",
     "output_type": "stream",
     "text": [
      "Voici les paramètres du meilleure modèle : DecisionTreeClassifier(max_depth=6, min_samples_leaf=20, min_samples_split=50)\n",
      "Voici le score make_scorer(accuracy_score) du meilleure modèle : 0.9731817529852627\n"
     ]
    }
   ],
   "source": [
    "parameters = {'max_depth' : [1,2,3,4,5,6] ,\n",
    "              'min_samples_leaf' : [10,20,30,40],\n",
    "              'min_samples_split' : [50,100,200]}\n",
    "\n",
    "dtc = DecisionTreeClassifier()\n",
    "dtc_model_1 = GridSearchCV(dtc, parameters, scoring = 'accuracy' ,\n",
    "                   cv = ShuffleSplit(test_size=0.30, n_splits=1, random_state=0))\n",
    "dtc_model_1.fit(X_train_classif, y_train_classif )\n",
    "\n",
    "print(\"Voici les paramètres du meilleure modèle : \" + str(dtc_model_1.best_estimator_))\n",
    "print(\"Voici le score \"  + str(dtc_model_1.scorer_) + \" du meilleure modèle : \" + str(dtc_model_1.best_score_))"
   ]
  },
  {
   "cell_type": "markdown",
   "metadata": {},
   "source": [
    "#### Prédiction"
   ]
  },
  {
   "cell_type": "code",
   "execution_count": 47,
   "metadata": {},
   "outputs": [
    {
     "data": {
      "text/plain": [
       "array(['Maison', 'Maison', 'Maison', ..., 'Dépendance', 'Appartement',\n",
       "       'Local industriel. commercial ou assimilé'], dtype=object)"
      ]
     },
     "execution_count": 47,
     "metadata": {},
     "output_type": "execute_result"
    }
   ],
   "source": [
    "y_pred_classif = dtc_model_1.predict(X_test_classif)\n",
    "y_pred_classif"
   ]
  },
  {
   "cell_type": "markdown",
   "metadata": {},
   "source": [
    "#### Rajout de nos prédictions de 'type local' dans notre df_test "
   ]
  },
  {
   "cell_type": "code",
   "execution_count": 60,
   "metadata": {},
   "outputs": [],
   "source": [
    "df_test.loc[df_test['Type local'].isna(), 'Type local'] = y_pred_classif"
   ]
  },
  {
   "cell_type": "code",
   "execution_count": 61,
   "metadata": {},
   "outputs": [
    {
     "data": {
      "text/plain": [
       "0"
      ]
     },
     "execution_count": 61,
     "metadata": {},
     "output_type": "execute_result"
    }
   ],
   "source": [
    "# Plus de valeur manquantes pour nos 'type local'\n",
    "df_test['Type local'].isna().sum()"
   ]
  },
  {
   "cell_type": "markdown",
   "metadata": {},
   "source": [
    "### Régression pour prédire notre 'Valeur foncière'"
   ]
  },
  {
   "cell_type": "markdown",
   "metadata": {},
   "source": [
    "#### Echantillonage"
   ]
  },
  {
   "cell_type": "markdown",
   "metadata": {},
   "source": [
    "D'après mes tests sur différents modèles, je priviligierais de prendre certaines variables : 'Type local', 'Nombre pieces principales', 'Surface reelle bati', 'Surface terrain' et 'Nombre de lots'"
   ]
  },
  {
   "cell_type": "code",
   "execution_count": 81,
   "metadata": {},
   "outputs": [],
   "source": [
    "variables_explicatives = ['Type local', 'Nombre pieces principales', 'Surface reelle bati', 'Surface terrain', 'Nombre de lots']\n",
    "\n",
    "X_train_reg = df_train[variables_explicatives]\n",
    "X_test_reg = df_test[variables_explicatives]\n",
    "y_train_reg = df_train['Valeur fonciere']\n",
    "\n",
    "# conversion des variables catégorielles en variables indicatrices \n",
    "X_train_reg = pd.get_dummies(data=X_train_reg, columns=['Type local'])\n",
    "X_test_reg = pd.get_dummies(data=X_test_reg, columns=['Type local'])"
   ]
  },
  {
   "cell_type": "code",
   "execution_count": 82,
   "metadata": {},
   "outputs": [
    {
     "name": "stderr",
     "output_type": "stream",
     "text": [
      "C:\\Users\\bourh\\AppData\\Local\\Temp\\ipykernel_26720\\726301858.py:3: SettingWithCopyWarning: \n",
      "A value is trying to be set on a copy of a slice from a DataFrame\n",
      "\n",
      "See the caveats in the documentation: https://pandas.pydata.org/pandas-docs/stable/user_guide/indexing.html#returning-a-view-versus-a-copy\n",
      "  X_train_reg['Nombre pieces principales'].fillna(X_train_reg['Nombre pieces principales'].mean(), inplace=True)\n",
      "C:\\Users\\bourh\\AppData\\Local\\Temp\\ipykernel_26720\\726301858.py:4: SettingWithCopyWarning: \n",
      "A value is trying to be set on a copy of a slice from a DataFrame\n",
      "\n",
      "See the caveats in the documentation: https://pandas.pydata.org/pandas-docs/stable/user_guide/indexing.html#returning-a-view-versus-a-copy\n",
      "  X_test_reg['Nombre pieces principales'].fillna(X_test_reg['Nombre pieces principales'].mean(), inplace=True)\n",
      "C:\\Users\\bourh\\AppData\\Local\\Temp\\ipykernel_26720\\726301858.py:5: SettingWithCopyWarning: \n",
      "A value is trying to be set on a copy of a slice from a DataFrame\n",
      "\n",
      "See the caveats in the documentation: https://pandas.pydata.org/pandas-docs/stable/user_guide/indexing.html#returning-a-view-versus-a-copy\n",
      "  X_train_reg['Surface reelle bati'].fillna(X_train_reg['Surface reelle bati'].mean(), inplace=True)\n",
      "C:\\Users\\bourh\\AppData\\Local\\Temp\\ipykernel_26720\\726301858.py:6: SettingWithCopyWarning: \n",
      "A value is trying to be set on a copy of a slice from a DataFrame\n",
      "\n",
      "See the caveats in the documentation: https://pandas.pydata.org/pandas-docs/stable/user_guide/indexing.html#returning-a-view-versus-a-copy\n",
      "  X_test_reg['Surface reelle bati'].fillna(X_test_reg['Surface reelle bati'].mean(), inplace=True)\n",
      "C:\\Users\\bourh\\AppData\\Local\\Temp\\ipykernel_26720\\726301858.py:7: SettingWithCopyWarning: \n",
      "A value is trying to be set on a copy of a slice from a DataFrame\n",
      "\n",
      "See the caveats in the documentation: https://pandas.pydata.org/pandas-docs/stable/user_guide/indexing.html#returning-a-view-versus-a-copy\n",
      "  X_train_reg['Surface terrain'].fillna(X_train_reg['Surface terrain'].mean(), inplace=True)\n",
      "C:\\Users\\bourh\\AppData\\Local\\Temp\\ipykernel_26720\\726301858.py:8: SettingWithCopyWarning: \n",
      "A value is trying to be set on a copy of a slice from a DataFrame\n",
      "\n",
      "See the caveats in the documentation: https://pandas.pydata.org/pandas-docs/stable/user_guide/indexing.html#returning-a-view-versus-a-copy\n",
      "  X_test_reg['Surface terrain'].fillna(X_test_reg['Surface terrain'].mean(), inplace=True)\n",
      "C:\\Users\\bourh\\AppData\\Local\\Temp\\ipykernel_26720\\726301858.py:9: SettingWithCopyWarning: \n",
      "A value is trying to be set on a copy of a slice from a DataFrame\n",
      "\n",
      "See the caveats in the documentation: https://pandas.pydata.org/pandas-docs/stable/user_guide/indexing.html#returning-a-view-versus-a-copy\n",
      "  X_train_reg['Nombre de lots'].fillna(X_train_reg['Nombre de lots'].mean(), inplace=True)\n",
      "C:\\Users\\bourh\\AppData\\Local\\Temp\\ipykernel_26720\\726301858.py:10: SettingWithCopyWarning: \n",
      "A value is trying to be set on a copy of a slice from a DataFrame\n",
      "\n",
      "See the caveats in the documentation: https://pandas.pydata.org/pandas-docs/stable/user_guide/indexing.html#returning-a-view-versus-a-copy\n",
      "  X_test_reg['Nombre de lots'].fillna(X_test_reg['Nombre de lots'].mean(), inplace=True)\n"
     ]
    }
   ],
   "source": [
    "# on remplace les NA dans la colonne 'Nombre pieces principales' et dans 'Surface reelle bati'\n",
    "# et dans 'Surface terrain' par leurs moyennes\n",
    "X_train_reg['Nombre pieces principales'].fillna(X_train_reg['Nombre pieces principales'].mean(), inplace=True)\n",
    "X_test_reg['Nombre pieces principales'].fillna(X_test_reg['Nombre pieces principales'].mean(), inplace=True)\n",
    "X_train_reg['Surface reelle bati'].fillna(X_train_reg['Surface reelle bati'].mean(), inplace=True)\n",
    "X_test_reg['Surface reelle bati'].fillna(X_test_reg['Surface reelle bati'].mean(), inplace=True)\n",
    "X_train_reg['Surface terrain'].fillna(X_train_reg['Surface terrain'].mean(), inplace=True)\n",
    "X_test_reg['Surface terrain'].fillna(X_test_reg['Surface terrain'].mean(), inplace=True)\n",
    "X_train_reg['Nombre de lots'].fillna(X_train_reg['Nombre de lots'].mean(), inplace=True)\n",
    "X_test_reg['Nombre de lots'].fillna(X_test_reg['Nombre de lots'].mean(), inplace=True)"
   ]
  },
  {
   "cell_type": "code",
   "execution_count": 83,
   "metadata": {},
   "outputs": [
    {
     "data": {
      "text/plain": [
       "Type local                   0.0\n",
       "Nombre pieces principales    0.0\n",
       "Surface reelle bati          0.0\n",
       "Surface terrain              0.0\n",
       "Nombre de lots               0.0\n",
       "dtype: float64"
      ]
     },
     "execution_count": 83,
     "metadata": {},
     "output_type": "execute_result"
    }
   ],
   "source": [
    "pourcentage_manquant = (X_test_reg.isna().sum() / len(X_test_reg)) * 100\n",
    "pourcentage_manquant"
   ]
  },
  {
   "cell_type": "markdown",
   "metadata": {},
   "source": [
    "#### Apprentissage - Régression Ridge"
   ]
  },
  {
   "cell_type": "markdown",
   "metadata": {},
   "source": [
    "D'après mes tests sur différents modèles, je priviligierais d'utiliser le modèle 'Ridge' avec pour paramètre '{'alpha': 1}'"
   ]
  },
  {
   "cell_type": "code",
   "execution_count": 85,
   "metadata": {},
   "outputs": [
    {
     "data": {
      "text/html": [
       "<div>\n",
       "<style scoped>\n",
       "    .dataframe tbody tr th:only-of-type {\n",
       "        vertical-align: middle;\n",
       "    }\n",
       "\n",
       "    .dataframe tbody tr th {\n",
       "        vertical-align: top;\n",
       "    }\n",
       "\n",
       "    .dataframe thead th {\n",
       "        text-align: right;\n",
       "    }\n",
       "</style>\n",
       "<table border=\"1\" class=\"dataframe\">\n",
       "  <thead>\n",
       "    <tr style=\"text-align: right;\">\n",
       "      <th></th>\n",
       "      <th>Nombre pieces principales</th>\n",
       "      <th>Surface reelle bati</th>\n",
       "      <th>Surface terrain</th>\n",
       "      <th>Nombre de lots</th>\n",
       "      <th>Type local_Appartement</th>\n",
       "      <th>Type local_Dépendance</th>\n",
       "      <th>Type local_Local industriel. commercial ou assimilé</th>\n",
       "      <th>Type local_Maison</th>\n",
       "    </tr>\n",
       "  </thead>\n",
       "  <tbody>\n",
       "    <tr>\n",
       "      <th>0</th>\n",
       "      <td>-0.902082</td>\n",
       "      <td>-0.157903</td>\n",
       "      <td>-1.745973e-17</td>\n",
       "      <td>0.509581</td>\n",
       "      <td>2.062115</td>\n",
       "      <td>-0.405538</td>\n",
       "      <td>-0.297682</td>\n",
       "      <td>-1.192121</td>\n",
       "    </tr>\n",
       "    <tr>\n",
       "      <th>1</th>\n",
       "      <td>0.080642</td>\n",
       "      <td>0.081810</td>\n",
       "      <td>-1.745973e-17</td>\n",
       "      <td>0.509581</td>\n",
       "      <td>2.062115</td>\n",
       "      <td>-0.405538</td>\n",
       "      <td>-0.297682</td>\n",
       "      <td>-1.192121</td>\n",
       "    </tr>\n",
       "    <tr>\n",
       "      <th>2</th>\n",
       "      <td>1.063366</td>\n",
       "      <td>0.015682</td>\n",
       "      <td>6.704988e-03</td>\n",
       "      <td>-0.466996</td>\n",
       "      <td>-0.484939</td>\n",
       "      <td>-0.405538</td>\n",
       "      <td>-0.297682</td>\n",
       "      <td>0.838841</td>\n",
       "    </tr>\n",
       "  </tbody>\n",
       "</table>\n",
       "</div>"
      ],
      "text/plain": [
       "   Nombre pieces principales  Surface reelle bati  Surface terrain  \\\n",
       "0                  -0.902082            -0.157903    -1.745973e-17   \n",
       "1                   0.080642             0.081810    -1.745973e-17   \n",
       "2                   1.063366             0.015682     6.704988e-03   \n",
       "\n",
       "   Nombre de lots  Type local_Appartement  Type local_Dépendance  \\\n",
       "0        0.509581                2.062115              -0.405538   \n",
       "1        0.509581                2.062115              -0.405538   \n",
       "2       -0.466996               -0.484939              -0.405538   \n",
       "\n",
       "   Type local_Local industriel. commercial ou assimilé  Type local_Maison  \n",
       "0                                          -0.297682            -1.192121  \n",
       "1                                          -0.297682            -1.192121  \n",
       "2                                          -0.297682             0.838841  "
      ]
     },
     "execution_count": 85,
     "metadata": {},
     "output_type": "execute_result"
    }
   ],
   "source": [
    "from sklearn.preprocessing import StandardScaler\n",
    "\n",
    "# Appliquez la standardisation aux données de X\n",
    "scaler = StandardScaler()\n",
    "X_train_CR = scaler.fit_transform(X_train_reg)\n",
    "X_test_CR = scaler.fit_transform(X_test_reg)\n",
    "pd.DataFrame(X_test_CR, columns=X_test_reg.columns).head(3) "
   ]
  },
  {
   "cell_type": "code",
   "execution_count": 86,
   "metadata": {},
   "outputs": [
    {
     "name": "stdout",
     "output_type": "stream",
     "text": [
      "Fitting 5 folds for each of 10 candidates, totalling 50 fits\n"
     ]
    },
    {
     "data": {
      "text/html": [
       "<style>#sk-container-id-1 {color: black;}#sk-container-id-1 pre{padding: 0;}#sk-container-id-1 div.sk-toggleable {background-color: white;}#sk-container-id-1 label.sk-toggleable__label {cursor: pointer;display: block;width: 100%;margin-bottom: 0;padding: 0.3em;box-sizing: border-box;text-align: center;}#sk-container-id-1 label.sk-toggleable__label-arrow:before {content: \"▸\";float: left;margin-right: 0.25em;color: #696969;}#sk-container-id-1 label.sk-toggleable__label-arrow:hover:before {color: black;}#sk-container-id-1 div.sk-estimator:hover label.sk-toggleable__label-arrow:before {color: black;}#sk-container-id-1 div.sk-toggleable__content {max-height: 0;max-width: 0;overflow: hidden;text-align: left;background-color: #f0f8ff;}#sk-container-id-1 div.sk-toggleable__content pre {margin: 0.2em;color: black;border-radius: 0.25em;background-color: #f0f8ff;}#sk-container-id-1 input.sk-toggleable__control:checked~div.sk-toggleable__content {max-height: 200px;max-width: 100%;overflow: auto;}#sk-container-id-1 input.sk-toggleable__control:checked~label.sk-toggleable__label-arrow:before {content: \"▾\";}#sk-container-id-1 div.sk-estimator input.sk-toggleable__control:checked~label.sk-toggleable__label {background-color: #d4ebff;}#sk-container-id-1 div.sk-label input.sk-toggleable__control:checked~label.sk-toggleable__label {background-color: #d4ebff;}#sk-container-id-1 input.sk-hidden--visually {border: 0;clip: rect(1px 1px 1px 1px);clip: rect(1px, 1px, 1px, 1px);height: 1px;margin: -1px;overflow: hidden;padding: 0;position: absolute;width: 1px;}#sk-container-id-1 div.sk-estimator {font-family: monospace;background-color: #f0f8ff;border: 1px dotted black;border-radius: 0.25em;box-sizing: border-box;margin-bottom: 0.5em;}#sk-container-id-1 div.sk-estimator:hover {background-color: #d4ebff;}#sk-container-id-1 div.sk-parallel-item::after {content: \"\";width: 100%;border-bottom: 1px solid gray;flex-grow: 1;}#sk-container-id-1 div.sk-label:hover label.sk-toggleable__label {background-color: #d4ebff;}#sk-container-id-1 div.sk-serial::before {content: \"\";position: absolute;border-left: 1px solid gray;box-sizing: border-box;top: 0;bottom: 0;left: 50%;z-index: 0;}#sk-container-id-1 div.sk-serial {display: flex;flex-direction: column;align-items: center;background-color: white;padding-right: 0.2em;padding-left: 0.2em;position: relative;}#sk-container-id-1 div.sk-item {position: relative;z-index: 1;}#sk-container-id-1 div.sk-parallel {display: flex;align-items: stretch;justify-content: center;background-color: white;position: relative;}#sk-container-id-1 div.sk-item::before, #sk-container-id-1 div.sk-parallel-item::before {content: \"\";position: absolute;border-left: 1px solid gray;box-sizing: border-box;top: 0;bottom: 0;left: 50%;z-index: -1;}#sk-container-id-1 div.sk-parallel-item {display: flex;flex-direction: column;z-index: 1;position: relative;background-color: white;}#sk-container-id-1 div.sk-parallel-item:first-child::after {align-self: flex-end;width: 50%;}#sk-container-id-1 div.sk-parallel-item:last-child::after {align-self: flex-start;width: 50%;}#sk-container-id-1 div.sk-parallel-item:only-child::after {width: 0;}#sk-container-id-1 div.sk-dashed-wrapped {border: 1px dashed gray;margin: 0 0.4em 0.5em 0.4em;box-sizing: border-box;padding-bottom: 0.4em;background-color: white;}#sk-container-id-1 div.sk-label label {font-family: monospace;font-weight: bold;display: inline-block;line-height: 1.2em;}#sk-container-id-1 div.sk-label-container {text-align: center;}#sk-container-id-1 div.sk-container {/* jupyter's `normalize.less` sets `[hidden] { display: none; }` but bootstrap.min.css set `[hidden] { display: none !important; }` so we also need the `!important` here to be able to override the default hidden behavior on the sphinx rendered scikit-learn.org. See: https://github.com/scikit-learn/scikit-learn/issues/21755 */display: inline-block !important;position: relative;}#sk-container-id-1 div.sk-text-repr-fallback {display: none;}</style><div id=\"sk-container-id-1\" class=\"sk-top-container\"><div class=\"sk-text-repr-fallback\"><pre>GridSearchCV(estimator=Ridge(),\n",
       "             param_grid={&#x27;alpha&#x27;: array([0, 1, 2, 3, 4, 5, 6, 7, 8, 9])},\n",
       "             scoring=&#x27;neg_mean_squared_error&#x27;, verbose=1)</pre><b>In a Jupyter environment, please rerun this cell to show the HTML representation or trust the notebook. <br />On GitHub, the HTML representation is unable to render, please try loading this page with nbviewer.org.</b></div><div class=\"sk-container\" hidden><div class=\"sk-item sk-dashed-wrapped\"><div class=\"sk-label-container\"><div class=\"sk-label sk-toggleable\"><input class=\"sk-toggleable__control sk-hidden--visually\" id=\"sk-estimator-id-1\" type=\"checkbox\" ><label for=\"sk-estimator-id-1\" class=\"sk-toggleable__label sk-toggleable__label-arrow\">GridSearchCV</label><div class=\"sk-toggleable__content\"><pre>GridSearchCV(estimator=Ridge(),\n",
       "             param_grid={&#x27;alpha&#x27;: array([0, 1, 2, 3, 4, 5, 6, 7, 8, 9])},\n",
       "             scoring=&#x27;neg_mean_squared_error&#x27;, verbose=1)</pre></div></div></div><div class=\"sk-parallel\"><div class=\"sk-parallel-item\"><div class=\"sk-item\"><div class=\"sk-label-container\"><div class=\"sk-label sk-toggleable\"><input class=\"sk-toggleable__control sk-hidden--visually\" id=\"sk-estimator-id-2\" type=\"checkbox\" ><label for=\"sk-estimator-id-2\" class=\"sk-toggleable__label sk-toggleable__label-arrow\">estimator: Ridge</label><div class=\"sk-toggleable__content\"><pre>Ridge()</pre></div></div></div><div class=\"sk-serial\"><div class=\"sk-item\"><div class=\"sk-estimator sk-toggleable\"><input class=\"sk-toggleable__control sk-hidden--visually\" id=\"sk-estimator-id-3\" type=\"checkbox\" ><label for=\"sk-estimator-id-3\" class=\"sk-toggleable__label sk-toggleable__label-arrow\">Ridge</label><div class=\"sk-toggleable__content\"><pre>Ridge()</pre></div></div></div></div></div></div></div></div></div></div>"
      ],
      "text/plain": [
       "GridSearchCV(estimator=Ridge(),\n",
       "             param_grid={'alpha': array([0, 1, 2, 3, 4, 5, 6, 7, 8, 9])},\n",
       "             scoring='neg_mean_squared_error', verbose=1)"
      ]
     },
     "execution_count": 86,
     "metadata": {},
     "output_type": "execute_result"
    }
   ],
   "source": [
    "# Apprentissage\n",
    "\n",
    "import numpy as np\n",
    "from sklearn.linear_model import Ridge\n",
    "\n",
    "parameters = {'alpha': np.arange(start = 0, stop = 10, step = 1)}\n",
    "\n",
    "ridge_model = Ridge()\n",
    "grid_ridge = GridSearchCV(ridge_model, parameters, scoring = 'neg_mean_squared_error', verbose = 1)\n",
    "grid_ridge.fit(X_train_CR, y_train_reg)"
   ]
  },
  {
   "cell_type": "code",
   "execution_count": 87,
   "metadata": {},
   "outputs": [
    {
     "name": "stdout",
     "output_type": "stream",
     "text": [
      "         params  mean_test_score\n",
      "0  {'alpha': 0}    -1.021840e+10\n",
      "1  {'alpha': 1}    -1.021840e+10\n",
      "2  {'alpha': 2}    -1.021840e+10\n",
      "3  {'alpha': 3}    -1.021840e+10\n",
      "4  {'alpha': 4}    -1.021840e+10\n",
      "5  {'alpha': 5}    -1.021840e+10\n",
      "6  {'alpha': 6}    -1.021840e+10\n",
      "7  {'alpha': 7}    -1.021840e+10\n",
      "8  {'alpha': 8}    -1.021840e+10\n",
      "9  {'alpha': 9}    -1.021840e+10\n",
      "Meilleur paramètre : {'alpha': 9}\n",
      "Meilleur score : -10218397222.39857\n"
     ]
    }
   ],
   "source": [
    "# Prédiction \n",
    "\n",
    "print(pd.DataFrame(grid_ridge.cv_results_).loc[:,['params','mean_test_score']])\n",
    "print(\"Meilleur paramètre :\", grid_ridge.best_params_)\n",
    "print(\"Meilleur score :\", grid_ridge.best_score_)\n",
    "y_pred = grid_ridge.best_estimator_.predict(X_test_CR)"
   ]
  },
  {
   "cell_type": "code",
   "execution_count": 111,
   "metadata": {},
   "outputs": [
    {
     "data": {
      "text/html": [
       "<div>\n",
       "<style scoped>\n",
       "    .dataframe tbody tr th:only-of-type {\n",
       "        vertical-align: middle;\n",
       "    }\n",
       "\n",
       "    .dataframe tbody tr th {\n",
       "        vertical-align: top;\n",
       "    }\n",
       "\n",
       "    .dataframe thead th {\n",
       "        text-align: right;\n",
       "    }\n",
       "</style>\n",
       "<table border=\"1\" class=\"dataframe\">\n",
       "  <thead>\n",
       "    <tr style=\"text-align: right;\">\n",
       "      <th></th>\n",
       "      <th>TARGET</th>\n",
       "    </tr>\n",
       "    <tr>\n",
       "      <th>ID</th>\n",
       "      <th></th>\n",
       "    </tr>\n",
       "  </thead>\n",
       "  <tbody>\n",
       "    <tr>\n",
       "      <th>1</th>\n",
       "      <td>121057.387361</td>\n",
       "    </tr>\n",
       "    <tr>\n",
       "      <th>2</th>\n",
       "      <td>165985.563934</td>\n",
       "    </tr>\n",
       "    <tr>\n",
       "      <th>3</th>\n",
       "      <td>201966.809291</td>\n",
       "    </tr>\n",
       "    <tr>\n",
       "      <th>4</th>\n",
       "      <td>179655.808538</td>\n",
       "    </tr>\n",
       "    <tr>\n",
       "      <th>5</th>\n",
       "      <td>201936.846224</td>\n",
       "    </tr>\n",
       "    <tr>\n",
       "      <th>...</th>\n",
       "      <td>...</td>\n",
       "    </tr>\n",
       "    <tr>\n",
       "      <th>378037</th>\n",
       "      <td>134761.026581</td>\n",
       "    </tr>\n",
       "    <tr>\n",
       "      <th>378038</th>\n",
       "      <td>114852.233406</td>\n",
       "    </tr>\n",
       "    <tr>\n",
       "      <th>378039</th>\n",
       "      <td>148664.846101</td>\n",
       "    </tr>\n",
       "    <tr>\n",
       "      <th>378040</th>\n",
       "      <td>114852.233406</td>\n",
       "    </tr>\n",
       "    <tr>\n",
       "      <th>378041</th>\n",
       "      <td>114852.233406</td>\n",
       "    </tr>\n",
       "  </tbody>\n",
       "</table>\n",
       "<p>378041 rows × 1 columns</p>\n",
       "</div>"
      ],
      "text/plain": [
       "               TARGET\n",
       "ID                   \n",
       "1       121057.387361\n",
       "2       165985.563934\n",
       "3       201966.809291\n",
       "4       179655.808538\n",
       "5       201936.846224\n",
       "...               ...\n",
       "378037  134761.026581\n",
       "378038  114852.233406\n",
       "378039  148664.846101\n",
       "378040  114852.233406\n",
       "378041  114852.233406\n",
       "\n",
       "[378041 rows x 1 columns]"
      ]
     },
     "execution_count": 111,
     "metadata": {},
     "output_type": "execute_result"
    }
   ],
   "source": [
    "# dataframe de nos prédictions\n",
    "df_predictions_val_foncieres = pd.DataFrame(y_pred, index=np.arange(1, len(y_pred)+1), columns=['TARGET']).rename_axis(\"ID\")\n",
    "df_predictions_val_foncieres"
   ]
  },
  {
   "cell_type": "code",
   "execution_count": 113,
   "metadata": {},
   "outputs": [],
   "source": [
    "# passe nos prédictions en csv pour les envoyer à kaggle\n",
    "df_predictions_val_foncieres.to_csv('predictions_valeurs_foncieres.csv')"
   ]
  },
  {
   "cell_type": "code",
   "execution_count": 115,
   "metadata": {},
   "outputs": [
    {
     "name": "stdout",
     "output_type": "stream",
     "text": [
      "Successfully submitted to M2-SISE-2023  Sarde Immo\n"
     ]
    },
    {
     "name": "stderr",
     "output_type": "stream",
     "text": [
      "\n",
      "  0%|          | 0.00/9.49M [00:00<?, ?B/s]\n",
      "  0%|          | 16.0k/9.49M [00:01<13:00, 12.7kB/s]\n",
      "  2%|▏         | 240k/9.49M [00:01<00:40, 239kB/s]  \n",
      " 10%|█         | 992k/9.49M [00:01<00:07, 1.16MB/s]\n",
      " 21%|██        | 1.97M/9.49M [00:01<00:03, 2.40MB/s]\n",
      " 26%|██▌       | 2.48M/9.49M [00:01<00:02, 2.89MB/s]\n",
      " 34%|███▍      | 3.27M/9.49M [00:01<00:01, 3.88MB/s]\n",
      " 41%|████      | 3.86M/9.49M [00:02<00:01, 3.70MB/s]\n",
      " 57%|█████▋    | 5.39M/9.49M [00:02<00:00, 6.04MB/s]\n",
      " 71%|███████▏  | 6.78M/9.49M [00:02<00:00, 7.86MB/s]\n",
      " 82%|████████▏ | 7.73M/9.49M [00:02<00:00, 7.99MB/s]\n",
      "100%|██████████| 9.49M/9.49M [00:03<00:00, 3.25MB/s]\n"
     ]
    }
   ],
   "source": [
    "!kaggle competitions submit m2-sise-2023 -f predictions_valeurs_foncieres.csv -m \"\""
   ]
  }
 ],
 "metadata": {
  "kernelspec": {
   "display_name": "Python 3",
   "language": "python",
   "name": "python3"
  },
  "language_info": {
   "codemirror_mode": {
    "name": "ipython",
    "version": 3
   },
   "file_extension": ".py",
   "mimetype": "text/x-python",
   "name": "python",
   "nbconvert_exporter": "python",
   "pygments_lexer": "ipython3",
   "version": "3.12.0"
  }
 },
 "nbformat": 4,
 "nbformat_minor": 2
}
