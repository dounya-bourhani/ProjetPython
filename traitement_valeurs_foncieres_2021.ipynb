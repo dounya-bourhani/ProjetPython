{
 "cells": [
  {
   "attachments": {},
   "cell_type": "markdown",
   "metadata": {},
   "source": [
    "## Importation du jeu de données"
   ]
  },
  {
   "cell_type": "code",
   "execution_count": 47,
   "metadata": {},
   "outputs": [
    {
     "name": "stderr",
     "output_type": "stream",
     "text": [
      "C:\\Users\\cemaurin\\AppData\\Local\\Temp\\ipykernel_16924\\562635679.py:4: DtypeWarning:\n",
      "\n",
      "Columns (18,23,24,26,28,30,41) have mixed types. Specify dtype option on import or set low_memory=False.\n",
      "\n"
     ]
    },
    {
     "data": {
      "text/html": [
       "<div>\n",
       "<style scoped>\n",
       "    .dataframe tbody tr th:only-of-type {\n",
       "        vertical-align: middle;\n",
       "    }\n",
       "\n",
       "    .dataframe tbody tr th {\n",
       "        vertical-align: top;\n",
       "    }\n",
       "\n",
       "    .dataframe thead th {\n",
       "        text-align: right;\n",
       "    }\n",
       "</style>\n",
       "<table border=\"1\" class=\"dataframe\">\n",
       "  <thead>\n",
       "    <tr style=\"text-align: right;\">\n",
       "      <th></th>\n",
       "      <th>Identifiant de document</th>\n",
       "      <th>Reference document</th>\n",
       "      <th>1 Articles CGI</th>\n",
       "      <th>2 Articles CGI</th>\n",
       "      <th>3 Articles CGI</th>\n",
       "      <th>4 Articles CGI</th>\n",
       "      <th>5 Articles CGI</th>\n",
       "      <th>No disposition</th>\n",
       "      <th>Date mutation</th>\n",
       "      <th>Nature mutation</th>\n",
       "      <th>...</th>\n",
       "      <th>Surface Carrez du 5eme lot</th>\n",
       "      <th>Nombre de lots</th>\n",
       "      <th>Code type local</th>\n",
       "      <th>Type local</th>\n",
       "      <th>Identifiant local</th>\n",
       "      <th>Surface reelle bati</th>\n",
       "      <th>Nombre pieces principales</th>\n",
       "      <th>Nature culture</th>\n",
       "      <th>Nature culture speciale</th>\n",
       "      <th>Surface terrain</th>\n",
       "    </tr>\n",
       "  </thead>\n",
       "  <tbody>\n",
       "    <tr>\n",
       "      <th>0</th>\n",
       "      <td>NaN</td>\n",
       "      <td>NaN</td>\n",
       "      <td>NaN</td>\n",
       "      <td>NaN</td>\n",
       "      <td>NaN</td>\n",
       "      <td>NaN</td>\n",
       "      <td>NaN</td>\n",
       "      <td>1</td>\n",
       "      <td>05/01/2021</td>\n",
       "      <td>Vente</td>\n",
       "      <td>...</td>\n",
       "      <td>NaN</td>\n",
       "      <td>0</td>\n",
       "      <td>1.0</td>\n",
       "      <td>Maison</td>\n",
       "      <td>NaN</td>\n",
       "      <td>97.0</td>\n",
       "      <td>5.0</td>\n",
       "      <td>S</td>\n",
       "      <td>NaN</td>\n",
       "      <td>2410.0</td>\n",
       "    </tr>\n",
       "    <tr>\n",
       "      <th>1</th>\n",
       "      <td>NaN</td>\n",
       "      <td>NaN</td>\n",
       "      <td>NaN</td>\n",
       "      <td>NaN</td>\n",
       "      <td>NaN</td>\n",
       "      <td>NaN</td>\n",
       "      <td>NaN</td>\n",
       "      <td>1</td>\n",
       "      <td>05/01/2021</td>\n",
       "      <td>Vente</td>\n",
       "      <td>...</td>\n",
       "      <td>NaN</td>\n",
       "      <td>0</td>\n",
       "      <td>3.0</td>\n",
       "      <td>Dépendance</td>\n",
       "      <td>NaN</td>\n",
       "      <td>0.0</td>\n",
       "      <td>0.0</td>\n",
       "      <td>S</td>\n",
       "      <td>NaN</td>\n",
       "      <td>2410.0</td>\n",
       "    </tr>\n",
       "    <tr>\n",
       "      <th>2</th>\n",
       "      <td>NaN</td>\n",
       "      <td>NaN</td>\n",
       "      <td>NaN</td>\n",
       "      <td>NaN</td>\n",
       "      <td>NaN</td>\n",
       "      <td>NaN</td>\n",
       "      <td>NaN</td>\n",
       "      <td>1</td>\n",
       "      <td>06/01/2021</td>\n",
       "      <td>Vente</td>\n",
       "      <td>...</td>\n",
       "      <td>NaN</td>\n",
       "      <td>0</td>\n",
       "      <td>NaN</td>\n",
       "      <td>NaN</td>\n",
       "      <td>NaN</td>\n",
       "      <td>NaN</td>\n",
       "      <td>NaN</td>\n",
       "      <td>BT</td>\n",
       "      <td>NaN</td>\n",
       "      <td>530.0</td>\n",
       "    </tr>\n",
       "    <tr>\n",
       "      <th>3</th>\n",
       "      <td>NaN</td>\n",
       "      <td>NaN</td>\n",
       "      <td>NaN</td>\n",
       "      <td>NaN</td>\n",
       "      <td>NaN</td>\n",
       "      <td>NaN</td>\n",
       "      <td>NaN</td>\n",
       "      <td>1</td>\n",
       "      <td>04/01/2021</td>\n",
       "      <td>Vente</td>\n",
       "      <td>...</td>\n",
       "      <td>NaN</td>\n",
       "      <td>0</td>\n",
       "      <td>1.0</td>\n",
       "      <td>Maison</td>\n",
       "      <td>NaN</td>\n",
       "      <td>88.0</td>\n",
       "      <td>4.0</td>\n",
       "      <td>S</td>\n",
       "      <td>NaN</td>\n",
       "      <td>866.0</td>\n",
       "    </tr>\n",
       "    <tr>\n",
       "      <th>4</th>\n",
       "      <td>NaN</td>\n",
       "      <td>NaN</td>\n",
       "      <td>NaN</td>\n",
       "      <td>NaN</td>\n",
       "      <td>NaN</td>\n",
       "      <td>NaN</td>\n",
       "      <td>NaN</td>\n",
       "      <td>1</td>\n",
       "      <td>06/01/2021</td>\n",
       "      <td>Vente</td>\n",
       "      <td>...</td>\n",
       "      <td>NaN</td>\n",
       "      <td>0</td>\n",
       "      <td>1.0</td>\n",
       "      <td>Maison</td>\n",
       "      <td>NaN</td>\n",
       "      <td>168.0</td>\n",
       "      <td>5.0</td>\n",
       "      <td>S</td>\n",
       "      <td>NaN</td>\n",
       "      <td>1426.0</td>\n",
       "    </tr>\n",
       "  </tbody>\n",
       "</table>\n",
       "<p>5 rows × 43 columns</p>\n",
       "</div>"
      ],
      "text/plain": [
       "   Identifiant de document  Reference document  1 Articles CGI  \\\n",
       "0                      NaN                 NaN             NaN   \n",
       "1                      NaN                 NaN             NaN   \n",
       "2                      NaN                 NaN             NaN   \n",
       "3                      NaN                 NaN             NaN   \n",
       "4                      NaN                 NaN             NaN   \n",
       "\n",
       "   2 Articles CGI  3 Articles CGI  4 Articles CGI  5 Articles CGI  \\\n",
       "0             NaN             NaN             NaN             NaN   \n",
       "1             NaN             NaN             NaN             NaN   \n",
       "2             NaN             NaN             NaN             NaN   \n",
       "3             NaN             NaN             NaN             NaN   \n",
       "4             NaN             NaN             NaN             NaN   \n",
       "\n",
       "   No disposition Date mutation Nature mutation  ...  \\\n",
       "0               1    05/01/2021           Vente  ...   \n",
       "1               1    05/01/2021           Vente  ...   \n",
       "2               1    06/01/2021           Vente  ...   \n",
       "3               1    04/01/2021           Vente  ...   \n",
       "4               1    06/01/2021           Vente  ...   \n",
       "\n",
       "   Surface Carrez du 5eme lot  Nombre de lots Code type local  Type local  \\\n",
       "0                         NaN               0             1.0      Maison   \n",
       "1                         NaN               0             3.0  Dépendance   \n",
       "2                         NaN               0             NaN         NaN   \n",
       "3                         NaN               0             1.0      Maison   \n",
       "4                         NaN               0             1.0      Maison   \n",
       "\n",
       "  Identifiant local Surface reelle bati  Nombre pieces principales  \\\n",
       "0               NaN                97.0                        5.0   \n",
       "1               NaN                 0.0                        0.0   \n",
       "2               NaN                 NaN                        NaN   \n",
       "3               NaN                88.0                        4.0   \n",
       "4               NaN               168.0                        5.0   \n",
       "\n",
       "  Nature culture Nature culture speciale  Surface terrain  \n",
       "0              S                     NaN           2410.0  \n",
       "1              S                     NaN           2410.0  \n",
       "2             BT                     NaN            530.0  \n",
       "3              S                     NaN            866.0  \n",
       "4              S                     NaN           1426.0  \n",
       "\n",
       "[5 rows x 43 columns]"
      ]
     },
     "execution_count": 47,
     "metadata": {},
     "output_type": "execute_result"
    }
   ],
   "source": [
    "import pandas as pd\n",
    "import pickle\n",
    "\n",
    "df = pd.read_csv('./donnees/valeursfoncieres-2021.txt', sep=\"|\", decimal=\",\")\n",
    "df.head()"
   ]
  },
  {
   "attachments": {},
   "cell_type": "markdown",
   "metadata": {},
   "source": [
    "### Suppression des colonnes / lignes inutiles du fichier"
   ]
  },
  {
   "cell_type": "code",
   "execution_count": 48,
   "metadata": {},
   "outputs": [
    {
     "name": "stdout",
     "output_type": "stream",
     "text": [
      "Taille de notre dataframe sans les colonnes contenant que des NaN : (4649209, 43)\n"
     ]
    }
   ],
   "source": [
    "print(\"Taille de notre dataframe sans les colonnes contenant que des NaN :\", df.shape)"
   ]
  },
  {
   "cell_type": "code",
   "execution_count": 49,
   "metadata": {},
   "outputs": [],
   "source": [
    "### Suppression de colonnes dont on a aucune données\n",
    "df_wo_NaN = df.dropna(axis=1, how='all') "
   ]
  },
  {
   "cell_type": "code",
   "execution_count": 50,
   "metadata": {},
   "outputs": [
    {
     "name": "stderr",
     "output_type": "stream",
     "text": [
      "C:\\Users\\cemaurin\\AppData\\Local\\Temp\\ipykernel_16924\\1783435052.py:3: SettingWithCopyWarning:\n",
      "\n",
      "\n",
      "A value is trying to be set on a copy of a slice from a DataFrame.\n",
      "Try using .loc[row_indexer,col_indexer] = value instead\n",
      "\n",
      "See the caveats in the documentation: https://pandas.pydata.org/pandas-docs/stable/user_guide/indexing.html#returning-a-view-versus-a-copy\n",
      "\n"
     ]
    },
    {
     "data": {
      "text/html": [
       "<div>\n",
       "<style scoped>\n",
       "    .dataframe tbody tr th:only-of-type {\n",
       "        vertical-align: middle;\n",
       "    }\n",
       "\n",
       "    .dataframe tbody tr th {\n",
       "        vertical-align: top;\n",
       "    }\n",
       "\n",
       "    .dataframe thead th {\n",
       "        text-align: right;\n",
       "    }\n",
       "</style>\n",
       "<table border=\"1\" class=\"dataframe\">\n",
       "  <thead>\n",
       "    <tr style=\"text-align: right;\">\n",
       "      <th></th>\n",
       "      <th>No disposition</th>\n",
       "      <th>Date mutation</th>\n",
       "      <th>Nature mutation</th>\n",
       "      <th>Valeur fonciere</th>\n",
       "      <th>No voie</th>\n",
       "      <th>B/T/Q</th>\n",
       "      <th>Type de voie</th>\n",
       "      <th>Code voie</th>\n",
       "      <th>Voie</th>\n",
       "      <th>Code postal</th>\n",
       "      <th>...</th>\n",
       "      <th>Surface Carrez du 5eme lot</th>\n",
       "      <th>Nombre de lots</th>\n",
       "      <th>Code type local</th>\n",
       "      <th>Type local</th>\n",
       "      <th>Surface reelle bati</th>\n",
       "      <th>Nombre pieces principales</th>\n",
       "      <th>Nature culture</th>\n",
       "      <th>Nature culture speciale</th>\n",
       "      <th>Surface terrain</th>\n",
       "      <th>col_concat</th>\n",
       "    </tr>\n",
       "  </thead>\n",
       "  <tbody>\n",
       "    <tr>\n",
       "      <th>0</th>\n",
       "      <td>1</td>\n",
       "      <td>05/01/2021</td>\n",
       "      <td>Vente</td>\n",
       "      <td>185000.0</td>\n",
       "      <td>5080.0</td>\n",
       "      <td>NaN</td>\n",
       "      <td>CHE</td>\n",
       "      <td>0471</td>\n",
       "      <td>DE VOGELAS</td>\n",
       "      <td>1370.0</td>\n",
       "      <td>...</td>\n",
       "      <td>NaN</td>\n",
       "      <td>0</td>\n",
       "      <td>1.0</td>\n",
       "      <td>Maison</td>\n",
       "      <td>97.0</td>\n",
       "      <td>5.0</td>\n",
       "      <td>S</td>\n",
       "      <td>NaN</td>\n",
       "      <td>2410.0</td>\n",
       "      <td>05/01/2021CHE5080.00471DE VOGELAS1370.0VAL-REV...</td>\n",
       "    </tr>\n",
       "    <tr>\n",
       "      <th>1</th>\n",
       "      <td>1</td>\n",
       "      <td>05/01/2021</td>\n",
       "      <td>Vente</td>\n",
       "      <td>185000.0</td>\n",
       "      <td>5080.0</td>\n",
       "      <td>NaN</td>\n",
       "      <td>CHE</td>\n",
       "      <td>0471</td>\n",
       "      <td>DE VOGELAS</td>\n",
       "      <td>1370.0</td>\n",
       "      <td>...</td>\n",
       "      <td>NaN</td>\n",
       "      <td>0</td>\n",
       "      <td>3.0</td>\n",
       "      <td>Dépendance</td>\n",
       "      <td>0.0</td>\n",
       "      <td>0.0</td>\n",
       "      <td>S</td>\n",
       "      <td>NaN</td>\n",
       "      <td>2410.0</td>\n",
       "      <td>05/01/2021CHE5080.00471DE VOGELAS1370.0VAL-REV...</td>\n",
       "    </tr>\n",
       "    <tr>\n",
       "      <th>2</th>\n",
       "      <td>1</td>\n",
       "      <td>06/01/2021</td>\n",
       "      <td>Vente</td>\n",
       "      <td>10.0</td>\n",
       "      <td>NaN</td>\n",
       "      <td>NaN</td>\n",
       "      <td>NaN</td>\n",
       "      <td>B043</td>\n",
       "      <td>ROUGEMONT</td>\n",
       "      <td>1290.0</td>\n",
       "      <td>...</td>\n",
       "      <td>NaN</td>\n",
       "      <td>0</td>\n",
       "      <td>NaN</td>\n",
       "      <td>NaN</td>\n",
       "      <td>NaN</td>\n",
       "      <td>NaN</td>\n",
       "      <td>BT</td>\n",
       "      <td>NaN</td>\n",
       "      <td>530.0</td>\n",
       "      <td>06/01/2021nannanB043ROUGEMONT1290.0BEY</td>\n",
       "    </tr>\n",
       "    <tr>\n",
       "      <th>3</th>\n",
       "      <td>1</td>\n",
       "      <td>04/01/2021</td>\n",
       "      <td>Vente</td>\n",
       "      <td>204332.0</td>\n",
       "      <td>7.0</td>\n",
       "      <td>NaN</td>\n",
       "      <td>ALL</td>\n",
       "      <td>0276</td>\n",
       "      <td>DES ECUREUILS</td>\n",
       "      <td>1310.0</td>\n",
       "      <td>...</td>\n",
       "      <td>NaN</td>\n",
       "      <td>0</td>\n",
       "      <td>1.0</td>\n",
       "      <td>Maison</td>\n",
       "      <td>88.0</td>\n",
       "      <td>4.0</td>\n",
       "      <td>S</td>\n",
       "      <td>NaN</td>\n",
       "      <td>866.0</td>\n",
       "      <td>04/01/2021ALL7.00276DES ECUREUILS1310.0BUELLAS</td>\n",
       "    </tr>\n",
       "    <tr>\n",
       "      <th>4</th>\n",
       "      <td>1</td>\n",
       "      <td>06/01/2021</td>\n",
       "      <td>Vente</td>\n",
       "      <td>320000.0</td>\n",
       "      <td>87.0</td>\n",
       "      <td>NaN</td>\n",
       "      <td>RTE</td>\n",
       "      <td>0140</td>\n",
       "      <td>DE CERTINES</td>\n",
       "      <td>1250.0</td>\n",
       "      <td>...</td>\n",
       "      <td>NaN</td>\n",
       "      <td>0</td>\n",
       "      <td>1.0</td>\n",
       "      <td>Maison</td>\n",
       "      <td>168.0</td>\n",
       "      <td>5.0</td>\n",
       "      <td>S</td>\n",
       "      <td>NaN</td>\n",
       "      <td>1426.0</td>\n",
       "      <td>06/01/2021RTE87.00140DE CERTINES1250.0MONTAGNAT</td>\n",
       "    </tr>\n",
       "  </tbody>\n",
       "</table>\n",
       "<p>5 rows × 36 columns</p>\n",
       "</div>"
      ],
      "text/plain": [
       "   No disposition Date mutation Nature mutation  Valeur fonciere  No voie  \\\n",
       "0               1    05/01/2021           Vente         185000.0   5080.0   \n",
       "1               1    05/01/2021           Vente         185000.0   5080.0   \n",
       "2               1    06/01/2021           Vente             10.0      NaN   \n",
       "3               1    04/01/2021           Vente         204332.0      7.0   \n",
       "4               1    06/01/2021           Vente         320000.0     87.0   \n",
       "\n",
       "  B/T/Q Type de voie Code voie           Voie  Code postal  ...  \\\n",
       "0   NaN          CHE      0471     DE VOGELAS       1370.0  ...   \n",
       "1   NaN          CHE      0471     DE VOGELAS       1370.0  ...   \n",
       "2   NaN          NaN      B043      ROUGEMONT       1290.0  ...   \n",
       "3   NaN          ALL      0276  DES ECUREUILS       1310.0  ...   \n",
       "4   NaN          RTE      0140    DE CERTINES       1250.0  ...   \n",
       "\n",
       "  Surface Carrez du 5eme lot Nombre de lots  Code type local  Type local  \\\n",
       "0                        NaN              0              1.0      Maison   \n",
       "1                        NaN              0              3.0  Dépendance   \n",
       "2                        NaN              0              NaN         NaN   \n",
       "3                        NaN              0              1.0      Maison   \n",
       "4                        NaN              0              1.0      Maison   \n",
       "\n",
       "  Surface reelle bati  Nombre pieces principales Nature culture  \\\n",
       "0                97.0                        5.0              S   \n",
       "1                 0.0                        0.0              S   \n",
       "2                 NaN                        NaN             BT   \n",
       "3                88.0                        4.0              S   \n",
       "4               168.0                        5.0              S   \n",
       "\n",
       "  Nature culture speciale  Surface terrain  \\\n",
       "0                     NaN           2410.0   \n",
       "1                     NaN           2410.0   \n",
       "2                     NaN            530.0   \n",
       "3                     NaN            866.0   \n",
       "4                     NaN           1426.0   \n",
       "\n",
       "                                          col_concat  \n",
       "0  05/01/2021CHE5080.00471DE VOGELAS1370.0VAL-REV...  \n",
       "1  05/01/2021CHE5080.00471DE VOGELAS1370.0VAL-REV...  \n",
       "2             06/01/2021nannanB043ROUGEMONT1290.0BEY  \n",
       "3     04/01/2021ALL7.00276DES ECUREUILS1310.0BUELLAS  \n",
       "4    06/01/2021RTE87.00140DE CERTINES1250.0MONTAGNAT  \n",
       "\n",
       "[5 rows x 36 columns]"
      ]
     },
     "execution_count": 50,
     "metadata": {},
     "output_type": "execute_result"
    }
   ],
   "source": [
    "# Nouvelle colonne 'col_concat' avec l'adresse et la date de vente jointe\n",
    "cols_to_join = ['Date mutation', 'Type de voie', 'No voie', 'Code voie', 'Voie', 'Code postal', 'Commune']\n",
    "df_wo_NaN['col_concat'] = df_wo_NaN[cols_to_join].apply(lambda x: ''.join(map(str,x)), axis=1)\n",
    "df_wo_NaN.head(5)"
   ]
  },
  {
   "cell_type": "code",
   "execution_count": 51,
   "metadata": {},
   "outputs": [
    {
     "data": {
      "text/html": [
       "<div>\n",
       "<style scoped>\n",
       "    .dataframe tbody tr th:only-of-type {\n",
       "        vertical-align: middle;\n",
       "    }\n",
       "\n",
       "    .dataframe tbody tr th {\n",
       "        vertical-align: top;\n",
       "    }\n",
       "\n",
       "    .dataframe thead th {\n",
       "        text-align: right;\n",
       "    }\n",
       "</style>\n",
       "<table border=\"1\" class=\"dataframe\">\n",
       "  <thead>\n",
       "    <tr style=\"text-align: right;\">\n",
       "      <th></th>\n",
       "      <th>No disposition</th>\n",
       "      <th>Date mutation</th>\n",
       "      <th>Nature mutation</th>\n",
       "      <th>Valeur fonciere</th>\n",
       "      <th>No voie</th>\n",
       "      <th>B/T/Q</th>\n",
       "      <th>Type de voie</th>\n",
       "      <th>Code voie</th>\n",
       "      <th>Voie</th>\n",
       "      <th>Code postal</th>\n",
       "      <th>...</th>\n",
       "      <th>Surface Carrez du 5eme lot</th>\n",
       "      <th>Nombre de lots</th>\n",
       "      <th>Code type local</th>\n",
       "      <th>Type local</th>\n",
       "      <th>Surface reelle bati</th>\n",
       "      <th>Nombre pieces principales</th>\n",
       "      <th>Nature culture</th>\n",
       "      <th>Nature culture speciale</th>\n",
       "      <th>Surface terrain</th>\n",
       "      <th>col_concat</th>\n",
       "    </tr>\n",
       "  </thead>\n",
       "  <tbody>\n",
       "    <tr>\n",
       "      <th>2</th>\n",
       "      <td>1</td>\n",
       "      <td>06/01/2021</td>\n",
       "      <td>Vente</td>\n",
       "      <td>10.0</td>\n",
       "      <td>NaN</td>\n",
       "      <td>NaN</td>\n",
       "      <td>NaN</td>\n",
       "      <td>B043</td>\n",
       "      <td>ROUGEMONT</td>\n",
       "      <td>1290.0</td>\n",
       "      <td>...</td>\n",
       "      <td>NaN</td>\n",
       "      <td>0</td>\n",
       "      <td>NaN</td>\n",
       "      <td>NaN</td>\n",
       "      <td>NaN</td>\n",
       "      <td>NaN</td>\n",
       "      <td>BT</td>\n",
       "      <td>NaN</td>\n",
       "      <td>530.0</td>\n",
       "      <td>06/01/2021nannanB043ROUGEMONT1290.0BEY</td>\n",
       "    </tr>\n",
       "    <tr>\n",
       "      <th>3</th>\n",
       "      <td>1</td>\n",
       "      <td>04/01/2021</td>\n",
       "      <td>Vente</td>\n",
       "      <td>204332.0</td>\n",
       "      <td>7.0</td>\n",
       "      <td>NaN</td>\n",
       "      <td>ALL</td>\n",
       "      <td>0276</td>\n",
       "      <td>DES ECUREUILS</td>\n",
       "      <td>1310.0</td>\n",
       "      <td>...</td>\n",
       "      <td>NaN</td>\n",
       "      <td>0</td>\n",
       "      <td>1.0</td>\n",
       "      <td>Maison</td>\n",
       "      <td>88.0</td>\n",
       "      <td>4.0</td>\n",
       "      <td>S</td>\n",
       "      <td>NaN</td>\n",
       "      <td>866.0</td>\n",
       "      <td>04/01/2021ALL7.00276DES ECUREUILS1310.0BUELLAS</td>\n",
       "    </tr>\n",
       "    <tr>\n",
       "      <th>6</th>\n",
       "      <td>2</td>\n",
       "      <td>04/01/2021</td>\n",
       "      <td>Vente</td>\n",
       "      <td>36.3</td>\n",
       "      <td>NaN</td>\n",
       "      <td>NaN</td>\n",
       "      <td>NaN</td>\n",
       "      <td>B077</td>\n",
       "      <td>COMBET MAILLET</td>\n",
       "      <td>1250.0</td>\n",
       "      <td>...</td>\n",
       "      <td>NaN</td>\n",
       "      <td>0</td>\n",
       "      <td>NaN</td>\n",
       "      <td>NaN</td>\n",
       "      <td>NaN</td>\n",
       "      <td>NaN</td>\n",
       "      <td>BT</td>\n",
       "      <td>NaN</td>\n",
       "      <td>121.0</td>\n",
       "      <td>04/01/2021nannanB077COMBET MAILLET1250.0CORVEI...</td>\n",
       "    </tr>\n",
       "    <tr>\n",
       "      <th>9</th>\n",
       "      <td>2</td>\n",
       "      <td>11/01/2021</td>\n",
       "      <td>Vente</td>\n",
       "      <td>400.0</td>\n",
       "      <td>NaN</td>\n",
       "      <td>NaN</td>\n",
       "      <td>NaN</td>\n",
       "      <td>B085</td>\n",
       "      <td>PRE BROUILLET</td>\n",
       "      <td>1310.0</td>\n",
       "      <td>...</td>\n",
       "      <td>NaN</td>\n",
       "      <td>0</td>\n",
       "      <td>NaN</td>\n",
       "      <td>NaN</td>\n",
       "      <td>NaN</td>\n",
       "      <td>NaN</td>\n",
       "      <td>P</td>\n",
       "      <td>NaN</td>\n",
       "      <td>460.0</td>\n",
       "      <td>11/01/2021nannanB085PRE BROUILLET1310.0MONTCET</td>\n",
       "    </tr>\n",
       "    <tr>\n",
       "      <th>12</th>\n",
       "      <td>1</td>\n",
       "      <td>07/01/2021</td>\n",
       "      <td>Vente</td>\n",
       "      <td>4780.0</td>\n",
       "      <td>NaN</td>\n",
       "      <td>NaN</td>\n",
       "      <td>NaN</td>\n",
       "      <td>B013</td>\n",
       "      <td>BERARDAN</td>\n",
       "      <td>1340.0</td>\n",
       "      <td>...</td>\n",
       "      <td>NaN</td>\n",
       "      <td>0</td>\n",
       "      <td>NaN</td>\n",
       "      <td>NaN</td>\n",
       "      <td>NaN</td>\n",
       "      <td>NaN</td>\n",
       "      <td>P</td>\n",
       "      <td>NaN</td>\n",
       "      <td>7105.0</td>\n",
       "      <td>07/01/2021nannanB013BERARDAN1340.0FOISSIAT</td>\n",
       "    </tr>\n",
       "    <tr>\n",
       "      <th>...</th>\n",
       "      <td>...</td>\n",
       "      <td>...</td>\n",
       "      <td>...</td>\n",
       "      <td>...</td>\n",
       "      <td>...</td>\n",
       "      <td>...</td>\n",
       "      <td>...</td>\n",
       "      <td>...</td>\n",
       "      <td>...</td>\n",
       "      <td>...</td>\n",
       "      <td>...</td>\n",
       "      <td>...</td>\n",
       "      <td>...</td>\n",
       "      <td>...</td>\n",
       "      <td>...</td>\n",
       "      <td>...</td>\n",
       "      <td>...</td>\n",
       "      <td>...</td>\n",
       "      <td>...</td>\n",
       "      <td>...</td>\n",
       "      <td>...</td>\n",
       "    </tr>\n",
       "    <tr>\n",
       "      <th>4649204</th>\n",
       "      <td>1</td>\n",
       "      <td>12/03/2021</td>\n",
       "      <td>Vente</td>\n",
       "      <td>383000.0</td>\n",
       "      <td>8.0</td>\n",
       "      <td>NaN</td>\n",
       "      <td>RUE</td>\n",
       "      <td>9382</td>\n",
       "      <td>DES TOURNELLES</td>\n",
       "      <td>75004.0</td>\n",
       "      <td>...</td>\n",
       "      <td>NaN</td>\n",
       "      <td>2</td>\n",
       "      <td>2.0</td>\n",
       "      <td>Appartement</td>\n",
       "      <td>30.0</td>\n",
       "      <td>2.0</td>\n",
       "      <td>NaN</td>\n",
       "      <td>NaN</td>\n",
       "      <td>NaN</td>\n",
       "      <td>12/03/2021RUE8.09382DES TOURNELLES75004.0PARIS 04</td>\n",
       "    </tr>\n",
       "    <tr>\n",
       "      <th>4649205</th>\n",
       "      <td>1</td>\n",
       "      <td>17/03/2021</td>\n",
       "      <td>Vente</td>\n",
       "      <td>260000.0</td>\n",
       "      <td>8.0</td>\n",
       "      <td>NaN</td>\n",
       "      <td>RUE</td>\n",
       "      <td>8561</td>\n",
       "      <td>SAINTE FOY</td>\n",
       "      <td>75002.0</td>\n",
       "      <td>...</td>\n",
       "      <td>NaN</td>\n",
       "      <td>2</td>\n",
       "      <td>2.0</td>\n",
       "      <td>Appartement</td>\n",
       "      <td>37.0</td>\n",
       "      <td>2.0</td>\n",
       "      <td>NaN</td>\n",
       "      <td>NaN</td>\n",
       "      <td>NaN</td>\n",
       "      <td>17/03/2021RUE8.08561SAINTE FOY75002.0PARIS 02</td>\n",
       "    </tr>\n",
       "    <tr>\n",
       "      <th>4649206</th>\n",
       "      <td>1</td>\n",
       "      <td>19/03/2021</td>\n",
       "      <td>Vente</td>\n",
       "      <td>38000.0</td>\n",
       "      <td>6.0</td>\n",
       "      <td>NaN</td>\n",
       "      <td>RUE</td>\n",
       "      <td>4398</td>\n",
       "      <td>DES GUILLEMITES</td>\n",
       "      <td>75004.0</td>\n",
       "      <td>...</td>\n",
       "      <td>NaN</td>\n",
       "      <td>1</td>\n",
       "      <td>3.0</td>\n",
       "      <td>Dépendance</td>\n",
       "      <td>0.0</td>\n",
       "      <td>0.0</td>\n",
       "      <td>NaN</td>\n",
       "      <td>NaN</td>\n",
       "      <td>NaN</td>\n",
       "      <td>19/03/2021RUE6.04398DES GUILLEMITES75004.0PARI...</td>\n",
       "    </tr>\n",
       "    <tr>\n",
       "      <th>4649207</th>\n",
       "      <td>1</td>\n",
       "      <td>30/03/2021</td>\n",
       "      <td>Vente</td>\n",
       "      <td>38000.0</td>\n",
       "      <td>30.0</td>\n",
       "      <td>NaN</td>\n",
       "      <td>RUE</td>\n",
       "      <td>7338</td>\n",
       "      <td>DU PETIT MUSC</td>\n",
       "      <td>75004.0</td>\n",
       "      <td>...</td>\n",
       "      <td>NaN</td>\n",
       "      <td>1</td>\n",
       "      <td>3.0</td>\n",
       "      <td>Dépendance</td>\n",
       "      <td>0.0</td>\n",
       "      <td>0.0</td>\n",
       "      <td>NaN</td>\n",
       "      <td>NaN</td>\n",
       "      <td>NaN</td>\n",
       "      <td>30/03/2021RUE30.07338DU PETIT MUSC75004.0PARIS 04</td>\n",
       "    </tr>\n",
       "    <tr>\n",
       "      <th>4649208</th>\n",
       "      <td>1</td>\n",
       "      <td>19/03/2021</td>\n",
       "      <td>Vente</td>\n",
       "      <td>690000.0</td>\n",
       "      <td>3.0</td>\n",
       "      <td>NaN</td>\n",
       "      <td>RUE</td>\n",
       "      <td>8659</td>\n",
       "      <td>SAINT-JOSEPH</td>\n",
       "      <td>75002.0</td>\n",
       "      <td>...</td>\n",
       "      <td>NaN</td>\n",
       "      <td>2</td>\n",
       "      <td>4.0</td>\n",
       "      <td>Local industriel. commercial ou assimilé</td>\n",
       "      <td>56.0</td>\n",
       "      <td>0.0</td>\n",
       "      <td>NaN</td>\n",
       "      <td>NaN</td>\n",
       "      <td>NaN</td>\n",
       "      <td>19/03/2021RUE3.08659SAINT-JOSEPH75002.0PARIS 02</td>\n",
       "    </tr>\n",
       "  </tbody>\n",
       "</table>\n",
       "<p>1126427 rows × 36 columns</p>\n",
       "</div>"
      ],
      "text/plain": [
       "         No disposition Date mutation Nature mutation  Valeur fonciere  \\\n",
       "2                     1    06/01/2021           Vente             10.0   \n",
       "3                     1    04/01/2021           Vente         204332.0   \n",
       "6                     2    04/01/2021           Vente             36.3   \n",
       "9                     2    11/01/2021           Vente            400.0   \n",
       "12                    1    07/01/2021           Vente           4780.0   \n",
       "...                 ...           ...             ...              ...   \n",
       "4649204               1    12/03/2021           Vente         383000.0   \n",
       "4649205               1    17/03/2021           Vente         260000.0   \n",
       "4649206               1    19/03/2021           Vente          38000.0   \n",
       "4649207               1    30/03/2021           Vente          38000.0   \n",
       "4649208               1    19/03/2021           Vente         690000.0   \n",
       "\n",
       "         No voie B/T/Q Type de voie Code voie             Voie  Code postal  \\\n",
       "2            NaN   NaN          NaN      B043        ROUGEMONT       1290.0   \n",
       "3            7.0   NaN          ALL      0276    DES ECUREUILS       1310.0   \n",
       "6            NaN   NaN          NaN      B077   COMBET MAILLET       1250.0   \n",
       "9            NaN   NaN          NaN      B085    PRE BROUILLET       1310.0   \n",
       "12           NaN   NaN          NaN      B013         BERARDAN       1340.0   \n",
       "...          ...   ...          ...       ...              ...          ...   \n",
       "4649204      8.0   NaN          RUE      9382   DES TOURNELLES      75004.0   \n",
       "4649205      8.0   NaN          RUE      8561       SAINTE FOY      75002.0   \n",
       "4649206      6.0   NaN          RUE      4398  DES GUILLEMITES      75004.0   \n",
       "4649207     30.0   NaN          RUE      7338    DU PETIT MUSC      75004.0   \n",
       "4649208      3.0   NaN          RUE      8659     SAINT-JOSEPH      75002.0   \n",
       "\n",
       "         ... Surface Carrez du 5eme lot Nombre de lots  Code type local  \\\n",
       "2        ...                        NaN              0              NaN   \n",
       "3        ...                        NaN              0              1.0   \n",
       "6        ...                        NaN              0              NaN   \n",
       "9        ...                        NaN              0              NaN   \n",
       "12       ...                        NaN              0              NaN   \n",
       "...      ...                        ...            ...              ...   \n",
       "4649204  ...                        NaN              2              2.0   \n",
       "4649205  ...                        NaN              2              2.0   \n",
       "4649206  ...                        NaN              1              3.0   \n",
       "4649207  ...                        NaN              1              3.0   \n",
       "4649208  ...                        NaN              2              4.0   \n",
       "\n",
       "                                       Type local Surface reelle bati  \\\n",
       "2                                             NaN                 NaN   \n",
       "3                                          Maison                88.0   \n",
       "6                                             NaN                 NaN   \n",
       "9                                             NaN                 NaN   \n",
       "12                                            NaN                 NaN   \n",
       "...                                           ...                 ...   \n",
       "4649204                               Appartement                30.0   \n",
       "4649205                               Appartement                37.0   \n",
       "4649206                                Dépendance                 0.0   \n",
       "4649207                                Dépendance                 0.0   \n",
       "4649208  Local industriel. commercial ou assimilé                56.0   \n",
       "\n",
       "         Nombre pieces principales Nature culture Nature culture speciale  \\\n",
       "2                              NaN             BT                     NaN   \n",
       "3                              4.0              S                     NaN   \n",
       "6                              NaN             BT                     NaN   \n",
       "9                              NaN              P                     NaN   \n",
       "12                             NaN              P                     NaN   \n",
       "...                            ...            ...                     ...   \n",
       "4649204                        2.0            NaN                     NaN   \n",
       "4649205                        2.0            NaN                     NaN   \n",
       "4649206                        0.0            NaN                     NaN   \n",
       "4649207                        0.0            NaN                     NaN   \n",
       "4649208                        0.0            NaN                     NaN   \n",
       "\n",
       "         Surface terrain                                         col_concat  \n",
       "2                  530.0             06/01/2021nannanB043ROUGEMONT1290.0BEY  \n",
       "3                  866.0     04/01/2021ALL7.00276DES ECUREUILS1310.0BUELLAS  \n",
       "6                  121.0  04/01/2021nannanB077COMBET MAILLET1250.0CORVEI...  \n",
       "9                  460.0     11/01/2021nannanB085PRE BROUILLET1310.0MONTCET  \n",
       "12                7105.0         07/01/2021nannanB013BERARDAN1340.0FOISSIAT  \n",
       "...                  ...                                                ...  \n",
       "4649204              NaN  12/03/2021RUE8.09382DES TOURNELLES75004.0PARIS 04  \n",
       "4649205              NaN      17/03/2021RUE8.08561SAINTE FOY75002.0PARIS 02  \n",
       "4649206              NaN  19/03/2021RUE6.04398DES GUILLEMITES75004.0PARI...  \n",
       "4649207              NaN  30/03/2021RUE30.07338DU PETIT MUSC75004.0PARIS 04  \n",
       "4649208              NaN    19/03/2021RUE3.08659SAINT-JOSEPH75002.0PARIS 02  \n",
       "\n",
       "[1126427 rows x 36 columns]"
      ]
     },
     "execution_count": 51,
     "metadata": {},
     "output_type": "execute_result"
    }
   ],
   "source": [
    "# On supprime les lignes ayant la même valeur dans col_concat\n",
    "df_wo_NaN = df_wo_NaN.drop_duplicates(subset='col_concat', keep=False)\n",
    "df_wo_NaN"
   ]
  },
  {
   "cell_type": "code",
   "execution_count": 52,
   "metadata": {},
   "outputs": [
    {
     "data": {
      "text/plain": [
       "No disposition                 0.000000\n",
       "Date mutation                  0.000000\n",
       "Nature mutation                0.000000\n",
       "Valeur fonciere                0.386354\n",
       "No voie                       35.819898\n",
       "B/T/Q                         95.538637\n",
       "Type de voie                  36.938124\n",
       "Code voie                      0.218035\n",
       "Voie                           0.222828\n",
       "Code postal                    0.221497\n",
       "Commune                        0.000000\n",
       "Code departement               0.000000\n",
       "Code commune                   0.000000\n",
       "Prefixe de section            95.655555\n",
       "Section                        0.002131\n",
       "No plan                        0.000000\n",
       "No Volume                     99.719201\n",
       "1er lot                       75.331291\n",
       "Surface Carrez du 1er lot     90.383753\n",
       "2eme lot                      95.453678\n",
       "Surface Carrez du 2eme lot    98.658590\n",
       "3eme lot                      99.017957\n",
       "Surface Carrez du 3eme lot    99.824489\n",
       "4eme lot                      99.609118\n",
       "Surface Carrez du 4eme lot    99.948332\n",
       "5eme lot                      99.802118\n",
       "Surface Carrez du 5eme lot    99.978250\n",
       "Nombre de lots                 0.000000\n",
       "Code type local               41.570559\n",
       "Type local                    41.570559\n",
       "Surface reelle bati           41.670521\n",
       "Nombre pieces principales     41.670521\n",
       "Nature culture                25.175977\n",
       "Nature culture speciale       96.878537\n",
       "Surface terrain               25.175977\n",
       "col_concat                     0.000000\n",
       "dtype: float64"
      ]
     },
     "execution_count": 52,
     "metadata": {},
     "output_type": "execute_result"
    }
   ],
   "source": [
    "# pourcentage des valeurs manquantes dans chaque colonne \n",
    "pourcentage_manquant = (df_wo_NaN.isna().sum() / len(df_wo_NaN)) * 100\n",
    "pourcentage_manquant"
   ]
  },
  {
   "cell_type": "code",
   "execution_count": 53,
   "metadata": {},
   "outputs": [
    {
     "data": {
      "text/plain": [
       "Surface Carrez du 5eme lot    99.978250\n",
       "Surface Carrez du 4eme lot    99.948332\n",
       "Surface Carrez du 3eme lot    99.824489\n",
       "5eme lot                      99.802118\n",
       "No Volume                     99.719201\n",
       "4eme lot                      99.609118\n",
       "3eme lot                      99.017957\n",
       "Surface Carrez du 2eme lot    98.658590\n",
       "Nature culture speciale       96.878537\n",
       "Prefixe de section            95.655555\n",
       "B/T/Q                         95.538637\n",
       "2eme lot                      95.453678\n",
       "Surface Carrez du 1er lot     90.383753\n",
       "1er lot                       75.331291\n",
       "Nombre pieces principales     41.670521\n",
       "Surface reelle bati           41.670521\n",
       "Type local                    41.570559\n",
       "Code type local               41.570559\n",
       "Type de voie                  36.938124\n",
       "No voie                       35.819898\n",
       "Nature culture                25.175977\n",
       "Surface terrain               25.175977\n",
       "Valeur fonciere                0.386354\n",
       "Voie                           0.222828\n",
       "Code postal                    0.221497\n",
       "Code voie                      0.218035\n",
       "Section                        0.002131\n",
       "No disposition                 0.000000\n",
       "Nombre de lots                 0.000000\n",
       "Date mutation                  0.000000\n",
       "No plan                        0.000000\n",
       "Code commune                   0.000000\n",
       "Code departement               0.000000\n",
       "Commune                        0.000000\n",
       "Nature mutation                0.000000\n",
       "col_concat                     0.000000\n",
       "dtype: float64"
      ]
     },
     "execution_count": 53,
     "metadata": {},
     "output_type": "execute_result"
    }
   ],
   "source": [
    "#on classe par ordre decroissant\n",
    "pourcentage_manquant = pourcentage_manquant.sort_values(ascending=False)\n",
    "pourcentage_manquant "
   ]
  },
  {
   "cell_type": "code",
   "execution_count": 54,
   "metadata": {},
   "outputs": [
    {
     "data": {
      "text/plain": [
       "Surface Carrez du 5eme lot    99.978250\n",
       "Surface Carrez du 4eme lot    99.948332\n",
       "Surface Carrez du 3eme lot    99.824489\n",
       "5eme lot                      99.802118\n",
       "No Volume                     99.719201\n",
       "4eme lot                      99.609118\n",
       "3eme lot                      99.017957\n",
       "Surface Carrez du 2eme lot    98.658590\n",
       "Nature culture speciale       96.878537\n",
       "Prefixe de section            95.655555\n",
       "B/T/Q                         95.538637\n",
       "2eme lot                      95.453678\n",
       "dtype: float64"
      ]
     },
     "execution_count": 54,
     "metadata": {},
     "output_type": "execute_result"
    }
   ],
   "source": [
    "#les colonnes que nous aloons suprimer\n",
    "#les colonnes ayant plus de 95 % de données manquantes\n",
    "pourcentage_manquant.iloc[0:12,]"
   ]
  },
  {
   "cell_type": "code",
   "execution_count": 55,
   "metadata": {},
   "outputs": [
    {
     "data": {
      "text/html": [
       "<div>\n",
       "<style scoped>\n",
       "    .dataframe tbody tr th:only-of-type {\n",
       "        vertical-align: middle;\n",
       "    }\n",
       "\n",
       "    .dataframe tbody tr th {\n",
       "        vertical-align: top;\n",
       "    }\n",
       "\n",
       "    .dataframe thead th {\n",
       "        text-align: right;\n",
       "    }\n",
       "</style>\n",
       "<table border=\"1\" class=\"dataframe\">\n",
       "  <thead>\n",
       "    <tr style=\"text-align: right;\">\n",
       "      <th></th>\n",
       "      <th>No disposition</th>\n",
       "      <th>Date mutation</th>\n",
       "      <th>Nature mutation</th>\n",
       "      <th>Valeur fonciere</th>\n",
       "      <th>Type de voie</th>\n",
       "      <th>Voie</th>\n",
       "      <th>Code postal</th>\n",
       "      <th>Commune</th>\n",
       "      <th>Code commune</th>\n",
       "      <th>Section</th>\n",
       "      <th>No plan</th>\n",
       "      <th>1er lot</th>\n",
       "      <th>Surface Carrez du 1er lot</th>\n",
       "      <th>Nombre de lots</th>\n",
       "      <th>Type local</th>\n",
       "      <th>Surface reelle bati</th>\n",
       "      <th>Nombre pieces principales</th>\n",
       "      <th>Nature culture</th>\n",
       "      <th>Surface terrain</th>\n",
       "      <th>col_concat</th>\n",
       "    </tr>\n",
       "  </thead>\n",
       "  <tbody>\n",
       "    <tr>\n",
       "      <th>2</th>\n",
       "      <td>1</td>\n",
       "      <td>06/01/2021</td>\n",
       "      <td>Vente</td>\n",
       "      <td>10.0</td>\n",
       "      <td>NaN</td>\n",
       "      <td>ROUGEMONT</td>\n",
       "      <td>1290.0</td>\n",
       "      <td>BEY</td>\n",
       "      <td>42</td>\n",
       "      <td>A</td>\n",
       "      <td>204</td>\n",
       "      <td>NaN</td>\n",
       "      <td>NaN</td>\n",
       "      <td>0</td>\n",
       "      <td>NaN</td>\n",
       "      <td>NaN</td>\n",
       "      <td>NaN</td>\n",
       "      <td>BT</td>\n",
       "      <td>530.0</td>\n",
       "      <td>06/01/2021nannanB043ROUGEMONT1290.0BEY</td>\n",
       "    </tr>\n",
       "    <tr>\n",
       "      <th>3</th>\n",
       "      <td>1</td>\n",
       "      <td>04/01/2021</td>\n",
       "      <td>Vente</td>\n",
       "      <td>204332.0</td>\n",
       "      <td>ALL</td>\n",
       "      <td>DES ECUREUILS</td>\n",
       "      <td>1310.0</td>\n",
       "      <td>BUELLAS</td>\n",
       "      <td>65</td>\n",
       "      <td>B</td>\n",
       "      <td>1325</td>\n",
       "      <td>NaN</td>\n",
       "      <td>NaN</td>\n",
       "      <td>0</td>\n",
       "      <td>Maison</td>\n",
       "      <td>88.0</td>\n",
       "      <td>4.0</td>\n",
       "      <td>S</td>\n",
       "      <td>866.0</td>\n",
       "      <td>04/01/2021ALL7.00276DES ECUREUILS1310.0BUELLAS</td>\n",
       "    </tr>\n",
       "    <tr>\n",
       "      <th>6</th>\n",
       "      <td>2</td>\n",
       "      <td>04/01/2021</td>\n",
       "      <td>Vente</td>\n",
       "      <td>36.3</td>\n",
       "      <td>NaN</td>\n",
       "      <td>COMBET MAILLET</td>\n",
       "      <td>1250.0</td>\n",
       "      <td>CORVEISSIAT</td>\n",
       "      <td>125</td>\n",
       "      <td>C</td>\n",
       "      <td>1691</td>\n",
       "      <td>NaN</td>\n",
       "      <td>NaN</td>\n",
       "      <td>0</td>\n",
       "      <td>NaN</td>\n",
       "      <td>NaN</td>\n",
       "      <td>NaN</td>\n",
       "      <td>BT</td>\n",
       "      <td>121.0</td>\n",
       "      <td>04/01/2021nannanB077COMBET MAILLET1250.0CORVEI...</td>\n",
       "    </tr>\n",
       "    <tr>\n",
       "      <th>9</th>\n",
       "      <td>2</td>\n",
       "      <td>11/01/2021</td>\n",
       "      <td>Vente</td>\n",
       "      <td>400.0</td>\n",
       "      <td>NaN</td>\n",
       "      <td>PRE BROUILLET</td>\n",
       "      <td>1310.0</td>\n",
       "      <td>MONTCET</td>\n",
       "      <td>259</td>\n",
       "      <td>C</td>\n",
       "      <td>459</td>\n",
       "      <td>NaN</td>\n",
       "      <td>NaN</td>\n",
       "      <td>0</td>\n",
       "      <td>NaN</td>\n",
       "      <td>NaN</td>\n",
       "      <td>NaN</td>\n",
       "      <td>P</td>\n",
       "      <td>460.0</td>\n",
       "      <td>11/01/2021nannanB085PRE BROUILLET1310.0MONTCET</td>\n",
       "    </tr>\n",
       "    <tr>\n",
       "      <th>12</th>\n",
       "      <td>1</td>\n",
       "      <td>07/01/2021</td>\n",
       "      <td>Vente</td>\n",
       "      <td>4780.0</td>\n",
       "      <td>NaN</td>\n",
       "      <td>BERARDAN</td>\n",
       "      <td>1340.0</td>\n",
       "      <td>FOISSIAT</td>\n",
       "      <td>163</td>\n",
       "      <td>WA</td>\n",
       "      <td>155</td>\n",
       "      <td>NaN</td>\n",
       "      <td>NaN</td>\n",
       "      <td>0</td>\n",
       "      <td>NaN</td>\n",
       "      <td>NaN</td>\n",
       "      <td>NaN</td>\n",
       "      <td>P</td>\n",
       "      <td>7105.0</td>\n",
       "      <td>07/01/2021nannanB013BERARDAN1340.0FOISSIAT</td>\n",
       "    </tr>\n",
       "    <tr>\n",
       "      <th>...</th>\n",
       "      <td>...</td>\n",
       "      <td>...</td>\n",
       "      <td>...</td>\n",
       "      <td>...</td>\n",
       "      <td>...</td>\n",
       "      <td>...</td>\n",
       "      <td>...</td>\n",
       "      <td>...</td>\n",
       "      <td>...</td>\n",
       "      <td>...</td>\n",
       "      <td>...</td>\n",
       "      <td>...</td>\n",
       "      <td>...</td>\n",
       "      <td>...</td>\n",
       "      <td>...</td>\n",
       "      <td>...</td>\n",
       "      <td>...</td>\n",
       "      <td>...</td>\n",
       "      <td>...</td>\n",
       "      <td>...</td>\n",
       "    </tr>\n",
       "    <tr>\n",
       "      <th>4649204</th>\n",
       "      <td>1</td>\n",
       "      <td>12/03/2021</td>\n",
       "      <td>Vente</td>\n",
       "      <td>383000.0</td>\n",
       "      <td>RUE</td>\n",
       "      <td>DES TOURNELLES</td>\n",
       "      <td>75004.0</td>\n",
       "      <td>PARIS 04</td>\n",
       "      <td>104</td>\n",
       "      <td>AO</td>\n",
       "      <td>117</td>\n",
       "      <td>14</td>\n",
       "      <td>28.86</td>\n",
       "      <td>2</td>\n",
       "      <td>Appartement</td>\n",
       "      <td>30.0</td>\n",
       "      <td>2.0</td>\n",
       "      <td>NaN</td>\n",
       "      <td>NaN</td>\n",
       "      <td>12/03/2021RUE8.09382DES TOURNELLES75004.0PARIS 04</td>\n",
       "    </tr>\n",
       "    <tr>\n",
       "      <th>4649205</th>\n",
       "      <td>1</td>\n",
       "      <td>17/03/2021</td>\n",
       "      <td>Vente</td>\n",
       "      <td>260000.0</td>\n",
       "      <td>RUE</td>\n",
       "      <td>SAINTE FOY</td>\n",
       "      <td>75002.0</td>\n",
       "      <td>PARIS 02</td>\n",
       "      <td>102</td>\n",
       "      <td>AP</td>\n",
       "      <td>128</td>\n",
       "      <td>304</td>\n",
       "      <td>NaN</td>\n",
       "      <td>2</td>\n",
       "      <td>Appartement</td>\n",
       "      <td>37.0</td>\n",
       "      <td>2.0</td>\n",
       "      <td>NaN</td>\n",
       "      <td>NaN</td>\n",
       "      <td>17/03/2021RUE8.08561SAINTE FOY75002.0PARIS 02</td>\n",
       "    </tr>\n",
       "    <tr>\n",
       "      <th>4649206</th>\n",
       "      <td>1</td>\n",
       "      <td>19/03/2021</td>\n",
       "      <td>Vente</td>\n",
       "      <td>38000.0</td>\n",
       "      <td>RUE</td>\n",
       "      <td>DES GUILLEMITES</td>\n",
       "      <td>75004.0</td>\n",
       "      <td>PARIS 04</td>\n",
       "      <td>104</td>\n",
       "      <td>AH</td>\n",
       "      <td>68</td>\n",
       "      <td>121</td>\n",
       "      <td>NaN</td>\n",
       "      <td>1</td>\n",
       "      <td>Dépendance</td>\n",
       "      <td>0.0</td>\n",
       "      <td>0.0</td>\n",
       "      <td>NaN</td>\n",
       "      <td>NaN</td>\n",
       "      <td>19/03/2021RUE6.04398DES GUILLEMITES75004.0PARI...</td>\n",
       "    </tr>\n",
       "    <tr>\n",
       "      <th>4649207</th>\n",
       "      <td>1</td>\n",
       "      <td>30/03/2021</td>\n",
       "      <td>Vente</td>\n",
       "      <td>38000.0</td>\n",
       "      <td>RUE</td>\n",
       "      <td>DU PETIT MUSC</td>\n",
       "      <td>75004.0</td>\n",
       "      <td>PARIS 04</td>\n",
       "      <td>104</td>\n",
       "      <td>AP</td>\n",
       "      <td>5</td>\n",
       "      <td>399</td>\n",
       "      <td>NaN</td>\n",
       "      <td>1</td>\n",
       "      <td>Dépendance</td>\n",
       "      <td>0.0</td>\n",
       "      <td>0.0</td>\n",
       "      <td>NaN</td>\n",
       "      <td>NaN</td>\n",
       "      <td>30/03/2021RUE30.07338DU PETIT MUSC75004.0PARIS 04</td>\n",
       "    </tr>\n",
       "    <tr>\n",
       "      <th>4649208</th>\n",
       "      <td>1</td>\n",
       "      <td>19/03/2021</td>\n",
       "      <td>Vente</td>\n",
       "      <td>690000.0</td>\n",
       "      <td>RUE</td>\n",
       "      <td>SAINT-JOSEPH</td>\n",
       "      <td>75002.0</td>\n",
       "      <td>PARIS 02</td>\n",
       "      <td>102</td>\n",
       "      <td>AI</td>\n",
       "      <td>34</td>\n",
       "      <td>29</td>\n",
       "      <td>NaN</td>\n",
       "      <td>2</td>\n",
       "      <td>Local industriel. commercial ou assimilé</td>\n",
       "      <td>56.0</td>\n",
       "      <td>0.0</td>\n",
       "      <td>NaN</td>\n",
       "      <td>NaN</td>\n",
       "      <td>19/03/2021RUE3.08659SAINT-JOSEPH75002.0PARIS 02</td>\n",
       "    </tr>\n",
       "  </tbody>\n",
       "</table>\n",
       "<p>1126427 rows × 20 columns</p>\n",
       "</div>"
      ],
      "text/plain": [
       "         No disposition Date mutation Nature mutation  Valeur fonciere  \\\n",
       "2                     1    06/01/2021           Vente             10.0   \n",
       "3                     1    04/01/2021           Vente         204332.0   \n",
       "6                     2    04/01/2021           Vente             36.3   \n",
       "9                     2    11/01/2021           Vente            400.0   \n",
       "12                    1    07/01/2021           Vente           4780.0   \n",
       "...                 ...           ...             ...              ...   \n",
       "4649204               1    12/03/2021           Vente         383000.0   \n",
       "4649205               1    17/03/2021           Vente         260000.0   \n",
       "4649206               1    19/03/2021           Vente          38000.0   \n",
       "4649207               1    30/03/2021           Vente          38000.0   \n",
       "4649208               1    19/03/2021           Vente         690000.0   \n",
       "\n",
       "        Type de voie             Voie  Code postal      Commune  Code commune  \\\n",
       "2                NaN        ROUGEMONT       1290.0          BEY            42   \n",
       "3                ALL    DES ECUREUILS       1310.0      BUELLAS            65   \n",
       "6                NaN   COMBET MAILLET       1250.0  CORVEISSIAT           125   \n",
       "9                NaN    PRE BROUILLET       1310.0      MONTCET           259   \n",
       "12               NaN         BERARDAN       1340.0     FOISSIAT           163   \n",
       "...              ...              ...          ...          ...           ...   \n",
       "4649204          RUE   DES TOURNELLES      75004.0     PARIS 04           104   \n",
       "4649205          RUE       SAINTE FOY      75002.0     PARIS 02           102   \n",
       "4649206          RUE  DES GUILLEMITES      75004.0     PARIS 04           104   \n",
       "4649207          RUE    DU PETIT MUSC      75004.0     PARIS 04           104   \n",
       "4649208          RUE     SAINT-JOSEPH      75002.0     PARIS 02           102   \n",
       "\n",
       "        Section  No plan 1er lot  Surface Carrez du 1er lot  Nombre de lots  \\\n",
       "2             A      204     NaN                        NaN               0   \n",
       "3             B     1325     NaN                        NaN               0   \n",
       "6             C     1691     NaN                        NaN               0   \n",
       "9             C      459     NaN                        NaN               0   \n",
       "12           WA      155     NaN                        NaN               0   \n",
       "...         ...      ...     ...                        ...             ...   \n",
       "4649204      AO      117      14                      28.86               2   \n",
       "4649205      AP      128     304                        NaN               2   \n",
       "4649206      AH       68     121                        NaN               1   \n",
       "4649207      AP        5     399                        NaN               1   \n",
       "4649208      AI       34      29                        NaN               2   \n",
       "\n",
       "                                       Type local  Surface reelle bati  \\\n",
       "2                                             NaN                  NaN   \n",
       "3                                          Maison                 88.0   \n",
       "6                                             NaN                  NaN   \n",
       "9                                             NaN                  NaN   \n",
       "12                                            NaN                  NaN   \n",
       "...                                           ...                  ...   \n",
       "4649204                               Appartement                 30.0   \n",
       "4649205                               Appartement                 37.0   \n",
       "4649206                                Dépendance                  0.0   \n",
       "4649207                                Dépendance                  0.0   \n",
       "4649208  Local industriel. commercial ou assimilé                 56.0   \n",
       "\n",
       "         Nombre pieces principales Nature culture  Surface terrain  \\\n",
       "2                              NaN             BT            530.0   \n",
       "3                              4.0              S            866.0   \n",
       "6                              NaN             BT            121.0   \n",
       "9                              NaN              P            460.0   \n",
       "12                             NaN              P           7105.0   \n",
       "...                            ...            ...              ...   \n",
       "4649204                        2.0            NaN              NaN   \n",
       "4649205                        2.0            NaN              NaN   \n",
       "4649206                        0.0            NaN              NaN   \n",
       "4649207                        0.0            NaN              NaN   \n",
       "4649208                        0.0            NaN              NaN   \n",
       "\n",
       "                                                col_concat  \n",
       "2                   06/01/2021nannanB043ROUGEMONT1290.0BEY  \n",
       "3           04/01/2021ALL7.00276DES ECUREUILS1310.0BUELLAS  \n",
       "6        04/01/2021nannanB077COMBET MAILLET1250.0CORVEI...  \n",
       "9           11/01/2021nannanB085PRE BROUILLET1310.0MONTCET  \n",
       "12              07/01/2021nannanB013BERARDAN1340.0FOISSIAT  \n",
       "...                                                    ...  \n",
       "4649204  12/03/2021RUE8.09382DES TOURNELLES75004.0PARIS 04  \n",
       "4649205      17/03/2021RUE8.08561SAINTE FOY75002.0PARIS 02  \n",
       "4649206  19/03/2021RUE6.04398DES GUILLEMITES75004.0PARI...  \n",
       "4649207  30/03/2021RUE30.07338DU PETIT MUSC75004.0PARIS 04  \n",
       "4649208    19/03/2021RUE3.08659SAINT-JOSEPH75002.0PARIS 02  \n",
       "\n",
       "[1126427 rows x 20 columns]"
      ]
     },
     "execution_count": 55,
     "metadata": {},
     "output_type": "execute_result"
    }
   ],
   "source": [
    "#On supprime les colonnes\n",
    "df_wo_NaN  = df_wo_NaN.drop(columns= {'Surface Carrez du 5eme lot', 'Surface Carrez du 4eme lot', 'Surface Carrez du 3eme lot', 'No Volume', '5eme lot', '4eme lot', '3eme lot', 'Surface Carrez du 2eme lot', 'Nature culture speciale', 'B/T/Q',  'Prefixe de section', '2eme lot', 'Code type local', 'No voie', 'Code voie', 'Code departement'})\n",
    "df_wo_NaN"
   ]
  },
  {
   "cell_type": "code",
   "execution_count": 56,
   "metadata": {},
   "outputs": [
    {
     "data": {
      "text/html": [
       "<div>\n",
       "<style scoped>\n",
       "    .dataframe tbody tr th:only-of-type {\n",
       "        vertical-align: middle;\n",
       "    }\n",
       "\n",
       "    .dataframe tbody tr th {\n",
       "        vertical-align: top;\n",
       "    }\n",
       "\n",
       "    .dataframe thead th {\n",
       "        text-align: right;\n",
       "    }\n",
       "</style>\n",
       "<table border=\"1\" class=\"dataframe\">\n",
       "  <thead>\n",
       "    <tr style=\"text-align: right;\">\n",
       "      <th></th>\n",
       "      <th>No disposition</th>\n",
       "      <th>Date mutation</th>\n",
       "      <th>Nature mutation</th>\n",
       "      <th>Valeur fonciere</th>\n",
       "      <th>Type de voie</th>\n",
       "      <th>Voie</th>\n",
       "      <th>Code postal</th>\n",
       "      <th>Commune</th>\n",
       "      <th>Code commune</th>\n",
       "      <th>Section</th>\n",
       "      <th>No plan</th>\n",
       "      <th>1er lot</th>\n",
       "      <th>Surface Carrez du 1er lot</th>\n",
       "      <th>Nombre de lots</th>\n",
       "      <th>Type local</th>\n",
       "      <th>Surface reelle bati</th>\n",
       "      <th>Nombre pieces principales</th>\n",
       "      <th>Nature culture</th>\n",
       "      <th>Surface terrain</th>\n",
       "      <th>col_concat</th>\n",
       "    </tr>\n",
       "  </thead>\n",
       "  <tbody>\n",
       "    <tr>\n",
       "      <th>3</th>\n",
       "      <td>1</td>\n",
       "      <td>04/01/2021</td>\n",
       "      <td>Vente</td>\n",
       "      <td>204332.0</td>\n",
       "      <td>ALL</td>\n",
       "      <td>DES ECUREUILS</td>\n",
       "      <td>1310.0</td>\n",
       "      <td>BUELLAS</td>\n",
       "      <td>65</td>\n",
       "      <td>B</td>\n",
       "      <td>1325</td>\n",
       "      <td>NaN</td>\n",
       "      <td>NaN</td>\n",
       "      <td>0</td>\n",
       "      <td>Maison</td>\n",
       "      <td>88.0</td>\n",
       "      <td>4.0</td>\n",
       "      <td>S</td>\n",
       "      <td>866.0</td>\n",
       "      <td>04/01/2021ALL7.00276DES ECUREUILS1310.0BUELLAS</td>\n",
       "    </tr>\n",
       "    <tr>\n",
       "      <th>9</th>\n",
       "      <td>2</td>\n",
       "      <td>11/01/2021</td>\n",
       "      <td>Vente</td>\n",
       "      <td>400.0</td>\n",
       "      <td>NaN</td>\n",
       "      <td>PRE BROUILLET</td>\n",
       "      <td>1310.0</td>\n",
       "      <td>MONTCET</td>\n",
       "      <td>259</td>\n",
       "      <td>C</td>\n",
       "      <td>459</td>\n",
       "      <td>NaN</td>\n",
       "      <td>NaN</td>\n",
       "      <td>0</td>\n",
       "      <td>NaN</td>\n",
       "      <td>NaN</td>\n",
       "      <td>NaN</td>\n",
       "      <td>P</td>\n",
       "      <td>460.0</td>\n",
       "      <td>11/01/2021nannanB085PRE BROUILLET1310.0MONTCET</td>\n",
       "    </tr>\n",
       "    <tr>\n",
       "      <th>12</th>\n",
       "      <td>1</td>\n",
       "      <td>07/01/2021</td>\n",
       "      <td>Vente</td>\n",
       "      <td>4780.0</td>\n",
       "      <td>NaN</td>\n",
       "      <td>BERARDAN</td>\n",
       "      <td>1340.0</td>\n",
       "      <td>FOISSIAT</td>\n",
       "      <td>163</td>\n",
       "      <td>WA</td>\n",
       "      <td>155</td>\n",
       "      <td>NaN</td>\n",
       "      <td>NaN</td>\n",
       "      <td>0</td>\n",
       "      <td>NaN</td>\n",
       "      <td>NaN</td>\n",
       "      <td>NaN</td>\n",
       "      <td>P</td>\n",
       "      <td>7105.0</td>\n",
       "      <td>07/01/2021nannanB013BERARDAN1340.0FOISSIAT</td>\n",
       "    </tr>\n",
       "    <tr>\n",
       "      <th>13</th>\n",
       "      <td>1</td>\n",
       "      <td>07/01/2021</td>\n",
       "      <td>Vente</td>\n",
       "      <td>4780.0</td>\n",
       "      <td>NaN</td>\n",
       "      <td>LES COMBETTES</td>\n",
       "      <td>1340.0</td>\n",
       "      <td>FOISSIAT</td>\n",
       "      <td>163</td>\n",
       "      <td>WB</td>\n",
       "      <td>277</td>\n",
       "      <td>NaN</td>\n",
       "      <td>NaN</td>\n",
       "      <td>0</td>\n",
       "      <td>NaN</td>\n",
       "      <td>NaN</td>\n",
       "      <td>NaN</td>\n",
       "      <td>BS</td>\n",
       "      <td>4570.0</td>\n",
       "      <td>07/01/2021nannanB129LES COMBETTES1340.0FOISSIAT</td>\n",
       "    </tr>\n",
       "    <tr>\n",
       "      <th>14</th>\n",
       "      <td>2</td>\n",
       "      <td>04/01/2021</td>\n",
       "      <td>Vente</td>\n",
       "      <td>226700.0</td>\n",
       "      <td>CHE</td>\n",
       "      <td>DU MOULIN DE POLAIZE</td>\n",
       "      <td>1310.0</td>\n",
       "      <td>POLLIAT</td>\n",
       "      <td>301</td>\n",
       "      <td>AA</td>\n",
       "      <td>289</td>\n",
       "      <td>NaN</td>\n",
       "      <td>NaN</td>\n",
       "      <td>0</td>\n",
       "      <td>Maison</td>\n",
       "      <td>96.0</td>\n",
       "      <td>3.0</td>\n",
       "      <td>NaN</td>\n",
       "      <td>NaN</td>\n",
       "      <td>04/01/2021CHE173.00164DU MOULIN DE POLAIZE1310...</td>\n",
       "    </tr>\n",
       "    <tr>\n",
       "      <th>...</th>\n",
       "      <td>...</td>\n",
       "      <td>...</td>\n",
       "      <td>...</td>\n",
       "      <td>...</td>\n",
       "      <td>...</td>\n",
       "      <td>...</td>\n",
       "      <td>...</td>\n",
       "      <td>...</td>\n",
       "      <td>...</td>\n",
       "      <td>...</td>\n",
       "      <td>...</td>\n",
       "      <td>...</td>\n",
       "      <td>...</td>\n",
       "      <td>...</td>\n",
       "      <td>...</td>\n",
       "      <td>...</td>\n",
       "      <td>...</td>\n",
       "      <td>...</td>\n",
       "      <td>...</td>\n",
       "      <td>...</td>\n",
       "    </tr>\n",
       "    <tr>\n",
       "      <th>4649204</th>\n",
       "      <td>1</td>\n",
       "      <td>12/03/2021</td>\n",
       "      <td>Vente</td>\n",
       "      <td>383000.0</td>\n",
       "      <td>RUE</td>\n",
       "      <td>DES TOURNELLES</td>\n",
       "      <td>75004.0</td>\n",
       "      <td>PARIS 04</td>\n",
       "      <td>104</td>\n",
       "      <td>AO</td>\n",
       "      <td>117</td>\n",
       "      <td>14</td>\n",
       "      <td>28.86</td>\n",
       "      <td>2</td>\n",
       "      <td>Appartement</td>\n",
       "      <td>30.0</td>\n",
       "      <td>2.0</td>\n",
       "      <td>NaN</td>\n",
       "      <td>NaN</td>\n",
       "      <td>12/03/2021RUE8.09382DES TOURNELLES75004.0PARIS 04</td>\n",
       "    </tr>\n",
       "    <tr>\n",
       "      <th>4649205</th>\n",
       "      <td>1</td>\n",
       "      <td>17/03/2021</td>\n",
       "      <td>Vente</td>\n",
       "      <td>260000.0</td>\n",
       "      <td>RUE</td>\n",
       "      <td>SAINTE FOY</td>\n",
       "      <td>75002.0</td>\n",
       "      <td>PARIS 02</td>\n",
       "      <td>102</td>\n",
       "      <td>AP</td>\n",
       "      <td>128</td>\n",
       "      <td>304</td>\n",
       "      <td>NaN</td>\n",
       "      <td>2</td>\n",
       "      <td>Appartement</td>\n",
       "      <td>37.0</td>\n",
       "      <td>2.0</td>\n",
       "      <td>NaN</td>\n",
       "      <td>NaN</td>\n",
       "      <td>17/03/2021RUE8.08561SAINTE FOY75002.0PARIS 02</td>\n",
       "    </tr>\n",
       "    <tr>\n",
       "      <th>4649206</th>\n",
       "      <td>1</td>\n",
       "      <td>19/03/2021</td>\n",
       "      <td>Vente</td>\n",
       "      <td>38000.0</td>\n",
       "      <td>RUE</td>\n",
       "      <td>DES GUILLEMITES</td>\n",
       "      <td>75004.0</td>\n",
       "      <td>PARIS 04</td>\n",
       "      <td>104</td>\n",
       "      <td>AH</td>\n",
       "      <td>68</td>\n",
       "      <td>121</td>\n",
       "      <td>NaN</td>\n",
       "      <td>1</td>\n",
       "      <td>Dépendance</td>\n",
       "      <td>0.0</td>\n",
       "      <td>0.0</td>\n",
       "      <td>NaN</td>\n",
       "      <td>NaN</td>\n",
       "      <td>19/03/2021RUE6.04398DES GUILLEMITES75004.0PARI...</td>\n",
       "    </tr>\n",
       "    <tr>\n",
       "      <th>4649207</th>\n",
       "      <td>1</td>\n",
       "      <td>30/03/2021</td>\n",
       "      <td>Vente</td>\n",
       "      <td>38000.0</td>\n",
       "      <td>RUE</td>\n",
       "      <td>DU PETIT MUSC</td>\n",
       "      <td>75004.0</td>\n",
       "      <td>PARIS 04</td>\n",
       "      <td>104</td>\n",
       "      <td>AP</td>\n",
       "      <td>5</td>\n",
       "      <td>399</td>\n",
       "      <td>NaN</td>\n",
       "      <td>1</td>\n",
       "      <td>Dépendance</td>\n",
       "      <td>0.0</td>\n",
       "      <td>0.0</td>\n",
       "      <td>NaN</td>\n",
       "      <td>NaN</td>\n",
       "      <td>30/03/2021RUE30.07338DU PETIT MUSC75004.0PARIS 04</td>\n",
       "    </tr>\n",
       "    <tr>\n",
       "      <th>4649208</th>\n",
       "      <td>1</td>\n",
       "      <td>19/03/2021</td>\n",
       "      <td>Vente</td>\n",
       "      <td>690000.0</td>\n",
       "      <td>RUE</td>\n",
       "      <td>SAINT-JOSEPH</td>\n",
       "      <td>75002.0</td>\n",
       "      <td>PARIS 02</td>\n",
       "      <td>102</td>\n",
       "      <td>AI</td>\n",
       "      <td>34</td>\n",
       "      <td>29</td>\n",
       "      <td>NaN</td>\n",
       "      <td>2</td>\n",
       "      <td>Local industriel. commercial ou assimilé</td>\n",
       "      <td>56.0</td>\n",
       "      <td>0.0</td>\n",
       "      <td>NaN</td>\n",
       "      <td>NaN</td>\n",
       "      <td>19/03/2021RUE3.08659SAINT-JOSEPH75002.0PARIS 02</td>\n",
       "    </tr>\n",
       "  </tbody>\n",
       "</table>\n",
       "<p>1111078 rows × 20 columns</p>\n",
       "</div>"
      ],
      "text/plain": [
       "         No disposition Date mutation Nature mutation  Valeur fonciere  \\\n",
       "3                     1    04/01/2021           Vente         204332.0   \n",
       "9                     2    11/01/2021           Vente            400.0   \n",
       "12                    1    07/01/2021           Vente           4780.0   \n",
       "13                    1    07/01/2021           Vente           4780.0   \n",
       "14                    2    04/01/2021           Vente         226700.0   \n",
       "...                 ...           ...             ...              ...   \n",
       "4649204               1    12/03/2021           Vente         383000.0   \n",
       "4649205               1    17/03/2021           Vente         260000.0   \n",
       "4649206               1    19/03/2021           Vente          38000.0   \n",
       "4649207               1    30/03/2021           Vente          38000.0   \n",
       "4649208               1    19/03/2021           Vente         690000.0   \n",
       "\n",
       "        Type de voie                  Voie  Code postal   Commune  \\\n",
       "3                ALL         DES ECUREUILS       1310.0   BUELLAS   \n",
       "9                NaN         PRE BROUILLET       1310.0   MONTCET   \n",
       "12               NaN              BERARDAN       1340.0  FOISSIAT   \n",
       "13               NaN         LES COMBETTES       1340.0  FOISSIAT   \n",
       "14               CHE  DU MOULIN DE POLAIZE       1310.0   POLLIAT   \n",
       "...              ...                   ...          ...       ...   \n",
       "4649204          RUE        DES TOURNELLES      75004.0  PARIS 04   \n",
       "4649205          RUE            SAINTE FOY      75002.0  PARIS 02   \n",
       "4649206          RUE       DES GUILLEMITES      75004.0  PARIS 04   \n",
       "4649207          RUE         DU PETIT MUSC      75004.0  PARIS 04   \n",
       "4649208          RUE          SAINT-JOSEPH      75002.0  PARIS 02   \n",
       "\n",
       "         Code commune Section  No plan 1er lot  Surface Carrez du 1er lot  \\\n",
       "3                  65       B     1325     NaN                        NaN   \n",
       "9                 259       C      459     NaN                        NaN   \n",
       "12                163      WA      155     NaN                        NaN   \n",
       "13                163      WB      277     NaN                        NaN   \n",
       "14                301      AA      289     NaN                        NaN   \n",
       "...               ...     ...      ...     ...                        ...   \n",
       "4649204           104      AO      117      14                      28.86   \n",
       "4649205           102      AP      128     304                        NaN   \n",
       "4649206           104      AH       68     121                        NaN   \n",
       "4649207           104      AP        5     399                        NaN   \n",
       "4649208           102      AI       34      29                        NaN   \n",
       "\n",
       "         Nombre de lots                                Type local  \\\n",
       "3                     0                                    Maison   \n",
       "9                     0                                       NaN   \n",
       "12                    0                                       NaN   \n",
       "13                    0                                       NaN   \n",
       "14                    0                                    Maison   \n",
       "...                 ...                                       ...   \n",
       "4649204               2                               Appartement   \n",
       "4649205               2                               Appartement   \n",
       "4649206               1                                Dépendance   \n",
       "4649207               1                                Dépendance   \n",
       "4649208               2  Local industriel. commercial ou assimilé   \n",
       "\n",
       "         Surface reelle bati  Nombre pieces principales Nature culture  \\\n",
       "3                       88.0                        4.0              S   \n",
       "9                        NaN                        NaN              P   \n",
       "12                       NaN                        NaN              P   \n",
       "13                       NaN                        NaN             BS   \n",
       "14                      96.0                        3.0            NaN   \n",
       "...                      ...                        ...            ...   \n",
       "4649204                 30.0                        2.0            NaN   \n",
       "4649205                 37.0                        2.0            NaN   \n",
       "4649206                  0.0                        0.0            NaN   \n",
       "4649207                  0.0                        0.0            NaN   \n",
       "4649208                 56.0                        0.0            NaN   \n",
       "\n",
       "         Surface terrain                                         col_concat  \n",
       "3                  866.0     04/01/2021ALL7.00276DES ECUREUILS1310.0BUELLAS  \n",
       "9                  460.0     11/01/2021nannanB085PRE BROUILLET1310.0MONTCET  \n",
       "12                7105.0         07/01/2021nannanB013BERARDAN1340.0FOISSIAT  \n",
       "13                4570.0    07/01/2021nannanB129LES COMBETTES1340.0FOISSIAT  \n",
       "14                   NaN  04/01/2021CHE173.00164DU MOULIN DE POLAIZE1310...  \n",
       "...                  ...                                                ...  \n",
       "4649204              NaN  12/03/2021RUE8.09382DES TOURNELLES75004.0PARIS 04  \n",
       "4649205              NaN      17/03/2021RUE8.08561SAINTE FOY75002.0PARIS 02  \n",
       "4649206              NaN  19/03/2021RUE6.04398DES GUILLEMITES75004.0PARI...  \n",
       "4649207              NaN  30/03/2021RUE30.07338DU PETIT MUSC75004.0PARIS 04  \n",
       "4649208              NaN    19/03/2021RUE3.08659SAINT-JOSEPH75002.0PARIS 02  \n",
       "\n",
       "[1111078 rows x 20 columns]"
      ]
     },
     "execution_count": 56,
     "metadata": {},
     "output_type": "execute_result"
    }
   ],
   "source": [
    "#on supprime les données avec des valeurs foncières inférieurs à 100\n",
    "#on enleve les biens qui ont été vendus pour des valeurs symboliques\n",
    "df_wo_NaN = df_wo_NaN[df_wo_NaN['Valeur fonciere'] >= 100]\n",
    "df_wo_NaN"
   ]
  },
  {
   "cell_type": "code",
   "execution_count": 57,
   "metadata": {},
   "outputs": [
    {
     "name": "stdout",
     "output_type": "stream",
     "text": [
      "Taille de notre dataframe sans les colonnes contenant que des NaN : (1111078, 20)\n"
     ]
    }
   ],
   "source": [
    "print(\"Taille de notre dataframe sans les colonnes contenant que des NaN :\", df_wo_NaN.shape)"
   ]
  },
  {
   "cell_type": "code",
   "execution_count": 58,
   "metadata": {},
   "outputs": [],
   "source": [
    "#Pour recupérer la datframe sur d'autress fichiers\n",
    "with open('dataframe.pkl', 'wb') as file:\n",
    "    pickle.dump(df_wo_NaN, file)"
   ]
  },
  {
   "attachments": {},
   "cell_type": "markdown",
   "metadata": {},
   "source": [
    "On veut retrouver les colonnes qui ont été supprimées"
   ]
  },
  {
   "cell_type": "code",
   "execution_count": 59,
   "metadata": {},
   "outputs": [
    {
     "name": "stdout",
     "output_type": "stream",
     "text": [
      "Les colonnes supprimées sont : ['Identifiant de document', 'Reference document', '1 Articles CGI', '2 Articles CGI', '3 Articles CGI', '4 Articles CGI', '5 Articles CGI', 'No voie', 'B/T/Q', 'Code voie', 'Code departement', 'Prefixe de section', 'No Volume', '2eme lot', 'Surface Carrez du 2eme lot', '3eme lot', 'Surface Carrez du 3eme lot', '4eme lot', 'Surface Carrez du 4eme lot', '5eme lot', 'Surface Carrez du 5eme lot', 'Code type local', 'Identifiant local', 'Nature culture speciale']\n"
     ]
    }
   ],
   "source": [
    "list(df.columns)\n",
    "\n",
    "colonnes_suppr = [col for col in df if col not in df_wo_NaN.columns]\n",
    "\n",
    "print(\"Les colonnes supprimées sont :\", colonnes_suppr)"
   ]
  },
  {
   "cell_type": "code",
   "execution_count": 60,
   "metadata": {},
   "outputs": [
    {
     "data": {
      "text/plain": [
       "array(['Vente', 'Vente terrain à bâtir',\n",
       "       \"Vente en l'état futur d'achèvement\", 'Echange', 'Adjudication',\n",
       "       'Expropriation'], dtype=object)"
      ]
     },
     "execution_count": 60,
     "metadata": {},
     "output_type": "execute_result"
    }
   ],
   "source": [
    "df_wo_NaN[\"Nature mutation\"].unique()"
   ]
  },
  {
   "attachments": {},
   "cell_type": "markdown",
   "metadata": {},
   "source": [
    "Nombre de ventes"
   ]
  },
  {
   "cell_type": "code",
   "execution_count": 61,
   "metadata": {},
   "outputs": [
    {
     "data": {
      "text/plain": [
       "Nature mutation\n",
       "Vente                                 1076794\n",
       "Vente en l'état futur d'achèvement      17300\n",
       "Echange                                  8429\n",
       "Vente terrain à bâtir                    6125\n",
       "Adjudication                             2366\n",
       "Expropriation                              64\n",
       "Name: count, dtype: int64"
      ]
     },
     "execution_count": 61,
     "metadata": {},
     "output_type": "execute_result"
    }
   ],
   "source": [
    "df_wo_NaN[\"Nature mutation\"].value_counts()"
   ]
  },
  {
   "attachments": {},
   "cell_type": "markdown",
   "metadata": {},
   "source": [
    "Evolution des ventes"
   ]
  },
  {
   "cell_type": "code",
   "execution_count": 62,
   "metadata": {},
   "outputs": [],
   "source": [
    "import matplotlib.pyplot as plt"
   ]
  },
  {
   "cell_type": "code",
   "execution_count": 63,
   "metadata": {},
   "outputs": [
    {
     "data": {
      "text/plain": [
       "3          04/01/2021\n",
       "9          11/01/2021\n",
       "12         07/01/2021\n",
       "13         07/01/2021\n",
       "14         04/01/2021\n",
       "              ...    \n",
       "4649204    12/03/2021\n",
       "4649205    17/03/2021\n",
       "4649206    19/03/2021\n",
       "4649207    30/03/2021\n",
       "4649208    19/03/2021\n",
       "Name: Date mutation, Length: 1111078, dtype: object"
      ]
     },
     "execution_count": 63,
     "metadata": {},
     "output_type": "execute_result"
    }
   ],
   "source": [
    "df_wo_NaN['Date mutation']"
   ]
  },
  {
   "cell_type": "code",
   "execution_count": 64,
   "metadata": {},
   "outputs": [
    {
     "name": "stderr",
     "output_type": "stream",
     "text": [
      "C:\\Users\\cemaurin\\AppData\\Local\\Temp\\ipykernel_16924\\2456999208.py:2: SettingWithCopyWarning:\n",
      "\n",
      "\n",
      "A value is trying to be set on a copy of a slice from a DataFrame.\n",
      "Try using .loc[row_indexer,col_indexer] = value instead\n",
      "\n",
      "See the caveats in the documentation: https://pandas.pydata.org/pandas-docs/stable/user_guide/indexing.html#returning-a-view-versus-a-copy\n",
      "\n",
      "C:\\Users\\cemaurin\\AppData\\Local\\Temp\\ipykernel_16924\\2456999208.py:5: SettingWithCopyWarning:\n",
      "\n",
      "\n",
      "A value is trying to be set on a copy of a slice from a DataFrame.\n",
      "Try using .loc[row_indexer,col_indexer] = value instead\n",
      "\n",
      "See the caveats in the documentation: https://pandas.pydata.org/pandas-docs/stable/user_guide/indexing.html#returning-a-view-versus-a-copy\n",
      "\n"
     ]
    },
    {
     "data": {
      "image/png": "[encoded data removed]",
      "text/plain": [
       "<Figure size 640x480 with 1 Axes>"
      ]
     },
     "metadata": {},
     "output_type": "display_data"
    }
   ],
   "source": [
    "# Convertissez la colonne 'Date' en type datetime\n",
    "df_wo_NaN['Date mutation'] = pd.to_datetime(df['Date mutation'], dayfirst=True)\n",
    "\n",
    "# Extrayez le mois de chaque date et créez une nouvelle colonne 'Mois'\n",
    "df_wo_NaN['Mois'] = df_wo_NaN['Date mutation'].dt.month\n",
    "\n",
    "# Groupez les ventes par mois et comptez le nombre de ventes dans chaque mois\n",
    "ventes_par_mois = df_wo_NaN.groupby('Mois')['Nature mutation'].count()\n",
    "\n",
    "# Créez un histogramme\n",
    "plt.bar(ventes_par_mois.index, ventes_par_mois.values)\n",
    "\n",
    "# Étiquetez les axes et le titre\n",
    "plt.xlabel('Mois')\n",
    "plt.ylabel('Nombre de ventes')\n",
    "plt.title('Histogramme des ventes par mois')\n",
    "\n",
    "# Affichez l'histogramme\n",
    "plt.show()\n"
   ]
  },
  {
   "cell_type": "code",
   "execution_count": 65,
   "metadata": {},
   "outputs": [
    {
     "data": {
      "text/plain": [
       "Index(['Mois', 'Nature mutation'], dtype='object')"
      ]
     },
     "execution_count": 65,
     "metadata": {},
     "output_type": "execute_result"
    }
   ],
   "source": [
    "# df_ventes_par_mois = pd.DataFrame(ventes_par_mois, index=False)\n",
    "df_ventes_par_mois = ventes_par_mois.to_frame().reset_index()\n",
    "df_ventes_par_mois.columns"
   ]
  },
  {
   "cell_type": "code",
   "execution_count": 74,
   "metadata": {},
   "outputs": [
    {
     "data": {
      "application/vnd.plotly.v1+json": {
       "config": {
        "plotlyServerURL": "https://plot.ly"
       },
       "data": [
        {
         "hovertemplate": "Mois=%{x}<br>Nature mutation=%{y}<extra></extra>",
         "legendgroup": "",
         "line": {
          "color": "#636efa",
          "dash": "solid"
         },
         "marker": {
          "symbol": "circle"
         },
         "mode": "lines",
         "name": "",
         "orientation": "v",
         "showlegend": false,
         "type": "scatter",
         "x": [
          1,
          2,
          3,
          4,
          5,
          6,
          7,
          8,
          9,
          10,
          11,
          12
         ],
         "xaxis": "x",
         "y": [
          85768,
          85043,
          99415,
          95944,
          88810,
          104060,
          111289,
          72580,
          96895,
          90171,
          77818,
          103285
         ],
         "yaxis": "y"
        }
       ],
       "layout": {
        "legend": {
         "tracegroupgap": 0
        },
        "template": {
         "data": {
          "bar": [
           {
            "error_x": {
             "color": "#2a3f5f"
            },
            "error_y": {
             "color": "#2a3f5f"
            },
            "marker": {
             "line": {
              "color": "#E5ECF6",
              "width": 0.5
             },
             "pattern": {
              "fillmode": "overlay",
              "size": 10,
              "solidity": 0.2
             }
            },
            "type": "bar"
           }
          ],
          "barpolar": [
           {
            "marker": {
             "line": {
              "color": "#E5ECF6",
              "width": 0.5
             },
             "pattern": {
              "fillmode": "overlay",
              "size": 10,
              "solidity": 0.2
             }
            },
            "type": "barpolar"
           }
          ],
          "carpet": [
           {
            "aaxis": {
             "endlinecolor": "#2a3f5f",
             "gridcolor": "white",
             "linecolor": "white",
             "minorgridcolor": "white",
             "startlinecolor": "#2a3f5f"
            },
            "baxis": {
             "endlinecolor": "#2a3f5f",
             "gridcolor": "white",
             "linecolor": "white",
             "minorgridcolor": "white",
             "startlinecolor": "#2a3f5f"
            },
            "type": "carpet"
           }
          ],
          "choropleth": [
           {
            "colorbar": {
             "outlinewidth": 0,
             "ticks": ""
            },
            "type": "choropleth"
           }
          ],
          "contour": [
           {
            "colorbar": {
             "outlinewidth": 0,
             "ticks": ""
            },
            "colorscale": [
             [
              0,
              "#0d0887"
             ],
             [
              0.1111111111111111,
              "#46039f"
             ],
             [
              0.2222222222222222,
              "#7201a8"
             ],
             [
              0.3333333333333333,
              "#9c179e"
             ],
             [
              0.4444444444444444,
              "#bd3786"
             ],
             [
              0.5555555555555556,
              "#d8576b"
             ],
             [
              0.6666666666666666,
              "#ed7953"
             ],
             [
              0.7777777777777778,
              "#fb9f3a"
             ],
             [
              0.8888888888888888,
              "#fdca26"
             ],
             [
              1,
              "#f0f921"
             ]
            ],
            "type": "contour"
           }
          ],
          "contourcarpet": [
           {
            "colorbar": {
             "outlinewidth": 0,
             "ticks": ""
            },
            "type": "contourcarpet"
           }
          ],
          "heatmap": [
           {
            "colorbar": {
             "outlinewidth": 0,
             "ticks": ""
            },
            "colorscale": [
             [
              0,
              "#0d0887"
             ],
             [
              0.1111111111111111,
              "#46039f"
             ],
             [
              0.2222222222222222,
              "#7201a8"
             ],
             [
              0.3333333333333333,
              "#9c179e"
             ],
             [
              0.4444444444444444,
              "#bd3786"
             ],
             [
              0.5555555555555556,
              "#d8576b"
             ],
             [
              0.6666666666666666,
              "#ed7953"
             ],
             [
              0.7777777777777778,
              "#fb9f3a"
             ],
             [
              0.8888888888888888,
              "#fdca26"
             ],
             [
              1,
              "#f0f921"
             ]
            ],
            "type": "heatmap"
           }
          ],
          "heatmapgl": [
           {
            "colorbar": {
             "outlinewidth": 0,
             "ticks": ""
            },
            "colorscale": [
             [
              0,
              "#0d0887"
             ],
             [
              0.1111111111111111,
              "#46039f"
             ],
             [
              0.2222222222222222,
              "#7201a8"
             ],
             [
              0.3333333333333333,
              "#9c179e"
             ],
             [
              0.4444444444444444,
              "#bd3786"
             ],
             [
              0.5555555555555556,
              "#d8576b"
             ],
             [
              0.6666666666666666,
              "#ed7953"
             ],
             [
              0.7777777777777778,
              "#fb9f3a"
             ],
             [
              0.8888888888888888,
              "#fdca26"
             ],
             [
              1,
              "#f0f921"
             ]
            ],
            "type": "heatmapgl"
           }
          ],
          "histogram": [
           {
            "marker": {
             "pattern": {
              "fillmode": "overlay",
              "size": 10,
              "solidity": 0.2
             }
            },
            "type": "histogram"
           }
          ],
          "histogram2d": [
           {
            "colorbar": {
             "outlinewidth": 0,
             "ticks": ""
            },
            "colorscale": [
             [
              0,
              "#0d0887"
             ],
             [
              0.1111111111111111,
              "#46039f"
             ],
             [
              0.2222222222222222,
              "#7201a8"
             ],
             [
              0.3333333333333333,
              "#9c179e"
             ],
             [
              0.4444444444444444,
              "#bd3786"
             ],
             [
              0.5555555555555556,
              "#d8576b"
             ],
             [
              0.6666666666666666,
              "#ed7953"
             ],
             [
              0.7777777777777778,
              "#fb9f3a"
             ],
             [
              0.8888888888888888,
              "#fdca26"
             ],
             [
              1,
              "#f0f921"
             ]
            ],
            "type": "histogram2d"
           }
          ],
          "histogram2dcontour": [
           {
            "colorbar": {
             "outlinewidth": 0,
             "ticks": ""
            },
            "colorscale": [
             [
              0,
              "#0d0887"
             ],
             [
              0.1111111111111111,
              "#46039f"
             ],
             [
              0.2222222222222222,
              "#7201a8"
             ],
             [
              0.3333333333333333,
              "#9c179e"
             ],
             [
              0.4444444444444444,
              "#bd3786"
             ],
             [
              0.5555555555555556,
              "#d8576b"
             ],
             [
              0.6666666666666666,
              "#ed7953"
             ],
             [
              0.7777777777777778,
              "#fb9f3a"
             ],
             [
              0.8888888888888888,
              "#fdca26"
             ],
             [
              1,
              "#f0f921"
             ]
            ],
            "type": "histogram2dcontour"
           }
          ],
          "mesh3d": [
           {
            "colorbar": {
             "outlinewidth": 0,
             "ticks": ""
            },
            "type": "mesh3d"
           }
          ],
          "parcoords": [
           {
            "line": {
             "colorbar": {
              "outlinewidth": 0,
              "ticks": ""
             }
            },
            "type": "parcoords"
           }
          ],
          "pie": [
           {
            "automargin": true,
            "type": "pie"
           }
          ],
          "scatter": [
           {
            "fillpattern": {
             "fillmode": "overlay",
             "size": 10,
             "solidity": 0.2
            },
            "type": "scatter"
           }
          ],
          "scatter3d": [
           {
            "line": {
             "colorbar": {
              "outlinewidth": 0,
              "ticks": ""
             }
            },
            "marker": {
             "colorbar": {
              "outlinewidth": 0,
              "ticks": ""
             }
            },
            "type": "scatter3d"
           }
          ],
          "scattercarpet": [
           {
            "marker": {
             "colorbar": {
              "outlinewidth": 0,
              "ticks": ""
             }
            },
            "type": "scattercarpet"
           }
          ],
          "scattergeo": [
           {
            "marker": {
             "colorbar": {
              "outlinewidth": 0,
              "ticks": ""
             }
            },
            "type": "scattergeo"
           }
          ],
          "scattergl": [
           {
            "marker": {
             "colorbar": {
              "outlinewidth": 0,
              "ticks": ""
             }
            },
            "type": "scattergl"
           }
          ],
          "scattermapbox": [
           {
            "marker": {
             "colorbar": {
              "outlinewidth": 0,
              "ticks": ""
             }
            },
            "type": "scattermapbox"
           }
          ],
          "scatterpolar": [
           {
            "marker": {
             "colorbar": {
              "outlinewidth": 0,
              "ticks": ""
             }
            },
            "type": "scatterpolar"
           }
          ],
          "scatterpolargl": [
           {
            "marker": {
             "colorbar": {
              "outlinewidth": 0,
              "ticks": ""
             }
            },
            "type": "scatterpolargl"
           }
          ],
          "scatterternary": [
           {
            "marker": {
             "colorbar": {
              "outlinewidth": 0,
              "ticks": ""
             }
            },
            "type": "scatterternary"
           }
          ],
          "surface": [
           {
            "colorbar": {
             "outlinewidth": 0,
             "ticks": ""
            },
            "colorscale": [
             [
              0,
              "#0d0887"
             ],
             [
              0.1111111111111111,
              "#46039f"
             ],
             [
              0.2222222222222222,
              "#7201a8"
             ],
             [
              0.3333333333333333,
              "#9c179e"
             ],
             [
              0.4444444444444444,
              "#bd3786"
             ],
             [
              0.5555555555555556,
              "#d8576b"
             ],
             [
              0.6666666666666666,
              "#ed7953"
             ],
             [
              0.7777777777777778,
              "#fb9f3a"
             ],
             [
              0.8888888888888888,
              "#fdca26"
             ],
             [
              1,
              "#f0f921"
             ]
            ],
            "type": "surface"
           }
          ],
          "table": [
           {
            "cells": {
             "fill": {
              "color": "#EBF0F8"
             },
             "line": {
              "color": "white"
             }
            },
            "header": {
             "fill": {
              "color": "#C8D4E3"
             },
             "line": {
              "color": "white"
             }
            },
            "type": "table"
           }
          ]
         },
         "layout": {
          "annotationdefaults": {
           "arrowcolor": "#2a3f5f",
           "arrowhead": 0,
           "arrowwidth": 1
          },
          "autotypenumbers": "strict",
          "coloraxis": {
           "colorbar": {
            "outlinewidth": 0,
            "ticks": ""
           }
          },
          "colorscale": {
           "diverging": [
            [
             0,
             "#8e0152"
            ],
            [
             0.1,
             "#c51b7d"
            ],
            [
             0.2,
             "#de77ae"
            ],
            [
             0.3,
             "#f1b6da"
            ],
            [
             0.4,
             "#fde0ef"
            ],
            [
             0.5,
             "#f7f7f7"
            ],
            [
             0.6,
             "#e6f5d0"
            ],
            [
             0.7,
             "#b8e186"
            ],
            [
             0.8,
             "#7fbc41"
            ],
            [
             0.9,
             "#4d9221"
            ],
            [
             1,
             "#276419"
            ]
           ],
           "sequential": [
            [
             0,
             "#0d0887"
            ],
            [
             0.1111111111111111,
             "#46039f"
            ],
            [
             0.2222222222222222,
             "#7201a8"
            ],
            [
             0.3333333333333333,
             "#9c179e"
            ],
            [
             0.4444444444444444,
             "#bd3786"
            ],
            [
             0.5555555555555556,
             "#d8576b"
            ],
            [
             0.6666666666666666,
             "#ed7953"
            ],
            [
             0.7777777777777778,
             "#fb9f3a"
            ],
            [
             0.8888888888888888,
             "#fdca26"
            ],
            [
             1,
             "#f0f921"
            ]
           ],
           "sequentialminus": [
            [
             0,
             "#0d0887"
            ],
            [
             0.1111111111111111,
             "#46039f"
            ],
            [
             0.2222222222222222,
             "#7201a8"
            ],
            [
             0.3333333333333333,
             "#9c179e"
            ],
            [
             0.4444444444444444,
             "#bd3786"
            ],
            [
             0.5555555555555556,
             "#d8576b"
            ],
            [
             0.6666666666666666,
             "#ed7953"
            ],
            [
             0.7777777777777778,
             "#fb9f3a"
            ],
            [
             0.8888888888888888,
             "#fdca26"
            ],
            [
             1,
             "#f0f921"
            ]
           ]
          },
          "colorway": [
           "#636efa",
           "#EF553B",
           "#00cc96",
           "#ab63fa",
           "#FFA15A",
           "#19d3f3",
           "#FF6692",
           "#B6E880",
           "#FF97FF",
           "#FECB52"
          ],
          "font": {
           "color": "#2a3f5f"
          },
          "geo": {
           "bgcolor": "white",
           "lakecolor": "white",
           "landcolor": "#E5ECF6",
           "showlakes": true,
           "showland": true,
           "subunitcolor": "white"
          },
          "hoverlabel": {
           "align": "left"
          },
          "hovermode": "closest",
          "mapbox": {
           "style": "light"
          },
          "paper_bgcolor": "white",
          "plot_bgcolor": "#E5ECF6",
          "polar": {
           "angularaxis": {
            "gridcolor": "white",
            "linecolor": "white",
            "ticks": ""
           },
           "bgcolor": "#E5ECF6",
           "radialaxis": {
            "gridcolor": "white",
            "linecolor": "white",
            "ticks": ""
           }
          },
          "scene": {
           "xaxis": {
            "backgroundcolor": "#E5ECF6",
            "gridcolor": "white",
            "gridwidth": 2,
            "linecolor": "white",
            "showbackground": true,
            "ticks": "",
            "zerolinecolor": "white"
           },
           "yaxis": {
            "backgroundcolor": "#E5ECF6",
            "gridcolor": "white",
            "gridwidth": 2,
            "linecolor": "white",
            "showbackground": true,
            "ticks": "",
            "zerolinecolor": "white"
           },
           "zaxis": {
            "backgroundcolor": "#E5ECF6",
            "gridcolor": "white",
            "gridwidth": 2,
            "linecolor": "white",
            "showbackground": true,
            "ticks": "",
            "zerolinecolor": "white"
           }
          },
          "shapedefaults": {
           "line": {
            "color": "#2a3f5f"
           }
          },
          "ternary": {
           "aaxis": {
            "gridcolor": "white",
            "linecolor": "white",
            "ticks": ""
           },
           "baxis": {
            "gridcolor": "white",
            "linecolor": "white",
            "ticks": ""
           },
           "bgcolor": "#E5ECF6",
           "caxis": {
            "gridcolor": "white",
            "linecolor": "white",
            "ticks": ""
           }
          },
          "title": {
           "x": 0.05
          },
          "xaxis": {
           "automargin": true,
           "gridcolor": "white",
           "linecolor": "white",
           "ticks": "",
           "title": {
            "standoff": 15
           },
           "zerolinecolor": "white",
           "zerolinewidth": 2
          },
          "yaxis": {
           "automargin": true,
           "gridcolor": "white",
           "linecolor": "white",
           "ticks": "",
           "title": {
            "standoff": 15
           },
           "zerolinecolor": "white",
           "zerolinewidth": 2
          }
         }
        },
        "title": {
         "text": "Ventes par mois"
        },
        "xaxis": {
         "anchor": "y",
         "domain": [
          0,
          1
         ],
         "title": {
          "text": "Mois"
         }
        },
        "yaxis": {
         "anchor": "x",
         "domain": [
          0,
          1
         ],
         "title": {
          "text": "Nature mutation"
         }
        }
       }
      }
     },
     "metadata": {},
     "output_type": "display_data"
    }
   ],
   "source": [
    "import plotly.express as px\n",
    "\n",
    "fig = px.line(df_ventes_par_mois, x=\"Mois\", y=\"Nature mutation\", title='Ventes par mois')\n",
    "fig.show()"
   ]
  },
  {
   "cell_type": "code",
   "execution_count": 67,
   "metadata": {},
   "outputs": [
    {
     "data": {
      "text/html": [
       "<div>\n",
       "<style scoped>\n",
       "    .dataframe tbody tr th:only-of-type {\n",
       "        vertical-align: middle;\n",
       "    }\n",
       "\n",
       "    .dataframe tbody tr th {\n",
       "        vertical-align: top;\n",
       "    }\n",
       "\n",
       "    .dataframe thead th {\n",
       "        text-align: right;\n",
       "    }\n",
       "</style>\n",
       "<table border=\"1\" class=\"dataframe\">\n",
       "  <thead>\n",
       "    <tr style=\"text-align: right;\">\n",
       "      <th></th>\n",
       "      <th>Commune</th>\n",
       "      <th>Valeur fonciere</th>\n",
       "    </tr>\n",
       "  </thead>\n",
       "  <tbody>\n",
       "    <tr>\n",
       "      <th>3</th>\n",
       "      <td>BUELLAS</td>\n",
       "      <td>204332.0</td>\n",
       "    </tr>\n",
       "    <tr>\n",
       "      <th>9</th>\n",
       "      <td>MONTCET</td>\n",
       "      <td>400.0</td>\n",
       "    </tr>\n",
       "    <tr>\n",
       "      <th>12</th>\n",
       "      <td>FOISSIAT</td>\n",
       "      <td>4780.0</td>\n",
       "    </tr>\n",
       "    <tr>\n",
       "      <th>13</th>\n",
       "      <td>FOISSIAT</td>\n",
       "      <td>4780.0</td>\n",
       "    </tr>\n",
       "    <tr>\n",
       "      <th>14</th>\n",
       "      <td>POLLIAT</td>\n",
       "      <td>226700.0</td>\n",
       "    </tr>\n",
       "    <tr>\n",
       "      <th>...</th>\n",
       "      <td>...</td>\n",
       "      <td>...</td>\n",
       "    </tr>\n",
       "    <tr>\n",
       "      <th>4055</th>\n",
       "      <td>BAGE-DOMMARTIN</td>\n",
       "      <td>56500.0</td>\n",
       "    </tr>\n",
       "    <tr>\n",
       "      <th>4073</th>\n",
       "      <td>BOURG-EN-BRESSE</td>\n",
       "      <td>65000.0</td>\n",
       "    </tr>\n",
       "    <tr>\n",
       "      <th>4075</th>\n",
       "      <td>CONFRANCON</td>\n",
       "      <td>1962.0</td>\n",
       "    </tr>\n",
       "    <tr>\n",
       "      <th>4077</th>\n",
       "      <td>BOURG-EN-BRESSE</td>\n",
       "      <td>9500.0</td>\n",
       "    </tr>\n",
       "    <tr>\n",
       "      <th>4089</th>\n",
       "      <td>LESCHEROUX</td>\n",
       "      <td>185000.0</td>\n",
       "    </tr>\n",
       "  </tbody>\n",
       "</table>\n",
       "<p>1000 rows × 2 columns</p>\n",
       "</div>"
      ],
      "text/plain": [
       "              Commune  Valeur fonciere\n",
       "3             BUELLAS         204332.0\n",
       "9             MONTCET            400.0\n",
       "12           FOISSIAT           4780.0\n",
       "13           FOISSIAT           4780.0\n",
       "14            POLLIAT         226700.0\n",
       "...               ...              ...\n",
       "4055   BAGE-DOMMARTIN          56500.0\n",
       "4073  BOURG-EN-BRESSE          65000.0\n",
       "4075       CONFRANCON           1962.0\n",
       "4077  BOURG-EN-BRESSE           9500.0\n",
       "4089       LESCHEROUX         185000.0\n",
       "\n",
       "[1000 rows x 2 columns]"
      ]
     },
     "execution_count": 67,
     "metadata": {},
     "output_type": "execute_result"
    }
   ],
   "source": [
    "df_scatter = df_wo_NaN.head(1000)[['Commune', 'Valeur fonciere']]\n",
    "df_scatter"
   ]
  },
  {
   "cell_type": "code",
   "execution_count": 68,
   "metadata": {},
   "outputs": [
    {
     "data": {
      "application/vnd.plotly.v1+json": {
       "config": {
        "plotlyServerURL": "https://plot.ly"
       },
       "data": [
        {
         "hovertemplate": "Commune=%{x}<br>Valeur fonciere=%{y}<extra></extra>",
         "legendgroup": "",
         "marker": {
          "color": "#636efa",
          "symbol": "circle"
         },
         "mode": "markers",
         "name": "",
         "orientation": "v",
         "showlegend": false,
         "type": "scatter",
         "x": [
          "BUELLAS",
          "MONTCET",
          "FOISSIAT",
          "FOISSIAT",
          "POLLIAT",
          "PERONNAS",
          "FOISSIAT",
          "JASSERON",
          "FOISSIAT",
          "DRUILLAT",
          "FEILLENS",
          "FEILLENS",
          "DOMPIERRE-SUR-VEYLE",
          "DOMPIERRE-SUR-VEYLE",
          "DOMPIERRE-SUR-VEYLE",
          "DOMPIERRE-SUR-VEYLE",
          "DOMPIERRE-SUR-VEYLE",
          "SAINT-ETIENNE-DU-BOIS",
          "BOURG-EN-BRESSE",
          "VIRIAT",
          "MONTRACOL",
          "PIRAJOUX",
          "MARBOZ",
          "COLIGNY",
          "SAINT-ETIENNE-DU-BOIS",
          "JASSERON",
          "BOURG-EN-BRESSE",
          "BOURG-EN-BRESSE",
          "BRESSE VALLONS",
          "REVONNAS",
          "REVONNAS",
          "FOISSIAT",
          "BEY",
          "CHAVANNES-SUR-REYSSOUZE",
          "CHAVANNES-SUR-REYSSOUZE",
          "CROTTET",
          "CROTTET",
          "SAINT-TRIVIER-DE-COURTES",
          "PONT-D AIN",
          "PONT-D AIN",
          "LESCHEROUX",
          "LESCHEROUX",
          "FOISSIAT",
          "FOISSIAT",
          "FOISSIAT",
          "BOURG-EN-BRESSE",
          "BOURG-EN-BRESSE",
          "MEILLONNAS",
          "VAL-REVERMONT",
          "PRIAY",
          "CURCIAT-DONGALON",
          "VERNOUX",
          "VERNOUX",
          "VERNOUX",
          "CHAVANNES-SUR-REYSSOUZE",
          "CURCIAT-DONGALON",
          "CURCIAT-DONGALON",
          "CHAVANNES-SUR-REYSSOUZE",
          "CHAVANNES-SUR-REYSSOUZE",
          "CHAVANNES-SUR-REYSSOUZE",
          "CHAVANNES-SUR-REYSSOUZE",
          "CHAVANNES-SUR-REYSSOUZE",
          "COLIGNY",
          "COLIGNY",
          "PERONNAS",
          "PERONNAS",
          "PERONNAS",
          "JAYAT",
          "MONTREVEL-EN-BRESSE",
          "VIRIAT",
          "SAINT-CYR-SUR-MENTHON",
          "CHAVANNES-SUR-REYSSOUZE",
          "BOHAS-MEYRIAT-RIGNAT",
          "BOHAS-MEYRIAT-RIGNAT",
          "PERREX",
          "OZAN",
          "OZAN",
          "SAINT-MARTIN-DU-MONT",
          "SAINT-LAURENT-SUR-SAONE",
          "LESCHEROUX",
          "LESCHEROUX",
          "SAINT-TRIVIER-DE-COURTES",
          "GRIEGES",
          "BOURG-EN-BRESSE",
          "BOURG-EN-BRESSE",
          "MARBOZ",
          "MANTENAY-MONTLIN",
          "MANTENAY-MONTLIN",
          "BAGE-DOMMARTIN",
          "BAGE-DOMMARTIN",
          "BOURG-EN-BRESSE",
          "BOURG-EN-BRESSE",
          "SAINT-CYR-SUR-MENTHON",
          "SAINT-DIDIER-D AUSSIAT",
          "SAINT-SULPICE",
          "SAINT-SULPICE",
          "VAL-REVERMONT",
          "SAINT-DENIS-LES-BOURG",
          "BENY",
          "CRUZILLES-LES-MEPILLAT",
          "CRUZILLES-LES-MEPILLAT",
          "BOISSEY",
          "PONT-DE-VAUX",
          "SAINT-JEAN-SUR-REYSSOUZE",
          "ARBIGNY",
          "CORMORANCHE-SUR-SAONE",
          "SAINT-DIDIER-D AUSSIAT",
          "SAINT-DIDIER-D AUSSIAT",
          "VAL-REVERMONT",
          "BOURG-EN-BRESSE",
          "CROTTET",
          "COLIGNY",
          "NIVIGNE ET SURAN",
          "NIVIGNE ET SURAN",
          "NIVIGNE ET SURAN",
          "SAINT-REMY",
          "BOURG-EN-BRESSE",
          "TOSSIAT",
          "PERONNAS",
          "BOURG-EN-BRESSE",
          "BOURG-EN-BRESSE",
          "BOURG-EN-BRESSE",
          "BOURG-EN-BRESSE",
          "BOURG-EN-BRESSE",
          "VAL-REVERMONT",
          "VAL-REVERMONT",
          "VAL-REVERMONT",
          "VAL-REVERMONT",
          "VAL-REVERMONT",
          "VAL-REVERMONT",
          "VAL-REVERMONT",
          "VAL-REVERMONT",
          "VAL-REVERMONT",
          "VAL-REVERMONT",
          "VAL-REVERMONT",
          "VAL-REVERMONT",
          "VAL-REVERMONT",
          "VAL-REVERMONT",
          "SAINT-ANDRE-DE-BAGE",
          "VIRIAT",
          "MANZIAT",
          "BOURG-EN-BRESSE",
          "DROM",
          "DROM",
          "PERONNAS",
          "VAL-REVERMONT",
          "VAL-REVERMONT",
          "VAL-REVERMONT",
          "VAL-REVERMONT",
          "VIRIAT",
          "SAINT-GENIS-SUR-MENTHON",
          "SAINT-GENIS-SUR-MENTHON",
          "VAL-REVERMONT",
          "VIRIAT",
          "PONT-D AIN",
          "PONT-D AIN",
          "SAINT-DIDIER-D AUSSIAT",
          "SAINT-DIDIER-D AUSSIAT",
          "VIRIAT",
          "BRESSE VALLONS",
          "LENT",
          "PONT-DE-VEYLE",
          "PONT-DE-VEYLE",
          "SAINT-TRIVIER-DE-COURTES",
          "SAINT-JEAN-SUR-REYSSOUZE",
          "BAGE-DOMMARTIN",
          "BAGE-DOMMARTIN",
          "FEILLENS",
          "FEILLENS",
          "BOURG-EN-BRESSE",
          "FOISSIAT",
          "FOISSIAT",
          "MANTENAY-MONTLIN",
          "MONTREVEL-EN-BRESSE",
          "PONT-DE-VAUX",
          "PRIAY",
          "SAINT-DENIS-LES-BOURG",
          "BRESSE VALLONS",
          "SAINT-JEAN-SUR-REYSSOUZE",
          "ATTIGNAT",
          "FOISSIAT",
          "CEYZERIAT",
          "CRUZILLES-LES-MEPILLAT",
          "JOURNANS",
          "DROM",
          "SAINT-JEAN-SUR-REYSSOUZE",
          "JASSERON",
          "SALAVRE",
          "SERVIGNAT",
          "SERVIGNAT",
          "BAGE-DOMMARTIN",
          "VIRIAT",
          "VIRIAT",
          "BOURG-EN-BRESSE",
          "BOURG-EN-BRESSE",
          "BOURG-EN-BRESSE",
          "JAYAT",
          "JAYAT",
          "JAYAT",
          "REYSSOUZE",
          "CONFRANCON",
          "PERONNAS",
          "PERONNAS",
          "BOURG-EN-BRESSE",
          "SAINT-DENIS-LES-BOURG",
          "SAINT-DENIS-LES-BOURG",
          "BOURG-EN-BRESSE",
          "COURMANGOUX",
          "FOISSIAT",
          "MARBOZ",
          "LENT",
          "REPLONGES",
          "CORMORANCHE-SUR-SAONE",
          "BOURG-EN-BRESSE",
          "MONTREVEL-EN-BRESSE",
          "BOURG-EN-BRESSE",
          "BOURG-EN-BRESSE",
          "VIRIAT",
          "SAINT-BENIGNE",
          "CEYZERIAT",
          "CEYZERIAT",
          "MANZIAT",
          "ATTIGNAT",
          "CONFRANCON",
          "CONFRANCON",
          "VAL-REVERMONT",
          "SAINT-JEAN-SUR-REYSSOUZE",
          "SERMOYER",
          "SERMOYER",
          "BOURG-EN-BRESSE",
          "BOURG-EN-BRESSE",
          "CORVEISSIAT",
          "CORVEISSIAT",
          "BOURG-EN-BRESSE",
          "POLLIAT",
          "CORMOZ",
          "SAINT-LAURENT-SUR-SAONE",
          "BOURG-EN-BRESSE",
          "SAINT-JUST",
          "BAGE-DOMMARTIN",
          "BOURG-EN-BRESSE",
          "JASSERON",
          "SAINT-TRIVIER-DE-COURTES",
          "SAINT-TRIVIER-DE-COURTES",
          "SAINT-TRIVIER-DE-COURTES",
          "SAINT-TRIVIER-DE-COURTES",
          "SAINT-TRIVIER-DE-COURTES",
          "BAGE-DOMMARTIN",
          "BAGE-DOMMARTIN",
          "SAINT-ANDRE-SUR-VIEUX-JONC",
          "ATTIGNAT",
          "MONTCET",
          "MONTCET",
          "MONTCET",
          "MONTCET",
          "BRESSE VALLONS",
          "CURTAFOND",
          "SAINT-MARTIN-LE-CHATEL",
          "VILLEMOTIER",
          "SAINT-MARTIN-DU-MONT",
          "SAINT-MARTIN-DU-MONT",
          "SAINT-MARTIN-DU-MONT",
          "SAINT-ETIENNE-DU-BOIS",
          "PONT-DE-VAUX",
          "VIRIAT",
          "VAL-REVERMONT",
          "VIRIAT",
          "VIRIAT",
          "VIRIAT",
          "BAGE-DOMMARTIN",
          "SAINT-DENIS-LES-BOURG",
          "SAINT-DENIS-LES-BOURG",
          "SAINT-DENIS-LES-BOURG",
          "SAINT-LAURENT-SUR-SAONE",
          "BOURG-EN-BRESSE",
          "VAL-REVERMONT",
          "VIRIAT",
          "REVONNAS",
          "BOURG-EN-BRESSE",
          "BOURG-EN-BRESSE",
          "REVONNAS",
          "SAINT-CYR-SUR-MENTHON",
          "CORMOZ",
          "CORMOZ",
          "NIVIGNE ET SURAN",
          "BOURG-EN-BRESSE",
          "MALAFRETAZ",
          "JAYAT",
          "HAUTECOURT-ROMANECHE",
          "HAUTECOURT-ROMANECHE",
          "JOURNANS",
          "JOURNANS",
          "SAINT-DENIS-LES-BOURG",
          "BRESSE VALLONS",
          "SAINT-ANDRE-DE-BAGE",
          "SAINT-ANDRE-DE-BAGE",
          "PONT-DE-VAUX",
          "SAINT-CYR-SUR-MENTHON",
          "SAINT-CYR-SUR-MENTHON",
          "BOURG-EN-BRESSE",
          "ST ETIENNE-SUR-REYSSOUZE",
          "ST ETIENNE-SUR-REYSSOUZE",
          "FEILLENS",
          "FEILLENS",
          "POLLIAT",
          "POLLIAT",
          "SAINT-GENIS-SUR-MENTHON",
          "SAINT-GENIS-SUR-MENTHON",
          "PERREX",
          "REPLONGES",
          "SAINT-LAURENT-SUR-SAONE",
          "BOURG-EN-BRESSE",
          "BOHAS-MEYRIAT-RIGNAT",
          "BOHAS-MEYRIAT-RIGNAT",
          "DRUILLAT",
          "DRUILLAT",
          "MONTCET",
          "MONTCET",
          "PONT-DE-VEYLE",
          "BOURG-EN-BRESSE",
          "BOHAS-MEYRIAT-RIGNAT",
          "SAINT-CYR-SUR-MENTHON",
          "HAUTECOURT-ROMANECHE",
          "BOURG-EN-BRESSE",
          "BOURG-EN-BRESSE",
          "VARAMBON",
          "CONFRANCON",
          "VIRIAT",
          "CORMOZ",
          "PONT-D AIN",
          "PONT-D AIN",
          "CIZE",
          "PERONNAS",
          "FOISSIAT",
          "FOISSIAT",
          "BOURG-EN-BRESSE",
          "TOSSIAT",
          "VAL-REVERMONT",
          "VAL-REVERMONT",
          "NIVIGNE ET SURAN",
          "NIVIGNE ET SURAN",
          "VAL-REVERMONT",
          "VAL-REVERMONT",
          "VAL-REVERMONT",
          "VAL-REVERMONT",
          "VAL-REVERMONT",
          "VAL-REVERMONT",
          "VAL-REVERMONT",
          "VAL-REVERMONT",
          "VAL-REVERMONT",
          "VAL-REVERMONT",
          "VAL-REVERMONT",
          "VAL-REVERMONT",
          "VAL-REVERMONT",
          "VAL-REVERMONT",
          "DROM",
          "DROM",
          "CORMORANCHE-SUR-SAONE",
          "CORMORANCHE-SUR-SAONE",
          "CERTINES",
          "PONT-D AIN",
          "BOURG-EN-BRESSE",
          "SAINT-ANDRE-DE-BAGE",
          "SERVAS",
          "BOURG-EN-BRESSE",
          "VIRIAT",
          "SAINT-GENIS-SUR-MENTHON",
          "CROTTET",
          "CORMOZ",
          "BENY",
          "CROTTET",
          "SAINT-DIDIER-D AUSSIAT",
          "BOURG-EN-BRESSE",
          "LESCHEROUX",
          "CORMORANCHE-SUR-SAONE",
          "CROTTET",
          "JASSERON",
          "BOURG-EN-BRESSE",
          "PERONNAS",
          "JASSERON",
          "BOURG-EN-BRESSE",
          "VESCOURS",
          "BAGE-DOMMARTIN",
          "BAGE-LE-CHATEL",
          "NIVIGNE ET SURAN",
          "NIVIGNE ET SURAN",
          "MEILLONNAS",
          "PERONNAS",
          "MARSONNAS",
          "DROM",
          "BOURG-EN-BRESSE",
          "COLIGNY",
          "BOZ",
          "COLIGNY",
          "CORMOZ",
          "HAUTECOURT-ROMANECHE",
          "REYSSOUZE",
          "BENY",
          "CHEVROUX",
          "NIVIGNE ET SURAN",
          "FOISSIAT",
          "SERMOYER",
          "VESCOURS",
          "SAINT-MARTIN-DU-MONT",
          "PRIAY",
          "PRIAY",
          "SAINT-JUST",
          "COURMANGOUX",
          "PIRAJOUX",
          "SAINT-ETIENNE-DU-BOIS",
          "SAINT-ETIENNE-DU-BOIS",
          "CONFRANCON",
          "HAUTECOURT-ROMANECHE",
          "HAUTECOURT-ROMANECHE",
          "VIRIAT",
          "VIRIAT",
          "BRESSE VALLONS",
          "BOURG-EN-BRESSE",
          "PONT-DE-VEYLE",
          "BEY",
          "COURMANGOUX",
          "COURMANGOUX",
          "COURMANGOUX",
          "COURMANGOUX",
          "COURMANGOUX",
          "VERJON",
          "VERJON",
          "VERJON",
          "BOURG-EN-BRESSE",
          "VAL-REVERMONT",
          "PRIAY",
          "SAINT-DENIS-LES-BOURG",
          "SERVAS",
          "PERREX",
          "PONT-DE-VEYLE",
          "PONT-DE-VEYLE",
          "NEUVILLE-SUR-AIN",
          "NEUVILLE-SUR-AIN",
          "NEUVILLE-SUR-AIN",
          "NEUVILLE-SUR-AIN",
          "NEUVILLE-SUR-AIN",
          "NEUVILLE-SUR-AIN",
          "NEUVILLE-SUR-AIN",
          "NEUVILLE-SUR-AIN",
          "NEUVILLE-SUR-AIN",
          "NEUVILLE-SUR-AIN",
          "NEUVILLE-SUR-AIN",
          "NEUVILLE-SUR-AIN",
          "NEUVILLE-SUR-AIN",
          "NEUVILLE-SUR-AIN",
          "NEUVILLE-SUR-AIN",
          "NEUVILLE-SUR-AIN",
          "NEUVILLE-SUR-AIN",
          "NEUVILLE-SUR-AIN",
          "NEUVILLE-SUR-AIN",
          "NEUVILLE-SUR-AIN",
          "NEUVILLE-SUR-AIN",
          "NEUVILLE-SUR-AIN",
          "NEUVILLE-SUR-AIN",
          "REYSSOUZE",
          "BOURG-EN-BRESSE",
          "LESCHEROUX",
          "VAL-REVERMONT",
          "ST ETIENNE-SUR-REYSSOUZE",
          "SAINT-JEAN-SUR-VEYLE",
          "GRIEGES",
          "SAINT-MARTIN-DU-MONT",
          "LENT",
          "PERONNAS",
          "CEYZERIAT",
          "SAINT-ANDRE-SUR-VIEUX-JONC",
          "BOURG-EN-BRESSE",
          "BOURG-EN-BRESSE",
          "MONTRACOL",
          "BAGE-DOMMARTIN",
          "SAINT-JULIEN-SUR-REYSSOUZE",
          "FOISSIAT",
          "LESCHEROUX",
          "MARBOZ",
          "BOURG-EN-BRESSE",
          "FOISSIAT",
          "LESCHEROUX",
          "SAINT-TRIVIER-DE-COURTES",
          "VAL-REVERMONT",
          "BOURG-EN-BRESSE",
          "BOURG-EN-BRESSE",
          "BOURG-EN-BRESSE",
          "GRIEGES",
          "GRIEGES",
          "CHEVROUX",
          "BOURG-EN-BRESSE",
          "SAINT-DIDIER-D AUSSIAT",
          "SAINT-DIDIER-D AUSSIAT",
          "OZAN",
          "OZAN",
          "PRIAY",
          "SAINT-REMY",
          "MONTRACOL",
          "BOURG-EN-BRESSE",
          "SAINT-DIDIER-D AUSSIAT",
          "BAGE-DOMMARTIN",
          "BAGE-DOMMARTIN",
          "BAGE-DOMMARTIN",
          "MONTREVEL-EN-BRESSE",
          "GRIEGES",
          "REYSSOUZE",
          "SAINT-JUST",
          "PERONNAS",
          "NEUVILLE-SUR-AIN",
          "SAINT-LAURENT-SUR-SAONE",
          "BOURG-EN-BRESSE",
          "BOURG-EN-BRESSE",
          "JASSERON",
          "COURMANGOUX",
          "SAINT-NIZIER-LE-BOUCHOUX",
          "MONTREVEL-EN-BRESSE",
          "PONT-DE-VEYLE",
          "PONT-DE-VEYLE",
          "VIRIAT",
          "BOURG-EN-BRESSE",
          "VIRIAT",
          "GRIEGES",
          "GRIEGES",
          "VIRIAT",
          "SAINT-BENIGNE",
          "JASSERON",
          "CROTTET",
          "CURTAFOND",
          "BOURG-EN-BRESSE",
          "BOURG-EN-BRESSE",
          "VIRIAT",
          "SAINT-ANDRE-SUR-VIEUX-JONC",
          "MONTAGNAT",
          "CIZE",
          "CIZE",
          "SAINT-CYR-SUR-MENTHON",
          "ATTIGNAT",
          "REPLONGES",
          "MARBOZ",
          "SAINT-TRIVIER-DE-COURTES",
          "VERNOUX",
          "BOURG-EN-BRESSE",
          "BOURG-EN-BRESSE",
          "BOURG-EN-BRESSE",
          "BUELLAS",
          "PERONNAS",
          "VIRIAT",
          "BOURG-EN-BRESSE",
          "SAINT-MARTIN-DU-MONT",
          "VIRIAT",
          "HAUTECOURT-ROMANECHE",
          "BOURG-EN-BRESSE",
          "CHAVANNES-SUR-REYSSOUZE",
          "CHAVANNES-SUR-REYSSOUZE",
          "SAINT-JEAN-SUR-REYSSOUZE",
          "SAINT-JEAN-SUR-REYSSOUZE",
          "LESCHEROUX",
          "SAINT-JEAN-SUR-REYSSOUZE",
          "CHAVANNES-SUR-REYSSOUZE",
          "BOZ",
          "BOZ",
          "CHEVROUX",
          "CHEVROUX",
          "SAINT-CYR-SUR-MENTHON",
          "CRUZILLES-LES-MEPILLAT",
          "GRAND-CORENT",
          "VAL-REVERMONT",
          "MARBOZ",
          "REYSSOUZE",
          "MONTREVEL-EN-BRESSE",
          "SAINT-SULPICE",
          "CEYZERIAT",
          "OZAN",
          "GRIEGES",
          "GRIEGES",
          "CEYZERIAT",
          "CEYZERIAT",
          "BOISSEY",
          "BOISSEY",
          "MANZIAT",
          "FEILLENS",
          "BRESSE VALLONS",
          "FOISSIAT",
          "MARBOZ",
          "MARBOZ",
          "MARBOZ",
          "MARBOZ",
          "MARBOZ",
          "MARBOZ",
          "MARBOZ",
          "MARBOZ",
          "CURCIAT-DONGALON",
          "DOMPIERRE-SUR-VEYLE",
          "VIRIAT",
          "BOURG-EN-BRESSE",
          "CHAVANNES-SUR-REYSSOUZE",
          "CHAVANNES-SUR-REYSSOUZE",
          "MANTENAY-MONTLIN",
          "SAINT-JEAN-SUR-REYSSOUZE",
          "CHEVROUX",
          "CHEVROUX",
          "BOURG-EN-BRESSE",
          "POLLIAT",
          "BOURG-EN-BRESSE",
          "BOURG-EN-BRESSE",
          "BOURG-EN-BRESSE",
          "POLLIAT",
          "ST ETIENNE-SUR-REYSSOUZE",
          "CERTINES",
          "CERTINES",
          "SAINT-NIZIER-LE-BOUCHOUX",
          "DOMPIERRE-SUR-VEYLE",
          "DOMPIERRE-SUR-VEYLE",
          "FOISSIAT",
          "MARSONNAS",
          "MARSONNAS",
          "POLLIAT",
          "CEYZERIAT",
          "CEYZERIAT",
          "GRIEGES",
          "SAINT-BENIGNE",
          "BOURG-EN-BRESSE",
          "CEYZERIAT",
          "CEYZERIAT",
          "GRIEGES",
          "BRESSE VALLONS",
          "JOURNANS",
          "BOURG-EN-BRESSE",
          "MANZIAT",
          "FEILLENS",
          "BAGE-DOMMARTIN",
          "BAGE-DOMMARTIN",
          "LAIZ",
          "REPLONGES",
          "SAINT-CYR-SUR-MENTHON",
          "PERREX",
          "DRUILLAT",
          "DRUILLAT",
          "CORVEISSIAT",
          "PERONNAS",
          "LENT",
          "FEILLENS",
          "REPLONGES",
          "BEREZIAT",
          "BEREZIAT",
          "GRIEGES",
          "DOMPIERRE-SUR-VEYLE",
          "DOMPIERRE-SUR-VEYLE",
          "LENT",
          "BOURG-EN-BRESSE",
          "BOURG-EN-BRESSE",
          "SAINT-DENIS-LES-BOURG",
          "SAINT-ANDRE-SUR-VIEUX-JONC",
          "TOSSIAT",
          "TOSSIAT",
          "TOSSIAT",
          "BOURG-EN-BRESSE",
          "NEUVILLE-SUR-AIN",
          "SAINT-NIZIER-LE-BOUCHOUX",
          "SAINT-MARTIN-DU-MONT",
          "BOHAS-MEYRIAT-RIGNAT",
          "BOHAS-MEYRIAT-RIGNAT",
          "PONT-D AIN",
          "POLLIAT",
          "BOURG-EN-BRESSE",
          "BAGE-DOMMARTIN",
          "FEILLENS",
          "MANZIAT",
          "MANZIAT",
          "MONTAGNAT",
          "SAINT-NIZIER-LE-BOUCHOUX",
          "CROTTET",
          "CROTTET",
          "SAINT-DENIS-LES-BOURG",
          "BOURG-EN-BRESSE",
          "PONT-DE-VAUX",
          "SAINT-BENIGNE",
          "MANZIAT",
          "ST ETIENNE-SUR-REYSSOUZE",
          "JAYAT",
          "PIRAJOUX",
          "SALAVRE",
          "SALAVRE",
          "MONTREVEL-EN-BRESSE",
          "SALAVRE",
          "LA TRANCLIERE",
          "SAINT-MARTIN-LE-CHATEL",
          "REYSSOUZE",
          "REYSSOUZE",
          "CURCIAT-DONGALON",
          "COURMANGOUX",
          "COURMANGOUX",
          "PRIAY",
          "PRIAY",
          "BOURG-EN-BRESSE",
          "SAINT-DENIS-LES-BOURG",
          "SAINT-ETIENNE-DU-BOIS",
          "BUELLAS",
          "SAINT-REMY",
          "BOURG-EN-BRESSE",
          "BUELLAS",
          "BOURG-EN-BRESSE",
          "JASSERON",
          "ARBIGNY",
          "SAINT-JULIEN-SUR-REYSSOUZE",
          "COLIGNY",
          "PONT-D AIN",
          "SAINT-JEAN-SUR-VEYLE",
          "PONT-DE-VEYLE",
          "BAGE-DOMMARTIN",
          "FEILLENS",
          "FEILLENS",
          "FEILLENS",
          "FEILLENS",
          "FEILLENS",
          "REPLONGES",
          "SAINT-JULIEN-SUR-REYSSOUZE",
          "CURCIAT-DONGALON",
          "CERTINES",
          "COLIGNY",
          "COLIGNY",
          "VIRIAT",
          "VIRIAT",
          "PONT-D AIN",
          "CEYZERIAT",
          "CORMOZ",
          "BOURG-EN-BRESSE",
          "BOURG-EN-BRESSE",
          "BRESSE VALLONS",
          "REPLONGES",
          "MALAFRETAZ",
          "MONTREVEL-EN-BRESSE",
          "MALAFRETAZ",
          "MALAFRETAZ",
          "MONTAGNAT",
          "BOHAS-MEYRIAT-RIGNAT",
          "BOURG-EN-BRESSE",
          "CEYZERIAT",
          "CEYZERIAT",
          "REYSSOUZE",
          "PRIAY",
          "PONT-D AIN",
          "PONT-D AIN",
          "PRIAY",
          "PRIAY",
          "PRIAY",
          "SAINT-DENIS-LES-BOURG",
          "LESCHEROUX",
          "LESCHEROUX",
          "JASSERON",
          "SAINT-DENIS-LES-BOURG",
          "SAINT-BENIGNE",
          "SAINT-BENIGNE",
          "SAINT-MARTIN-DU-MONT",
          "MONTREVEL-EN-BRESSE",
          "BOURG-EN-BRESSE",
          "SAINT-DENIS-LES-BOURG",
          "BRESSE VALLONS",
          "DRUILLAT",
          "CERTINES",
          "BEREZIAT",
          "GRIEGES",
          "BEY",
          "BEY",
          "CEYZERIAT",
          "BOURG-EN-BRESSE",
          "BOURG-EN-BRESSE",
          "SERVAS",
          "LENT",
          "CEYZERIAT",
          "CEYZERIAT",
          "REVONNAS",
          "DOMPIERRE-SUR-VEYLE",
          "BOHAS-MEYRIAT-RIGNAT",
          "BOHAS-MEYRIAT-RIGNAT",
          "NEUVILLE-SUR-AIN",
          "NEUVILLE-SUR-AIN",
          "NEUVILLE-SUR-AIN",
          "NEUVILLE-SUR-AIN",
          "NEUVILLE-SUR-AIN",
          "PRIAY",
          "CORMOZ",
          "POLLIAT",
          "SAINT-DIDIER-D AUSSIAT",
          "VARAMBON",
          "VARAMBON",
          "SAINT-MARTIN-LE-CHATEL",
          "CORMOZ",
          "SAINT-LAURENT-SUR-SAONE",
          "NEUVILLE-SUR-AIN",
          "CURTAFOND",
          "VILLEMOTIER",
          "VILLEREVERSURE",
          "LENT",
          "SAINT-DENIS-LES-BOURG",
          "VAL-REVERMONT",
          "BOZ",
          "BOZ",
          "REVONNAS",
          "REVONNAS",
          "CROTTET",
          "PERREX",
          "BOURG-EN-BRESSE",
          "MARBOZ",
          "MONTCET",
          "MONTCET",
          "PERONNAS",
          "SAINT-ANDRE-SUR-VIEUX-JONC",
          "BOURG-EN-BRESSE",
          "BOURG-EN-BRESSE",
          "REVONNAS",
          "PONT-DE-VEYLE",
          "SAINT-LAURENT-SUR-SAONE",
          "SAINT-ETIENNE-DU-BOIS",
          "NEUVILLE-SUR-AIN",
          "PERONNAS",
          "PERONNAS",
          "BOURG-EN-BRESSE",
          "BRESSE VALLONS",
          "BRESSE VALLONS",
          "SAINT-DIDIER-D AUSSIAT",
          "PONT-D AIN",
          "REVONNAS",
          "SERVAS",
          "SERVAS",
          "SERVAS",
          "CROTTET",
          "CROTTET",
          "ATTIGNAT",
          "ATTIGNAT",
          "PONT-D AIN",
          "PONT-D AIN",
          "CEYZERIAT",
          "BOHAS-MEYRIAT-RIGNAT",
          "BOHAS-MEYRIAT-RIGNAT",
          "BEAUPONT",
          "PIRAJOUX",
          "PIRAJOUX",
          "BEREZIAT",
          "PIRAJOUX",
          "BAGE-DOMMARTIN",
          "MARBOZ",
          "ATTIGNAT",
          "BRESSE VALLONS",
          "REVONNAS",
          "REVONNAS",
          "PERREX",
          "BOURG-EN-BRESSE",
          "SAINT-CYR-SUR-MENTHON",
          "SAINT-LAURENT-SUR-SAONE",
          "BOURG-EN-BRESSE",
          "BOURG-EN-BRESSE",
          "CERTINES",
          "ASNIERES-SUR-SAONE",
          "DROM",
          "SAINT-DIDIER-D AUSSIAT",
          "SAINT-DIDIER-D AUSSIAT",
          "CEYZERIAT",
          "POLLIAT",
          "SAINT-DENIS-LES-BOURG",
          "SAINT-MARTIN-DU-MONT",
          "BOURG-EN-BRESSE",
          "MARBOZ",
          "SIMANDRE-SUR-SURAN",
          "SAINT-LAURENT-SUR-SAONE",
          "SAINT-BENIGNE",
          "REYSSOUZE",
          "REYSSOUZE",
          "REYSSOUZE",
          "MONTRACOL",
          "LAIZ",
          "SAINT-TRIVIER-DE-COURTES",
          "SAINT-TRIVIER-DE-COURTES",
          "TOSSIAT",
          "BOURG-EN-BRESSE",
          "BOURG-EN-BRESSE",
          "SERVAS",
          "BOURG-EN-BRESSE",
          "CURCIAT-DONGALON",
          "SAINT-SULPICE",
          "PRIAY",
          "MONTREVEL-EN-BRESSE",
          "OZAN",
          "MONTREVEL-EN-BRESSE",
          "CHEVROUX",
          "SAINT-ETIENNE-DU-BOIS",
          "BOURG-EN-BRESSE",
          "BOURG-EN-BRESSE",
          "PERONNAS",
          "VILLEMOTIER",
          "SAINT-DENIS-LES-BOURG",
          "VIRIAT",
          "BRESSE VALLONS",
          "BUELLAS",
          "BUELLAS",
          "SAINT-REMY",
          "BOURG-EN-BRESSE",
          "COURMANGOUX",
          "JASSERON",
          "MARSONNAS",
          "CROTTET",
          "CROTTET",
          "SAINT-DENIS-LES-BOURG",
          "JASSERON",
          "DROM",
          "DROM",
          "COURMANGOUX",
          "VERJON",
          "MEILLONNAS",
          "BOURG-EN-BRESSE",
          "ARBIGNY",
          "SAINT-BENIGNE",
          "SAINT-MARTIN-LE-CHATEL",
          "SAINT-MARTIN-LE-CHATEL",
          "CEYZERIAT",
          "BOURG-EN-BRESSE",
          "REVONNAS",
          "NEUVILLE-SUR-AIN",
          "BENY",
          "BOURG-EN-BRESSE",
          "MONTRACOL",
          "BOURG-EN-BRESSE",
          "POLLIAT",
          "BOURG-EN-BRESSE",
          "BAGE-DOMMARTIN",
          "BOURG-EN-BRESSE",
          "BOURG-EN-BRESSE",
          "SAINT-MARTIN-LE-CHATEL",
          "SERVAS",
          "LENT",
          "SERVAS",
          "CORVEISSIAT",
          "REPLONGES",
          "COURMANGOUX",
          "COURMANGOUX",
          "COURMANGOUX",
          "BOHAS-MEYRIAT-RIGNAT",
          "BOHAS-MEYRIAT-RIGNAT",
          "BOHAS-MEYRIAT-RIGNAT",
          "BOHAS-MEYRIAT-RIGNAT",
          "BOHAS-MEYRIAT-RIGNAT",
          "BOURG-EN-BRESSE",
          "CEYZERIAT",
          "SAINT-LAURENT-SUR-SAONE",
          "SAINT-LAURENT-SUR-SAONE",
          "COURTES",
          "COURTES",
          "NIVIGNE ET SURAN",
          "NIVIGNE ET SURAN",
          "HAUTECOURT-ROMANECHE",
          "HAUTECOURT-ROMANECHE",
          "HAUTECOURT-ROMANECHE",
          "HAUTECOURT-ROMANECHE",
          "HAUTECOURT-ROMANECHE",
          "HAUTECOURT-ROMANECHE",
          "BOURG-EN-BRESSE",
          "FOISSIAT",
          "NIVIGNE ET SURAN",
          "CRUZILLES-LES-MEPILLAT",
          "MONTREVEL-EN-BRESSE",
          "MARBOZ",
          "PONT-D AIN",
          "CORMOZ",
          "BOURG-EN-BRESSE",
          "MONTRACOL",
          "MANZIAT",
          "MANZIAT",
          "MONTREVEL-EN-BRESSE",
          "SAINT-DENIS-LES-BOURG",
          "BOURG-EN-BRESSE",
          "POLLIAT",
          "BOURG-EN-BRESSE",
          "BOURG-EN-BRESSE",
          "MONTREVEL-EN-BRESSE",
          "BOHAS-MEYRIAT-RIGNAT",
          "DOMPIERRE-SUR-VEYLE",
          "FEILLENS",
          "FEILLENS",
          "CHEVROUX",
          "CHEVROUX",
          "COURMANGOUX",
          "COURMANGOUX",
          "BOURG-EN-BRESSE",
          "BOURG-EN-BRESSE",
          "BOURG-EN-BRESSE",
          "BOURG-EN-BRESSE",
          "MARSONNAS",
          "ATTIGNAT",
          "CONFRANCON",
          "CONFRANCON",
          "MONTRACOL",
          "CEYZERIAT",
          "CEYZERIAT",
          "VIRIAT",
          "PRIAY",
          "BAGE-DOMMARTIN",
          "BOURG-EN-BRESSE",
          "CONFRANCON",
          "BOURG-EN-BRESSE",
          "LESCHEROUX"
         ],
         "xaxis": "x",
         "y": [
          204332,
          400,
          4780,
          4780,
          226700,
          185000,
          114500,
          84000,
          145000,
          169600,
          178600,
          178600,
          11000,
          11000,
          11000,
          11000,
          11000,
          130000,
          10000,
          150000,
          107000,
          184000,
          53000,
          39000,
          221831,
          423640,
          243000,
          243000,
          495,
          80000,
          80000,
          11946,
          337000,
          175000,
          175000,
          250000,
          250000,
          40000,
          240000,
          240000,
          150000,
          150000,
          15000,
          15000,
          15000,
          115000,
          115000,
          175000,
          10000,
          311500,
          5356,
          5356,
          5356,
          5356,
          200,
          95000,
          95000,
          21457.16,
          21457.16,
          21457.16,
          21457.16,
          3989.4,
          65000,
          65000,
          365000,
          365000,
          92000,
          172000,
          150000,
          230000,
          249000,
          149500,
          3200,
          3200,
          650,
          247100,
          247100,
          110000,
          43750,
          68200,
          68200,
          238000,
          235000,
          105000,
          74000,
          175800,
          86000,
          282500,
          180000,
          180000,
          85000,
          85000,
          88685.91,
          88685.91,
          88685.91,
          88685.91,
          123000,
          200000,
          201400,
          70000,
          70000,
          88000,
          70000,
          82000,
          139150,
          196800,
          193000,
          193000,
          219580,
          176000,
          1160.8,
          51000,
          145000,
          145000,
          145000,
          91520,
          165000,
          292150,
          187000,
          280000,
          11000,
          420000,
          111300,
          87500,
          3881,
          3881,
          3881,
          3800,
          3800,
          3800,
          3800,
          3800,
          3800,
          3800,
          3800,
          3118,
          3118,
          3118,
          323000,
          49000,
          270000,
          151000,
          420,
          420,
          88000,
          2580,
          2580,
          2580,
          2580,
          206000,
          122000,
          122000,
          260000,
          310000,
          237000,
          237000,
          43530.95,
          43530.95,
          1500,
          165000,
          80000,
          50000,
          50000,
          8000,
          65000,
          250,
          227000,
          225000,
          225000,
          213000,
          211300,
          211300,
          78000,
          525000,
          112750,
          500,
          181000,
          1212,
          35180,
          415847.78,
          600,
          235000,
          105000,
          600,
          185000,
          183000,
          34300,
          112500,
          277000,
          277000,
          64800,
          750,
          750,
          191000,
          157000,
          192500,
          65000,
          65000,
          65000,
          75000,
          195000,
          125000,
          125000,
          580000,
          170000,
          170000,
          187500,
          225000,
          13700,
          230000,
          68000,
          221075,
          500,
          54000,
          76000,
          76000,
          79000,
          200000,
          46000,
          169703,
          169703,
          200000,
          240000,
          184000,
          184000,
          80000,
          105000,
          200750,
          200750,
          1668000,
          1668000,
          120000,
          120000,
          136000,
          145000,
          110000,
          220000,
          62000,
          74000,
          160000,
          147000,
          213000,
          1500000,
          1500000,
          1500000,
          1500000,
          970000,
          492500,
          492500,
          280000,
          1500,
          69671.92,
          69671.92,
          69671.92,
          69671.92,
          100000,
          6379,
          155000,
          250890,
          1004,
          1004,
          1004,
          295000,
          54440,
          500,
          8800,
          422000,
          422000,
          230000,
          1971,
          289000,
          289000,
          289000,
          112000,
          4000,
          130000,
          25000,
          50000,
          335000,
          335000,
          115000,
          54000,
          2800,
          2800,
          46000,
          179000,
          245000,
          700,
          72000,
          72000,
          223900,
          223900,
          273288.6,
          270000,
          87000,
          87000,
          135000,
          90000,
          90000,
          98000,
          222400,
          222400,
          190000,
          190000,
          180000,
          180000,
          7968.8,
          7968.8,
          745,
          280000,
          280000,
          161950,
          244000,
          244000,
          222000,
          222000,
          230900,
          230900,
          30000,
          11500,
          4500,
          175000,
          41160,
          135000,
          135000,
          92716,
          200000,
          220000,
          260000,
          295000,
          295000,
          4760,
          129000,
          156800,
          156800,
          9000,
          100,
          2230,
          2230,
          25000,
          25000,
          136000,
          136000,
          2250,
          2250,
          2250,
          2250,
          2250,
          2250,
          2250,
          2250,
          2250,
          2250,
          2250,
          2250,
          8410.5,
          8410.5,
          100000,
          100000,
          96500,
          115000,
          14000,
          180000,
          49560,
          118050,
          125000,
          165000,
          53000,
          700,
          116,
          277500,
          75000,
          50060,
          167000,
          59000,
          9000,
          13710,
          61700,
          140000,
          194650,
          58400,
          156400,
          65000,
          63400,
          128000,
          128000,
          39000,
          71000,
          430000,
          370000,
          250000,
          154,
          212410,
          30000,
          60000,
          161300,
          10000,
          375.25,
          144500,
          94000,
          35000,
          117000,
          13000,
          358850,
          120000,
          120000,
          75000,
          300,
          300,
          300,
          55000,
          329000,
          2017,
          2017,
          102450,
          102450,
          210000,
          125000,
          106000,
          6000,
          7278.59,
          7278.59,
          7278.59,
          7278.59,
          7278.59,
          7278.59,
          7278.59,
          7278.59,
          46000,
          232000,
          30000,
          344064,
          39000,
          157000,
          250000,
          250000,
          93400,
          93400,
          93400,
          93400,
          93400,
          93400,
          93400,
          93400,
          93400,
          93400,
          93400,
          93400,
          93400,
          93400,
          93400,
          93400,
          93400,
          93400,
          93400,
          93400,
          93400,
          93400,
          93400,
          26000,
          140000,
          3670,
          135000,
          184000,
          267500,
          253000,
          170000,
          87000,
          156000,
          192500,
          8540,
          89000,
          113000,
          7000,
          163000,
          2000,
          269600,
          60000,
          2000,
          170304,
          1340,
          9300,
          28000,
          246,
          529380,
          529380,
          525000,
          1710,
          1710,
          200600,
          110000,
          185000,
          185000,
          150000,
          150000,
          225000,
          258000,
          1600,
          150000,
          1000,
          19500,
          19500,
          19500,
          75000,
          160000,
          49000,
          95000,
          89000,
          350000,
          188000,
          250000,
          250000,
          71688,
          8865,
          741,
          80000,
          191000,
          191000,
          205000,
          183000,
          255000,
          145000,
          145000,
          120955.23,
          4000,
          90000,
          143000,
          150,
          139700,
          265000,
          280000,
          160000,
          440000,
          5000,
          5000,
          5280.8,
          235000,
          82500,
          60000,
          106143,
          106143,
          6000,
          116600,
          90000,
          203000,
          2500,
          164000,
          160000,
          88000,
          180000,
          50000,
          12000,
          896.4,
          896.4,
          6310.26,
          6310.26,
          65000,
          247.5,
          160000,
          149700,
          149700,
          4325,
          4325,
          285000,
          160000,
          3000,
          24000,
          292000,
          110000,
          208000,
          255000,
          139000,
          53000,
          1000,
          1000,
          130929,
          130929,
          158500,
          158500,
          400,
          3001,
          15750,
          15750,
          149839,
          149839,
          149839,
          149839,
          149839,
          149839,
          149839,
          149839,
          2800,
          2000,
          169000,
          10000,
          890,
          890,
          130000,
          1000,
          96000,
          96000,
          260000,
          60400,
          175000,
          160000,
          223529,
          158862.31,
          55000,
          299900,
          299900,
          15000,
          158000,
          158000,
          175000,
          100000,
          100000,
          59200,
          19000,
          19000,
          4311,
          136000,
          135500,
          125262.84,
          125262.84,
          152100,
          185000,
          162500,
          73000,
          180000,
          162300,
          220000,
          220000,
          2600,
          99000,
          5410,
          1500,
          100000,
          100000,
          43000,
          82000,
          70000,
          179000,
          127600,
          189000,
          189000,
          600,
          170000,
          170000,
          100000,
          1000,
          153000,
          190000,
          70000,
          40000,
          40000,
          240000,
          18744960,
          6500,
          17000,
          69000,
          138200,
          138200,
          237000,
          73500,
          160000,
          235000,
          115000,
          180000,
          180000,
          76300,
          27390.7,
          708172.9,
          708172.9,
          480624,
          235000,
          105000,
          115000,
          80000,
          35000,
          43000,
          1000,
          15000,
          15000,
          140000,
          33000,
          3500,
          60000,
          312000,
          312000,
          7000,
          11072.9,
          570.6,
          155000,
          155000,
          250000,
          307000,
          3922.73,
          345000,
          345000,
          195000,
          261000,
          42500,
          30000,
          85000,
          6000,
          2300,
          157000,
          164000,
          47500,
          1976,
          1976,
          1976,
          1976,
          1976,
          1976,
          1976,
          85000,
          82500,
          204500,
          59000,
          59000,
          169000,
          169000,
          59556,
          85000,
          31500,
          50000,
          10000,
          132000,
          195000,
          210000,
          30000,
          70000,
          70000,
          434500,
          49000,
          46000,
          169703,
          169703,
          72000,
          200000,
          178500,
          178500,
          96000,
          96000,
          369000,
          70000,
          72000,
          72000,
          87500,
          100000,
          185710,
          185710,
          2000,
          200000,
          72000,
          273300,
          215000,
          170000,
          580007.5,
          30000,
          70000,
          470000,
          470000,
          74000,
          60000,
          10000,
          83000,
          280000,
          175000,
          175000,
          5000,
          195000,
          1200,
          1200,
          1200,
          1200,
          1200,
          1200,
          1200,
          172000,
          25000,
          85000,
          34000,
          56000,
          56000,
          164000,
          3000,
          10000,
          51000,
          75000,
          105001,
          175250,
          225000,
          200,
          125000,
          233000,
          233000,
          375000,
          375000,
          175000,
          64000,
          177000,
          285000,
          157000,
          157000,
          170000,
          169000,
          130000,
          100000,
          229000,
          90000,
          97410,
          190000,
          29970,
          230000,
          230000,
          12000,
          240000,
          240000,
          115000,
          100,
          224000,
          5000,
          5000,
          230850,
          34120,
          34120,
          173800,
          70000,
          62000,
          62000,
          2796,
          135000,
          135000,
          1582,
          19400,
          19400,
          22000,
          24000,
          3776.21,
          77000,
          189000,
          95000,
          188000,
          188000,
          297000,
          120000,
          415000,
          63000,
          15000,
          36000,
          1440186.2,
          500,
          20000,
          201600,
          201600,
          115000,
          17720,
          17720,
          6000,
          163000,
          65000,
          90000,
          102000,
          47400,
          4200,
          4200,
          4200,
          220000,
          250000,
          121000,
          121000,
          8000,
          115000,
          225000,
          165000,
          6000,
          144000,
          235000,
          308000,
          219000,
          262000,
          189000,
          43000,
          80000,
          185000,
          185000,
          145000,
          217740,
          240000,
          181000,
          5660,
          91893,
          91893,
          91893,
          309100,
          240650,
          17220,
          120000,
          246500,
          246500,
          175000,
          86000,
          3444.35,
          3444.35,
          1100,
          696,
          61000,
          34000,
          38000,
          105000,
          154000,
          154000,
          492,
          100000,
          4528,
          315000,
          95000,
          110100,
          3000,
          334000,
          61400,
          79000,
          570,
          116608,
          310208,
          65000,
          1194,
          60000,
          269000,
          7500,
          218000,
          6000,
          6000,
          6000,
          5253.6,
          5253.6,
          5253.6,
          5253.6,
          1470,
          119150,
          174000,
          80000,
          80000,
          4370,
          4370,
          90000,
          90000,
          1315,
          1315,
          1315,
          1315,
          1315,
          1315,
          5000,
          125000,
          292000,
          300,
          192000,
          823,
          3200,
          300,
          117000,
          221000,
          159000,
          159000,
          30000,
          272570,
          97000,
          249000,
          175000,
          300000,
          162000,
          60000,
          348455,
          335000,
          170000,
          3800,
          3800,
          60000,
          60000,
          173550,
          173550,
          315000,
          115000,
          500,
          85000,
          241000,
          241000,
          193000,
          209000,
          209000,
          90000,
          2355,
          56500,
          65000,
          1962,
          9500,
          185000
         ],
         "yaxis": "y"
        }
       ],
       "layout": {
        "legend": {
         "tracegroupgap": 0
        },
        "margin": {
         "t": 60
        },
        "template": {
         "data": {
          "bar": [
           {
            "error_x": {
             "color": "#2a3f5f"
            },
            "error_y": {
             "color": "#2a3f5f"
            },
            "marker": {
             "line": {
              "color": "#E5ECF6",
              "width": 0.5
             },
             "pattern": {
              "fillmode": "overlay",
              "size": 10,
              "solidity": 0.2
             }
            },
            "type": "bar"
           }
          ],
          "barpolar": [
           {
            "marker": {
             "line": {
              "color": "#E5ECF6",
              "width": 0.5
             },
             "pattern": {
              "fillmode": "overlay",
              "size": 10,
              "solidity": 0.2
             }
            },
            "type": "barpolar"
           }
          ],
          "carpet": [
           {
            "aaxis": {
             "endlinecolor": "#2a3f5f",
             "gridcolor": "white",
             "linecolor": "white",
             "minorgridcolor": "white",
             "startlinecolor": "#2a3f5f"
            },
            "baxis": {
             "endlinecolor": "#2a3f5f",
             "gridcolor": "white",
             "linecolor": "white",
             "minorgridcolor": "white",
             "startlinecolor": "#2a3f5f"
            },
            "type": "carpet"
           }
          ],
          "choropleth": [
           {
            "colorbar": {
             "outlinewidth": 0,
             "ticks": ""
            },
            "type": "choropleth"
           }
          ],
          "contour": [
           {
            "colorbar": {
             "outlinewidth": 0,
             "ticks": ""
            },
            "colorscale": [
             [
              0,
              "#0d0887"
             ],
             [
              0.1111111111111111,
              "#46039f"
             ],
             [
              0.2222222222222222,
              "#7201a8"
             ],
             [
              0.3333333333333333,
              "#9c179e"
             ],
             [
              0.4444444444444444,
              "#bd3786"
             ],
             [
              0.5555555555555556,
              "#d8576b"
             ],
             [
              0.6666666666666666,
              "#ed7953"
             ],
             [
              0.7777777777777778,
              "#fb9f3a"
             ],
             [
              0.8888888888888888,
              "#fdca26"
             ],
             [
              1,
              "#f0f921"
             ]
            ],
            "type": "contour"
           }
          ],
          "contourcarpet": [
           {
            "colorbar": {
             "outlinewidth": 0,
             "ticks": ""
            },
            "type": "contourcarpet"
           }
          ],
          "heatmap": [
           {
            "colorbar": {
             "outlinewidth": 0,
             "ticks": ""
            },
            "colorscale": [
             [
              0,
              "#0d0887"
             ],
             [
              0.1111111111111111,
              "#46039f"
             ],
             [
              0.2222222222222222,
              "#7201a8"
             ],
             [
              0.3333333333333333,
              "#9c179e"
             ],
             [
              0.4444444444444444,
              "#bd3786"
             ],
             [
              0.5555555555555556,
              "#d8576b"
             ],
             [
              0.6666666666666666,
              "#ed7953"
             ],
             [
              0.7777777777777778,
              "#fb9f3a"
             ],
             [
              0.8888888888888888,
              "#fdca26"
             ],
             [
              1,
              "#f0f921"
             ]
            ],
            "type": "heatmap"
           }
          ],
          "heatmapgl": [
           {
            "colorbar": {
             "outlinewidth": 0,
             "ticks": ""
            },
            "colorscale": [
             [
              0,
              "#0d0887"
             ],
             [
              0.1111111111111111,
              "#46039f"
             ],
             [
              0.2222222222222222,
              "#7201a8"
             ],
             [
              0.3333333333333333,
              "#9c179e"
             ],
             [
              0.4444444444444444,
              "#bd3786"
             ],
             [
              0.5555555555555556,
              "#d8576b"
             ],
             [
              0.6666666666666666,
              "#ed7953"
             ],
             [
              0.7777777777777778,
              "#fb9f3a"
             ],
             [
              0.8888888888888888,
              "#fdca26"
             ],
             [
              1,
              "#f0f921"
             ]
            ],
            "type": "heatmapgl"
           }
          ],
          "histogram": [
           {
            "marker": {
             "pattern": {
              "fillmode": "overlay",
              "size": 10,
              "solidity": 0.2
             }
            },
            "type": "histogram"
           }
          ],
          "histogram2d": [
           {
            "colorbar": {
             "outlinewidth": 0,
             "ticks": ""
            },
            "colorscale": [
             [
              0,
              "#0d0887"
             ],
             [
              0.1111111111111111,
              "#46039f"
             ],
             [
              0.2222222222222222,
              "#7201a8"
             ],
             [
              0.3333333333333333,
              "#9c179e"
             ],
             [
              0.4444444444444444,
              "#bd3786"
             ],
             [
              0.5555555555555556,
              "#d8576b"
             ],
             [
              0.6666666666666666,
              "#ed7953"
             ],
             [
              0.7777777777777778,
              "#fb9f3a"
             ],
             [
              0.8888888888888888,
              "#fdca26"
             ],
             [
              1,
              "#f0f921"
             ]
            ],
            "type": "histogram2d"
           }
          ],
          "histogram2dcontour": [
           {
            "colorbar": {
             "outlinewidth": 0,
             "ticks": ""
            },
            "colorscale": [
             [
              0,
              "#0d0887"
             ],
             [
              0.1111111111111111,
              "#46039f"
             ],
             [
              0.2222222222222222,
              "#7201a8"
             ],
             [
              0.3333333333333333,
              "#9c179e"
             ],
             [
              0.4444444444444444,
              "#bd3786"
             ],
             [
              0.5555555555555556,
              "#d8576b"
             ],
             [
              0.6666666666666666,
              "#ed7953"
             ],
             [
              0.7777777777777778,
              "#fb9f3a"
             ],
             [
              0.8888888888888888,
              "#fdca26"
             ],
             [
              1,
              "#f0f921"
             ]
            ],
            "type": "histogram2dcontour"
           }
          ],
          "mesh3d": [
           {
            "colorbar": {
             "outlinewidth": 0,
             "ticks": ""
            },
            "type": "mesh3d"
           }
          ],
          "parcoords": [
           {
            "line": {
             "colorbar": {
              "outlinewidth": 0,
              "ticks": ""
             }
            },
            "type": "parcoords"
           }
          ],
          "pie": [
           {
            "automargin": true,
            "type": "pie"
           }
          ],
          "scatter": [
           {
            "fillpattern": {
             "fillmode": "overlay",
             "size": 10,
             "solidity": 0.2
            },
            "type": "scatter"
           }
          ],
          "scatter3d": [
           {
            "line": {
             "colorbar": {
              "outlinewidth": 0,
              "ticks": ""
             }
            },
            "marker": {
             "colorbar": {
              "outlinewidth": 0,
              "ticks": ""
             }
            },
            "type": "scatter3d"
           }
          ],
          "scattercarpet": [
           {
            "marker": {
             "colorbar": {
              "outlinewidth": 0,
              "ticks": ""
             }
            },
            "type": "scattercarpet"
           }
          ],
          "scattergeo": [
           {
            "marker": {
             "colorbar": {
              "outlinewidth": 0,
              "ticks": ""
             }
            },
            "type": "scattergeo"
           }
          ],
          "scattergl": [
           {
            "marker": {
             "colorbar": {
              "outlinewidth": 0,
              "ticks": ""
             }
            },
            "type": "scattergl"
           }
          ],
          "scattermapbox": [
           {
            "marker": {
             "colorbar": {
              "outlinewidth": 0,
              "ticks": ""
             }
            },
            "type": "scattermapbox"
           }
          ],
          "scatterpolar": [
           {
            "marker": {
             "colorbar": {
              "outlinewidth": 0,
              "ticks": ""
             }
            },
            "type": "scatterpolar"
           }
          ],
          "scatterpolargl": [
           {
            "marker": {
             "colorbar": {
              "outlinewidth": 0,
              "ticks": ""
             }
            },
            "type": "scatterpolargl"
           }
          ],
          "scatterternary": [
           {
            "marker": {
             "colorbar": {
              "outlinewidth": 0,
              "ticks": ""
             }
            },
            "type": "scatterternary"
           }
          ],
          "surface": [
           {
            "colorbar": {
             "outlinewidth": 0,
             "ticks": ""
            },
            "colorscale": [
             [
              0,
              "#0d0887"
             ],
             [
              0.1111111111111111,
              "#46039f"
             ],
             [
              0.2222222222222222,
              "#7201a8"
             ],
             [
              0.3333333333333333,
              "#9c179e"
             ],
             [
              0.4444444444444444,
              "#bd3786"
             ],
             [
              0.5555555555555556,
              "#d8576b"
             ],
             [
              0.6666666666666666,
              "#ed7953"
             ],
             [
              0.7777777777777778,
              "#fb9f3a"
             ],
             [
              0.8888888888888888,
              "#fdca26"
             ],
             [
              1,
              "#f0f921"
             ]
            ],
            "type": "surface"
           }
          ],
          "table": [
           {
            "cells": {
             "fill": {
              "color": "#EBF0F8"
             },
             "line": {
              "color": "white"
             }
            },
            "header": {
             "fill": {
              "color": "#C8D4E3"
             },
             "line": {
              "color": "white"
             }
            },
            "type": "table"
           }
          ]
         },
         "layout": {
          "annotationdefaults": {
           "arrowcolor": "#2a3f5f",
           "arrowhead": 0,
           "arrowwidth": 1
          },
          "autotypenumbers": "strict",
          "coloraxis": {
           "colorbar": {
            "outlinewidth": 0,
            "ticks": ""
           }
          },
          "colorscale": {
           "diverging": [
            [
             0,
             "#8e0152"
            ],
            [
             0.1,
             "#c51b7d"
            ],
            [
             0.2,
             "#de77ae"
            ],
            [
             0.3,
             "#f1b6da"
            ],
            [
             0.4,
             "#fde0ef"
            ],
            [
             0.5,
             "#f7f7f7"
            ],
            [
             0.6,
             "#e6f5d0"
            ],
            [
             0.7,
             "#b8e186"
            ],
            [
             0.8,
             "#7fbc41"
            ],
            [
             0.9,
             "#4d9221"
            ],
            [
             1,
             "#276419"
            ]
           ],
           "sequential": [
            [
             0,
             "#0d0887"
            ],
            [
             0.1111111111111111,
             "#46039f"
            ],
            [
             0.2222222222222222,
             "#7201a8"
            ],
            [
             0.3333333333333333,
             "#9c179e"
            ],
            [
             0.4444444444444444,
             "#bd3786"
            ],
            [
             0.5555555555555556,
             "#d8576b"
            ],
            [
             0.6666666666666666,
             "#ed7953"
            ],
            [
             0.7777777777777778,
             "#fb9f3a"
            ],
            [
             0.8888888888888888,
             "#fdca26"
            ],
            [
             1,
             "#f0f921"
            ]
           ],
           "sequentialminus": [
            [
             0,
             "#0d0887"
            ],
            [
             0.1111111111111111,
             "#46039f"
            ],
            [
             0.2222222222222222,
             "#7201a8"
            ],
            [
             0.3333333333333333,
             "#9c179e"
            ],
            [
             0.4444444444444444,
             "#bd3786"
            ],
            [
             0.5555555555555556,
             "#d8576b"
            ],
            [
             0.6666666666666666,
             "#ed7953"
            ],
            [
             0.7777777777777778,
             "#fb9f3a"
            ],
            [
             0.8888888888888888,
             "#fdca26"
            ],
            [
             1,
             "#f0f921"
            ]
           ]
          },
          "colorway": [
           "#636efa",
           "#EF553B",
           "#00cc96",
           "#ab63fa",
           "#FFA15A",
           "#19d3f3",
           "#FF6692",
           "#B6E880",
           "#FF97FF",
           "#FECB52"
          ],
          "font": {
           "color": "#2a3f5f"
          },
          "geo": {
           "bgcolor": "white",
           "lakecolor": "white",
           "landcolor": "#E5ECF6",
           "showlakes": true,
           "showland": true,
           "subunitcolor": "white"
          },
          "hoverlabel": {
           "align": "left"
          },
          "hovermode": "closest",
          "mapbox": {
           "style": "light"
          },
          "paper_bgcolor": "white",
          "plot_bgcolor": "#E5ECF6",
          "polar": {
           "angularaxis": {
            "gridcolor": "white",
            "linecolor": "white",
            "ticks": ""
           },
           "bgcolor": "#E5ECF6",
           "radialaxis": {
            "gridcolor": "white",
            "linecolor": "white",
            "ticks": ""
           }
          },
          "scene": {
           "xaxis": {
            "backgroundcolor": "#E5ECF6",
            "gridcolor": "white",
            "gridwidth": 2,
            "linecolor": "white",
            "showbackground": true,
            "ticks": "",
            "zerolinecolor": "white"
           },
           "yaxis": {
            "backgroundcolor": "#E5ECF6",
            "gridcolor": "white",
            "gridwidth": 2,
            "linecolor": "white",
            "showbackground": true,
            "ticks": "",
            "zerolinecolor": "white"
           },
           "zaxis": {
            "backgroundcolor": "#E5ECF6",
            "gridcolor": "white",
            "gridwidth": 2,
            "linecolor": "white",
            "showbackground": true,
            "ticks": "",
            "zerolinecolor": "white"
           }
          },
          "shapedefaults": {
           "line": {
            "color": "#2a3f5f"
           }
          },
          "ternary": {
           "aaxis": {
            "gridcolor": "white",
            "linecolor": "white",
            "ticks": ""
           },
           "baxis": {
            "gridcolor": "white",
            "linecolor": "white",
            "ticks": ""
           },
           "bgcolor": "#E5ECF6",
           "caxis": {
            "gridcolor": "white",
            "linecolor": "white",
            "ticks": ""
           }
          },
          "title": {
           "x": 0.05
          },
          "xaxis": {
           "automargin": true,
           "gridcolor": "white",
           "linecolor": "white",
           "ticks": "",
           "title": {
            "standoff": 15
           },
           "zerolinecolor": "white",
           "zerolinewidth": 2
          },
          "yaxis": {
           "automargin": true,
           "gridcolor": "white",
           "linecolor": "white",
           "ticks": "",
           "title": {
            "standoff": 15
           },
           "zerolinecolor": "white",
           "zerolinewidth": 2
          }
         }
        },
        "xaxis": {
         "anchor": "y",
         "domain": [
          0,
          1
         ],
         "title": {
          "text": "Commune"
         }
        },
        "yaxis": {
         "anchor": "x",
         "domain": [
          0,
          1
         ],
         "title": {
          "text": "Valeur fonciere"
         }
        }
       }
      }
     },
     "metadata": {},
     "output_type": "display_data"
    }
   ],
   "source": [
    "fig = px.scatter(df_scatter, x='Commune', y=\"Valeur fonciere\")\n",
    "fig.show()"
   ]
  },
  {
   "cell_type": "code",
   "execution_count": 69,
   "metadata": {},
   "outputs": [
    {
     "name": "stdout",
     "output_type": "stream",
     "text": [
      "Il y a 30344 communes\n"
     ]
    }
   ],
   "source": [
    "print(\"Il y a\", len(df_wo_NaN[\"Commune\"].unique()), \"communes\")"
   ]
  },
  {
   "cell_type": "markdown",
   "metadata": {},
   "source": [
    "On souhaite enlever les doublons"
   ]
  },
  {
   "cell_type": "code",
   "execution_count": 70,
   "metadata": {},
   "outputs": [
    {
     "data": {
      "text/plain": [
       "Index(['No disposition', 'Date mutation', 'Nature mutation', 'Valeur fonciere',\n",
       "       'Type de voie', 'Voie', 'Code postal', 'Commune', 'Code commune',\n",
       "       'Section', 'No plan', '1er lot', 'Surface Carrez du 1er lot',\n",
       "       'Nombre de lots', 'Type local', 'Surface reelle bati',\n",
       "       'Nombre pieces principales', 'Nature culture', 'Surface terrain',\n",
       "       'col_concat', 'Mois'],\n",
       "      dtype='object')"
      ]
     },
     "execution_count": 70,
     "metadata": {},
     "output_type": "execute_result"
    }
   ],
   "source": [
    "df_wo_NaN.keys()"
   ]
  },
  {
   "cell_type": "code",
   "execution_count": 71,
   "metadata": {},
   "outputs": [
    {
     "ename": "KeyError",
     "evalue": "1",
     "output_type": "error",
     "traceback": [
      "\u001b[1;31m---------------------------------------------------------------------------\u001b[0m",
      "\u001b[1;31mKeyError\u001b[0m                                  Traceback (most recent call last)",
      "File \u001b[1;32mc:\\Users\\cemaurin\\Documents\\.venv\\Lib\\site-packages\\pandas\\core\\indexes\\base.py:3790\u001b[0m, in \u001b[0;36mIndex.get_loc\u001b[1;34m(self, key)\u001b[0m\n\u001b[0;32m   3789\u001b[0m \u001b[39mtry\u001b[39;00m:\n\u001b[1;32m-> 3790\u001b[0m     \u001b[39mreturn\u001b[39;00m \u001b[39mself\u001b[39;49m\u001b[39m.\u001b[39;49m_engine\u001b[39m.\u001b[39;49mget_loc(casted_key)\n\u001b[0;32m   3791\u001b[0m \u001b[39mexcept\u001b[39;00m \u001b[39mKeyError\u001b[39;00m \u001b[39mas\u001b[39;00m err:\n",
      "File \u001b[1;32mindex.pyx:152\u001b[0m, in \u001b[0;36mpandas._libs.index.IndexEngine.get_loc\u001b[1;34m()\u001b[0m\n",
      "File \u001b[1;32mindex.pyx:171\u001b[0m, in \u001b[0;36mpandas._libs.index.IndexEngine.get_loc\u001b[1;34m()\u001b[0m\n",
      "\u001b[1;31mKeyError\u001b[0m: 1",
      "\nThe above exception was the direct cause of the following exception:\n",
      "\u001b[1;31mKeyError\u001b[0m                                  Traceback (most recent call last)",
      "\u001b[1;32mc:\\Users\\cemaurin\\Documents\\GitHub\\ProjetPython\\traitement_valeurs_foncieres_2021.ipynb Cell 31\u001b[0m line \u001b[0;36m1\n\u001b[1;32m----> <a href='vscode-notebook-cell:/c%3A/Users/cemaurin/Documents/GitHub/ProjetPython/traitement_valeurs_foncieres_2021.ipynb#X36sZmlsZQ%3D%3D?line=0'>1</a>\u001b[0m \u001b[39m'\u001b[39m\u001b[39m'\u001b[39m\u001b[39m.\u001b[39mjoin(\u001b[39mmap\u001b[39m(\u001b[39mstr\u001b[39m,df_wo_NaN\u001b[39m.\u001b[39;49mloc[\u001b[39m1\u001b[39;49m]))\n",
      "File \u001b[1;32mc:\\Users\\cemaurin\\Documents\\.venv\\Lib\\site-packages\\pandas\\core\\indexing.py:1153\u001b[0m, in \u001b[0;36m_LocationIndexer.__getitem__\u001b[1;34m(self, key)\u001b[0m\n\u001b[0;32m   1150\u001b[0m axis \u001b[39m=\u001b[39m \u001b[39mself\u001b[39m\u001b[39m.\u001b[39maxis \u001b[39mor\u001b[39;00m \u001b[39m0\u001b[39m\n\u001b[0;32m   1152\u001b[0m maybe_callable \u001b[39m=\u001b[39m com\u001b[39m.\u001b[39mapply_if_callable(key, \u001b[39mself\u001b[39m\u001b[39m.\u001b[39mobj)\n\u001b[1;32m-> 1153\u001b[0m \u001b[39mreturn\u001b[39;00m \u001b[39mself\u001b[39;49m\u001b[39m.\u001b[39;49m_getitem_axis(maybe_callable, axis\u001b[39m=\u001b[39;49maxis)\n",
      "File \u001b[1;32mc:\\Users\\cemaurin\\Documents\\.venv\\Lib\\site-packages\\pandas\\core\\indexing.py:1393\u001b[0m, in \u001b[0;36m_LocIndexer._getitem_axis\u001b[1;34m(self, key, axis)\u001b[0m\n\u001b[0;32m   1391\u001b[0m \u001b[39m# fall thru to straight lookup\u001b[39;00m\n\u001b[0;32m   1392\u001b[0m \u001b[39mself\u001b[39m\u001b[39m.\u001b[39m_validate_key(key, axis)\n\u001b[1;32m-> 1393\u001b[0m \u001b[39mreturn\u001b[39;00m \u001b[39mself\u001b[39;49m\u001b[39m.\u001b[39;49m_get_label(key, axis\u001b[39m=\u001b[39;49maxis)\n",
      "File \u001b[1;32mc:\\Users\\cemaurin\\Documents\\.venv\\Lib\\site-packages\\pandas\\core\\indexing.py:1343\u001b[0m, in \u001b[0;36m_LocIndexer._get_label\u001b[1;34m(self, label, axis)\u001b[0m\n\u001b[0;32m   1341\u001b[0m \u001b[39mdef\u001b[39;00m \u001b[39m_get_label\u001b[39m(\u001b[39mself\u001b[39m, label, axis: AxisInt):\n\u001b[0;32m   1342\u001b[0m     \u001b[39m# GH#5567 this will fail if the label is not present in the axis.\u001b[39;00m\n\u001b[1;32m-> 1343\u001b[0m     \u001b[39mreturn\u001b[39;00m \u001b[39mself\u001b[39;49m\u001b[39m.\u001b[39;49mobj\u001b[39m.\u001b[39;49mxs(label, axis\u001b[39m=\u001b[39;49maxis)\n",
      "File \u001b[1;32mc:\\Users\\cemaurin\\Documents\\.venv\\Lib\\site-packages\\pandas\\core\\generic.py:4236\u001b[0m, in \u001b[0;36mNDFrame.xs\u001b[1;34m(self, key, axis, level, drop_level)\u001b[0m\n\u001b[0;32m   4234\u001b[0m             new_index \u001b[39m=\u001b[39m index[loc]\n\u001b[0;32m   4235\u001b[0m \u001b[39melse\u001b[39;00m:\n\u001b[1;32m-> 4236\u001b[0m     loc \u001b[39m=\u001b[39m index\u001b[39m.\u001b[39;49mget_loc(key)\n\u001b[0;32m   4238\u001b[0m     \u001b[39mif\u001b[39;00m \u001b[39misinstance\u001b[39m(loc, np\u001b[39m.\u001b[39mndarray):\n\u001b[0;32m   4239\u001b[0m         \u001b[39mif\u001b[39;00m loc\u001b[39m.\u001b[39mdtype \u001b[39m==\u001b[39m np\u001b[39m.\u001b[39mbool_:\n",
      "File \u001b[1;32mc:\\Users\\cemaurin\\Documents\\.venv\\Lib\\site-packages\\pandas\\core\\indexes\\base.py:3797\u001b[0m, in \u001b[0;36mIndex.get_loc\u001b[1;34m(self, key)\u001b[0m\n\u001b[0;32m   3792\u001b[0m     \u001b[39mif\u001b[39;00m \u001b[39misinstance\u001b[39m(casted_key, \u001b[39mslice\u001b[39m) \u001b[39mor\u001b[39;00m (\n\u001b[0;32m   3793\u001b[0m         \u001b[39misinstance\u001b[39m(casted_key, abc\u001b[39m.\u001b[39mIterable)\n\u001b[0;32m   3794\u001b[0m         \u001b[39mand\u001b[39;00m \u001b[39many\u001b[39m(\u001b[39misinstance\u001b[39m(x, \u001b[39mslice\u001b[39m) \u001b[39mfor\u001b[39;00m x \u001b[39min\u001b[39;00m casted_key)\n\u001b[0;32m   3795\u001b[0m     ):\n\u001b[0;32m   3796\u001b[0m         \u001b[39mraise\u001b[39;00m InvalidIndexError(key)\n\u001b[1;32m-> 3797\u001b[0m     \u001b[39mraise\u001b[39;00m \u001b[39mKeyError\u001b[39;00m(key) \u001b[39mfrom\u001b[39;00m \u001b[39merr\u001b[39;00m\n\u001b[0;32m   3798\u001b[0m \u001b[39mexcept\u001b[39;00m \u001b[39mTypeError\u001b[39;00m:\n\u001b[0;32m   3799\u001b[0m     \u001b[39m# If we have a listlike key, _check_indexing_error will raise\u001b[39;00m\n\u001b[0;32m   3800\u001b[0m     \u001b[39m#  InvalidIndexError. Otherwise we fall through and re-raise\u001b[39;00m\n\u001b[0;32m   3801\u001b[0m     \u001b[39m#  the TypeError.\u001b[39;00m\n\u001b[0;32m   3802\u001b[0m     \u001b[39mself\u001b[39m\u001b[39m.\u001b[39m_check_indexing_error(key)\n",
      "\u001b[1;31mKeyError\u001b[0m: 1"
     ]
    }
   ],
   "source": [
    "''.join(map(str,df_wo_NaN.loc[1]))"
   ]
  }
 ],
 "metadata": {
  "kernelspec": {
   "display_name": "Python 3",
   "language": "python",
   "name": "python3"
  },
  "language_info": {
   "codemirror_mode": {
    "name": "ipython",
    "version": 3
   },
   "file_extension": ".py",
   "mimetype": "text/x-python",
   "name": "python",
   "nbconvert_exporter": "python",
   "pygments_lexer": "ipython3",
   "version": "3.11.4"
  },
  "orig_nbformat": 4
 },
 "nbformat": 4,
 "nbformat_minor": 2
}
