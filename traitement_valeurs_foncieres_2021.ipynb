{
 "cells": [
  {
   "attachments": {},
   "cell_type": "markdown",
   "metadata": {},
   "source": [
    "## Importation du jeu de données"
   ]
  },
  {
   "cell_type": "code",
   "execution_count": 2,
   "metadata": {},
   "outputs": [
    {
     "ename": "FileNotFoundError",
     "evalue": "[Errno 2] No such file or directory: './valeursfoncieres-2021/valeursfoncieres-2021.txt'",
     "output_type": "error",
     "traceback": [
      "\u001b[1;31m---------------------------------------------------------------------------\u001b[0m",
      "\u001b[1;31mFileNotFoundError\u001b[0m                         Traceback (most recent call last)",
      "\u001b[1;32mc:\\Users\\cemaurin\\Documents\\GitHub\\ProjetPython\\traitement_valeurs_foncieres_2021.ipynb Cell 2\u001b[0m line \u001b[0;36m3\n\u001b[0;32m      <a href='vscode-notebook-cell:/c%3A/Users/cemaurin/Documents/GitHub/ProjetPython/traitement_valeurs_foncieres_2021.ipynb#W1sZmlsZQ%3D%3D?line=0'>1</a>\u001b[0m \u001b[39mimport\u001b[39;00m \u001b[39mpandas\u001b[39;00m \u001b[39mas\u001b[39;00m \u001b[39mpd\u001b[39;00m\n\u001b[1;32m----> <a href='vscode-notebook-cell:/c%3A/Users/cemaurin/Documents/GitHub/ProjetPython/traitement_valeurs_foncieres_2021.ipynb#W1sZmlsZQ%3D%3D?line=2'>3</a>\u001b[0m df \u001b[39m=\u001b[39m pd\u001b[39m.\u001b[39;49mread_csv(\u001b[39m'\u001b[39;49m\u001b[39m./valeursfoncieres-2021/valeursfoncieres-2021.txt\u001b[39;49m\u001b[39m'\u001b[39;49m, sep\u001b[39m=\u001b[39;49m\u001b[39m\"\u001b[39;49m\u001b[39m|\u001b[39;49m\u001b[39m\"\u001b[39;49m, decimal\u001b[39m=\u001b[39;49m\u001b[39m\"\u001b[39;49m\u001b[39m,\u001b[39;49m\u001b[39m\"\u001b[39;49m)\n\u001b[0;32m      <a href='vscode-notebook-cell:/c%3A/Users/cemaurin/Documents/GitHub/ProjetPython/traitement_valeurs_foncieres_2021.ipynb#W1sZmlsZQ%3D%3D?line=3'>4</a>\u001b[0m df\u001b[39m.\u001b[39mhead()\n",
      "File \u001b[1;32mc:\\Users\\cemaurin\\Documents\\.venv\\Lib\\site-packages\\pandas\\io\\parsers\\readers.py:948\u001b[0m, in \u001b[0;36mread_csv\u001b[1;34m(filepath_or_buffer, sep, delimiter, header, names, index_col, usecols, dtype, engine, converters, true_values, false_values, skipinitialspace, skiprows, skipfooter, nrows, na_values, keep_default_na, na_filter, verbose, skip_blank_lines, parse_dates, infer_datetime_format, keep_date_col, date_parser, date_format, dayfirst, cache_dates, iterator, chunksize, compression, thousands, decimal, lineterminator, quotechar, quoting, doublequote, escapechar, comment, encoding, encoding_errors, dialect, on_bad_lines, delim_whitespace, low_memory, memory_map, float_precision, storage_options, dtype_backend)\u001b[0m\n\u001b[0;32m    935\u001b[0m kwds_defaults \u001b[39m=\u001b[39m _refine_defaults_read(\n\u001b[0;32m    936\u001b[0m     dialect,\n\u001b[0;32m    937\u001b[0m     delimiter,\n\u001b[1;32m   (...)\u001b[0m\n\u001b[0;32m    944\u001b[0m     dtype_backend\u001b[39m=\u001b[39mdtype_backend,\n\u001b[0;32m    945\u001b[0m )\n\u001b[0;32m    946\u001b[0m kwds\u001b[39m.\u001b[39mupdate(kwds_defaults)\n\u001b[1;32m--> 948\u001b[0m \u001b[39mreturn\u001b[39;00m _read(filepath_or_buffer, kwds)\n",
      "File \u001b[1;32mc:\\Users\\cemaurin\\Documents\\.venv\\Lib\\site-packages\\pandas\\io\\parsers\\readers.py:611\u001b[0m, in \u001b[0;36m_read\u001b[1;34m(filepath_or_buffer, kwds)\u001b[0m\n\u001b[0;32m    608\u001b[0m _validate_names(kwds\u001b[39m.\u001b[39mget(\u001b[39m\"\u001b[39m\u001b[39mnames\u001b[39m\u001b[39m\"\u001b[39m, \u001b[39mNone\u001b[39;00m))\n\u001b[0;32m    610\u001b[0m \u001b[39m# Create the parser.\u001b[39;00m\n\u001b[1;32m--> 611\u001b[0m parser \u001b[39m=\u001b[39m TextFileReader(filepath_or_buffer, \u001b[39m*\u001b[39;49m\u001b[39m*\u001b[39;49mkwds)\n\u001b[0;32m    613\u001b[0m \u001b[39mif\u001b[39;00m chunksize \u001b[39mor\u001b[39;00m iterator:\n\u001b[0;32m    614\u001b[0m     \u001b[39mreturn\u001b[39;00m parser\n",
      "File \u001b[1;32mc:\\Users\\cemaurin\\Documents\\.venv\\Lib\\site-packages\\pandas\\io\\parsers\\readers.py:1448\u001b[0m, in \u001b[0;36mTextFileReader.__init__\u001b[1;34m(self, f, engine, **kwds)\u001b[0m\n\u001b[0;32m   1445\u001b[0m     \u001b[39mself\u001b[39m\u001b[39m.\u001b[39moptions[\u001b[39m\"\u001b[39m\u001b[39mhas_index_names\u001b[39m\u001b[39m\"\u001b[39m] \u001b[39m=\u001b[39m kwds[\u001b[39m\"\u001b[39m\u001b[39mhas_index_names\u001b[39m\u001b[39m\"\u001b[39m]\n\u001b[0;32m   1447\u001b[0m \u001b[39mself\u001b[39m\u001b[39m.\u001b[39mhandles: IOHandles \u001b[39m|\u001b[39m \u001b[39mNone\u001b[39;00m \u001b[39m=\u001b[39m \u001b[39mNone\u001b[39;00m\n\u001b[1;32m-> 1448\u001b[0m \u001b[39mself\u001b[39m\u001b[39m.\u001b[39m_engine \u001b[39m=\u001b[39m \u001b[39mself\u001b[39;49m\u001b[39m.\u001b[39;49m_make_engine(f, \u001b[39mself\u001b[39;49m\u001b[39m.\u001b[39;49mengine)\n",
      "File \u001b[1;32mc:\\Users\\cemaurin\\Documents\\.venv\\Lib\\site-packages\\pandas\\io\\parsers\\readers.py:1705\u001b[0m, in \u001b[0;36mTextFileReader._make_engine\u001b[1;34m(self, f, engine)\u001b[0m\n\u001b[0;32m   1703\u001b[0m     \u001b[39mif\u001b[39;00m \u001b[39m\"\u001b[39m\u001b[39mb\u001b[39m\u001b[39m\"\u001b[39m \u001b[39mnot\u001b[39;00m \u001b[39min\u001b[39;00m mode:\n\u001b[0;32m   1704\u001b[0m         mode \u001b[39m+\u001b[39m\u001b[39m=\u001b[39m \u001b[39m\"\u001b[39m\u001b[39mb\u001b[39m\u001b[39m\"\u001b[39m\n\u001b[1;32m-> 1705\u001b[0m \u001b[39mself\u001b[39m\u001b[39m.\u001b[39mhandles \u001b[39m=\u001b[39m get_handle(\n\u001b[0;32m   1706\u001b[0m     f,\n\u001b[0;32m   1707\u001b[0m     mode,\n\u001b[0;32m   1708\u001b[0m     encoding\u001b[39m=\u001b[39;49m\u001b[39mself\u001b[39;49m\u001b[39m.\u001b[39;49moptions\u001b[39m.\u001b[39;49mget(\u001b[39m\"\u001b[39;49m\u001b[39mencoding\u001b[39;49m\u001b[39m\"\u001b[39;49m, \u001b[39mNone\u001b[39;49;00m),\n\u001b[0;32m   1709\u001b[0m     compression\u001b[39m=\u001b[39;49m\u001b[39mself\u001b[39;49m\u001b[39m.\u001b[39;49moptions\u001b[39m.\u001b[39;49mget(\u001b[39m\"\u001b[39;49m\u001b[39mcompression\u001b[39;49m\u001b[39m\"\u001b[39;49m, \u001b[39mNone\u001b[39;49;00m),\n\u001b[0;32m   1710\u001b[0m     memory_map\u001b[39m=\u001b[39;49m\u001b[39mself\u001b[39;49m\u001b[39m.\u001b[39;49moptions\u001b[39m.\u001b[39;49mget(\u001b[39m\"\u001b[39;49m\u001b[39mmemory_map\u001b[39;49m\u001b[39m\"\u001b[39;49m, \u001b[39mFalse\u001b[39;49;00m),\n\u001b[0;32m   1711\u001b[0m     is_text\u001b[39m=\u001b[39;49mis_text,\n\u001b[0;32m   1712\u001b[0m     errors\u001b[39m=\u001b[39;49m\u001b[39mself\u001b[39;49m\u001b[39m.\u001b[39;49moptions\u001b[39m.\u001b[39;49mget(\u001b[39m\"\u001b[39;49m\u001b[39mencoding_errors\u001b[39;49m\u001b[39m\"\u001b[39;49m, \u001b[39m\"\u001b[39;49m\u001b[39mstrict\u001b[39;49m\u001b[39m\"\u001b[39;49m),\n\u001b[0;32m   1713\u001b[0m     storage_options\u001b[39m=\u001b[39;49m\u001b[39mself\u001b[39;49m\u001b[39m.\u001b[39;49moptions\u001b[39m.\u001b[39;49mget(\u001b[39m\"\u001b[39;49m\u001b[39mstorage_options\u001b[39;49m\u001b[39m\"\u001b[39;49m, \u001b[39mNone\u001b[39;49;00m),\n\u001b[0;32m   1714\u001b[0m )\n\u001b[0;32m   1715\u001b[0m \u001b[39massert\u001b[39;00m \u001b[39mself\u001b[39m\u001b[39m.\u001b[39mhandles \u001b[39mis\u001b[39;00m \u001b[39mnot\u001b[39;00m \u001b[39mNone\u001b[39;00m\n\u001b[0;32m   1716\u001b[0m f \u001b[39m=\u001b[39m \u001b[39mself\u001b[39m\u001b[39m.\u001b[39mhandles\u001b[39m.\u001b[39mhandle\n",
      "File \u001b[1;32mc:\\Users\\cemaurin\\Documents\\.venv\\Lib\\site-packages\\pandas\\io\\common.py:863\u001b[0m, in \u001b[0;36mget_handle\u001b[1;34m(path_or_buf, mode, encoding, compression, memory_map, is_text, errors, storage_options)\u001b[0m\n\u001b[0;32m    858\u001b[0m \u001b[39melif\u001b[39;00m \u001b[39misinstance\u001b[39m(handle, \u001b[39mstr\u001b[39m):\n\u001b[0;32m    859\u001b[0m     \u001b[39m# Check whether the filename is to be opened in binary mode.\u001b[39;00m\n\u001b[0;32m    860\u001b[0m     \u001b[39m# Binary mode does not support 'encoding' and 'newline'.\u001b[39;00m\n\u001b[0;32m    861\u001b[0m     \u001b[39mif\u001b[39;00m ioargs\u001b[39m.\u001b[39mencoding \u001b[39mand\u001b[39;00m \u001b[39m\"\u001b[39m\u001b[39mb\u001b[39m\u001b[39m\"\u001b[39m \u001b[39mnot\u001b[39;00m \u001b[39min\u001b[39;00m ioargs\u001b[39m.\u001b[39mmode:\n\u001b[0;32m    862\u001b[0m         \u001b[39m# Encoding\u001b[39;00m\n\u001b[1;32m--> 863\u001b[0m         handle \u001b[39m=\u001b[39m \u001b[39mopen\u001b[39;49m(\n\u001b[0;32m    864\u001b[0m             handle,\n\u001b[0;32m    865\u001b[0m             ioargs\u001b[39m.\u001b[39;49mmode,\n\u001b[0;32m    866\u001b[0m             encoding\u001b[39m=\u001b[39;49mioargs\u001b[39m.\u001b[39;49mencoding,\n\u001b[0;32m    867\u001b[0m             errors\u001b[39m=\u001b[39;49merrors,\n\u001b[0;32m    868\u001b[0m             newline\u001b[39m=\u001b[39;49m\u001b[39m\"\u001b[39;49m\u001b[39m\"\u001b[39;49m,\n\u001b[0;32m    869\u001b[0m         )\n\u001b[0;32m    870\u001b[0m     \u001b[39melse\u001b[39;00m:\n\u001b[0;32m    871\u001b[0m         \u001b[39m# Binary mode\u001b[39;00m\n\u001b[0;32m    872\u001b[0m         handle \u001b[39m=\u001b[39m \u001b[39mopen\u001b[39m(handle, ioargs\u001b[39m.\u001b[39mmode)\n",
      "\u001b[1;31mFileNotFoundError\u001b[0m: [Errno 2] No such file or directory: './valeursfoncieres-2021/valeursfoncieres-2021.txt'"
     ]
    }
   ],
   "source": [
    "import pandas as pd\n",
    "\n",
    "df = pd.read_csv('./valeursfoncieres-2021/valeursfoncieres-2021.txt', sep=\"|\", decimal=\",\")\n",
    "df.head()"
   ]
  },
  {
   "attachments": {},
   "cell_type": "markdown",
   "metadata": {},
   "source": [
    "### Suppression des colonnes / lignes inutiles du fichier"
   ]
  },
  {
   "cell_type": "code",
   "execution_count": null,
   "metadata": {},
   "outputs": [
    {
     "name": "stdout",
     "output_type": "stream",
     "text": [
      "Taille de notre dataframe sans les colonnes contenant que des NaN : (4649209, 43)\n"
     ]
    }
   ],
   "source": [
    "print(\"Taille de notre dataframe sans les colonnes contenant que des NaN :\", df.shape)"
   ]
  },
  {
   "cell_type": "code",
   "execution_count": null,
   "metadata": {},
   "outputs": [],
   "source": [
    "### Suppression de colonnes dont on a aucune données\n",
    "df_wo_NaN = df.dropna(axis=1, how='all') "
   ]
  },
  {
   "cell_type": "code",
   "execution_count": null,
   "metadata": {},
   "outputs": [
    {
     "ename": "NameError",
     "evalue": "name 'df_wo_NaN' is not defined",
     "output_type": "error",
     "traceback": [
      "\u001b[1;31m---------------------------------------------------------------------------\u001b[0m",
      "\u001b[1;31mNameError\u001b[0m                                 Traceback (most recent call last)",
      "\u001b[1;32mc:\\Users\\bourh\\Cours\\CoursM2SISE\\Machine_Learning_Python\\ProjetPython\\traitement_valeurs_foncieres_2021.ipynb Cell 6\u001b[0m line \u001b[0;36m3\n\u001b[0;32m      <a href='vscode-notebook-cell:/c%3A/Users/bourh/Cours/CoursM2SISE/Machine_Learning_Python/ProjetPython/traitement_valeurs_foncieres_2021.ipynb#W5sZmlsZQ%3D%3D?line=0'>1</a>\u001b[0m \u001b[39m# Nouvelle colonne avec l'adresse et la date de vente jointe\u001b[39;00m\n\u001b[0;32m      <a href='vscode-notebook-cell:/c%3A/Users/bourh/Cours/CoursM2SISE/Machine_Learning_Python/ProjetPython/traitement_valeurs_foncieres_2021.ipynb#W5sZmlsZQ%3D%3D?line=1'>2</a>\u001b[0m cols_to_join \u001b[39m=\u001b[39m [\u001b[39m'\u001b[39m\u001b[39mDate mutation\u001b[39m\u001b[39m'\u001b[39m, \u001b[39m'\u001b[39m\u001b[39mType de voie\u001b[39m\u001b[39m'\u001b[39m, \u001b[39m'\u001b[39m\u001b[39mNo voie\u001b[39m\u001b[39m'\u001b[39m, \u001b[39m'\u001b[39m\u001b[39mCode voie\u001b[39m\u001b[39m'\u001b[39m, \u001b[39m'\u001b[39m\u001b[39mVoie\u001b[39m\u001b[39m'\u001b[39m, \u001b[39m'\u001b[39m\u001b[39mCode postal\u001b[39m\u001b[39m'\u001b[39m, \u001b[39m'\u001b[39m\u001b[39mCommune\u001b[39m\u001b[39m'\u001b[39m]\n\u001b[1;32m----> <a href='vscode-notebook-cell:/c%3A/Users/bourh/Cours/CoursM2SISE/Machine_Learning_Python/ProjetPython/traitement_valeurs_foncieres_2021.ipynb#W5sZmlsZQ%3D%3D?line=2'>3</a>\u001b[0m df_wo_NaN[\u001b[39m'\u001b[39m\u001b[39mcol_concat\u001b[39m\u001b[39m'\u001b[39m] \u001b[39m=\u001b[39m df_wo_NaN[cols_to_join]\u001b[39m.\u001b[39mapply(\u001b[39mlambda\u001b[39;00m x: \u001b[39m'\u001b[39m\u001b[39m'\u001b[39m\u001b[39m.\u001b[39mjoin(\u001b[39mmap\u001b[39m(\u001b[39mstr\u001b[39m,x)), axis\u001b[39m=\u001b[39m\u001b[39m1\u001b[39m)\n\u001b[0;32m      <a href='vscode-notebook-cell:/c%3A/Users/bourh/Cours/CoursM2SISE/Machine_Learning_Python/ProjetPython/traitement_valeurs_foncieres_2021.ipynb#W5sZmlsZQ%3D%3D?line=3'>4</a>\u001b[0m df_wo_NaN\u001b[39m.\u001b[39mhead(\u001b[39m5\u001b[39m)\n",
      "\u001b[1;31mNameError\u001b[0m: name 'df_wo_NaN' is not defined"
     ]
    }
   ],
   "source": [
    "# Nouvelle colonne 'col_concat' avec l'adresse et la date de vente jointe\n",
    "cols_to_join = ['Date mutation', 'Type de voie', 'No voie', 'Code voie', 'Voie', 'Code postal', 'Commune']\n",
    "df_wo_NaN['col_concat'] = df_wo_NaN[cols_to_join].apply(lambda x: ''.join(map(str,x)), axis=1)\n",
    "df_wo_NaN.head(5)"
   ]
  },
  {
   "cell_type": "code",
   "execution_count": null,
   "metadata": {},
   "outputs": [
    {
     "data": {
      "text/html": [
       "<div>\n",
       "<style scoped>\n",
       "    .dataframe tbody tr th:only-of-type {\n",
       "        vertical-align: middle;\n",
       "    }\n",
       "\n",
       "    .dataframe tbody tr th {\n",
       "        vertical-align: top;\n",
       "    }\n",
       "\n",
       "    .dataframe thead th {\n",
       "        text-align: right;\n",
       "    }\n",
       "</style>\n",
       "<table border=\"1\" class=\"dataframe\">\n",
       "  <thead>\n",
       "    <tr style=\"text-align: right;\">\n",
       "      <th></th>\n",
       "      <th>No disposition</th>\n",
       "      <th>Date mutation</th>\n",
       "      <th>Nature mutation</th>\n",
       "      <th>Valeur fonciere</th>\n",
       "      <th>No voie</th>\n",
       "      <th>B/T/Q</th>\n",
       "      <th>Type de voie</th>\n",
       "      <th>Code voie</th>\n",
       "      <th>Voie</th>\n",
       "      <th>Code postal</th>\n",
       "      <th>...</th>\n",
       "      <th>Surface Carrez du 5eme lot</th>\n",
       "      <th>Nombre de lots</th>\n",
       "      <th>Code type local</th>\n",
       "      <th>Type local</th>\n",
       "      <th>Surface reelle bati</th>\n",
       "      <th>Nombre pieces principales</th>\n",
       "      <th>Nature culture</th>\n",
       "      <th>Nature culture speciale</th>\n",
       "      <th>Surface terrain</th>\n",
       "      <th>col_concat</th>\n",
       "    </tr>\n",
       "  </thead>\n",
       "  <tbody>\n",
       "    <tr>\n",
       "      <th>2</th>\n",
       "      <td>1</td>\n",
       "      <td>06/01/2021</td>\n",
       "      <td>Vente</td>\n",
       "      <td>10.0</td>\n",
       "      <td>NaN</td>\n",
       "      <td>NaN</td>\n",
       "      <td>NaN</td>\n",
       "      <td>B043</td>\n",
       "      <td>ROUGEMONT</td>\n",
       "      <td>1290.0</td>\n",
       "      <td>...</td>\n",
       "      <td>NaN</td>\n",
       "      <td>0</td>\n",
       "      <td>NaN</td>\n",
       "      <td>NaN</td>\n",
       "      <td>NaN</td>\n",
       "      <td>NaN</td>\n",
       "      <td>BT</td>\n",
       "      <td>NaN</td>\n",
       "      <td>530.0</td>\n",
       "      <td>06/01/2021nannanB043ROUGEMONT1290.0BEY</td>\n",
       "    </tr>\n",
       "    <tr>\n",
       "      <th>3</th>\n",
       "      <td>1</td>\n",
       "      <td>04/01/2021</td>\n",
       "      <td>Vente</td>\n",
       "      <td>204332.0</td>\n",
       "      <td>7.0</td>\n",
       "      <td>NaN</td>\n",
       "      <td>ALL</td>\n",
       "      <td>0276</td>\n",
       "      <td>DES ECUREUILS</td>\n",
       "      <td>1310.0</td>\n",
       "      <td>...</td>\n",
       "      <td>NaN</td>\n",
       "      <td>0</td>\n",
       "      <td>1.0</td>\n",
       "      <td>Maison</td>\n",
       "      <td>88.0</td>\n",
       "      <td>4.0</td>\n",
       "      <td>S</td>\n",
       "      <td>NaN</td>\n",
       "      <td>866.0</td>\n",
       "      <td>04/01/2021ALL7.00276DES ECUREUILS1310.0BUELLAS</td>\n",
       "    </tr>\n",
       "    <tr>\n",
       "      <th>6</th>\n",
       "      <td>2</td>\n",
       "      <td>04/01/2021</td>\n",
       "      <td>Vente</td>\n",
       "      <td>36.3</td>\n",
       "      <td>NaN</td>\n",
       "      <td>NaN</td>\n",
       "      <td>NaN</td>\n",
       "      <td>B077</td>\n",
       "      <td>COMBET MAILLET</td>\n",
       "      <td>1250.0</td>\n",
       "      <td>...</td>\n",
       "      <td>NaN</td>\n",
       "      <td>0</td>\n",
       "      <td>NaN</td>\n",
       "      <td>NaN</td>\n",
       "      <td>NaN</td>\n",
       "      <td>NaN</td>\n",
       "      <td>BT</td>\n",
       "      <td>NaN</td>\n",
       "      <td>121.0</td>\n",
       "      <td>04/01/2021nannanB077COMBET MAILLET1250.0CORVEI...</td>\n",
       "    </tr>\n",
       "    <tr>\n",
       "      <th>9</th>\n",
       "      <td>2</td>\n",
       "      <td>11/01/2021</td>\n",
       "      <td>Vente</td>\n",
       "      <td>400.0</td>\n",
       "      <td>NaN</td>\n",
       "      <td>NaN</td>\n",
       "      <td>NaN</td>\n",
       "      <td>B085</td>\n",
       "      <td>PRE BROUILLET</td>\n",
       "      <td>1310.0</td>\n",
       "      <td>...</td>\n",
       "      <td>NaN</td>\n",
       "      <td>0</td>\n",
       "      <td>NaN</td>\n",
       "      <td>NaN</td>\n",
       "      <td>NaN</td>\n",
       "      <td>NaN</td>\n",
       "      <td>P</td>\n",
       "      <td>NaN</td>\n",
       "      <td>460.0</td>\n",
       "      <td>11/01/2021nannanB085PRE BROUILLET1310.0MONTCET</td>\n",
       "    </tr>\n",
       "    <tr>\n",
       "      <th>12</th>\n",
       "      <td>1</td>\n",
       "      <td>07/01/2021</td>\n",
       "      <td>Vente</td>\n",
       "      <td>4780.0</td>\n",
       "      <td>NaN</td>\n",
       "      <td>NaN</td>\n",
       "      <td>NaN</td>\n",
       "      <td>B013</td>\n",
       "      <td>BERARDAN</td>\n",
       "      <td>1340.0</td>\n",
       "      <td>...</td>\n",
       "      <td>NaN</td>\n",
       "      <td>0</td>\n",
       "      <td>NaN</td>\n",
       "      <td>NaN</td>\n",
       "      <td>NaN</td>\n",
       "      <td>NaN</td>\n",
       "      <td>P</td>\n",
       "      <td>NaN</td>\n",
       "      <td>7105.0</td>\n",
       "      <td>07/01/2021nannanB013BERARDAN1340.0FOISSIAT</td>\n",
       "    </tr>\n",
       "    <tr>\n",
       "      <th>...</th>\n",
       "      <td>...</td>\n",
       "      <td>...</td>\n",
       "      <td>...</td>\n",
       "      <td>...</td>\n",
       "      <td>...</td>\n",
       "      <td>...</td>\n",
       "      <td>...</td>\n",
       "      <td>...</td>\n",
       "      <td>...</td>\n",
       "      <td>...</td>\n",
       "      <td>...</td>\n",
       "      <td>...</td>\n",
       "      <td>...</td>\n",
       "      <td>...</td>\n",
       "      <td>...</td>\n",
       "      <td>...</td>\n",
       "      <td>...</td>\n",
       "      <td>...</td>\n",
       "      <td>...</td>\n",
       "      <td>...</td>\n",
       "      <td>...</td>\n",
       "    </tr>\n",
       "    <tr>\n",
       "      <th>4649204</th>\n",
       "      <td>1</td>\n",
       "      <td>12/03/2021</td>\n",
       "      <td>Vente</td>\n",
       "      <td>383000.0</td>\n",
       "      <td>8.0</td>\n",
       "      <td>NaN</td>\n",
       "      <td>RUE</td>\n",
       "      <td>9382</td>\n",
       "      <td>DES TOURNELLES</td>\n",
       "      <td>75004.0</td>\n",
       "      <td>...</td>\n",
       "      <td>NaN</td>\n",
       "      <td>2</td>\n",
       "      <td>2.0</td>\n",
       "      <td>Appartement</td>\n",
       "      <td>30.0</td>\n",
       "      <td>2.0</td>\n",
       "      <td>NaN</td>\n",
       "      <td>NaN</td>\n",
       "      <td>NaN</td>\n",
       "      <td>12/03/2021RUE8.09382DES TOURNELLES75004.0PARIS 04</td>\n",
       "    </tr>\n",
       "    <tr>\n",
       "      <th>4649205</th>\n",
       "      <td>1</td>\n",
       "      <td>17/03/2021</td>\n",
       "      <td>Vente</td>\n",
       "      <td>260000.0</td>\n",
       "      <td>8.0</td>\n",
       "      <td>NaN</td>\n",
       "      <td>RUE</td>\n",
       "      <td>8561</td>\n",
       "      <td>SAINTE FOY</td>\n",
       "      <td>75002.0</td>\n",
       "      <td>...</td>\n",
       "      <td>NaN</td>\n",
       "      <td>2</td>\n",
       "      <td>2.0</td>\n",
       "      <td>Appartement</td>\n",
       "      <td>37.0</td>\n",
       "      <td>2.0</td>\n",
       "      <td>NaN</td>\n",
       "      <td>NaN</td>\n",
       "      <td>NaN</td>\n",
       "      <td>17/03/2021RUE8.08561SAINTE FOY75002.0PARIS 02</td>\n",
       "    </tr>\n",
       "    <tr>\n",
       "      <th>4649206</th>\n",
       "      <td>1</td>\n",
       "      <td>19/03/2021</td>\n",
       "      <td>Vente</td>\n",
       "      <td>38000.0</td>\n",
       "      <td>6.0</td>\n",
       "      <td>NaN</td>\n",
       "      <td>RUE</td>\n",
       "      <td>4398</td>\n",
       "      <td>DES GUILLEMITES</td>\n",
       "      <td>75004.0</td>\n",
       "      <td>...</td>\n",
       "      <td>NaN</td>\n",
       "      <td>1</td>\n",
       "      <td>3.0</td>\n",
       "      <td>Dépendance</td>\n",
       "      <td>0.0</td>\n",
       "      <td>0.0</td>\n",
       "      <td>NaN</td>\n",
       "      <td>NaN</td>\n",
       "      <td>NaN</td>\n",
       "      <td>19/03/2021RUE6.04398DES GUILLEMITES75004.0PARI...</td>\n",
       "    </tr>\n",
       "    <tr>\n",
       "      <th>4649207</th>\n",
       "      <td>1</td>\n",
       "      <td>30/03/2021</td>\n",
       "      <td>Vente</td>\n",
       "      <td>38000.0</td>\n",
       "      <td>30.0</td>\n",
       "      <td>NaN</td>\n",
       "      <td>RUE</td>\n",
       "      <td>7338</td>\n",
       "      <td>DU PETIT MUSC</td>\n",
       "      <td>75004.0</td>\n",
       "      <td>...</td>\n",
       "      <td>NaN</td>\n",
       "      <td>1</td>\n",
       "      <td>3.0</td>\n",
       "      <td>Dépendance</td>\n",
       "      <td>0.0</td>\n",
       "      <td>0.0</td>\n",
       "      <td>NaN</td>\n",
       "      <td>NaN</td>\n",
       "      <td>NaN</td>\n",
       "      <td>30/03/2021RUE30.07338DU PETIT MUSC75004.0PARIS 04</td>\n",
       "    </tr>\n",
       "    <tr>\n",
       "      <th>4649208</th>\n",
       "      <td>1</td>\n",
       "      <td>19/03/2021</td>\n",
       "      <td>Vente</td>\n",
       "      <td>690000.0</td>\n",
       "      <td>3.0</td>\n",
       "      <td>NaN</td>\n",
       "      <td>RUE</td>\n",
       "      <td>8659</td>\n",
       "      <td>SAINT-JOSEPH</td>\n",
       "      <td>75002.0</td>\n",
       "      <td>...</td>\n",
       "      <td>NaN</td>\n",
       "      <td>2</td>\n",
       "      <td>4.0</td>\n",
       "      <td>Local industriel. commercial ou assimilé</td>\n",
       "      <td>56.0</td>\n",
       "      <td>0.0</td>\n",
       "      <td>NaN</td>\n",
       "      <td>NaN</td>\n",
       "      <td>NaN</td>\n",
       "      <td>19/03/2021RUE3.08659SAINT-JOSEPH75002.0PARIS 02</td>\n",
       "    </tr>\n",
       "  </tbody>\n",
       "</table>\n",
       "<p>1126427 rows × 36 columns</p>\n",
       "</div>"
      ],
      "text/plain": [
       "         No disposition Date mutation Nature mutation  Valeur fonciere  \\\n",
       "2                     1    06/01/2021           Vente             10.0   \n",
       "3                     1    04/01/2021           Vente         204332.0   \n",
       "6                     2    04/01/2021           Vente             36.3   \n",
       "9                     2    11/01/2021           Vente            400.0   \n",
       "12                    1    07/01/2021           Vente           4780.0   \n",
       "...                 ...           ...             ...              ...   \n",
       "4649204               1    12/03/2021           Vente         383000.0   \n",
       "4649205               1    17/03/2021           Vente         260000.0   \n",
       "4649206               1    19/03/2021           Vente          38000.0   \n",
       "4649207               1    30/03/2021           Vente          38000.0   \n",
       "4649208               1    19/03/2021           Vente         690000.0   \n",
       "\n",
       "         No voie B/T/Q Type de voie Code voie             Voie  Code postal  \\\n",
       "2            NaN   NaN          NaN      B043        ROUGEMONT       1290.0   \n",
       "3            7.0   NaN          ALL      0276    DES ECUREUILS       1310.0   \n",
       "6            NaN   NaN          NaN      B077   COMBET MAILLET       1250.0   \n",
       "9            NaN   NaN          NaN      B085    PRE BROUILLET       1310.0   \n",
       "12           NaN   NaN          NaN      B013         BERARDAN       1340.0   \n",
       "...          ...   ...          ...       ...              ...          ...   \n",
       "4649204      8.0   NaN          RUE      9382   DES TOURNELLES      75004.0   \n",
       "4649205      8.0   NaN          RUE      8561       SAINTE FOY      75002.0   \n",
       "4649206      6.0   NaN          RUE      4398  DES GUILLEMITES      75004.0   \n",
       "4649207     30.0   NaN          RUE      7338    DU PETIT MUSC      75004.0   \n",
       "4649208      3.0   NaN          RUE      8659     SAINT-JOSEPH      75002.0   \n",
       "\n",
       "         ... Surface Carrez du 5eme lot Nombre de lots  Code type local  \\\n",
       "2        ...                        NaN              0              NaN   \n",
       "3        ...                        NaN              0              1.0   \n",
       "6        ...                        NaN              0              NaN   \n",
       "9        ...                        NaN              0              NaN   \n",
       "12       ...                        NaN              0              NaN   \n",
       "...      ...                        ...            ...              ...   \n",
       "4649204  ...                        NaN              2              2.0   \n",
       "4649205  ...                        NaN              2              2.0   \n",
       "4649206  ...                        NaN              1              3.0   \n",
       "4649207  ...                        NaN              1              3.0   \n",
       "4649208  ...                        NaN              2              4.0   \n",
       "\n",
       "                                       Type local Surface reelle bati  \\\n",
       "2                                             NaN                 NaN   \n",
       "3                                          Maison                88.0   \n",
       "6                                             NaN                 NaN   \n",
       "9                                             NaN                 NaN   \n",
       "12                                            NaN                 NaN   \n",
       "...                                           ...                 ...   \n",
       "4649204                               Appartement                30.0   \n",
       "4649205                               Appartement                37.0   \n",
       "4649206                                Dépendance                 0.0   \n",
       "4649207                                Dépendance                 0.0   \n",
       "4649208  Local industriel. commercial ou assimilé                56.0   \n",
       "\n",
       "         Nombre pieces principales Nature culture Nature culture speciale  \\\n",
       "2                              NaN             BT                     NaN   \n",
       "3                              4.0              S                     NaN   \n",
       "6                              NaN             BT                     NaN   \n",
       "9                              NaN              P                     NaN   \n",
       "12                             NaN              P                     NaN   \n",
       "...                            ...            ...                     ...   \n",
       "4649204                        2.0            NaN                     NaN   \n",
       "4649205                        2.0            NaN                     NaN   \n",
       "4649206                        0.0            NaN                     NaN   \n",
       "4649207                        0.0            NaN                     NaN   \n",
       "4649208                        0.0            NaN                     NaN   \n",
       "\n",
       "         Surface terrain                                         col_concat  \n",
       "2                  530.0             06/01/2021nannanB043ROUGEMONT1290.0BEY  \n",
       "3                  866.0     04/01/2021ALL7.00276DES ECUREUILS1310.0BUELLAS  \n",
       "6                  121.0  04/01/2021nannanB077COMBET MAILLET1250.0CORVEI...  \n",
       "9                  460.0     11/01/2021nannanB085PRE BROUILLET1310.0MONTCET  \n",
       "12                7105.0         07/01/2021nannanB013BERARDAN1340.0FOISSIAT  \n",
       "...                  ...                                                ...  \n",
       "4649204              NaN  12/03/2021RUE8.09382DES TOURNELLES75004.0PARIS 04  \n",
       "4649205              NaN      17/03/2021RUE8.08561SAINTE FOY75002.0PARIS 02  \n",
       "4649206              NaN  19/03/2021RUE6.04398DES GUILLEMITES75004.0PARI...  \n",
       "4649207              NaN  30/03/2021RUE30.07338DU PETIT MUSC75004.0PARIS 04  \n",
       "4649208              NaN    19/03/2021RUE3.08659SAINT-JOSEPH75002.0PARIS 02  \n",
       "\n",
       "[1126427 rows x 36 columns]"
      ]
     },
     "execution_count": 5,
     "metadata": {},
     "output_type": "execute_result"
    }
   ],
   "source": [
    "# On supprime les lignes ayant la même valeur dans col_concat\n",
    "df_wo_NaN = df_wo_NaN.drop_duplicates(subset='col_concat', keep=False)\n",
    "df_wo_NaN"
   ]
  },
  {
   "cell_type": "code",
   "execution_count": 4,
   "metadata": {},
   "outputs": [
    {
     "ename": "NameError",
     "evalue": "name 'df_wo_NaN' is not defined",
     "output_type": "error",
     "traceback": [
      "\u001b[1;31m---------------------------------------------------------------------------\u001b[0m",
      "\u001b[1;31mNameError\u001b[0m                                 Traceback (most recent call last)",
      "\u001b[1;32mc:\\Users\\cemaurin\\Documents\\GitHub\\ProjetPython\\traitement_valeurs_foncieres_2021.ipynb Cell 8\u001b[0m line \u001b[0;36m2\n\u001b[0;32m      <a href='vscode-notebook-cell:/c%3A/Users/cemaurin/Documents/GitHub/ProjetPython/traitement_valeurs_foncieres_2021.ipynb#X10sZmlsZQ%3D%3D?line=0'>1</a>\u001b[0m \u001b[39m# pourcentage des valeurs manquantes dans chaque colonne \u001b[39;00m\n\u001b[1;32m----> <a href='vscode-notebook-cell:/c%3A/Users/cemaurin/Documents/GitHub/ProjetPython/traitement_valeurs_foncieres_2021.ipynb#X10sZmlsZQ%3D%3D?line=1'>2</a>\u001b[0m pourcentage_manquant \u001b[39m=\u001b[39m (df_wo_NaN\u001b[39m.\u001b[39misna()\u001b[39m.\u001b[39msum() \u001b[39m/\u001b[39m \u001b[39mlen\u001b[39m(df_wo_NaN)) \u001b[39m*\u001b[39m \u001b[39m100\u001b[39m\n\u001b[0;32m      <a href='vscode-notebook-cell:/c%3A/Users/cemaurin/Documents/GitHub/ProjetPython/traitement_valeurs_foncieres_2021.ipynb#X10sZmlsZQ%3D%3D?line=2'>3</a>\u001b[0m pourcentage_manquant\n",
      "\u001b[1;31mNameError\u001b[0m: name 'df_wo_NaN' is not defined"
     ]
    }
   ],
   "source": [
    "# pourcentage des valeurs manquantes dans chaque colonne \n",
    "pourcentage_manquant = (df_wo_NaN.isna().sum() / len(df_wo_NaN)) * 100\n",
    "pourcentage_manquant"
   ]
  },
  {
   "cell_type": "code",
   "execution_count": 3,
   "metadata": {},
   "outputs": [
    {
     "ename": "NameError",
     "evalue": "name 'pourcentage_manquant' is not defined",
     "output_type": "error",
     "traceback": [
      "\u001b[1;31m---------------------------------------------------------------------------\u001b[0m",
      "\u001b[1;31mNameError\u001b[0m                                 Traceback (most recent call last)",
      "\u001b[1;32mc:\\Users\\cemaurin\\Documents\\GitHub\\ProjetPython\\traitement_valeurs_foncieres_2021.ipynb Cell 9\u001b[0m line \u001b[0;36m1\n\u001b[1;32m----> <a href='vscode-notebook-cell:/c%3A/Users/cemaurin/Documents/GitHub/ProjetPython/traitement_valeurs_foncieres_2021.ipynb#X40sZmlsZQ%3D%3D?line=0'>1</a>\u001b[0m pourcentage_manquant \u001b[39m=\u001b[39m pourcentage_manquant\u001b[39m.\u001b[39msort_values(ascending\u001b[39m=\u001b[39m\u001b[39mFalse\u001b[39;00m)\n\u001b[0;32m      <a href='vscode-notebook-cell:/c%3A/Users/cemaurin/Documents/GitHub/ProjetPython/traitement_valeurs_foncieres_2021.ipynb#X40sZmlsZQ%3D%3D?line=1'>2</a>\u001b[0m pourcentage_manquant \n",
      "\u001b[1;31mNameError\u001b[0m: name 'pourcentage_manquant' is not defined"
     ]
    }
   ],
   "source": [
    "pourcentage_manquant = pourcentage_manquant.sort_values(ascending=False)\n",
    "pourcentage_manquant "
   ]
  },
  {
   "cell_type": "code",
   "execution_count": null,
   "metadata": {},
   "outputs": [
    {
     "name": "stdout",
     "output_type": "stream",
     "text": [
      "Taille de notre dataframe sans les colonnes contenant que des NaN : (1000, 31)\n"
     ]
    }
   ],
   "source": [
    "print(\"Taille de notre dataframe sans les colonnes contenant que des NaN :\", df_wo_NaN.shape)"
   ]
  },
  {
   "attachments": {},
   "cell_type": "markdown",
   "metadata": {},
   "source": [
    "On veut retrouver les colonnes qui ont été supprimées"
   ]
  },
  {
   "cell_type": "code",
   "execution_count": null,
   "metadata": {},
   "outputs": [
    {
     "name": "stdout",
     "output_type": "stream",
     "text": [
      "Les colonnes supprimées sont : ['Identifiant de document', 'Reference document', '1 Articles CGI', '2 Articles CGI', '3 Articles CGI', '4 Articles CGI', '5 Articles CGI', 'No Volume', 'Surface Carrez du 3eme lot', 'Surface Carrez du 4eme lot', 'Surface Carrez du 5eme lot', 'Identifiant local']\n"
     ]
    }
   ],
   "source": [
    "list(df.columns)\n",
    "\n",
    "colonnes_suppr = [col for col in df if col not in df_wo_NaN.columns]\n",
    "\n",
    "print(\"Les colonnes supprimées sont :\", colonnes_suppr)"
   ]
  },
  {
   "cell_type": "code",
   "execution_count": null,
   "metadata": {},
   "outputs": [
    {
     "data": {
      "text/plain": [
       "array(['Vente', \"Vente en l'état futur d'achèvement\", 'Echange',\n",
       "       'Vente terrain à bâtir'], dtype=object)"
      ]
     },
     "execution_count": 7,
     "metadata": {},
     "output_type": "execute_result"
    }
   ],
   "source": [
    "df_wo_NaN[\"Nature mutation\"].unique()"
   ]
  },
  {
   "attachments": {},
   "cell_type": "markdown",
   "metadata": {},
   "source": [
    "Nombre de ventes"
   ]
  },
  {
   "cell_type": "code",
   "execution_count": null,
   "metadata": {},
   "outputs": [
    {
     "data": {
      "text/plain": [
       "Vente                                 981\n",
       "Vente en l'état futur d'achèvement     14\n",
       "Echange                                 4\n",
       "Vente terrain à bâtir                   1\n",
       "Name: Nature mutation, dtype: int64"
      ]
     },
     "execution_count": 8,
     "metadata": {},
     "output_type": "execute_result"
    }
   ],
   "source": [
    "df_wo_NaN[\"Nature mutation\"].value_counts()"
   ]
  },
  {
   "attachments": {},
   "cell_type": "markdown",
   "metadata": {},
   "source": [
    "Evolution des ventes"
   ]
  },
  {
   "cell_type": "code",
   "execution_count": null,
   "metadata": {},
   "outputs": [],
   "source": [
    "import matplotlib.pyplot as plt"
   ]
  },
  {
   "cell_type": "code",
   "execution_count": null,
   "metadata": {},
   "outputs": [
    {
     "data": {
      "text/plain": [
       "0      05/01/2021\n",
       "1      05/01/2021\n",
       "2      06/01/2021\n",
       "3      04/01/2021\n",
       "4      06/01/2021\n",
       "          ...    \n",
       "995    11/02/2021\n",
       "996    11/02/2021\n",
       "997    11/02/2021\n",
       "998    01/02/2021\n",
       "999    15/02/2021\n",
       "Name: Date mutation, Length: 1000, dtype: object"
      ]
     },
     "execution_count": 10,
     "metadata": {},
     "output_type": "execute_result"
    }
   ],
   "source": [
    "df_wo_NaN['Date mutation']"
   ]
  },
  {
   "cell_type": "code",
   "execution_count": null,
   "metadata": {},
   "outputs": [
    {
     "name": "stderr",
     "output_type": "stream",
     "text": [
      "c:\\Users\\bourh\\anaconda3\\lib\\site-packages\\pandas\\core\\tools\\datetimes.py:1047: UserWarning: Parsing '18/01/2021' in DD/MM/YYYY format. Provide format or specify infer_datetime_format=True for consistent parsing.\n",
      "  cache_array = _maybe_cache(arg, format, cache, convert_listlike)\n",
      "c:\\Users\\bourh\\anaconda3\\lib\\site-packages\\pandas\\core\\tools\\datetimes.py:1047: UserWarning: Parsing '13/01/2021' in DD/MM/YYYY format. Provide format or specify infer_datetime_format=True for consistent parsing.\n",
      "  cache_array = _maybe_cache(arg, format, cache, convert_listlike)\n",
      "c:\\Users\\bourh\\anaconda3\\lib\\site-packages\\pandas\\core\\tools\\datetimes.py:1047: UserWarning: Parsing '14/01/2021' in DD/MM/YYYY format. Provide format or specify infer_datetime_format=True for consistent parsing.\n",
      "  cache_array = _maybe_cache(arg, format, cache, convert_listlike)\n",
      "c:\\Users\\bourh\\anaconda3\\lib\\site-packages\\pandas\\core\\tools\\datetimes.py:1047: UserWarning: Parsing '15/01/2021' in DD/MM/YYYY format. Provide format or specify infer_datetime_format=True for consistent parsing.\n",
      "  cache_array = _maybe_cache(arg, format, cache, convert_listlike)\n",
      "c:\\Users\\bourh\\anaconda3\\lib\\site-packages\\pandas\\core\\tools\\datetimes.py:1047: UserWarning: Parsing '19/01/2021' in DD/MM/YYYY format. Provide format or specify infer_datetime_format=True for consistent parsing.\n",
      "  cache_array = _maybe_cache(arg, format, cache, convert_listlike)\n",
      "c:\\Users\\bourh\\anaconda3\\lib\\site-packages\\pandas\\core\\tools\\datetimes.py:1047: UserWarning: Parsing '20/01/2021' in DD/MM/YYYY format. Provide format or specify infer_datetime_format=True for consistent parsing.\n",
      "  cache_array = _maybe_cache(arg, format, cache, convert_listlike)\n",
      "c:\\Users\\bourh\\anaconda3\\lib\\site-packages\\pandas\\core\\tools\\datetimes.py:1047: UserWarning: Parsing '25/01/2021' in DD/MM/YYYY format. Provide format or specify infer_datetime_format=True for consistent parsing.\n",
      "  cache_array = _maybe_cache(arg, format, cache, convert_listlike)\n",
      "c:\\Users\\bourh\\anaconda3\\lib\\site-packages\\pandas\\core\\tools\\datetimes.py:1047: UserWarning: Parsing '21/01/2021' in DD/MM/YYYY format. Provide format or specify infer_datetime_format=True for consistent parsing.\n",
      "  cache_array = _maybe_cache(arg, format, cache, convert_listlike)\n",
      "c:\\Users\\bourh\\anaconda3\\lib\\site-packages\\pandas\\core\\tools\\datetimes.py:1047: UserWarning: Parsing '22/01/2021' in DD/MM/YYYY format. Provide format or specify infer_datetime_format=True for consistent parsing.\n",
      "  cache_array = _maybe_cache(arg, format, cache, convert_listlike)\n",
      "c:\\Users\\bourh\\anaconda3\\lib\\site-packages\\pandas\\core\\tools\\datetimes.py:1047: UserWarning: Parsing '16/01/2021' in DD/MM/YYYY format. Provide format or specify infer_datetime_format=True for consistent parsing.\n",
      "  cache_array = _maybe_cache(arg, format, cache, convert_listlike)\n",
      "c:\\Users\\bourh\\anaconda3\\lib\\site-packages\\pandas\\core\\tools\\datetimes.py:1047: UserWarning: Parsing '26/01/2021' in DD/MM/YYYY format. Provide format or specify infer_datetime_format=True for consistent parsing.\n",
      "  cache_array = _maybe_cache(arg, format, cache, convert_listlike)\n",
      "c:\\Users\\bourh\\anaconda3\\lib\\site-packages\\pandas\\core\\tools\\datetimes.py:1047: UserWarning: Parsing '27/01/2021' in DD/MM/YYYY format. Provide format or specify infer_datetime_format=True for consistent parsing.\n",
      "  cache_array = _maybe_cache(arg, format, cache, convert_listlike)\n",
      "c:\\Users\\bourh\\anaconda3\\lib\\site-packages\\pandas\\core\\tools\\datetimes.py:1047: UserWarning: Parsing '28/01/2021' in DD/MM/YYYY format. Provide format or specify infer_datetime_format=True for consistent parsing.\n",
      "  cache_array = _maybe_cache(arg, format, cache, convert_listlike)\n",
      "c:\\Users\\bourh\\anaconda3\\lib\\site-packages\\pandas\\core\\tools\\datetimes.py:1047: UserWarning: Parsing '29/01/2021' in DD/MM/YYYY format. Provide format or specify infer_datetime_format=True for consistent parsing.\n",
      "  cache_array = _maybe_cache(arg, format, cache, convert_listlike)\n",
      "c:\\Users\\bourh\\anaconda3\\lib\\site-packages\\pandas\\core\\tools\\datetimes.py:1047: UserWarning: Parsing '30/01/2021' in DD/MM/YYYY format. Provide format or specify infer_datetime_format=True for consistent parsing.\n",
      "  cache_array = _maybe_cache(arg, format, cache, convert_listlike)\n",
      "c:\\Users\\bourh\\anaconda3\\lib\\site-packages\\pandas\\core\\tools\\datetimes.py:1047: UserWarning: Parsing '15/02/2021' in DD/MM/YYYY format. Provide format or specify infer_datetime_format=True for consistent parsing.\n",
      "  cache_array = _maybe_cache(arg, format, cache, convert_listlike)\n",
      "c:\\Users\\bourh\\anaconda3\\lib\\site-packages\\pandas\\core\\tools\\datetimes.py:1047: UserWarning: Parsing '17/02/2021' in DD/MM/YYYY format. Provide format or specify infer_datetime_format=True for consistent parsing.\n",
      "  cache_array = _maybe_cache(arg, format, cache, convert_listlike)\n",
      "C:\\Users\\bourh\\AppData\\Local\\Temp\\ipykernel_2524\\1963634953.py:2: SettingWithCopyWarning: \n",
      "A value is trying to be set on a copy of a slice from a DataFrame.\n",
      "Try using .loc[row_indexer,col_indexer] = value instead\n",
      "\n",
      "See the caveats in the documentation: https://pandas.pydata.org/pandas-docs/stable/user_guide/indexing.html#returning-a-view-versus-a-copy\n",
      "  df_wo_NaN['Date mutation'] = pd.to_datetime(df['Date mutation'])\n",
      "C:\\Users\\bourh\\AppData\\Local\\Temp\\ipykernel_2524\\1963634953.py:5: SettingWithCopyWarning: \n",
      "A value is trying to be set on a copy of a slice from a DataFrame.\n",
      "Try using .loc[row_indexer,col_indexer] = value instead\n",
      "\n",
      "See the caveats in the documentation: https://pandas.pydata.org/pandas-docs/stable/user_guide/indexing.html#returning-a-view-versus-a-copy\n",
      "  df_wo_NaN['Mois'] = df_wo_NaN['Date mutation'].dt.month\n"
     ]
    },
    {
     "data": {
      "image/png": "[encoded data removed]",
      "text/plain": [
       "<Figure size 640x480 with 1 Axes>"
      ]
     },
     "metadata": {},
     "output_type": "display_data"
    }
   ],
   "source": [
    "# Convertissez la colonne 'Date' en type datetime\n",
    "df_wo_NaN['Date mutation'] = pd.to_datetime(df['Date mutation'])\n",
    "\n",
    "# Extrayez le mois de chaque date et créez une nouvelle colonne 'Mois'\n",
    "df_wo_NaN['Mois'] = df_wo_NaN['Date mutation'].dt.month\n",
    "\n",
    "# Groupez les ventes par mois et comptez le nombre de ventes dans chaque mois\n",
    "ventes_par_mois = df_wo_NaN.groupby('Mois')['Nature mutation'].count()\n",
    "\n",
    "# Créez un histogramme\n",
    "plt.bar(ventes_par_mois.index, ventes_par_mois.values)\n",
    "\n",
    "# Étiquetez les axes et le titre\n",
    "plt.xlabel('Mois')\n",
    "plt.ylabel('Nombre de ventes')\n",
    "plt.title('Histogramme des ventes par mois')\n",
    "\n",
    "# Affichez l'histogramme\n",
    "plt.show()\n"
   ]
  },
  {
   "cell_type": "code",
   "execution_count": null,
   "metadata": {},
   "outputs": [
    {
     "data": {
      "text/plain": [
       "Index(['Mois', 'Nature mutation'], dtype='object')"
      ]
     },
     "execution_count": 14,
     "metadata": {},
     "output_type": "execute_result"
    }
   ],
   "source": [
    "# df_ventes_par_mois = pd.DataFrame(ventes_par_mois, index=False)\n",
    "df_ventes_par_mois = ventes_par_mois.to_frame().reset_index()\n",
    "df_ventes_par_mois.columns"
   ]
  },
  {
   "cell_type": "code",
   "execution_count": null,
   "metadata": {},
   "outputs": [
    {
     "data": {
      "application/vnd.plotly.v1+json": {
       "config": {
        "plotlyServerURL": "https://plot.ly"
       },
       "data": [
        {
         "hovertemplate": "Mois=%{x}<br>Nature mutation=%{y}<extra></extra>",
         "legendgroup": "",
         "line": {
          "color": "#636efa",
          "dash": "solid"
         },
         "marker": {
          "symbol": "circle"
         },
         "mode": "lines",
         "name": "",
         "orientation": "v",
         "showlegend": false,
         "type": "scatter",
         "x": [
          1,
          2,
          3,
          4,
          5,
          6,
          7,
          8,
          9,
          10,
          11,
          12
         ],
         "xaxis": "x",
         "y": [
          343615,
          294525,
          342893,
          352865,
          360706,
          437969,
          467309,
          353629,
          446892,
          405402,
          332261,
          511143
         ],
         "yaxis": "y"
        }
       ],
       "layout": {
        "legend": {
         "tracegroupgap": 0
        },
        "template": {
         "data": {
          "bar": [
           {
            "error_x": {
             "color": "#2a3f5f"
            },
            "error_y": {
             "color": "#2a3f5f"
            },
            "marker": {
             "line": {
              "color": "#E5ECF6",
              "width": 0.5
             },
             "pattern": {
              "fillmode": "overlay",
              "size": 10,
              "solidity": 0.2
             }
            },
            "type": "bar"
           }
          ],
          "barpolar": [
           {
            "marker": {
             "line": {
              "color": "#E5ECF6",
              "width": 0.5
             },
             "pattern": {
              "fillmode": "overlay",
              "size": 10,
              "solidity": 0.2
             }
            },
            "type": "barpolar"
           }
          ],
          "carpet": [
           {
            "aaxis": {
             "endlinecolor": "#2a3f5f",
             "gridcolor": "white",
             "linecolor": "white",
             "minorgridcolor": "white",
             "startlinecolor": "#2a3f5f"
            },
            "baxis": {
             "endlinecolor": "#2a3f5f",
             "gridcolor": "white",
             "linecolor": "white",
             "minorgridcolor": "white",
             "startlinecolor": "#2a3f5f"
            },
            "type": "carpet"
           }
          ],
          "choropleth": [
           {
            "colorbar": {
             "outlinewidth": 0,
             "ticks": ""
            },
            "type": "choropleth"
           }
          ],
          "contour": [
           {
            "colorbar": {
             "outlinewidth": 0,
             "ticks": ""
            },
            "colorscale": [
             [
              0,
              "#0d0887"
             ],
             [
              0.1111111111111111,
              "#46039f"
             ],
             [
              0.2222222222222222,
              "#7201a8"
             ],
             [
              0.3333333333333333,
              "#9c179e"
             ],
             [
              0.4444444444444444,
              "#bd3786"
             ],
             [
              0.5555555555555556,
              "#d8576b"
             ],
             [
              0.6666666666666666,
              "#ed7953"
             ],
             [
              0.7777777777777778,
              "#fb9f3a"
             ],
             [
              0.8888888888888888,
              "#fdca26"
             ],
             [
              1,
              "#f0f921"
             ]
            ],
            "type": "contour"
           }
          ],
          "contourcarpet": [
           {
            "colorbar": {
             "outlinewidth": 0,
             "ticks": ""
            },
            "type": "contourcarpet"
           }
          ],
          "heatmap": [
           {
            "colorbar": {
             "outlinewidth": 0,
             "ticks": ""
            },
            "colorscale": [
             [
              0,
              "#0d0887"
             ],
             [
              0.1111111111111111,
              "#46039f"
             ],
             [
              0.2222222222222222,
              "#7201a8"
             ],
             [
              0.3333333333333333,
              "#9c179e"
             ],
             [
              0.4444444444444444,
              "#bd3786"
             ],
             [
              0.5555555555555556,
              "#d8576b"
             ],
             [
              0.6666666666666666,
              "#ed7953"
             ],
             [
              0.7777777777777778,
              "#fb9f3a"
             ],
             [
              0.8888888888888888,
              "#fdca26"
             ],
             [
              1,
              "#f0f921"
             ]
            ],
            "type": "heatmap"
           }
          ],
          "heatmapgl": [
           {
            "colorbar": {
             "outlinewidth": 0,
             "ticks": ""
            },
            "colorscale": [
             [
              0,
              "#0d0887"
             ],
             [
              0.1111111111111111,
              "#46039f"
             ],
             [
              0.2222222222222222,
              "#7201a8"
             ],
             [
              0.3333333333333333,
              "#9c179e"
             ],
             [
              0.4444444444444444,
              "#bd3786"
             ],
             [
              0.5555555555555556,
              "#d8576b"
             ],
             [
              0.6666666666666666,
              "#ed7953"
             ],
             [
              0.7777777777777778,
              "#fb9f3a"
             ],
             [
              0.8888888888888888,
              "#fdca26"
             ],
             [
              1,
              "#f0f921"
             ]
            ],
            "type": "heatmapgl"
           }
          ],
          "histogram": [
           {
            "marker": {
             "pattern": {
              "fillmode": "overlay",
              "size": 10,
              "solidity": 0.2
             }
            },
            "type": "histogram"
           }
          ],
          "histogram2d": [
           {
            "colorbar": {
             "outlinewidth": 0,
             "ticks": ""
            },
            "colorscale": [
             [
              0,
              "#0d0887"
             ],
             [
              0.1111111111111111,
              "#46039f"
             ],
             [
              0.2222222222222222,
              "#7201a8"
             ],
             [
              0.3333333333333333,
              "#9c179e"
             ],
             [
              0.4444444444444444,
              "#bd3786"
             ],
             [
              0.5555555555555556,
              "#d8576b"
             ],
             [
              0.6666666666666666,
              "#ed7953"
             ],
             [
              0.7777777777777778,
              "#fb9f3a"
             ],
             [
              0.8888888888888888,
              "#fdca26"
             ],
             [
              1,
              "#f0f921"
             ]
            ],
            "type": "histogram2d"
           }
          ],
          "histogram2dcontour": [
           {
            "colorbar": {
             "outlinewidth": 0,
             "ticks": ""
            },
            "colorscale": [
             [
              0,
              "#0d0887"
             ],
             [
              0.1111111111111111,
              "#46039f"
             ],
             [
              0.2222222222222222,
              "#7201a8"
             ],
             [
              0.3333333333333333,
              "#9c179e"
             ],
             [
              0.4444444444444444,
              "#bd3786"
             ],
             [
              0.5555555555555556,
              "#d8576b"
             ],
             [
              0.6666666666666666,
              "#ed7953"
             ],
             [
              0.7777777777777778,
              "#fb9f3a"
             ],
             [
              0.8888888888888888,
              "#fdca26"
             ],
             [
              1,
              "#f0f921"
             ]
            ],
            "type": "histogram2dcontour"
           }
          ],
          "mesh3d": [
           {
            "colorbar": {
             "outlinewidth": 0,
             "ticks": ""
            },
            "type": "mesh3d"
           }
          ],
          "parcoords": [
           {
            "line": {
             "colorbar": {
              "outlinewidth": 0,
              "ticks": ""
             }
            },
            "type": "parcoords"
           }
          ],
          "pie": [
           {
            "automargin": true,
            "type": "pie"
           }
          ],
          "scatter": [
           {
            "fillpattern": {
             "fillmode": "overlay",
             "size": 10,
             "solidity": 0.2
            },
            "type": "scatter"
           }
          ],
          "scatter3d": [
           {
            "line": {
             "colorbar": {
              "outlinewidth": 0,
              "ticks": ""
             }
            },
            "marker": {
             "colorbar": {
              "outlinewidth": 0,
              "ticks": ""
             }
            },
            "type": "scatter3d"
           }
          ],
          "scattercarpet": [
           {
            "marker": {
             "colorbar": {
              "outlinewidth": 0,
              "ticks": ""
             }
            },
            "type": "scattercarpet"
           }
          ],
          "scattergeo": [
           {
            "marker": {
             "colorbar": {
              "outlinewidth": 0,
              "ticks": ""
             }
            },
            "type": "scattergeo"
           }
          ],
          "scattergl": [
           {
            "marker": {
             "colorbar": {
              "outlinewidth": 0,
              "ticks": ""
             }
            },
            "type": "scattergl"
           }
          ],
          "scattermapbox": [
           {
            "marker": {
             "colorbar": {
              "outlinewidth": 0,
              "ticks": ""
             }
            },
            "type": "scattermapbox"
           }
          ],
          "scatterpolar": [
           {
            "marker": {
             "colorbar": {
              "outlinewidth": 0,
              "ticks": ""
             }
            },
            "type": "scatterpolar"
           }
          ],
          "scatterpolargl": [
           {
            "marker": {
             "colorbar": {
              "outlinewidth": 0,
              "ticks": ""
             }
            },
            "type": "scatterpolargl"
           }
          ],
          "scatterternary": [
           {
            "marker": {
             "colorbar": {
              "outlinewidth": 0,
              "ticks": ""
             }
            },
            "type": "scatterternary"
           }
          ],
          "surface": [
           {
            "colorbar": {
             "outlinewidth": 0,
             "ticks": ""
            },
            "colorscale": [
             [
              0,
              "#0d0887"
             ],
             [
              0.1111111111111111,
              "#46039f"
             ],
             [
              0.2222222222222222,
              "#7201a8"
             ],
             [
              0.3333333333333333,
              "#9c179e"
             ],
             [
              0.4444444444444444,
              "#bd3786"
             ],
             [
              0.5555555555555556,
              "#d8576b"
             ],
             [
              0.6666666666666666,
              "#ed7953"
             ],
             [
              0.7777777777777778,
              "#fb9f3a"
             ],
             [
              0.8888888888888888,
              "#fdca26"
             ],
             [
              1,
              "#f0f921"
             ]
            ],
            "type": "surface"
           }
          ],
          "table": [
           {
            "cells": {
             "fill": {
              "color": "#EBF0F8"
             },
             "line": {
              "color": "white"
             }
            },
            "header": {
             "fill": {
              "color": "#C8D4E3"
             },
             "line": {
              "color": "white"
             }
            },
            "type": "table"
           }
          ]
         },
         "layout": {
          "annotationdefaults": {
           "arrowcolor": "#2a3f5f",
           "arrowhead": 0,
           "arrowwidth": 1
          },
          "autotypenumbers": "strict",
          "coloraxis": {
           "colorbar": {
            "outlinewidth": 0,
            "ticks": ""
           }
          },
          "colorscale": {
           "diverging": [
            [
             0,
             "#8e0152"
            ],
            [
             0.1,
             "#c51b7d"
            ],
            [
             0.2,
             "#de77ae"
            ],
            [
             0.3,
             "#f1b6da"
            ],
            [
             0.4,
             "#fde0ef"
            ],
            [
             0.5,
             "#f7f7f7"
            ],
            [
             0.6,
             "#e6f5d0"
            ],
            [
             0.7,
             "#b8e186"
            ],
            [
             0.8,
             "#7fbc41"
            ],
            [
             0.9,
             "#4d9221"
            ],
            [
             1,
             "#276419"
            ]
           ],
           "sequential": [
            [
             0,
             "#0d0887"
            ],
            [
             0.1111111111111111,
             "#46039f"
            ],
            [
             0.2222222222222222,
             "#7201a8"
            ],
            [
             0.3333333333333333,
             "#9c179e"
            ],
            [
             0.4444444444444444,
             "#bd3786"
            ],
            [
             0.5555555555555556,
             "#d8576b"
            ],
            [
             0.6666666666666666,
             "#ed7953"
            ],
            [
             0.7777777777777778,
             "#fb9f3a"
            ],
            [
             0.8888888888888888,
             "#fdca26"
            ],
            [
             1,
             "#f0f921"
            ]
           ],
           "sequentialminus": [
            [
             0,
             "#0d0887"
            ],
            [
             0.1111111111111111,
             "#46039f"
            ],
            [
             0.2222222222222222,
             "#7201a8"
            ],
            [
             0.3333333333333333,
             "#9c179e"
            ],
            [
             0.4444444444444444,
             "#bd3786"
            ],
            [
             0.5555555555555556,
             "#d8576b"
            ],
            [
             0.6666666666666666,
             "#ed7953"
            ],
            [
             0.7777777777777778,
             "#fb9f3a"
            ],
            [
             0.8888888888888888,
             "#fdca26"
            ],
            [
             1,
             "#f0f921"
            ]
           ]
          },
          "colorway": [
           "#636efa",
           "#EF553B",
           "#00cc96",
           "#ab63fa",
           "#FFA15A",
           "#19d3f3",
           "#FF6692",
           "#B6E880",
           "#FF97FF",
           "#FECB52"
          ],
          "font": {
           "color": "#2a3f5f"
          },
          "geo": {
           "bgcolor": "white",
           "lakecolor": "white",
           "landcolor": "#E5ECF6",
           "showlakes": true,
           "showland": true,
           "subunitcolor": "white"
          },
          "hoverlabel": {
           "align": "left"
          },
          "hovermode": "closest",
          "mapbox": {
           "style": "light"
          },
          "paper_bgcolor": "white",
          "plot_bgcolor": "#E5ECF6",
          "polar": {
           "angularaxis": {
            "gridcolor": "white",
            "linecolor": "white",
            "ticks": ""
           },
           "bgcolor": "#E5ECF6",
           "radialaxis": {
            "gridcolor": "white",
            "linecolor": "white",
            "ticks": ""
           }
          },
          "scene": {
           "xaxis": {
            "backgroundcolor": "#E5ECF6",
            "gridcolor": "white",
            "gridwidth": 2,
            "linecolor": "white",
            "showbackground": true,
            "ticks": "",
            "zerolinecolor": "white"
           },
           "yaxis": {
            "backgroundcolor": "#E5ECF6",
            "gridcolor": "white",
            "gridwidth": 2,
            "linecolor": "white",
            "showbackground": true,
            "ticks": "",
            "zerolinecolor": "white"
           },
           "zaxis": {
            "backgroundcolor": "#E5ECF6",
            "gridcolor": "white",
            "gridwidth": 2,
            "linecolor": "white",
            "showbackground": true,
            "ticks": "",
            "zerolinecolor": "white"
           }
          },
          "shapedefaults": {
           "line": {
            "color": "#2a3f5f"
           }
          },
          "ternary": {
           "aaxis": {
            "gridcolor": "white",
            "linecolor": "white",
            "ticks": ""
           },
           "baxis": {
            "gridcolor": "white",
            "linecolor": "white",
            "ticks": ""
           },
           "bgcolor": "#E5ECF6",
           "caxis": {
            "gridcolor": "white",
            "linecolor": "white",
            "ticks": ""
           }
          },
          "title": {
           "x": 0.05
          },
          "xaxis": {
           "automargin": true,
           "gridcolor": "white",
           "linecolor": "white",
           "ticks": "",
           "title": {
            "standoff": 15
           },
           "zerolinecolor": "white",
           "zerolinewidth": 2
          },
          "yaxis": {
           "automargin": true,
           "gridcolor": "white",
           "linecolor": "white",
           "ticks": "",
           "title": {
            "standoff": 15
           },
           "zerolinecolor": "white",
           "zerolinewidth": 2
          }
         }
        },
        "title": {
         "text": "Ventes par mois"
        },
        "xaxis": {
         "anchor": "y",
         "domain": [
          0,
          1
         ],
         "title": {
          "text": "Mois"
         }
        },
        "yaxis": {
         "anchor": "x",
         "domain": [
          0,
          1
         ],
         "title": {
          "text": "Nature mutation"
         }
        }
       }
      }
     },
     "metadata": {},
     "output_type": "display_data"
    }
   ],
   "source": [
    "import plotly.express as px\n",
    "\n",
    "fig = px.line(df_ventes_par_mois, x=\"Mois\", y=\"Nature mutation\", title='Ventes par mois')\n",
    "fig.show()"
   ]
  },
  {
   "cell_type": "code",
   "execution_count": null,
   "metadata": {},
   "outputs": [
    {
     "data": {
      "text/html": [
       "<div>\n",
       "<style scoped>\n",
       "    .dataframe tbody tr th:only-of-type {\n",
       "        vertical-align: middle;\n",
       "    }\n",
       "\n",
       "    .dataframe tbody tr th {\n",
       "        vertical-align: top;\n",
       "    }\n",
       "\n",
       "    .dataframe thead th {\n",
       "        text-align: right;\n",
       "    }\n",
       "</style>\n",
       "<table border=\"1\" class=\"dataframe\">\n",
       "  <thead>\n",
       "    <tr style=\"text-align: right;\">\n",
       "      <th></th>\n",
       "      <th>Commune</th>\n",
       "      <th>Valeur fonciere</th>\n",
       "    </tr>\n",
       "  </thead>\n",
       "  <tbody>\n",
       "    <tr>\n",
       "      <th>0</th>\n",
       "      <td>VAL-REVERMONT</td>\n",
       "      <td>185000.0</td>\n",
       "    </tr>\n",
       "    <tr>\n",
       "      <th>1</th>\n",
       "      <td>VAL-REVERMONT</td>\n",
       "      <td>185000.0</td>\n",
       "    </tr>\n",
       "    <tr>\n",
       "      <th>2</th>\n",
       "      <td>BEY</td>\n",
       "      <td>10.0</td>\n",
       "    </tr>\n",
       "    <tr>\n",
       "      <th>3</th>\n",
       "      <td>BUELLAS</td>\n",
       "      <td>204332.0</td>\n",
       "    </tr>\n",
       "    <tr>\n",
       "      <th>4</th>\n",
       "      <td>MONTAGNAT</td>\n",
       "      <td>320000.0</td>\n",
       "    </tr>\n",
       "    <tr>\n",
       "      <th>...</th>\n",
       "      <td>...</td>\n",
       "      <td>...</td>\n",
       "    </tr>\n",
       "    <tr>\n",
       "      <th>995</th>\n",
       "      <td>NEUVILLE-SUR-AIN</td>\n",
       "      <td>440000.0</td>\n",
       "    </tr>\n",
       "    <tr>\n",
       "      <th>996</th>\n",
       "      <td>NEUVILLE-SUR-AIN</td>\n",
       "      <td>440000.0</td>\n",
       "    </tr>\n",
       "    <tr>\n",
       "      <th>997</th>\n",
       "      <td>NEUVILLE-SUR-AIN</td>\n",
       "      <td>440000.0</td>\n",
       "    </tr>\n",
       "    <tr>\n",
       "      <th>998</th>\n",
       "      <td>PONT-DE-VEYLE</td>\n",
       "      <td>30000.0</td>\n",
       "    </tr>\n",
       "    <tr>\n",
       "      <th>999</th>\n",
       "      <td>BOURG-EN-BRESSE</td>\n",
       "      <td>11500.0</td>\n",
       "    </tr>\n",
       "  </tbody>\n",
       "</table>\n",
       "<p>1000 rows × 2 columns</p>\n",
       "</div>"
      ],
      "text/plain": [
       "              Commune  Valeur fonciere\n",
       "0       VAL-REVERMONT         185000.0\n",
       "1       VAL-REVERMONT         185000.0\n",
       "2                 BEY             10.0\n",
       "3             BUELLAS         204332.0\n",
       "4           MONTAGNAT         320000.0\n",
       "..                ...              ...\n",
       "995  NEUVILLE-SUR-AIN         440000.0\n",
       "996  NEUVILLE-SUR-AIN         440000.0\n",
       "997  NEUVILLE-SUR-AIN         440000.0\n",
       "998     PONT-DE-VEYLE          30000.0\n",
       "999   BOURG-EN-BRESSE          11500.0\n",
       "\n",
       "[1000 rows x 2 columns]"
      ]
     },
     "execution_count": 19,
     "metadata": {},
     "output_type": "execute_result"
    }
   ],
   "source": [
    "df_scatter = df_wo_NaN.head(1000)[['Commune', 'Valeur fonciere']]\n",
    "df_scatter"
   ]
  },
  {
   "cell_type": "code",
   "execution_count": null,
   "metadata": {},
   "outputs": [
    {
     "data": {
      "application/vnd.plotly.v1+json": {
       "config": {
        "plotlyServerURL": "https://plot.ly"
       },
       "data": [
        {
         "hovertemplate": "Commune=%{x}<br>Valeur fonciere=%{y}<extra></extra>",
         "legendgroup": "",
         "marker": {
          "color": "#636efa",
          "symbol": "circle"
         },
         "mode": "markers",
         "name": "",
         "orientation": "v",
         "showlegend": false,
         "type": "scatter",
         "x": [
          "VAL-REVERMONT",
          "VAL-REVERMONT",
          "BEY",
          "BUELLAS",
          "MONTAGNAT",
          "MONTAGNAT",
          "CORVEISSIAT",
          "SAINT-DENIS-LES-BOURG",
          "SAINT-DENIS-LES-BOURG",
          "MONTCET",
          "FOISSIAT",
          "FOISSIAT",
          "FOISSIAT",
          "FOISSIAT",
          "POLLIAT",
          "PERONNAS",
          "FOISSIAT",
          "JASSERON",
          "FOISSIAT",
          "FOISSIAT",
          "FOISSIAT",
          "FOISSIAT",
          "FOISSIAT",
          "FOISSIAT",
          "DRUILLAT",
          "SAINT-LAURENT-SUR-SAONE",
          "SAINT-LAURENT-SUR-SAONE",
          "FEILLENS",
          "FEILLENS",
          "DOMPIERRE-SUR-VEYLE",
          "DOMPIERRE-SUR-VEYLE",
          "DOMPIERRE-SUR-VEYLE",
          "DOMPIERRE-SUR-VEYLE",
          "DOMPIERRE-SUR-VEYLE",
          "BOURG-EN-BRESSE",
          "BOURG-EN-BRESSE",
          "VIRIAT",
          "VIRIAT",
          "VIRIAT",
          "VIRIAT",
          "VIRIAT",
          "VIRIAT",
          "VIRIAT",
          "VIRIAT",
          "VIRIAT",
          "SAINT-ETIENNE-DU-BOIS",
          "BOURG-EN-BRESSE",
          "PERONNAS",
          "PERONNAS",
          "SAINT-DENIS-LES-BOURG",
          "SAINT-DENIS-LES-BOURG",
          "BOURG-EN-BRESSE",
          "BOURG-EN-BRESSE",
          "PERONNAS",
          "PERONNAS",
          "BOURG-EN-BRESSE",
          "BOURG-EN-BRESSE",
          "BOURG-EN-BRESSE",
          "BOURG-EN-BRESSE",
          "VIRIAT",
          "MONTRACOL",
          "PIRAJOUX",
          "SAINT-DENIS-LES-BOURG",
          "SAINT-DENIS-LES-BOURG",
          "SAINT-ETIENNE-DU-BOIS",
          "SAINT-ETIENNE-DU-BOIS",
          "SAINT-ETIENNE-DU-BOIS",
          "SAINT-ETIENNE-DU-BOIS",
          "MARBOZ",
          "COLIGNY",
          "SAINT-ETIENNE-DU-BOIS",
          "JASSERON",
          "JASSERON",
          "JASSERON",
          "JASSERON",
          "HAUTECOURT-ROMANECHE",
          "HAUTECOURT-ROMANECHE",
          "HAUTECOURT-ROMANECHE",
          "HAUTECOURT-ROMANECHE",
          "HAUTECOURT-ROMANECHE",
          "HAUTECOURT-ROMANECHE",
          "HAUTECOURT-ROMANECHE",
          "HAUTECOURT-ROMANECHE",
          "BOURG-EN-BRESSE",
          "BOURG-EN-BRESSE",
          "BRESSE VALLONS",
          "BRESSE VALLONS",
          "BRESSE VALLONS",
          "BRESSE VALLONS",
          "BRESSE VALLONS",
          "BRESSE VALLONS",
          "BRESSE VALLONS",
          "BRESSE VALLONS",
          "BRESSE VALLONS",
          "BRESSE VALLONS",
          "REVONNAS",
          "REVONNAS",
          "BOURG-EN-BRESSE",
          "BOURG-EN-BRESSE",
          "FOISSIAT",
          "CORMORANCHE-SUR-SAONE",
          "CORMORANCHE-SUR-SAONE",
          "CORMORANCHE-SUR-SAONE",
          "BEY",
          "CHAVANNES-SUR-REYSSOUZE",
          "CHAVANNES-SUR-REYSSOUZE",
          "CHAVANNES-SUR-REYSSOUZE",
          "CHAVANNES-SUR-REYSSOUZE",
          "BOURG-EN-BRESSE",
          "BOURG-EN-BRESSE",
          "BOURG-EN-BRESSE",
          "BOURG-EN-BRESSE",
          "CROTTET",
          "CROTTET",
          "REPLONGES",
          "REPLONGES",
          "SAINT-TRIVIER-DE-COURTES",
          "SAINT-TRIVIER-DE-COURTES",
          "SAINT-TRIVIER-DE-COURTES",
          "PONT-D AIN",
          "PONT-D AIN",
          "VIRIAT",
          "VIRIAT",
          "VIRIAT",
          "VIRIAT",
          "FOISSIAT",
          "FOISSIAT",
          "LESCHEROUX",
          "LESCHEROUX",
          "FOISSIAT",
          "FOISSIAT",
          "FOISSIAT",
          "BOURG-EN-BRESSE",
          "BOURG-EN-BRESSE",
          "MEILLONNAS",
          "MEILLONNAS",
          "MEILLONNAS",
          "CEYZERIAT",
          "CEYZERIAT",
          "CEYZERIAT",
          "CEYZERIAT",
          "CEYZERIAT",
          "VAL-REVERMONT",
          "PRIAY",
          "CURCIAT-DONGALON",
          "VERNOUX",
          "VERNOUX",
          "VERNOUX",
          "VERNOUX",
          "VERNOUX",
          "VERNOUX",
          "VERNOUX",
          "CHAVANNES-SUR-REYSSOUZE",
          "CURCIAT-DONGALON",
          "CURCIAT-DONGALON",
          "CHAVANNES-SUR-REYSSOUZE",
          "CHAVANNES-SUR-REYSSOUZE",
          "CHAVANNES-SUR-REYSSOUZE",
          "CHAVANNES-SUR-REYSSOUZE",
          "CHAVANNES-SUR-REYSSOUZE",
          "CHAVANNES-SUR-REYSSOUZE",
          "CHAVANNES-SUR-REYSSOUZE",
          "CHAVANNES-SUR-REYSSOUZE",
          "CHAVANNES-SUR-REYSSOUZE",
          "CHAVANNES-SUR-REYSSOUZE",
          "CHAVANNES-SUR-REYSSOUZE",
          "CHAVANNES-SUR-REYSSOUZE",
          "CHAVANNES-SUR-REYSSOUZE",
          "CHAVANNES-SUR-REYSSOUZE",
          "CHAVANNES-SUR-REYSSOUZE",
          "CHAVANNES-SUR-REYSSOUZE",
          "CHAVANNES-SUR-REYSSOUZE",
          "CHAVANNES-SUR-REYSSOUZE",
          "CHAVANNES-SUR-REYSSOUZE",
          "CHAVANNES-SUR-REYSSOUZE",
          "CHAVANNES-SUR-REYSSOUZE",
          "CHAVANNES-SUR-REYSSOUZE",
          "CHAVANNES-SUR-REYSSOUZE",
          "CHAVANNES-SUR-REYSSOUZE",
          "CHAVANNES-SUR-REYSSOUZE",
          "CHAVANNES-SUR-REYSSOUZE",
          "CHAVANNES-SUR-REYSSOUZE",
          "CHAVANNES-SUR-REYSSOUZE",
          "CHAVANNES-SUR-REYSSOUZE",
          "CHAVANNES-SUR-REYSSOUZE",
          "CHAVANNES-SUR-REYSSOUZE",
          "CHAVANNES-SUR-REYSSOUZE",
          "CHAVANNES-SUR-REYSSOUZE",
          "CHAVANNES-SUR-REYSSOUZE",
          "CHAVANNES-SUR-REYSSOUZE",
          "CHAVANNES-SUR-REYSSOUZE",
          "COLIGNY",
          "COLIGNY",
          "BOURG-EN-BRESSE",
          "BOURG-EN-BRESSE",
          "PERONNAS",
          "PERONNAS",
          "PERONNAS",
          "PERONNAS",
          "PERONNAS",
          "SAINT-ETIENNE-DU-BOIS",
          "SAINT-ETIENNE-DU-BOIS",
          "SAINT-ETIENNE-DU-BOIS",
          "SAINT-ETIENNE-DU-BOIS",
          "SAINT-ETIENNE-DU-BOIS",
          "SAINT-ETIENNE-DU-BOIS",
          "SAINT-ETIENNE-DU-BOIS",
          "SAINT-ETIENNE-DU-BOIS",
          "BOURG-EN-BRESSE",
          "BOURG-EN-BRESSE",
          "BOURG-EN-BRESSE",
          "BOURG-EN-BRESSE",
          "BOURG-EN-BRESSE",
          "BOURG-EN-BRESSE",
          "BOURG-EN-BRESSE",
          "BOURG-EN-BRESSE",
          "JAYAT",
          "JAYAT",
          "JAYAT",
          "MONTREVEL-EN-BRESSE",
          "CORVEISSIAT",
          "VIRIAT",
          "BOURG-EN-BRESSE",
          "BOURG-EN-BRESSE",
          "SAINT-CYR-SUR-MENTHON",
          "CHAVANNES-SUR-REYSSOUZE",
          "CHAVANNES-SUR-REYSSOUZE",
          "CHAVANNES-SUR-REYSSOUZE",
          "BOHAS-MEYRIAT-RIGNAT",
          "BOHAS-MEYRIAT-RIGNAT",
          "BOHAS-MEYRIAT-RIGNAT",
          "BOHAS-MEYRIAT-RIGNAT",
          "BOHAS-MEYRIAT-RIGNAT",
          "BOHAS-MEYRIAT-RIGNAT",
          "BOHAS-MEYRIAT-RIGNAT",
          "PERREX",
          "OZAN",
          "OZAN",
          "SAINT-MARTIN-DU-MONT",
          "SAINT-LAURENT-SUR-SAONE",
          "CROTTET",
          "CROTTET",
          "BAGE-DOMMARTIN",
          "BAGE-DOMMARTIN",
          "BAGE-DOMMARTIN",
          "BOURG-EN-BRESSE",
          "BOURG-EN-BRESSE",
          "CEYZERIAT",
          "CEYZERIAT",
          "CEYZERIAT",
          "CEYZERIAT",
          "CEYZERIAT",
          "CEYZERIAT",
          "CEYZERIAT",
          "CEYZERIAT",
          "CEYZERIAT",
          "CEYZERIAT",
          "CHAVANNES-SUR-REYSSOUZE",
          "CHAVANNES-SUR-REYSSOUZE",
          "CHAVANNES-SUR-REYSSOUZE",
          "CHAVANNES-SUR-REYSSOUZE",
          "CHAVANNES-SUR-REYSSOUZE",
          "CORMOZ",
          "CORMOZ",
          "LESCHEROUX",
          "LESCHEROUX",
          "SAINT-TRIVIER-DE-COURTES",
          "SAINT-TRIVIER-DE-COURTES",
          "SAINT-TRIVIER-DE-COURTES",
          "SAINT-TRIVIER-DE-COURTES",
          "PONT-DE-VEYLE",
          "GRIEGES",
          "POLLIAT",
          "POLLIAT",
          "BOURG-EN-BRESSE",
          "BOURG-EN-BRESSE",
          "MARBOZ",
          "BEAUPONT",
          "BEAUPONT",
          "MANTENAY-MONTLIN",
          "MANTENAY-MONTLIN",
          "MANTENAY-MONTLIN",
          "LESCHEROUX",
          "LESCHEROUX",
          "MANTENAY-MONTLIN",
          "MANTENAY-MONTLIN",
          "MANTENAY-MONTLIN",
          "MANTENAY-MONTLIN",
          "BAGE-DOMMARTIN",
          "BAGE-DOMMARTIN",
          "BOURG-EN-BRESSE",
          "BOURG-EN-BRESSE",
          "CONFRANCON",
          "CONFRANCON",
          "SAINT-CYR-SUR-MENTHON",
          "SAINT-CYR-SUR-MENTHON",
          "SAINT-CYR-SUR-MENTHON",
          "SAINT-CYR-SUR-MENTHON",
          "SAINT-CYR-SUR-MENTHON",
          "SAINT-CYR-SUR-MENTHON",
          "SAINT-CYR-SUR-MENTHON",
          "SAINT-CYR-SUR-MENTHON",
          "SAINT-CYR-SUR-MENTHON",
          "SAINT-CYR-SUR-MENTHON",
          "SAINT-DIDIER-D AUSSIAT",
          "SAINT-DIDIER-D AUSSIAT",
          "SAINT-DIDIER-D AUSSIAT",
          "SAINT-DIDIER-D AUSSIAT",
          "SAINT-DIDIER-D AUSSIAT",
          "SAINT-DIDIER-D AUSSIAT",
          "SAINT-DIDIER-D AUSSIAT",
          "SAINT-GENIS-SUR-MENTHON",
          "SAINT-GENIS-SUR-MENTHON",
          "SAINT-SULPICE",
          "SAINT-SULPICE",
          "SAINT-SULPICE",
          "SAINT-SULPICE",
          "SAINT-SULPICE",
          "SAINT-SULPICE",
          "SAINT-SULPICE",
          "SAINT-SULPICE",
          "SAINT-SULPICE",
          "SAINT-SULPICE",
          "SAINT-SULPICE",
          "SAINT-SULPICE",
          "SAINT-SULPICE",
          "SAINT-SULPICE",
          "SAINT-SULPICE",
          "SAINT-SULPICE",
          "SAINT-SULPICE",
          "SAINT-SULPICE",
          "SAINT-SULPICE",
          "ATTIGNAT",
          "ATTIGNAT",
          "VAL-REVERMONT",
          "SAINT-DENIS-LES-BOURG",
          "BENY",
          "BENY",
          "BENY",
          "CRUZILLES-LES-MEPILLAT",
          "CRUZILLES-LES-MEPILLAT",
          "BOISSEY",
          "BOISSEY",
          "BOISSEY",
          "PONT-DE-VAUX",
          "SAINT-JEAN-SUR-REYSSOUZE",
          "ARBIGNY",
          "ARBIGNY",
          "ARBIGNY",
          "CORMORANCHE-SUR-SAONE",
          "SAINT-DIDIER-D AUSSIAT",
          "SAINT-DIDIER-D AUSSIAT",
          "VAL-REVERMONT",
          "VAL-REVERMONT",
          "VAL-REVERMONT",
          "VAL-REVERMONT",
          "VAL-REVERMONT",
          "VAL-REVERMONT",
          "LAIZ",
          "LAIZ",
          "BOURG-EN-BRESSE",
          "CROTTET",
          "SAINT-DENIS-LES-BOURG",
          "SAINT-DENIS-LES-BOURG",
          "COLIGNY",
          "SAINT-MARTIN-DU-MONT",
          "SAINT-MARTIN-DU-MONT",
          "NIVIGNE ET SURAN",
          "NIVIGNE ET SURAN",
          "NIVIGNE ET SURAN",
          "PERONNAS",
          "MONTREVEL-EN-BRESSE",
          "MONTREVEL-EN-BRESSE",
          "BOURG-EN-BRESSE",
          "BOURG-EN-BRESSE",
          "SAINT-REMY",
          "SAINT-DENIS-LES-BOURG",
          "SAINT-DENIS-LES-BOURG",
          "SAINT-DENIS-LES-BOURG",
          "SAINT-DENIS-LES-BOURG",
          "BOURG-EN-BRESSE",
          "TOSSIAT",
          "PERONNAS",
          "BOURG-EN-BRESSE",
          "BOURG-EN-BRESSE",
          "BOURG-EN-BRESSE",
          "BOURG-EN-BRESSE",
          "BOURG-EN-BRESSE",
          "BOURG-EN-BRESSE",
          "BOURG-EN-BRESSE",
          "BOURG-EN-BRESSE",
          "BOURG-EN-BRESSE",
          "BOURG-EN-BRESSE",
          "BOURG-EN-BRESSE",
          "BOURG-EN-BRESSE",
          "BOURG-EN-BRESSE",
          "BOURG-EN-BRESSE",
          "VAL-REVERMONT",
          "VAL-REVERMONT",
          "VAL-REVERMONT",
          "VAL-REVERMONT",
          "VAL-REVERMONT",
          "VAL-REVERMONT",
          "VAL-REVERMONT",
          "VAL-REVERMONT",
          "VAL-REVERMONT",
          "VAL-REVERMONT",
          "VAL-REVERMONT",
          "VAL-REVERMONT",
          "VAL-REVERMONT",
          "VAL-REVERMONT",
          "VAL-REVERMONT",
          "VAL-REVERMONT",
          "VAL-REVERMONT",
          "VAL-REVERMONT",
          "VAL-REVERMONT",
          "VAL-REVERMONT",
          "VAL-REVERMONT",
          "VAL-REVERMONT",
          "VAL-REVERMONT",
          "VAL-REVERMONT",
          "VAL-REVERMONT",
          "VAL-REVERMONT",
          "VAL-REVERMONT",
          "VAL-REVERMONT",
          "VAL-REVERMONT",
          "VAL-REVERMONT",
          "VAL-REVERMONT",
          "VAL-REVERMONT",
          "VAL-REVERMONT",
          "VAL-REVERMONT",
          "VAL-REVERMONT",
          "VAL-REVERMONT",
          "VAL-REVERMONT",
          "VAL-REVERMONT",
          "VAL-REVERMONT",
          "VAL-REVERMONT",
          "VAL-REVERMONT",
          "VAL-REVERMONT",
          "VAL-REVERMONT",
          "VAL-REVERMONT",
          "VAL-REVERMONT",
          "VAL-REVERMONT",
          "VAL-REVERMONT",
          "VAL-REVERMONT",
          "VAL-REVERMONT",
          "VAL-REVERMONT",
          "VAL-REVERMONT",
          "VAL-REVERMONT",
          "VAL-REVERMONT",
          "VAL-REVERMONT",
          "VAL-REVERMONT",
          "VAL-REVERMONT",
          "VAL-REVERMONT",
          "VAL-REVERMONT",
          "VAL-REVERMONT",
          "VAL-REVERMONT",
          "VAL-REVERMONT",
          "VAL-REVERMONT",
          "VAL-REVERMONT",
          "VAL-REVERMONT",
          "SAINT-ANDRE-DE-BAGE",
          "SAINT-ANDRE-DE-BAGE",
          "SAINT-ANDRE-DE-BAGE",
          "SAINT-ANDRE-DE-BAGE",
          "BOURG-EN-BRESSE",
          "BOURG-EN-BRESSE",
          "VIRIAT",
          "MANZIAT",
          "BOURG-EN-BRESSE",
          "CEYZERIAT",
          "CEYZERIAT",
          "DROM",
          "DROM",
          "PERONNAS",
          "VAL-REVERMONT",
          "VAL-REVERMONT",
          "VAL-REVERMONT",
          "VAL-REVERMONT",
          "VAL-REVERMONT",
          "VAL-REVERMONT",
          "VAL-REVERMONT",
          "VAL-REVERMONT",
          "SAINT-JULIEN-SUR-REYSSOUZE",
          "SAINT-JULIEN-SUR-REYSSOUZE",
          "VIRIAT",
          "LAIZ",
          "LAIZ",
          "LAIZ",
          "LAIZ",
          "SAINT-GENIS-SUR-MENTHON",
          "SAINT-GENIS-SUR-MENTHON",
          "VAL-REVERMONT",
          "VIRIAT",
          "PONT-D AIN",
          "PONT-D AIN",
          "BEY",
          "BEY",
          "BEY",
          "SAINT-DIDIER-D AUSSIAT",
          "SAINT-DIDIER-D AUSSIAT",
          "VIRIAT",
          "PIRAJOUX",
          "PIRAJOUX",
          "PIRAJOUX",
          "BRESSE VALLONS",
          "MONTREVEL-EN-BRESSE",
          "MONTREVEL-EN-BRESSE",
          "MONTREVEL-EN-BRESSE",
          "MONTREVEL-EN-BRESSE",
          "LENT",
          "LENT",
          "LENT",
          "PONT-DE-VEYLE",
          "PONT-DE-VEYLE",
          "SAINT-TRIVIER-DE-COURTES",
          "SAINT-JEAN-SUR-REYSSOUZE",
          "SAINT-LAURENT-SUR-SAONE",
          "SAINT-LAURENT-SUR-SAONE",
          "BAGE-DOMMARTIN",
          "REPLONGES",
          "REPLONGES",
          "REPLONGES",
          "BAGE-DOMMARTIN",
          "BAGE-DOMMARTIN",
          "BAGE-DOMMARTIN",
          "BAGE-DOMMARTIN",
          "BAGE-DOMMARTIN",
          "BAGE-DOMMARTIN",
          "BAGE-DOMMARTIN",
          "BAGE-DOMMARTIN",
          "BAGE-DOMMARTIN",
          "FEILLENS",
          "FEILLENS",
          "SAINT-JEAN-SUR-VEYLE",
          "SAINT-JEAN-SUR-VEYLE",
          "BOURG-EN-BRESSE",
          "CERTINES",
          "CERTINES",
          "CERTINES",
          "CERTINES",
          "CERTINES",
          "VIRIAT",
          "VIRIAT",
          "BOURG-EN-BRESSE",
          "BOURG-EN-BRESSE",
          "FOISSIAT",
          "FOISSIAT",
          "MANTENAY-MONTLIN",
          "MONTREVEL-EN-BRESSE",
          "BOURG-EN-BRESSE",
          "BOURG-EN-BRESSE",
          "PONT-DE-VAUX",
          "PONT-DE-VAUX",
          "PONT-DE-VAUX",
          "PONT-DE-VAUX",
          "PRIAY",
          "SAINT-DENIS-LES-BOURG",
          "BRESSE VALLONS",
          "SAINT-JEAN-SUR-REYSSOUZE",
          "SAINT-JEAN-SUR-REYSSOUZE",
          "SAINT-JEAN-SUR-REYSSOUZE",
          "SAINT-JEAN-SUR-REYSSOUZE",
          "SAINT-JEAN-SUR-REYSSOUZE",
          "SAINT-JEAN-SUR-REYSSOUZE",
          "SAINT-JEAN-SUR-REYSSOUZE",
          "SAINT-JEAN-SUR-REYSSOUZE",
          "SAINT-JEAN-SUR-REYSSOUZE",
          "SAINT-JEAN-SUR-REYSSOUZE",
          "SAINT-JEAN-SUR-REYSSOUZE",
          "SAINT-JEAN-SUR-REYSSOUZE",
          "SAINT-JEAN-SUR-REYSSOUZE",
          "SAINT-JEAN-SUR-REYSSOUZE",
          "SAINT-JEAN-SUR-REYSSOUZE",
          "SAINT-JEAN-SUR-REYSSOUZE",
          "SAINT-JEAN-SUR-REYSSOUZE",
          "SAINT-JEAN-SUR-REYSSOUZE",
          "ATTIGNAT",
          "ATTIGNAT",
          "ATTIGNAT",
          "JAYAT",
          "JAYAT",
          "FOISSIAT",
          "CEYZERIAT",
          "CRUZILLES-LES-MEPILLAT",
          "JOURNANS",
          "MONTRACOL",
          "MONTRACOL",
          "DROM",
          "SAINT-JEAN-SUR-REYSSOUZE",
          "SAINT-JEAN-SUR-REYSSOUZE",
          "SAINT-JEAN-SUR-REYSSOUZE",
          "JASSERON",
          "SALAVRE",
          "SERVIGNAT",
          "SERVIGNAT",
          "SERVIGNAT",
          "SERVIGNAT",
          "SERVIGNAT",
          "SERVIGNAT",
          "SERVIGNAT",
          "SERVIGNAT",
          "SERVIGNAT",
          "SERVIGNAT",
          "SERVIGNAT",
          "SERVIGNAT",
          "SERVIGNAT",
          "SERVIGNAT",
          "SERVIGNAT",
          "SERVIGNAT",
          "SERVIGNAT",
          "SERVIGNAT",
          "SERVIGNAT",
          "SERVIGNAT",
          "SERVIGNAT",
          "SERVIGNAT",
          "SERVIGNAT",
          "SERVIGNAT",
          "SERVIGNAT",
          "SERVIGNAT",
          "SERVIGNAT",
          "SERVIGNAT",
          "SERVIGNAT",
          "SERVIGNAT",
          "SERVIGNAT",
          "SERVIGNAT",
          "SERVIGNAT",
          "SERVIGNAT",
          "SERVIGNAT",
          "SERVIGNAT",
          "SERVIGNAT",
          "SERVIGNAT",
          "SERVIGNAT",
          "VERNOUX",
          "VERNOUX",
          "VERNOUX",
          "VERNOUX",
          "VERNOUX",
          "VERNOUX",
          "VERNOUX",
          "VERNOUX",
          "VERNOUX",
          "VERNOUX",
          "BAGE-DOMMARTIN",
          "HAUTECOURT-ROMANECHE",
          "HAUTECOURT-ROMANECHE",
          "HAUTECOURT-ROMANECHE",
          "HAUTECOURT-ROMANECHE",
          "HAUTECOURT-ROMANECHE",
          "HAUTECOURT-ROMANECHE",
          "HAUTECOURT-ROMANECHE",
          "HAUTECOURT-ROMANECHE",
          "HAUTECOURT-ROMANECHE",
          "HAUTECOURT-ROMANECHE",
          "HAUTECOURT-ROMANECHE",
          "HAUTECOURT-ROMANECHE",
          "HAUTECOURT-ROMANECHE",
          "HAUTECOURT-ROMANECHE",
          "HAUTECOURT-ROMANECHE",
          "HAUTECOURT-ROMANECHE",
          "HAUTECOURT-ROMANECHE",
          "HAUTECOURT-ROMANECHE",
          "HAUTECOURT-ROMANECHE",
          "HAUTECOURT-ROMANECHE",
          "HAUTECOURT-ROMANECHE",
          "HAUTECOURT-ROMANECHE",
          "HAUTECOURT-ROMANECHE",
          "HAUTECOURT-ROMANECHE",
          "HAUTECOURT-ROMANECHE",
          "BOURG-EN-BRESSE",
          "BOURG-EN-BRESSE",
          "VIRIAT",
          "VIRIAT",
          "BOURG-EN-BRESSE",
          "BOURG-EN-BRESSE",
          "BOURG-EN-BRESSE",
          "BOURG-EN-BRESSE",
          "BRESSE VALLONS",
          "BRESSE VALLONS",
          "BOURG-EN-BRESSE",
          "SAINT-REMY",
          "SAINT-REMY",
          "JAYAT",
          "JAYAT",
          "JAYAT",
          "REYSSOUZE",
          "REYSSOUZE",
          "REYSSOUZE",
          "BOURG-EN-BRESSE",
          "BOURG-EN-BRESSE",
          "CONFRANCON",
          "PERONNAS",
          "PERONNAS",
          "BOURG-EN-BRESSE",
          "BOURG-EN-BRESSE",
          "BOURG-EN-BRESSE",
          "BOURG-EN-BRESSE",
          "BOURG-EN-BRESSE",
          "BOURG-EN-BRESSE",
          "BOURG-EN-BRESSE",
          "PERONNAS",
          "PERONNAS",
          "SAINT-DENIS-LES-BOURG",
          "SAINT-DENIS-LES-BOURG",
          "BOURG-EN-BRESSE",
          "BOURG-EN-BRESSE",
          "BOURG-EN-BRESSE",
          "BOURG-EN-BRESSE",
          "BOURG-EN-BRESSE",
          "BOURG-EN-BRESSE",
          "COURMANGOUX",
          "COURMANGOUX",
          "COURMANGOUX",
          "COURMANGOUX",
          "COURMANGOUX",
          "FOISSIAT",
          "MARBOZ",
          "ASNIERES-SUR-SAONE",
          "ASNIERES-SUR-SAONE",
          "BOURG-EN-BRESSE",
          "LENT",
          "REPLONGES",
          "CORMORANCHE-SUR-SAONE",
          "BOURG-EN-BRESSE",
          "BOURG-EN-BRESSE",
          "BOURG-EN-BRESSE",
          "MONTREVEL-EN-BRESSE",
          "BOURG-EN-BRESSE",
          "BOURG-EN-BRESSE",
          "BOURG-EN-BRESSE",
          "BOURG-EN-BRESSE",
          "BOURG-EN-BRESSE",
          "BOURG-EN-BRESSE",
          "BOURG-EN-BRESSE",
          "BOURG-EN-BRESSE",
          "VIRIAT",
          "SAINT-BENIGNE",
          "MANZIAT",
          "MANZIAT",
          "MANZIAT",
          "CEYZERIAT",
          "CEYZERIAT",
          "POLLIAT",
          "POLLIAT",
          "BOURG-EN-BRESSE",
          "BOURG-EN-BRESSE",
          "MANZIAT",
          "MANZIAT",
          "MANZIAT",
          "ATTIGNAT",
          "BOURG-EN-BRESSE",
          "BOURG-EN-BRESSE",
          "BOURG-EN-BRESSE",
          "CONFRANCON",
          "CONFRANCON",
          "SAINT-LAURENT-SUR-SAONE",
          "SAINT-LAURENT-SUR-SAONE",
          "SAINT-MARTIN-DU-MONT",
          "SAINT-MARTIN-DU-MONT",
          "PONT-D AIN",
          "PONT-D AIN",
          "VAL-REVERMONT",
          "SAINT-JEAN-SUR-REYSSOUZE",
          "SERMOYER",
          "SERMOYER",
          "CURTAFOND",
          "CURTAFOND",
          "BOURG-EN-BRESSE",
          "BOURG-EN-BRESSE",
          "CORVEISSIAT",
          "CORVEISSIAT",
          "CORVEISSIAT",
          "CORVEISSIAT",
          "CORVEISSIAT",
          "CORVEISSIAT",
          "CORVEISSIAT",
          "BOURG-EN-BRESSE",
          "POLLIAT",
          "CORMOZ",
          "SAINT-LAURENT-SUR-SAONE",
          "BOURG-EN-BRESSE",
          "SAINT-JUST",
          "VIRIAT",
          "VIRIAT",
          "VIRIAT",
          "BAGE-DOMMARTIN",
          "JASSERON",
          "JASSERON",
          "JASSERON",
          "BOURG-EN-BRESSE",
          "JASSERON",
          "SAINT-TRIVIER-DE-COURTES",
          "SAINT-TRIVIER-DE-COURTES",
          "SAINT-TRIVIER-DE-COURTES",
          "SAINT-TRIVIER-DE-COURTES",
          "SAINT-TRIVIER-DE-COURTES",
          "SAINT-TRIVIER-DE-COURTES",
          "SAINT-TRIVIER-DE-COURTES",
          "SAINT-TRIVIER-DE-COURTES",
          "SAINT-TRIVIER-DE-COURTES",
          "SAINT-TRIVIER-DE-COURTES",
          "SAINT-TRIVIER-DE-COURTES",
          "SAINT-TRIVIER-DE-COURTES",
          "SAINT-TRIVIER-DE-COURTES",
          "SAINT-TRIVIER-DE-COURTES",
          "SAINT-TRIVIER-DE-COURTES",
          "SAINT-TRIVIER-DE-COURTES",
          "BAGE-DOMMARTIN",
          "BAGE-DOMMARTIN",
          "SAINT-ANDRE-SUR-VIEUX-JONC",
          "ATTIGNAT",
          "SAINT-DENIS-LES-BOURG",
          "MONTRACOL",
          "MONTCET",
          "MONTCET",
          "MONTCET",
          "MONTCET",
          "MONTCET",
          "MONTCET",
          "MONTCET",
          "MONTCET",
          "MONTCET",
          "MONTCET",
          "MONTCET",
          "MONTCET",
          "MONTCET",
          "MONTCET",
          "MONTCET",
          "MONTRACOL",
          "MONTRACOL",
          "DRUILLAT",
          "DRUILLAT",
          "DRUILLAT",
          "DRUILLAT",
          "BRESSE VALLONS",
          "BRESSE VALLONS",
          "BRESSE VALLONS",
          "CURTAFOND",
          "CURTAFOND",
          "CURTAFOND",
          "CURTAFOND",
          "CURTAFOND",
          "CURTAFOND",
          "CURTAFOND",
          "CURTAFOND",
          "CURTAFOND",
          "SAINT-MARTIN-LE-CHATEL",
          "SAINT-MARTIN-LE-CHATEL",
          "SAINT-MARTIN-LE-CHATEL",
          "HAUTECOURT-ROMANECHE",
          "HAUTECOURT-ROMANECHE",
          "HAUTECOURT-ROMANECHE",
          "HAUTECOURT-ROMANECHE",
          "HAUTECOURT-ROMANECHE",
          "HAUTECOURT-ROMANECHE",
          "HAUTECOURT-ROMANECHE",
          "CURTAFOND",
          "CURTAFOND",
          "CURTAFOND",
          "CURTAFOND",
          "HAUTECOURT-ROMANECHE",
          "HAUTECOURT-ROMANECHE",
          "HAUTECOURT-ROMANECHE",
          "HAUTECOURT-ROMANECHE",
          "HAUTECOURT-ROMANECHE",
          "VILLEMOTIER",
          "VILLEMOTIER",
          "VILLEMOTIER",
          "SAINT-MARTIN-DU-MONT",
          "SAINT-MARTIN-DU-MONT",
          "SAINT-MARTIN-DU-MONT",
          "REVONNAS",
          "REVONNAS",
          "SAINT-ETIENNE-DU-BOIS",
          "SAINT-ETIENNE-DU-BOIS",
          "SAINT-ETIENNE-DU-BOIS",
          "SAINT-ETIENNE-DU-BOIS",
          "SAINT-ETIENNE-DU-BOIS",
          "SAINT-ETIENNE-DU-BOIS",
          "PONT-DE-VAUX",
          "VIRIAT",
          "VAL-REVERMONT",
          "VIRIAT",
          "VIRIAT",
          "BAGE-DOMMARTIN",
          "BAGE-DOMMARTIN",
          "BAGE-DOMMARTIN",
          "BAGE-DOMMARTIN",
          "BAGE-DOMMARTIN",
          "VIRIAT",
          "BAGE-DOMMARTIN",
          "SAINT-DENIS-LES-BOURG",
          "SAINT-DENIS-LES-BOURG",
          "SAINT-DENIS-LES-BOURG",
          "SAINT-LAURENT-SUR-SAONE",
          "BOURG-EN-BRESSE",
          "VAL-REVERMONT",
          "VIRIAT",
          "REVONNAS",
          "SAINT-DENIS-LES-BOURG",
          "SAINT-DENIS-LES-BOURG",
          "BOURG-EN-BRESSE",
          "BOURG-EN-BRESSE",
          "BAGE-DOMMARTIN",
          "BAGE-DOMMARTIN",
          "BAGE-DOMMARTIN",
          "BAGE-DOMMARTIN",
          "REVONNAS",
          "SAINT-CYR-SUR-MENTHON",
          "CORMOZ",
          "CORMOZ",
          "NIVIGNE ET SURAN",
          "NIVIGNE ET SURAN",
          "NIVIGNE ET SURAN",
          "NIVIGNE ET SURAN",
          "BOURG-EN-BRESSE",
          "JAYAT",
          "JAYAT",
          "MALAFRETAZ",
          "MALAFRETAZ",
          "MALAFRETAZ",
          "MALAFRETAZ",
          "MALAFRETAZ",
          "JAYAT",
          "BRESSE VALLONS",
          "BRESSE VALLONS",
          "BRESSE VALLONS",
          "VIRIAT",
          "VIRIAT",
          "VIRIAT",
          "HAUTECOURT-ROMANECHE",
          "HAUTECOURT-ROMANECHE",
          "JOURNANS",
          "JOURNANS",
          "SAINT-DENIS-LES-BOURG",
          "BRESSE VALLONS",
          "SAINT-ANDRE-DE-BAGE",
          "SAINT-ANDRE-DE-BAGE",
          "SAINT-ANDRE-DE-BAGE",
          "SAINT-ANDRE-DE-BAGE",
          "SAINT-ANDRE-DE-BAGE",
          "SAINT-ANDRE-DE-BAGE",
          "SAINT-ANDRE-DE-BAGE",
          "SAINT-ANDRE-DE-BAGE",
          "SAINT-ANDRE-DE-BAGE",
          "SAINT-ANDRE-DE-BAGE",
          "SAINT-ANDRE-DE-BAGE",
          "SAINT-ANDRE-DE-BAGE",
          "SAINT-ANDRE-DE-BAGE",
          "SAINT-ANDRE-DE-BAGE",
          "PONT-DE-VAUX",
          "SAINT-CYR-SUR-MENTHON",
          "SAINT-CYR-SUR-MENTHON",
          "BOURG-EN-BRESSE",
          "BOURG-EN-BRESSE",
          "BOURG-EN-BRESSE",
          "DOMSURE",
          "DOMSURE",
          "ST ETIENNE-SUR-REYSSOUZE",
          "ST ETIENNE-SUR-REYSSOUZE",
          "FEILLENS",
          "FEILLENS",
          "FEILLENS",
          "FEILLENS",
          "CONFRANCON",
          "CONFRANCON",
          "POLLIAT",
          "POLLIAT",
          "SAINT-GENIS-SUR-MENTHON",
          "SAINT-GENIS-SUR-MENTHON",
          "SAINT-GENIS-SUR-MENTHON",
          "SAINT-GENIS-SUR-MENTHON",
          "SAINT-GENIS-SUR-MENTHON",
          "SAINT-GENIS-SUR-MENTHON",
          "SAINT-GENIS-SUR-MENTHON",
          "PERREX",
          "REPLONGES",
          "SAINT-LAURENT-SUR-SAONE",
          "BOURG-EN-BRESSE",
          "BOURG-EN-BRESSE",
          "BOURG-EN-BRESSE",
          "BOURG-EN-BRESSE",
          "BOURG-EN-BRESSE",
          "BOHAS-MEYRIAT-RIGNAT",
          "BOHAS-MEYRIAT-RIGNAT",
          "BOHAS-MEYRIAT-RIGNAT",
          "BOHAS-MEYRIAT-RIGNAT",
          "DRUILLAT",
          "DRUILLAT",
          "MONTCET",
          "MONTCET",
          "NEUVILLE-SUR-AIN",
          "NEUVILLE-SUR-AIN",
          "NEUVILLE-SUR-AIN",
          "NEUVILLE-SUR-AIN",
          "NEUVILLE-SUR-AIN",
          "NEUVILLE-SUR-AIN",
          "NEUVILLE-SUR-AIN",
          "PONT-DE-VEYLE",
          "BOURG-EN-BRESSE"
         ],
         "xaxis": "x",
         "y": [
          185000,
          185000,
          10,
          204332,
          320000,
          320000,
          36.3,
          176000,
          176000,
          400,
          4780,
          4780,
          4780,
          4780,
          226700,
          185000,
          114500,
          84000,
          145000,
          145000,
          145000,
          145000,
          145000,
          145000,
          169600,
          129150,
          129150,
          178600,
          178600,
          11000,
          11000,
          11000,
          11000,
          11000,
          165000,
          165000,
          113960,
          113960,
          113960,
          113960,
          113960,
          113960,
          113960,
          113960,
          113960,
          130000,
          10000,
          143000,
          143000,
          339000,
          339000,
          57000,
          57000,
          258000,
          258000,
          72000,
          72000,
          72000,
          72000,
          150000,
          107000,
          184000,
          196000,
          196000,
          267800,
          267800,
          267800,
          267800,
          53000,
          39000,
          221831,
          423640,
          423640,
          423640,
          423640,
          158000,
          158000,
          158000,
          158000,
          158000,
          158000,
          158000,
          158000,
          243000,
          243000,
          495,
          6021,
          6021,
          6021,
          6021,
          6021,
          6021,
          6021,
          6021,
          6021,
          80000,
          80000,
          185000,
          185000,
          11946,
          195000,
          195000,
          195000,
          337000,
          175000,
          175000,
          175000,
          175000,
          76000,
          76000,
          76000,
          76000,
          250000,
          250000,
          267885,
          267885,
          40000,
          40000,
          40000,
          240000,
          240000,
          7000,
          7000,
          7000,
          7000,
          68000,
          68000,
          150000,
          150000,
          15000,
          15000,
          15000,
          115000,
          115000,
          175000,
          175000,
          175000,
          150000,
          950000,
          950000,
          950000,
          950000,
          10000,
          311500,
          5356,
          5356,
          5356,
          5356,
          5356,
          5356,
          5356,
          5356,
          200,
          95000,
          95000,
          21457.16,
          21457.16,
          21457.16,
          21457.16,
          21457.16,
          21457.16,
          21457.16,
          21457.16,
          21457.16,
          21457.16,
          21457.16,
          21457.16,
          21457.16,
          21457.16,
          21457.16,
          21457.16,
          21457.16,
          21457.16,
          21457.16,
          21457.16,
          21457.16,
          21457.16,
          21457.16,
          21457.16,
          21457.16,
          21457.16,
          21457.16,
          21457.16,
          21457.16,
          21457.16,
          21457.16,
          3989.4,
          3989.4,
          3989.4,
          3989.4,
          3989.4,
          65000,
          65000,
          68000,
          68000,
          365000,
          365000,
          365000,
          365000,
          92000,
          100000,
          100000,
          100000,
          100000,
          100000,
          100000,
          100000,
          100000,
          164000,
          164000,
          164000,
          260000,
          260000,
          260000,
          260000,
          260000,
          172000,
          172000,
          172000,
          150000,
          42.6,
          230000,
          236300,
          236300,
          249000,
          149500,
          149500,
          149500,
          3200,
          3200,
          3200,
          3200,
          3200,
          3200,
          3200,
          650,
          247100,
          247100,
          110000,
          43750,
          31500,
          31500,
          1500,
          1500,
          1500,
          92000,
          92000,
          990,
          439010,
          439010,
          439010,
          439010,
          439010,
          439010,
          439010,
          439010,
          439010,
          25000,
          25000,
          25000,
          25000,
          25000,
          191300,
          191300,
          68200,
          68200,
          238000,
          238000,
          238000,
          238000,
          1,
          235000,
          172000,
          172000,
          105000,
          74000,
          175800,
          140000,
          140000,
          86000,
          40000,
          40000,
          98000,
          98000,
          282500,
          282500,
          282500,
          282500,
          180000,
          180000,
          85000,
          85000,
          88685.91,
          88685.91,
          88685.91,
          88685.91,
          88685.91,
          88685.91,
          88685.91,
          88685.91,
          88685.91,
          88685.91,
          88685.91,
          88685.91,
          88685.91,
          88685.91,
          88685.91,
          88685.91,
          88685.91,
          88685.91,
          88685.91,
          88685.91,
          88685.91,
          88685.91,
          88685.91,
          88685.91,
          88685.91,
          88685.91,
          88685.91,
          88685.91,
          88685.91,
          88685.91,
          88685.91,
          88685.91,
          88685.91,
          88685.91,
          88685.91,
          88685.91,
          88685.91,
          88685.91,
          88685.91,
          88685.91,
          150000,
          150000,
          123000,
          200000,
          201400,
          201400,
          201400,
          70000,
          70000,
          88000,
          88000,
          88000,
          70000,
          82000,
          139150,
          139150,
          139150,
          196800,
          193000,
          193000,
          219580,
          219580,
          219580,
          219580,
          219580,
          219580,
          203800,
          203800,
          176000,
          1160.8,
          342000,
          342000,
          51000,
          313550,
          313550,
          145000,
          145000,
          145000,
          1,
          158648,
          158648,
          57000,
          57000,
          91520,
          240000,
          240000,
          265000,
          265000,
          165000,
          292150,
          187000,
          280000,
          182650,
          182650,
          182650,
          39000,
          39000,
          11000,
          338800,
          338800,
          195480,
          195480,
          420000,
          111300,
          87500,
          3881,
          3881,
          3881,
          3881,
          3881,
          3881,
          3881,
          3881,
          3881,
          3881,
          3881,
          3881,
          3881,
          3881,
          3881,
          3881,
          3881,
          3881,
          3881,
          3881,
          3881,
          3881,
          3881,
          3881,
          3881,
          3881,
          3881,
          3881,
          3881,
          3800,
          3800,
          3800,
          3800,
          3800,
          3800,
          3800,
          3800,
          3800,
          3800,
          3800,
          3800,
          3800,
          3800,
          3800,
          3800,
          3800,
          3800,
          3800,
          3800,
          3800,
          3800,
          3800,
          3800,
          3800,
          3118,
          3118,
          3118,
          3118,
          3118,
          3118,
          3118,
          3118,
          3118,
          3118,
          323000,
          323000,
          323000,
          323000,
          73300,
          73300,
          49000,
          270000,
          151000,
          195624,
          195624,
          420,
          420,
          88000,
          2580,
          2580,
          2580,
          2580,
          2580,
          2580,
          2580,
          2580,
          80000,
          80000,
          206000,
          35000,
          35000,
          35000,
          35000,
          122000,
          122000,
          260000,
          310000,
          237000,
          237000,
          53000,
          53000,
          53000,
          43530.95,
          43530.95,
          1500,
          1200,
          1200,
          1200,
          165000,
          210000,
          210000,
          210000,
          210000,
          80000,
          80000,
          80000,
          50000,
          50000,
          8000,
          65000,
          87500,
          87500,
          250,
          600,
          600,
          600,
          227000,
          227000,
          227000,
          227000,
          227000,
          227000,
          227000,
          90,
          90,
          225000,
          225000,
          221150,
          221150,
          213000,
          52300,
          52300,
          52300,
          52300,
          52300,
          352000,
          352000,
          150000,
          150000,
          211300,
          211300,
          78000,
          525000,
          123500,
          123500,
          112750,
          112750,
          112750,
          112750,
          500,
          181000,
          1212,
          35180,
          35180,
          35180,
          35180,
          35180,
          35180,
          35180,
          35180,
          35180,
          35180,
          35180,
          35180,
          35180,
          35180,
          35180,
          35180,
          35180,
          35180,
          415847.78,
          415847.78,
          415847.78,
          152000,
          152000,
          600,
          235000,
          105000,
          600,
          3800,
          1450,
          185000,
          183000,
          183000,
          183000,
          34300,
          112500,
          277000,
          277000,
          277000,
          277000,
          277000,
          277000,
          277000,
          277000,
          277000,
          277000,
          277000,
          277000,
          277000,
          277000,
          277000,
          277000,
          277000,
          277000,
          277000,
          277000,
          277000,
          277000,
          277000,
          277000,
          277000,
          277000,
          277000,
          277000,
          277000,
          277000,
          277000,
          277000,
          277000,
          277000,
          277000,
          277000,
          277000,
          277000,
          277000,
          135000,
          135000,
          190000,
          190000,
          190000,
          190000,
          190000,
          190000,
          190000,
          190000,
          64800,
          1238.5,
          1238.5,
          1238.5,
          1238.5,
          1238.5,
          1238.5,
          1238.5,
          1238.5,
          1238.5,
          1238.5,
          1238.5,
          1238.5,
          1238.5,
          1238.5,
          1238.5,
          1238.5,
          1238.5,
          1238.5,
          1238.5,
          1238.5,
          1238.5,
          1238.5,
          1238.5,
          1238.5,
          1238.5,
          180000,
          180000,
          750,
          750,
          191000,
          157000,
          109000,
          109000,
          500,
          500,
          192500,
          5422,
          5422,
          65000,
          65000,
          65000,
          75000,
          75000,
          75000,
          75000,
          75000,
          195000,
          125000,
          125000,
          87000,
          87000,
          75000,
          95000,
          95000,
          580000,
          57000,
          320000,
          320000,
          170000,
          170000,
          187500,
          65000,
          65000,
          93500,
          93500,
          93500,
          225000,
          225000,
          225000,
          225000,
          225000,
          13700,
          230000,
          243.72,
          243.72,
          60000,
          68000,
          221075,
          500,
          54000,
          145000,
          145000,
          76000,
          150000,
          150000,
          150000,
          175000,
          175000,
          175000,
          76000,
          79000,
          200000,
          46000,
          68000,
          68000,
          68000,
          169703,
          169703,
          161000,
          161000,
          166000,
          166000,
          200000,
          200000,
          200000,
          240000,
          88000,
          88000,
          88000,
          184000,
          184000,
          70000,
          70000,
          82600,
          82600,
          12000,
          12000,
          80000,
          105000,
          200750,
          200750,
          18000,
          18000,
          1668000,
          1668000,
          120000,
          120000,
          120000,
          120000,
          120000,
          120000,
          120000,
          136000,
          145000,
          110000,
          220000,
          62000,
          74000,
          1720046.6,
          1720046.6,
          1720046.6,
          160000,
          108000,
          108000,
          108000,
          147000,
          213000,
          1500000,
          1500000,
          1500000,
          1500000,
          1500000,
          1500000,
          970000,
          970000,
          970000,
          970000,
          970000,
          970000,
          970000,
          970000,
          970000,
          970000,
          492500,
          492500,
          280000,
          1500,
          null,
          26000,
          69671.92,
          69671.92,
          69671.92,
          69671.92,
          69671.92,
          69671.92,
          69671.92,
          69671.92,
          69671.92,
          69671.92,
          69671.92,
          69671.92,
          69671.92,
          69671.92,
          69671.92,
          69671.92,
          69671.92,
          75000,
          75000,
          75000,
          75000,
          100000,
          100000,
          100000,
          6379,
          6379,
          6379,
          6379,
          6379,
          6379,
          6379,
          6379,
          6379,
          155000,
          155000,
          155000,
          31209.4,
          31209.4,
          31209.4,
          31209.4,
          31209.4,
          31209.4,
          31209.4,
          1505,
          1505,
          1505,
          1505,
          18075,
          18075,
          18075,
          18075,
          18075,
          250890,
          250890,
          250890,
          1004,
          1004,
          1004,
          292000,
          292000,
          295000,
          295000,
          295000,
          295000,
          295000,
          295000,
          54440,
          500,
          8800,
          422000,
          422000,
          5462.4,
          5462.4,
          5462.4,
          5462.4,
          5462.4,
          230000,
          1971,
          289000,
          289000,
          289000,
          112000,
          4000,
          130000,
          25000,
          50000,
          238000,
          238000,
          335000,
          335000,
          1000,
          1000,
          1000,
          1000,
          115000,
          54000,
          2800,
          2800,
          46000,
          46000,
          46000,
          46000,
          179000,
          236000,
          236000,
          245000,
          245000,
          245000,
          245000,
          245000,
          700,
          169000,
          169000,
          169000,
          3500000,
          3500000,
          3500000,
          72000,
          72000,
          223900,
          223900,
          273288.6,
          270000,
          87000,
          87000,
          87000,
          87000,
          87000,
          87000,
          87000,
          87000,
          87000,
          87000,
          180000,
          180000,
          180000,
          180000,
          135000,
          90000,
          90000,
          98000,
          108000,
          108000,
          22000,
          22000,
          222400,
          222400,
          190000,
          190000,
          190000,
          190000,
          10000,
          10000,
          180000,
          180000,
          7968.8,
          7968.8,
          7968.8,
          7968.8,
          7968.8,
          7968.8,
          7968.8,
          745,
          280000,
          280000,
          371000,
          371000,
          371000,
          371000,
          161950,
          244000,
          244000,
          244000,
          244000,
          222000,
          222000,
          230900,
          230900,
          440000,
          440000,
          440000,
          440000,
          440000,
          440000,
          440000,
          30000,
          11500
         ],
         "yaxis": "y"
        }
       ],
       "layout": {
        "legend": {
         "tracegroupgap": 0
        },
        "margin": {
         "t": 60
        },
        "template": {
         "data": {
          "bar": [
           {
            "error_x": {
             "color": "#2a3f5f"
            },
            "error_y": {
             "color": "#2a3f5f"
            },
            "marker": {
             "line": {
              "color": "#E5ECF6",
              "width": 0.5
             },
             "pattern": {
              "fillmode": "overlay",
              "size": 10,
              "solidity": 0.2
             }
            },
            "type": "bar"
           }
          ],
          "barpolar": [
           {
            "marker": {
             "line": {
              "color": "#E5ECF6",
              "width": 0.5
             },
             "pattern": {
              "fillmode": "overlay",
              "size": 10,
              "solidity": 0.2
             }
            },
            "type": "barpolar"
           }
          ],
          "carpet": [
           {
            "aaxis": {
             "endlinecolor": "#2a3f5f",
             "gridcolor": "white",
             "linecolor": "white",
             "minorgridcolor": "white",
             "startlinecolor": "#2a3f5f"
            },
            "baxis": {
             "endlinecolor": "#2a3f5f",
             "gridcolor": "white",
             "linecolor": "white",
             "minorgridcolor": "white",
             "startlinecolor": "#2a3f5f"
            },
            "type": "carpet"
           }
          ],
          "choropleth": [
           {
            "colorbar": {
             "outlinewidth": 0,
             "ticks": ""
            },
            "type": "choropleth"
           }
          ],
          "contour": [
           {
            "colorbar": {
             "outlinewidth": 0,
             "ticks": ""
            },
            "colorscale": [
             [
              0,
              "#0d0887"
             ],
             [
              0.1111111111111111,
              "#46039f"
             ],
             [
              0.2222222222222222,
              "#7201a8"
             ],
             [
              0.3333333333333333,
              "#9c179e"
             ],
             [
              0.4444444444444444,
              "#bd3786"
             ],
             [
              0.5555555555555556,
              "#d8576b"
             ],
             [
              0.6666666666666666,
              "#ed7953"
             ],
             [
              0.7777777777777778,
              "#fb9f3a"
             ],
             [
              0.8888888888888888,
              "#fdca26"
             ],
             [
              1,
              "#f0f921"
             ]
            ],
            "type": "contour"
           }
          ],
          "contourcarpet": [
           {
            "colorbar": {
             "outlinewidth": 0,
             "ticks": ""
            },
            "type": "contourcarpet"
           }
          ],
          "heatmap": [
           {
            "colorbar": {
             "outlinewidth": 0,
             "ticks": ""
            },
            "colorscale": [
             [
              0,
              "#0d0887"
             ],
             [
              0.1111111111111111,
              "#46039f"
             ],
             [
              0.2222222222222222,
              "#7201a8"
             ],
             [
              0.3333333333333333,
              "#9c179e"
             ],
             [
              0.4444444444444444,
              "#bd3786"
             ],
             [
              0.5555555555555556,
              "#d8576b"
             ],
             [
              0.6666666666666666,
              "#ed7953"
             ],
             [
              0.7777777777777778,
              "#fb9f3a"
             ],
             [
              0.8888888888888888,
              "#fdca26"
             ],
             [
              1,
              "#f0f921"
             ]
            ],
            "type": "heatmap"
           }
          ],
          "heatmapgl": [
           {
            "colorbar": {
             "outlinewidth": 0,
             "ticks": ""
            },
            "colorscale": [
             [
              0,
              "#0d0887"
             ],
             [
              0.1111111111111111,
              "#46039f"
             ],
             [
              0.2222222222222222,
              "#7201a8"
             ],
             [
              0.3333333333333333,
              "#9c179e"
             ],
             [
              0.4444444444444444,
              "#bd3786"
             ],
             [
              0.5555555555555556,
              "#d8576b"
             ],
             [
              0.6666666666666666,
              "#ed7953"
             ],
             [
              0.7777777777777778,
              "#fb9f3a"
             ],
             [
              0.8888888888888888,
              "#fdca26"
             ],
             [
              1,
              "#f0f921"
             ]
            ],
            "type": "heatmapgl"
           }
          ],
          "histogram": [
           {
            "marker": {
             "pattern": {
              "fillmode": "overlay",
              "size": 10,
              "solidity": 0.2
             }
            },
            "type": "histogram"
           }
          ],
          "histogram2d": [
           {
            "colorbar": {
             "outlinewidth": 0,
             "ticks": ""
            },
            "colorscale": [
             [
              0,
              "#0d0887"
             ],
             [
              0.1111111111111111,
              "#46039f"
             ],
             [
              0.2222222222222222,
              "#7201a8"
             ],
             [
              0.3333333333333333,
              "#9c179e"
             ],
             [
              0.4444444444444444,
              "#bd3786"
             ],
             [
              0.5555555555555556,
              "#d8576b"
             ],
             [
              0.6666666666666666,
              "#ed7953"
             ],
             [
              0.7777777777777778,
              "#fb9f3a"
             ],
             [
              0.8888888888888888,
              "#fdca26"
             ],
             [
              1,
              "#f0f921"
             ]
            ],
            "type": "histogram2d"
           }
          ],
          "histogram2dcontour": [
           {
            "colorbar": {
             "outlinewidth": 0,
             "ticks": ""
            },
            "colorscale": [
             [
              0,
              "#0d0887"
             ],
             [
              0.1111111111111111,
              "#46039f"
             ],
             [
              0.2222222222222222,
              "#7201a8"
             ],
             [
              0.3333333333333333,
              "#9c179e"
             ],
             [
              0.4444444444444444,
              "#bd3786"
             ],
             [
              0.5555555555555556,
              "#d8576b"
             ],
             [
              0.6666666666666666,
              "#ed7953"
             ],
             [
              0.7777777777777778,
              "#fb9f3a"
             ],
             [
              0.8888888888888888,
              "#fdca26"
             ],
             [
              1,
              "#f0f921"
             ]
            ],
            "type": "histogram2dcontour"
           }
          ],
          "mesh3d": [
           {
            "colorbar": {
             "outlinewidth": 0,
             "ticks": ""
            },
            "type": "mesh3d"
           }
          ],
          "parcoords": [
           {
            "line": {
             "colorbar": {
              "outlinewidth": 0,
              "ticks": ""
             }
            },
            "type": "parcoords"
           }
          ],
          "pie": [
           {
            "automargin": true,
            "type": "pie"
           }
          ],
          "scatter": [
           {
            "fillpattern": {
             "fillmode": "overlay",
             "size": 10,
             "solidity": 0.2
            },
            "type": "scatter"
           }
          ],
          "scatter3d": [
           {
            "line": {
             "colorbar": {
              "outlinewidth": 0,
              "ticks": ""
             }
            },
            "marker": {
             "colorbar": {
              "outlinewidth": 0,
              "ticks": ""
             }
            },
            "type": "scatter3d"
           }
          ],
          "scattercarpet": [
           {
            "marker": {
             "colorbar": {
              "outlinewidth": 0,
              "ticks": ""
             }
            },
            "type": "scattercarpet"
           }
          ],
          "scattergeo": [
           {
            "marker": {
             "colorbar": {
              "outlinewidth": 0,
              "ticks": ""
             }
            },
            "type": "scattergeo"
           }
          ],
          "scattergl": [
           {
            "marker": {
             "colorbar": {
              "outlinewidth": 0,
              "ticks": ""
             }
            },
            "type": "scattergl"
           }
          ],
          "scattermapbox": [
           {
            "marker": {
             "colorbar": {
              "outlinewidth": 0,
              "ticks": ""
             }
            },
            "type": "scattermapbox"
           }
          ],
          "scatterpolar": [
           {
            "marker": {
             "colorbar": {
              "outlinewidth": 0,
              "ticks": ""
             }
            },
            "type": "scatterpolar"
           }
          ],
          "scatterpolargl": [
           {
            "marker": {
             "colorbar": {
              "outlinewidth": 0,
              "ticks": ""
             }
            },
            "type": "scatterpolargl"
           }
          ],
          "scatterternary": [
           {
            "marker": {
             "colorbar": {
              "outlinewidth": 0,
              "ticks": ""
             }
            },
            "type": "scatterternary"
           }
          ],
          "surface": [
           {
            "colorbar": {
             "outlinewidth": 0,
             "ticks": ""
            },
            "colorscale": [
             [
              0,
              "#0d0887"
             ],
             [
              0.1111111111111111,
              "#46039f"
             ],
             [
              0.2222222222222222,
              "#7201a8"
             ],
             [
              0.3333333333333333,
              "#9c179e"
             ],
             [
              0.4444444444444444,
              "#bd3786"
             ],
             [
              0.5555555555555556,
              "#d8576b"
             ],
             [
              0.6666666666666666,
              "#ed7953"
             ],
             [
              0.7777777777777778,
              "#fb9f3a"
             ],
             [
              0.8888888888888888,
              "#fdca26"
             ],
             [
              1,
              "#f0f921"
             ]
            ],
            "type": "surface"
           }
          ],
          "table": [
           {
            "cells": {
             "fill": {
              "color": "#EBF0F8"
             },
             "line": {
              "color": "white"
             }
            },
            "header": {
             "fill": {
              "color": "#C8D4E3"
             },
             "line": {
              "color": "white"
             }
            },
            "type": "table"
           }
          ]
         },
         "layout": {
          "annotationdefaults": {
           "arrowcolor": "#2a3f5f",
           "arrowhead": 0,
           "arrowwidth": 1
          },
          "autotypenumbers": "strict",
          "coloraxis": {
           "colorbar": {
            "outlinewidth": 0,
            "ticks": ""
           }
          },
          "colorscale": {
           "diverging": [
            [
             0,
             "#8e0152"
            ],
            [
             0.1,
             "#c51b7d"
            ],
            [
             0.2,
             "#de77ae"
            ],
            [
             0.3,
             "#f1b6da"
            ],
            [
             0.4,
             "#fde0ef"
            ],
            [
             0.5,
             "#f7f7f7"
            ],
            [
             0.6,
             "#e6f5d0"
            ],
            [
             0.7,
             "#b8e186"
            ],
            [
             0.8,
             "#7fbc41"
            ],
            [
             0.9,
             "#4d9221"
            ],
            [
             1,
             "#276419"
            ]
           ],
           "sequential": [
            [
             0,
             "#0d0887"
            ],
            [
             0.1111111111111111,
             "#46039f"
            ],
            [
             0.2222222222222222,
             "#7201a8"
            ],
            [
             0.3333333333333333,
             "#9c179e"
            ],
            [
             0.4444444444444444,
             "#bd3786"
            ],
            [
             0.5555555555555556,
             "#d8576b"
            ],
            [
             0.6666666666666666,
             "#ed7953"
            ],
            [
             0.7777777777777778,
             "#fb9f3a"
            ],
            [
             0.8888888888888888,
             "#fdca26"
            ],
            [
             1,
             "#f0f921"
            ]
           ],
           "sequentialminus": [
            [
             0,
             "#0d0887"
            ],
            [
             0.1111111111111111,
             "#46039f"
            ],
            [
             0.2222222222222222,
             "#7201a8"
            ],
            [
             0.3333333333333333,
             "#9c179e"
            ],
            [
             0.4444444444444444,
             "#bd3786"
            ],
            [
             0.5555555555555556,
             "#d8576b"
            ],
            [
             0.6666666666666666,
             "#ed7953"
            ],
            [
             0.7777777777777778,
             "#fb9f3a"
            ],
            [
             0.8888888888888888,
             "#fdca26"
            ],
            [
             1,
             "#f0f921"
            ]
           ]
          },
          "colorway": [
           "#636efa",
           "#EF553B",
           "#00cc96",
           "#ab63fa",
           "#FFA15A",
           "#19d3f3",
           "#FF6692",
           "#B6E880",
           "#FF97FF",
           "#FECB52"
          ],
          "font": {
           "color": "#2a3f5f"
          },
          "geo": {
           "bgcolor": "white",
           "lakecolor": "white",
           "landcolor": "#E5ECF6",
           "showlakes": true,
           "showland": true,
           "subunitcolor": "white"
          },
          "hoverlabel": {
           "align": "left"
          },
          "hovermode": "closest",
          "mapbox": {
           "style": "light"
          },
          "paper_bgcolor": "white",
          "plot_bgcolor": "#E5ECF6",
          "polar": {
           "angularaxis": {
            "gridcolor": "white",
            "linecolor": "white",
            "ticks": ""
           },
           "bgcolor": "#E5ECF6",
           "radialaxis": {
            "gridcolor": "white",
            "linecolor": "white",
            "ticks": ""
           }
          },
          "scene": {
           "xaxis": {
            "backgroundcolor": "#E5ECF6",
            "gridcolor": "white",
            "gridwidth": 2,
            "linecolor": "white",
            "showbackground": true,
            "ticks": "",
            "zerolinecolor": "white"
           },
           "yaxis": {
            "backgroundcolor": "#E5ECF6",
            "gridcolor": "white",
            "gridwidth": 2,
            "linecolor": "white",
            "showbackground": true,
            "ticks": "",
            "zerolinecolor": "white"
           },
           "zaxis": {
            "backgroundcolor": "#E5ECF6",
            "gridcolor": "white",
            "gridwidth": 2,
            "linecolor": "white",
            "showbackground": true,
            "ticks": "",
            "zerolinecolor": "white"
           }
          },
          "shapedefaults": {
           "line": {
            "color": "#2a3f5f"
           }
          },
          "ternary": {
           "aaxis": {
            "gridcolor": "white",
            "linecolor": "white",
            "ticks": ""
           },
           "baxis": {
            "gridcolor": "white",
            "linecolor": "white",
            "ticks": ""
           },
           "bgcolor": "#E5ECF6",
           "caxis": {
            "gridcolor": "white",
            "linecolor": "white",
            "ticks": ""
           }
          },
          "title": {
           "x": 0.05
          },
          "xaxis": {
           "automargin": true,
           "gridcolor": "white",
           "linecolor": "white",
           "ticks": "",
           "title": {
            "standoff": 15
           },
           "zerolinecolor": "white",
           "zerolinewidth": 2
          },
          "yaxis": {
           "automargin": true,
           "gridcolor": "white",
           "linecolor": "white",
           "ticks": "",
           "title": {
            "standoff": 15
           },
           "zerolinecolor": "white",
           "zerolinewidth": 2
          }
         }
        },
        "xaxis": {
         "anchor": "y",
         "domain": [
          0,
          1
         ],
         "title": {
          "text": "Commune"
         }
        },
        "yaxis": {
         "anchor": "x",
         "domain": [
          0,
          1
         ],
         "title": {
          "text": "Valeur fonciere"
         }
        }
       }
      }
     },
     "metadata": {},
     "output_type": "display_data"
    }
   ],
   "source": [
    "fig = px.scatter(df_scatter, x='Commune', y=\"Valeur fonciere\")\n",
    "fig.show()"
   ]
  },
  {
   "cell_type": "code",
   "execution_count": null,
   "metadata": {},
   "outputs": [
    {
     "name": "stdout",
     "output_type": "stream",
     "text": [
      "Il y a 30986 communes\n"
     ]
    }
   ],
   "source": [
    "print(\"Il y a\", len(df_wo_NaN[\"Commune\"].unique()), \"communes\")"
   ]
  },
  {
   "cell_type": "markdown",
   "metadata": {},
   "source": [
    "On souhaite enlever les doublons"
   ]
  },
  {
   "cell_type": "code",
   "execution_count": null,
   "metadata": {},
   "outputs": [
    {
     "data": {
      "text/plain": [
       "Index(['No disposition', 'Date mutation', 'Nature mutation', 'Valeur fonciere',\n",
       "       'No voie', 'B/T/Q', 'Type de voie', 'Code voie', 'Voie', 'Code postal',\n",
       "       'Commune', 'Code departement', 'Code commune', 'Prefixe de section',\n",
       "       'Section', 'No plan', '1er lot', 'Surface Carrez du 1er lot',\n",
       "       '2eme lot', 'Surface Carrez du 2eme lot', '3eme lot', '4eme lot',\n",
       "       '5eme lot', 'Nombre de lots', 'Code type local', 'Type local',\n",
       "       'Surface reelle bati', 'Nombre pieces principales', 'Nature culture',\n",
       "       'Nature culture speciale', 'Surface terrain', 'Mois'],\n",
       "      dtype='object')"
      ]
     },
     "execution_count": 17,
     "metadata": {},
     "output_type": "execute_result"
    }
   ],
   "source": [
    "df_wo_NaN.keys()"
   ]
  },
  {
   "cell_type": "code",
   "execution_count": null,
   "metadata": {},
   "outputs": [
    {
     "data": {
      "text/html": [
       "<div>\n",
       "<style scoped>\n",
       "    .dataframe tbody tr th:only-of-type {\n",
       "        vertical-align: middle;\n",
       "    }\n",
       "\n",
       "    .dataframe tbody tr th {\n",
       "        vertical-align: top;\n",
       "    }\n",
       "\n",
       "    .dataframe thead th {\n",
       "        text-align: right;\n",
       "    }\n",
       "</style>\n",
       "<table border=\"1\" class=\"dataframe\">\n",
       "  <thead>\n",
       "    <tr style=\"text-align: right;\">\n",
       "      <th></th>\n",
       "      <th>Date mutation</th>\n",
       "      <th>Type de voie</th>\n",
       "      <th>No voie</th>\n",
       "      <th>Code voie</th>\n",
       "      <th>Voie</th>\n",
       "      <th>Code postal</th>\n",
       "      <th>Commune</th>\n",
       "    </tr>\n",
       "  </thead>\n",
       "  <tbody>\n",
       "    <tr>\n",
       "      <th>0</th>\n",
       "      <td>2021-05-01</td>\n",
       "      <td>CHE</td>\n",
       "      <td>5080.0</td>\n",
       "      <td>0471</td>\n",
       "      <td>DE VOGELAS</td>\n",
       "      <td>1370</td>\n",
       "      <td>VAL-REVERMONT</td>\n",
       "    </tr>\n",
       "    <tr>\n",
       "      <th>1</th>\n",
       "      <td>2021-05-01</td>\n",
       "      <td>CHE</td>\n",
       "      <td>5080.0</td>\n",
       "      <td>0471</td>\n",
       "      <td>DE VOGELAS</td>\n",
       "      <td>1370</td>\n",
       "      <td>VAL-REVERMONT</td>\n",
       "    </tr>\n",
       "    <tr>\n",
       "      <th>2</th>\n",
       "      <td>2021-06-01</td>\n",
       "      <td>NaN</td>\n",
       "      <td>NaN</td>\n",
       "      <td>B043</td>\n",
       "      <td>ROUGEMONT</td>\n",
       "      <td>1290</td>\n",
       "      <td>BEY</td>\n",
       "    </tr>\n",
       "    <tr>\n",
       "      <th>3</th>\n",
       "      <td>2021-04-01</td>\n",
       "      <td>ALL</td>\n",
       "      <td>7.0</td>\n",
       "      <td>0276</td>\n",
       "      <td>DES ECUREUILS</td>\n",
       "      <td>1310</td>\n",
       "      <td>BUELLAS</td>\n",
       "    </tr>\n",
       "    <tr>\n",
       "      <th>4</th>\n",
       "      <td>2021-06-01</td>\n",
       "      <td>RTE</td>\n",
       "      <td>87.0</td>\n",
       "      <td>0140</td>\n",
       "      <td>DE CERTINES</td>\n",
       "      <td>1250</td>\n",
       "      <td>MONTAGNAT</td>\n",
       "    </tr>\n",
       "    <tr>\n",
       "      <th>...</th>\n",
       "      <td>...</td>\n",
       "      <td>...</td>\n",
       "      <td>...</td>\n",
       "      <td>...</td>\n",
       "      <td>...</td>\n",
       "      <td>...</td>\n",
       "      <td>...</td>\n",
       "    </tr>\n",
       "    <tr>\n",
       "      <th>995</th>\n",
       "      <td>2021-11-02</td>\n",
       "      <td>RUE</td>\n",
       "      <td>448.0</td>\n",
       "      <td>0325</td>\n",
       "      <td>NICOLAS AUBRY</td>\n",
       "      <td>1160</td>\n",
       "      <td>NEUVILLE-SUR-AIN</td>\n",
       "    </tr>\n",
       "    <tr>\n",
       "      <th>996</th>\n",
       "      <td>2021-11-02</td>\n",
       "      <td>NaN</td>\n",
       "      <td>NaN</td>\n",
       "      <td>B143</td>\n",
       "      <td>LA CRAZ</td>\n",
       "      <td>1160</td>\n",
       "      <td>NEUVILLE-SUR-AIN</td>\n",
       "    </tr>\n",
       "    <tr>\n",
       "      <th>997</th>\n",
       "      <td>2021-11-02</td>\n",
       "      <td>NaN</td>\n",
       "      <td>NaN</td>\n",
       "      <td>B143</td>\n",
       "      <td>LA CRAZ</td>\n",
       "      <td>1160</td>\n",
       "      <td>NEUVILLE-SUR-AIN</td>\n",
       "    </tr>\n",
       "    <tr>\n",
       "      <th>998</th>\n",
       "      <td>2021-01-02</td>\n",
       "      <td>NaN</td>\n",
       "      <td>5338.0</td>\n",
       "      <td>B006</td>\n",
       "      <td>GRAND FAUBOURG</td>\n",
       "      <td>1290</td>\n",
       "      <td>PONT-DE-VEYLE</td>\n",
       "    </tr>\n",
       "    <tr>\n",
       "      <th>999</th>\n",
       "      <td>2021-02-15</td>\n",
       "      <td>RUE</td>\n",
       "      <td>1.0</td>\n",
       "      <td>0285</td>\n",
       "      <td>ARISTIDE BRIAND</td>\n",
       "      <td>1000</td>\n",
       "      <td>BOURG-EN-BRESSE</td>\n",
       "    </tr>\n",
       "  </tbody>\n",
       "</table>\n",
       "<p>1000 rows × 7 columns</p>\n",
       "</div>"
      ],
      "text/plain": [
       "    Date mutation Type de voie  No voie Code voie             Voie  \\\n",
       "0      2021-05-01          CHE   5080.0      0471       DE VOGELAS   \n",
       "1      2021-05-01          CHE   5080.0      0471       DE VOGELAS   \n",
       "2      2021-06-01          NaN      NaN      B043        ROUGEMONT   \n",
       "3      2021-04-01          ALL      7.0      0276    DES ECUREUILS   \n",
       "4      2021-06-01          RTE     87.0      0140      DE CERTINES   \n",
       "..            ...          ...      ...       ...              ...   \n",
       "995    2021-11-02          RUE    448.0      0325    NICOLAS AUBRY   \n",
       "996    2021-11-02          NaN      NaN      B143          LA CRAZ   \n",
       "997    2021-11-02          NaN      NaN      B143          LA CRAZ   \n",
       "998    2021-01-02          NaN   5338.0      B006   GRAND FAUBOURG   \n",
       "999    2021-02-15          RUE      1.0      0285  ARISTIDE BRIAND   \n",
       "\n",
       "     Code postal           Commune  \n",
       "0           1370     VAL-REVERMONT  \n",
       "1           1370     VAL-REVERMONT  \n",
       "2           1290               BEY  \n",
       "3           1310           BUELLAS  \n",
       "4           1250         MONTAGNAT  \n",
       "..           ...               ...  \n",
       "995         1160  NEUVILLE-SUR-AIN  \n",
       "996         1160  NEUVILLE-SUR-AIN  \n",
       "997         1160  NEUVILLE-SUR-AIN  \n",
       "998         1290     PONT-DE-VEYLE  \n",
       "999         1000   BOURG-EN-BRESSE  \n",
       "\n",
       "[1000 rows x 7 columns]"
      ]
     },
     "execution_count": 38,
     "metadata": {},
     "output_type": "execute_result"
    }
   ],
   "source": []
  },
  {
   "cell_type": "code",
   "execution_count": null,
   "metadata": {},
   "outputs": [
    {
     "name": "stderr",
     "output_type": "stream",
     "text": [
      "C:\\Users\\bourh\\AppData\\Local\\Temp\\ipykernel_2524\\1528298497.py:1: SettingWithCopyWarning: \n",
      "A value is trying to be set on a copy of a slice from a DataFrame.\n",
      "Try using .loc[row_indexer,col_indexer] = value instead\n",
      "\n",
      "See the caveats in the documentation: https://pandas.pydata.org/pandas-docs/stable/user_guide/indexing.html#returning-a-view-versus-a-copy\n",
      "  df_wo_NaN.loc[:,'Date mutation'] = df_wo_NaN['Date mutation'].astype(str)\n"
     ]
    }
   ],
   "source": []
  },
  {
   "cell_type": "code",
   "execution_count": null,
   "metadata": {},
   "outputs": [
    {
     "data": {
      "text/plain": [
       "'12021-05-01 00:00:00Vente185000.05080.0nanCHE0471DE VOGELAS1370VAL-REVERMONT1426312.0ZC122nannannannannannannan03.0Dépendance0.00.0Snan2410.05'"
      ]
     },
     "execution_count": 37,
     "metadata": {},
     "output_type": "execute_result"
    }
   ],
   "source": [
    "''.join(map(str,df_wo_NaN.loc[1]))"
   ]
  }
 ],
 "metadata": {
  "kernelspec": {
   "display_name": "Python 3",
   "language": "python",
   "name": "python3"
  },
  "language_info": {
   "codemirror_mode": {
    "name": "ipython",
    "version": 3
   },
   "file_extension": ".py",
   "mimetype": "text/x-python",
   "name": "python",
   "nbconvert_exporter": "python",
   "pygments_lexer": "ipython3",
   "version": "3.11.4"
  },
  "orig_nbformat": 4
 },
 "nbformat": 4,
 "nbformat_minor": 2
}
