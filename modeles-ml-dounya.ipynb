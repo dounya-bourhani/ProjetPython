{
 "cells": [
  {
   "cell_type": "markdown",
   "metadata": {},
   "source": [
    "## REGRESSION"
   ]
  },
  {
   "cell_type": "markdown",
   "metadata": {},
   "source": [
    "### Librairies utilisées"
   ]
  },
  {
   "cell_type": "code",
   "execution_count": 49,
   "metadata": {},
   "outputs": [],
   "source": [
    "import pickle\n",
    "import pandas as pd\n",
    "import numpy as np\n",
    "from sklearn.preprocessing import StandardScaler\n",
    "from sklearn.linear_model import LinearRegression\n",
    "from sklearn.metrics import mean_squared_error\n",
    "from sklearn.linear_model import Ridge\n",
    "from sklearn.model_selection import GridSearchCV\n",
    "from sklearn.linear_model import Lasso\n",
    "from sklearn.ensemble import RandomForestRegressor\n"
   ]
  },
  {
   "cell_type": "markdown",
   "metadata": {},
   "source": [
    "### Fonctions utilisés dans le notebook"
   ]
  },
  {
   "cell_type": "code",
   "execution_count": 4,
   "metadata": {},
   "outputs": [],
   "source": [
    "def alerteCombinaison(dictionary_param):\n",
    "    \"\"\"\n",
    "    Cette fonction est utilisée pour calculer le nombre de combinaison\n",
    "    défini des GridSearch pour optimiser les paramtètres des modèles.\n",
    "    Elle prend en entrée un dictionnaire et retourne le nombre de combinaison\n",
    "    \"\"\"\n",
    "    from numpy import prod\n",
    "    lengths = [len(v) for v in dictionary_param.values()]\n",
    "    count = prod(lengths)\n",
    "    if count < 500:\n",
    "        print(\"C'est bon tu peux envoyer l'apprentissage !\")\n",
    "    elif count < 1000:\n",
    "        print(\"Tu peux lire tes mails pendant l'apprentissage !\")\n",
    "    elif count < 2000:\n",
    "        print(\"Tu peux répondre à tes mails pendant l'apprentissage !\")\n",
    "    else:\n",
    "        print(\"Tu peux mettre ton PC en veille et revenir demain !\")\n",
    "\n",
    "    print(\"Nombre de combinaison :\")\n",
    "    return(count)"
   ]
  },
  {
   "cell_type": "markdown",
   "metadata": {},
   "source": [
    "### Importation des données"
   ]
  },
  {
   "cell_type": "code",
   "execution_count": 5,
   "metadata": {},
   "outputs": [
    {
     "data": {
      "text/html": [
       "<div>\n",
       "<style scoped>\n",
       "    .dataframe tbody tr th:only-of-type {\n",
       "        vertical-align: middle;\n",
       "    }\n",
       "\n",
       "    .dataframe tbody tr th {\n",
       "        vertical-align: top;\n",
       "    }\n",
       "\n",
       "    .dataframe thead th {\n",
       "        text-align: right;\n",
       "    }\n",
       "</style>\n",
       "<table border=\"1\" class=\"dataframe\">\n",
       "  <thead>\n",
       "    <tr style=\"text-align: right;\">\n",
       "      <th></th>\n",
       "      <th>No disposition</th>\n",
       "      <th>Date mutation</th>\n",
       "      <th>Nature mutation</th>\n",
       "      <th>Valeur fonciere</th>\n",
       "      <th>Type de voie</th>\n",
       "      <th>Voie</th>\n",
       "      <th>Code postal</th>\n",
       "      <th>Commune</th>\n",
       "      <th>Code commune</th>\n",
       "      <th>Section</th>\n",
       "      <th>No plan</th>\n",
       "      <th>1er lot</th>\n",
       "      <th>Surface Carrez du 1er lot</th>\n",
       "      <th>Nombre de lots</th>\n",
       "      <th>Type local</th>\n",
       "      <th>Surface reelle bati</th>\n",
       "      <th>Nombre pieces principales</th>\n",
       "      <th>Nature culture</th>\n",
       "      <th>Surface terrain</th>\n",
       "      <th>col_concat</th>\n",
       "    </tr>\n",
       "  </thead>\n",
       "  <tbody>\n",
       "    <tr>\n",
       "      <th>3</th>\n",
       "      <td>1</td>\n",
       "      <td>04/01/2021</td>\n",
       "      <td>Vente</td>\n",
       "      <td>204332.0</td>\n",
       "      <td>ALL</td>\n",
       "      <td>DES ECUREUILS</td>\n",
       "      <td>1310.0</td>\n",
       "      <td>BUELLAS</td>\n",
       "      <td>65</td>\n",
       "      <td>B</td>\n",
       "      <td>1325</td>\n",
       "      <td>NaN</td>\n",
       "      <td>NaN</td>\n",
       "      <td>0</td>\n",
       "      <td>Maison</td>\n",
       "      <td>88.0</td>\n",
       "      <td>4.0</td>\n",
       "      <td>S</td>\n",
       "      <td>866.0</td>\n",
       "      <td>04/01/2021ALL7.00276DES ECUREUILS1310.0BUELLAS</td>\n",
       "    </tr>\n",
       "    <tr>\n",
       "      <th>14</th>\n",
       "      <td>2</td>\n",
       "      <td>04/01/2021</td>\n",
       "      <td>Vente</td>\n",
       "      <td>226700.0</td>\n",
       "      <td>CHE</td>\n",
       "      <td>DU MOULIN DE POLAIZE</td>\n",
       "      <td>1310.0</td>\n",
       "      <td>POLLIAT</td>\n",
       "      <td>301</td>\n",
       "      <td>AA</td>\n",
       "      <td>289</td>\n",
       "      <td>NaN</td>\n",
       "      <td>NaN</td>\n",
       "      <td>0</td>\n",
       "      <td>Maison</td>\n",
       "      <td>96.0</td>\n",
       "      <td>3.0</td>\n",
       "      <td>NaN</td>\n",
       "      <td>NaN</td>\n",
       "      <td>04/01/2021CHE173.00164DU MOULIN DE POLAIZE1310...</td>\n",
       "    </tr>\n",
       "    <tr>\n",
       "      <th>15</th>\n",
       "      <td>1</td>\n",
       "      <td>08/01/2021</td>\n",
       "      <td>Vente</td>\n",
       "      <td>185000.0</td>\n",
       "      <td>RUE</td>\n",
       "      <td>DES GRANGES BONNET</td>\n",
       "      <td>1960.0</td>\n",
       "      <td>PERONNAS</td>\n",
       "      <td>289</td>\n",
       "      <td>AD</td>\n",
       "      <td>31</td>\n",
       "      <td>NaN</td>\n",
       "      <td>NaN</td>\n",
       "      <td>0</td>\n",
       "      <td>Maison</td>\n",
       "      <td>100.0</td>\n",
       "      <td>4.0</td>\n",
       "      <td>S</td>\n",
       "      <td>703.0</td>\n",
       "      <td>08/01/2021RUE46.00161DES GRANGES BONNET1960.0P...</td>\n",
       "    </tr>\n",
       "    <tr>\n",
       "      <th>16</th>\n",
       "      <td>1</td>\n",
       "      <td>07/01/2021</td>\n",
       "      <td>Vente</td>\n",
       "      <td>114500.0</td>\n",
       "      <td>RUE</td>\n",
       "      <td>DE LA MAIRIE</td>\n",
       "      <td>1340.0</td>\n",
       "      <td>FOISSIAT</td>\n",
       "      <td>163</td>\n",
       "      <td>AB</td>\n",
       "      <td>302</td>\n",
       "      <td>NaN</td>\n",
       "      <td>NaN</td>\n",
       "      <td>0</td>\n",
       "      <td>Maison</td>\n",
       "      <td>85.0</td>\n",
       "      <td>2.0</td>\n",
       "      <td>S</td>\n",
       "      <td>87.0</td>\n",
       "      <td>07/01/2021RUE179.00110DE LA MAIRIE1340.0FOISSIAT</td>\n",
       "    </tr>\n",
       "    <tr>\n",
       "      <th>19</th>\n",
       "      <td>1</td>\n",
       "      <td>08/01/2021</td>\n",
       "      <td>Vente</td>\n",
       "      <td>145000.0</td>\n",
       "      <td>IMP</td>\n",
       "      <td>DE CHAMANDRE</td>\n",
       "      <td>1340.0</td>\n",
       "      <td>FOISSIAT</td>\n",
       "      <td>163</td>\n",
       "      <td>WC</td>\n",
       "      <td>215</td>\n",
       "      <td>NaN</td>\n",
       "      <td>NaN</td>\n",
       "      <td>0</td>\n",
       "      <td>Maison</td>\n",
       "      <td>92.0</td>\n",
       "      <td>1.0</td>\n",
       "      <td>S</td>\n",
       "      <td>2480.0</td>\n",
       "      <td>08/01/2021IMP8.00255DE CHAMANDRE1340.0FOISSIAT</td>\n",
       "    </tr>\n",
       "    <tr>\n",
       "      <th>...</th>\n",
       "      <td>...</td>\n",
       "      <td>...</td>\n",
       "      <td>...</td>\n",
       "      <td>...</td>\n",
       "      <td>...</td>\n",
       "      <td>...</td>\n",
       "      <td>...</td>\n",
       "      <td>...</td>\n",
       "      <td>...</td>\n",
       "      <td>...</td>\n",
       "      <td>...</td>\n",
       "      <td>...</td>\n",
       "      <td>...</td>\n",
       "      <td>...</td>\n",
       "      <td>...</td>\n",
       "      <td>...</td>\n",
       "      <td>...</td>\n",
       "      <td>...</td>\n",
       "      <td>...</td>\n",
       "      <td>...</td>\n",
       "    </tr>\n",
       "    <tr>\n",
       "      <th>15125094</th>\n",
       "      <td>1</td>\n",
       "      <td>27/12/2018</td>\n",
       "      <td>Vente</td>\n",
       "      <td>1800.0</td>\n",
       "      <td>PL</td>\n",
       "      <td>DES VOSGES</td>\n",
       "      <td>75004.0</td>\n",
       "      <td>PARIS 04</td>\n",
       "      <td>104</td>\n",
       "      <td>AO</td>\n",
       "      <td>7</td>\n",
       "      <td>109.0</td>\n",
       "      <td>NaN</td>\n",
       "      <td>1</td>\n",
       "      <td>Appartement</td>\n",
       "      <td>20.0</td>\n",
       "      <td>2.0</td>\n",
       "      <td>NaN</td>\n",
       "      <td>NaN</td>\n",
       "      <td>27/12/2018PL9.09917DES VOSGES75004.0PARIS 04</td>\n",
       "    </tr>\n",
       "    <tr>\n",
       "      <th>15125095</th>\n",
       "      <td>1</td>\n",
       "      <td>28/12/2018</td>\n",
       "      <td>Vente</td>\n",
       "      <td>405000.0</td>\n",
       "      <td>RUE</td>\n",
       "      <td>BEAUTREILLIS</td>\n",
       "      <td>75004.0</td>\n",
       "      <td>PARIS 04</td>\n",
       "      <td>104</td>\n",
       "      <td>AQ</td>\n",
       "      <td>16</td>\n",
       "      <td>16.0</td>\n",
       "      <td>33.87</td>\n",
       "      <td>2</td>\n",
       "      <td>Appartement</td>\n",
       "      <td>34.0</td>\n",
       "      <td>1.0</td>\n",
       "      <td>NaN</td>\n",
       "      <td>NaN</td>\n",
       "      <td>28/12/2018RUE13.00797BEAUTREILLIS75004.0PARIS 04</td>\n",
       "    </tr>\n",
       "    <tr>\n",
       "      <th>15125096</th>\n",
       "      <td>1</td>\n",
       "      <td>26/12/2018</td>\n",
       "      <td>Vente</td>\n",
       "      <td>220000.0</td>\n",
       "      <td>RUE</td>\n",
       "      <td>DES LIONS SAINT PAUL</td>\n",
       "      <td>75004.0</td>\n",
       "      <td>PARIS 04</td>\n",
       "      <td>104</td>\n",
       "      <td>AQ</td>\n",
       "      <td>127</td>\n",
       "      <td>126.0</td>\n",
       "      <td>NaN</td>\n",
       "      <td>2</td>\n",
       "      <td>Appartement</td>\n",
       "      <td>29.0</td>\n",
       "      <td>1.0</td>\n",
       "      <td>NaN</td>\n",
       "      <td>NaN</td>\n",
       "      <td>26/12/2018RUE14.05702DES LIONS SAINT PAUL75004...</td>\n",
       "    </tr>\n",
       "    <tr>\n",
       "      <th>15125098</th>\n",
       "      <td>1</td>\n",
       "      <td>03/12/2018</td>\n",
       "      <td>Vente</td>\n",
       "      <td>383000.0</td>\n",
       "      <td>RUE</td>\n",
       "      <td>POISSONNIERE</td>\n",
       "      <td>75002.0</td>\n",
       "      <td>PARIS 02</td>\n",
       "      <td>102</td>\n",
       "      <td>AO</td>\n",
       "      <td>85</td>\n",
       "      <td>9.0</td>\n",
       "      <td>34.78</td>\n",
       "      <td>1</td>\n",
       "      <td>Appartement</td>\n",
       "      <td>34.0</td>\n",
       "      <td>1.0</td>\n",
       "      <td>NaN</td>\n",
       "      <td>NaN</td>\n",
       "      <td>03/12/2018RUE12.07561POISSONNIERE75002.0PARIS 02</td>\n",
       "    </tr>\n",
       "    <tr>\n",
       "      <th>15125101</th>\n",
       "      <td>1</td>\n",
       "      <td>17/10/2018</td>\n",
       "      <td>Vente</td>\n",
       "      <td>45000.0</td>\n",
       "      <td>RUE</td>\n",
       "      <td>SAINT-DENIS</td>\n",
       "      <td>75002.0</td>\n",
       "      <td>PARIS 02</td>\n",
       "      <td>102</td>\n",
       "      <td>AP</td>\n",
       "      <td>117</td>\n",
       "      <td>57.0</td>\n",
       "      <td>NaN</td>\n",
       "      <td>1</td>\n",
       "      <td>Appartement</td>\n",
       "      <td>11.0</td>\n",
       "      <td>1.0</td>\n",
       "      <td>NaN</td>\n",
       "      <td>NaN</td>\n",
       "      <td>17/10/2018RUE273.08525SAINT-DENIS75002.0PARIS 02</td>\n",
       "    </tr>\n",
       "  </tbody>\n",
       "</table>\n",
       "<p>2765530 rows × 20 columns</p>\n",
       "</div>"
      ],
      "text/plain": [
       "          No disposition Date mutation Nature mutation  Valeur fonciere  \\\n",
       "3                      1    04/01/2021           Vente         204332.0   \n",
       "14                     2    04/01/2021           Vente         226700.0   \n",
       "15                     1    08/01/2021           Vente         185000.0   \n",
       "16                     1    07/01/2021           Vente         114500.0   \n",
       "19                     1    08/01/2021           Vente         145000.0   \n",
       "...                  ...           ...             ...              ...   \n",
       "15125094               1    27/12/2018           Vente           1800.0   \n",
       "15125095               1    28/12/2018           Vente         405000.0   \n",
       "15125096               1    26/12/2018           Vente         220000.0   \n",
       "15125098               1    03/12/2018           Vente         383000.0   \n",
       "15125101               1    17/10/2018           Vente          45000.0   \n",
       "\n",
       "         Type de voie                  Voie  Code postal   Commune  \\\n",
       "3                 ALL         DES ECUREUILS       1310.0   BUELLAS   \n",
       "14                CHE  DU MOULIN DE POLAIZE       1310.0   POLLIAT   \n",
       "15                RUE    DES GRANGES BONNET       1960.0  PERONNAS   \n",
       "16                RUE          DE LA MAIRIE       1340.0  FOISSIAT   \n",
       "19                IMP          DE CHAMANDRE       1340.0  FOISSIAT   \n",
       "...               ...                   ...          ...       ...   \n",
       "15125094           PL            DES VOSGES      75004.0  PARIS 04   \n",
       "15125095          RUE          BEAUTREILLIS      75004.0  PARIS 04   \n",
       "15125096          RUE  DES LIONS SAINT PAUL      75004.0  PARIS 04   \n",
       "15125098          RUE          POISSONNIERE      75002.0  PARIS 02   \n",
       "15125101          RUE           SAINT-DENIS      75002.0  PARIS 02   \n",
       "\n",
       "          Code commune Section  No plan 1er lot  Surface Carrez du 1er lot  \\\n",
       "3                   65       B     1325     NaN                        NaN   \n",
       "14                 301      AA      289     NaN                        NaN   \n",
       "15                 289      AD       31     NaN                        NaN   \n",
       "16                 163      AB      302     NaN                        NaN   \n",
       "19                 163      WC      215     NaN                        NaN   \n",
       "...                ...     ...      ...     ...                        ...   \n",
       "15125094           104      AO        7   109.0                        NaN   \n",
       "15125095           104      AQ       16    16.0                      33.87   \n",
       "15125096           104      AQ      127   126.0                        NaN   \n",
       "15125098           102      AO       85     9.0                      34.78   \n",
       "15125101           102      AP      117    57.0                        NaN   \n",
       "\n",
       "          Nombre de lots   Type local  Surface reelle bati  \\\n",
       "3                      0       Maison                 88.0   \n",
       "14                     0       Maison                 96.0   \n",
       "15                     0       Maison                100.0   \n",
       "16                     0       Maison                 85.0   \n",
       "19                     0       Maison                 92.0   \n",
       "...                  ...          ...                  ...   \n",
       "15125094               1  Appartement                 20.0   \n",
       "15125095               2  Appartement                 34.0   \n",
       "15125096               2  Appartement                 29.0   \n",
       "15125098               1  Appartement                 34.0   \n",
       "15125101               1  Appartement                 11.0   \n",
       "\n",
       "          Nombre pieces principales Nature culture  Surface terrain  \\\n",
       "3                               4.0              S            866.0   \n",
       "14                              3.0            NaN              NaN   \n",
       "15                              4.0              S            703.0   \n",
       "16                              2.0              S             87.0   \n",
       "19                              1.0              S           2480.0   \n",
       "...                             ...            ...              ...   \n",
       "15125094                        2.0            NaN              NaN   \n",
       "15125095                        1.0            NaN              NaN   \n",
       "15125096                        1.0            NaN              NaN   \n",
       "15125098                        1.0            NaN              NaN   \n",
       "15125101                        1.0            NaN              NaN   \n",
       "\n",
       "                                                 col_concat  \n",
       "3            04/01/2021ALL7.00276DES ECUREUILS1310.0BUELLAS  \n",
       "14        04/01/2021CHE173.00164DU MOULIN DE POLAIZE1310...  \n",
       "15        08/01/2021RUE46.00161DES GRANGES BONNET1960.0P...  \n",
       "16         07/01/2021RUE179.00110DE LA MAIRIE1340.0FOISSIAT  \n",
       "19           08/01/2021IMP8.00255DE CHAMANDRE1340.0FOISSIAT  \n",
       "...                                                     ...  \n",
       "15125094       27/12/2018PL9.09917DES VOSGES75004.0PARIS 04  \n",
       "15125095   28/12/2018RUE13.00797BEAUTREILLIS75004.0PARIS 04  \n",
       "15125096  26/12/2018RUE14.05702DES LIONS SAINT PAUL75004...  \n",
       "15125098   03/12/2018RUE12.07561POISSONNIERE75002.0PARIS 02  \n",
       "15125101   17/10/2018RUE273.08525SAINT-DENIS75002.0PARIS 02  \n",
       "\n",
       "[2765530 rows x 20 columns]"
      ]
     },
     "execution_count": 5,
     "metadata": {},
     "output_type": "execute_result"
    }
   ],
   "source": [
    "with open('dataframe.pkl', 'rb') as file:\n",
    "    df = pickle.load(file)\n",
    "\n",
    "# Maintenant, df contient la DataFrame importée depuis le fichier\n",
    "df"
   ]
  },
  {
   "cell_type": "markdown",
   "metadata": {},
   "source": [
    "### Ajout d'une variable openData - taux de chomage"
   ]
  },
  {
   "cell_type": "code",
   "execution_count": 17,
   "metadata": {},
   "outputs": [
    {
     "data": {
      "text/plain": [
       "Index(['Code', 'Libellé', 'T2_2023'], dtype='object')"
      ]
     },
     "execution_count": 17,
     "metadata": {},
     "output_type": "execute_result"
    }
   ],
   "source": [
    "# dataframe du taux de chomage par département\n",
    "df_chomage = pd.read_excel('./donnees/txChomage_par_dep.xls', sheet_name='Département')\n",
    "df_chomage.keys()\n"
   ]
  },
  {
   "cell_type": "code",
   "execution_count": 38,
   "metadata": {},
   "outputs": [],
   "source": [
    "def count_digits(n):\n",
    "    # Utilisez la fonction str() pour convertir l'entier en une chaîne de caractères\n",
    "    num_str = str(n)\n",
    "    \n",
    "    # Utilisez len() pour compter le nombre de caractères dans la chaîne\n",
    "    return len(num_str)"
   ]
  },
  {
   "cell_type": "code",
   "execution_count": 54,
   "metadata": {},
   "outputs": [],
   "source": [
    "# Utilisez .notna() pour vérifier que les valeurs ne sont pas NaN\n",
    "mask = df['Code postal'].notna()\n",
    "\n",
    "# Appliquez la conversion uniquement aux lignes où la valeur n'est pas NaN\n",
    "codepostaux_int = df.loc[mask, 'Code postal'].astype(int).astype(str) "
   ]
  },
  {
   "cell_type": "code",
   "execution_count": 55,
   "metadata": {},
   "outputs": [
    {
     "data": {
      "text/plain": [
       "3      1340\n",
       "14     1000\n",
       "15     1250\n",
       "16     1290\n",
       "19     1560\n",
       "       ... \n",
       "442    1310\n",
       "443    1340\n",
       "444    1000\n",
       "445    1000\n",
       "446    1000\n",
       "Name: Code postal, Length: 2765769, dtype: object"
      ]
     },
     "execution_count": 55,
     "metadata": {},
     "output_type": "execute_result"
    }
   ],
   "source": [
    "codepostaux_int"
   ]
  },
  {
   "cell_type": "code",
   "execution_count": 56,
   "metadata": {},
   "outputs": [
    {
     "data": {
      "text/plain": [
       "5    2584384\n",
       "4     181385\n",
       "Name: count, dtype: int64"
      ]
     },
     "execution_count": 56,
     "metadata": {},
     "output_type": "execute_result"
    }
   ],
   "source": [
    "# Nombre de code postaux à 4 ou 5 chiffres \n",
    "nb_digits = []\n",
    "for code in codepostaux_int:\n",
    "    nb_digits.append(count_digits(code))\n",
    "pd.Series(nb_digits).value_counts()"
   ]
  },
  {
   "cell_type": "code",
   "execution_count": 67,
   "metadata": {},
   "outputs": [],
   "source": [
    "list_tx_chomage = []\n",
    "# parcourt nos code postaux pour ensuite récupérer les départements et pouvoir créer notre liste de taux de chomage\n",
    "# par département \n",
    "for code in codepostaux_int:\n",
    "    if 1000 <= int(code) <= 9999:\n",
    "        dep = \"0\"+code[0]\n",
    "    else:\n",
    "        dep = code[:2]\n",
    "    tx_chomage = df_chomage[df_chomage[\"Code\"]==dep].T2_2023\n",
    "    list_tx_chomage.append(tx_chomage)\n",
    "list_tx_chomage"
   ]
  },
  {
   "cell_type": "markdown",
   "metadata": {},
   "source": [
    "### Echantillonage"
   ]
  },
  {
   "cell_type": "code",
   "execution_count": 33,
   "metadata": {},
   "outputs": [
    {
     "data": {
      "text/html": [
       "<div>\n",
       "<style scoped>\n",
       "    .dataframe tbody tr th:only-of-type {\n",
       "        vertical-align: middle;\n",
       "    }\n",
       "\n",
       "    .dataframe tbody tr th {\n",
       "        vertical-align: top;\n",
       "    }\n",
       "\n",
       "    .dataframe thead th {\n",
       "        text-align: right;\n",
       "    }\n",
       "</style>\n",
       "<table border=\"1\" class=\"dataframe\">\n",
       "  <thead>\n",
       "    <tr style=\"text-align: right;\">\n",
       "      <th></th>\n",
       "      <th>Nombre pieces principales</th>\n",
       "      <th>Surface reelle bati</th>\n",
       "      <th>Surface terrain</th>\n",
       "      <th>Nombre de lots</th>\n",
       "      <th>Type local_Appartement</th>\n",
       "      <th>Type local_Dépendance</th>\n",
       "      <th>Type local_Local industriel. commercial ou assimilé</th>\n",
       "      <th>Type local_Maison</th>\n",
       "    </tr>\n",
       "  </thead>\n",
       "  <tbody>\n",
       "    <tr>\n",
       "      <th>3</th>\n",
       "      <td>4.0</td>\n",
       "      <td>88.0</td>\n",
       "      <td>866.0</td>\n",
       "      <td>0</td>\n",
       "      <td>False</td>\n",
       "      <td>False</td>\n",
       "      <td>False</td>\n",
       "      <td>True</td>\n",
       "    </tr>\n",
       "    <tr>\n",
       "      <th>14</th>\n",
       "      <td>3.0</td>\n",
       "      <td>96.0</td>\n",
       "      <td>NaN</td>\n",
       "      <td>0</td>\n",
       "      <td>False</td>\n",
       "      <td>False</td>\n",
       "      <td>False</td>\n",
       "      <td>True</td>\n",
       "    </tr>\n",
       "    <tr>\n",
       "      <th>15</th>\n",
       "      <td>4.0</td>\n",
       "      <td>100.0</td>\n",
       "      <td>703.0</td>\n",
       "      <td>0</td>\n",
       "      <td>False</td>\n",
       "      <td>False</td>\n",
       "      <td>False</td>\n",
       "      <td>True</td>\n",
       "    </tr>\n",
       "    <tr>\n",
       "      <th>16</th>\n",
       "      <td>2.0</td>\n",
       "      <td>85.0</td>\n",
       "      <td>87.0</td>\n",
       "      <td>0</td>\n",
       "      <td>False</td>\n",
       "      <td>False</td>\n",
       "      <td>False</td>\n",
       "      <td>True</td>\n",
       "    </tr>\n",
       "    <tr>\n",
       "      <th>19</th>\n",
       "      <td>1.0</td>\n",
       "      <td>92.0</td>\n",
       "      <td>2480.0</td>\n",
       "      <td>0</td>\n",
       "      <td>False</td>\n",
       "      <td>False</td>\n",
       "      <td>False</td>\n",
       "      <td>True</td>\n",
       "    </tr>\n",
       "    <tr>\n",
       "      <th>...</th>\n",
       "      <td>...</td>\n",
       "      <td>...</td>\n",
       "      <td>...</td>\n",
       "      <td>...</td>\n",
       "      <td>...</td>\n",
       "      <td>...</td>\n",
       "      <td>...</td>\n",
       "      <td>...</td>\n",
       "    </tr>\n",
       "    <tr>\n",
       "      <th>15125094</th>\n",
       "      <td>2.0</td>\n",
       "      <td>20.0</td>\n",
       "      <td>NaN</td>\n",
       "      <td>1</td>\n",
       "      <td>True</td>\n",
       "      <td>False</td>\n",
       "      <td>False</td>\n",
       "      <td>False</td>\n",
       "    </tr>\n",
       "    <tr>\n",
       "      <th>15125095</th>\n",
       "      <td>1.0</td>\n",
       "      <td>34.0</td>\n",
       "      <td>NaN</td>\n",
       "      <td>2</td>\n",
       "      <td>True</td>\n",
       "      <td>False</td>\n",
       "      <td>False</td>\n",
       "      <td>False</td>\n",
       "    </tr>\n",
       "    <tr>\n",
       "      <th>15125096</th>\n",
       "      <td>1.0</td>\n",
       "      <td>29.0</td>\n",
       "      <td>NaN</td>\n",
       "      <td>2</td>\n",
       "      <td>True</td>\n",
       "      <td>False</td>\n",
       "      <td>False</td>\n",
       "      <td>False</td>\n",
       "    </tr>\n",
       "    <tr>\n",
       "      <th>15125098</th>\n",
       "      <td>1.0</td>\n",
       "      <td>34.0</td>\n",
       "      <td>NaN</td>\n",
       "      <td>1</td>\n",
       "      <td>True</td>\n",
       "      <td>False</td>\n",
       "      <td>False</td>\n",
       "      <td>False</td>\n",
       "    </tr>\n",
       "    <tr>\n",
       "      <th>15125101</th>\n",
       "      <td>1.0</td>\n",
       "      <td>11.0</td>\n",
       "      <td>NaN</td>\n",
       "      <td>1</td>\n",
       "      <td>True</td>\n",
       "      <td>False</td>\n",
       "      <td>False</td>\n",
       "      <td>False</td>\n",
       "    </tr>\n",
       "  </tbody>\n",
       "</table>\n",
       "<p>2765530 rows × 8 columns</p>\n",
       "</div>"
      ],
      "text/plain": [
       "          Nombre pieces principales  Surface reelle bati  Surface terrain  \\\n",
       "3                               4.0                 88.0            866.0   \n",
       "14                              3.0                 96.0              NaN   \n",
       "15                              4.0                100.0            703.0   \n",
       "16                              2.0                 85.0             87.0   \n",
       "19                              1.0                 92.0           2480.0   \n",
       "...                             ...                  ...              ...   \n",
       "15125094                        2.0                 20.0              NaN   \n",
       "15125095                        1.0                 34.0              NaN   \n",
       "15125096                        1.0                 29.0              NaN   \n",
       "15125098                        1.0                 34.0              NaN   \n",
       "15125101                        1.0                 11.0              NaN   \n",
       "\n",
       "          Nombre de lots  Type local_Appartement  Type local_Dépendance  \\\n",
       "3                      0                   False                  False   \n",
       "14                     0                   False                  False   \n",
       "15                     0                   False                  False   \n",
       "16                     0                   False                  False   \n",
       "19                     0                   False                  False   \n",
       "...                  ...                     ...                    ...   \n",
       "15125094               1                    True                  False   \n",
       "15125095               2                    True                  False   \n",
       "15125096               2                    True                  False   \n",
       "15125098               1                    True                  False   \n",
       "15125101               1                    True                  False   \n",
       "\n",
       "          Type local_Local industriel. commercial ou assimilé  \\\n",
       "3                                                     False     \n",
       "14                                                    False     \n",
       "15                                                    False     \n",
       "16                                                    False     \n",
       "19                                                    False     \n",
       "...                                                     ...     \n",
       "15125094                                              False     \n",
       "15125095                                              False     \n",
       "15125096                                              False     \n",
       "15125098                                              False     \n",
       "15125101                                              False     \n",
       "\n",
       "          Type local_Maison  \n",
       "3                      True  \n",
       "14                     True  \n",
       "15                     True  \n",
       "16                     True  \n",
       "19                     True  \n",
       "...                     ...  \n",
       "15125094              False  \n",
       "15125095              False  \n",
       "15125096              False  \n",
       "15125098              False  \n",
       "15125101              False  \n",
       "\n",
       "[2765530 rows x 8 columns]"
      ]
     },
     "execution_count": 33,
     "metadata": {},
     "output_type": "execute_result"
    }
   ],
   "source": [
    "# variables_explicatives = ['Type local', 'Nombre pieces principales', 'Surface reelle bati', 'Surface terrain',\n",
    "#                           'Nombre de lots', 'Code commune', 'Nature mutation']\n",
    "variables_explicatives = ['Type local', 'Nombre pieces principales', 'Surface reelle bati', 'Surface terrain', 'Nombre de lots']\n",
    "\n",
    "\n",
    "X = df[variables_explicatives]\n",
    "X = pd.get_dummies(data=X, columns=['Type local'])\n",
    "X"
   ]
  },
  {
   "cell_type": "code",
   "execution_count": 7,
   "metadata": {},
   "outputs": [
    {
     "data": {
      "text/plain": [
       "3           204332.0\n",
       "14          226700.0\n",
       "15          185000.0\n",
       "16          114500.0\n",
       "19          145000.0\n",
       "              ...   \n",
       "15125094      1800.0\n",
       "15125095    405000.0\n",
       "15125096    220000.0\n",
       "15125098    383000.0\n",
       "15125101     45000.0\n",
       "Name: Valeur fonciere, Length: 2765530, dtype: float64"
      ]
     },
     "execution_count": 7,
     "metadata": {},
     "output_type": "execute_result"
    }
   ],
   "source": [
    "# notre target\n",
    "Y = df['Valeur fonciere']\n",
    "Y"
   ]
  },
  {
   "cell_type": "code",
   "execution_count": 34,
   "metadata": {},
   "outputs": [
    {
     "data": {
      "text/plain": [
       "Surface terrain\n",
       "False    2765530\n",
       "Name: count, dtype: int64"
      ]
     },
     "execution_count": 34,
     "metadata": {},
     "output_type": "execute_result"
    }
   ],
   "source": [
    "# on remplace les NA dans la colonne 'Nombre pieces principales' et dans 'Surface reelle bati'\n",
    "# et dans 'Surface terrain' par leurs moyennes\n",
    "X['Nombre pieces principales'].fillna(X['Nombre pieces principales'].mean(), inplace=True)\n",
    "\n",
    "X['Surface reelle bati'].fillna(X['Surface reelle bati'].mean(), inplace=True)\n",
    "\n",
    "X['Surface terrain'].fillna(X['Surface terrain'].mean(), inplace=True)"
   ]
  },
  {
   "cell_type": "code",
   "execution_count": 6,
   "metadata": {},
   "outputs": [
    {
     "data": {
      "text/plain": [
       "Nombre pieces principales                              0.0\n",
       "Surface reelle bati                                    0.0\n",
       "Surface terrain                                        0.0\n",
       "Nombre de lots                                         0.0\n",
       "Code commune                                           0.0\n",
       "Type local_Appartement                                 0.0\n",
       "Type local_Dépendance                                  0.0\n",
       "Type local_Local industriel. commercial ou assimilé    0.0\n",
       "Type local_Maison                                      0.0\n",
       "Nature mutation_Adjudication                           0.0\n",
       "Nature mutation_Echange                                0.0\n",
       "Nature mutation_Expropriation                          0.0\n",
       "Nature mutation_Vente                                  0.0\n",
       "Nature mutation_Vente en l'état futur d'achèvement     0.0\n",
       "Nature mutation_Vente terrain à bâtir                  0.0\n",
       "dtype: float64"
      ]
     },
     "execution_count": 6,
     "metadata": {},
     "output_type": "execute_result"
    }
   ],
   "source": [
    "pourcentage_manquant = (X.isna().sum() / len(X)) * 100\n",
    "pourcentage_manquant"
   ]
  },
  {
   "cell_type": "code",
   "execution_count": 35,
   "metadata": {},
   "outputs": [],
   "source": [
    "from sklearn.model_selection import train_test_split\n",
    "#70% des données pour l’apprentissage\n",
    "#30% des données pour l'échantillon test\n",
    "X_train, X_test, y_train, y_test = train_test_split(X, Y, test_size = 0.30, random_state = 42)"
   ]
  },
  {
   "cell_type": "markdown",
   "metadata": {},
   "source": [
    "Pour ne pas donner plus d'importance aux variables explicatives à forte variance, il est essentiel de centrer et réduire les données en amont. On centre et réduit également afin de les ramener à la même échelle "
   ]
  },
  {
   "cell_type": "markdown",
   "metadata": {},
   "source": [
    "On centre et réduit les données d'apprentissage"
   ]
  },
  {
   "cell_type": "code",
   "execution_count": 36,
   "metadata": {},
   "outputs": [
    {
     "data": {
      "text/html": [
       "<div>\n",
       "<style scoped>\n",
       "    .dataframe tbody tr th:only-of-type {\n",
       "        vertical-align: middle;\n",
       "    }\n",
       "\n",
       "    .dataframe tbody tr th {\n",
       "        vertical-align: top;\n",
       "    }\n",
       "\n",
       "    .dataframe thead th {\n",
       "        text-align: right;\n",
       "    }\n",
       "</style>\n",
       "<table border=\"1\" class=\"dataframe\">\n",
       "  <thead>\n",
       "    <tr style=\"text-align: right;\">\n",
       "      <th></th>\n",
       "      <th>Nombre pieces principales</th>\n",
       "      <th>Surface reelle bati</th>\n",
       "      <th>Surface terrain</th>\n",
       "      <th>Nombre de lots</th>\n",
       "      <th>Type local_Appartement</th>\n",
       "      <th>Type local_Dépendance</th>\n",
       "      <th>Type local_Local industriel. commercial ou assimilé</th>\n",
       "      <th>Type local_Maison</th>\n",
       "    </tr>\n",
       "  </thead>\n",
       "  <tbody>\n",
       "    <tr>\n",
       "      <th>0</th>\n",
       "      <td>0.065350</td>\n",
       "      <td>-0.036909</td>\n",
       "      <td>-0.199286</td>\n",
       "      <td>-0.692241</td>\n",
       "      <td>-0.608861</td>\n",
       "      <td>-0.403737</td>\n",
       "      <td>-0.229779</td>\n",
       "      <td>0.924372</td>\n",
       "    </tr>\n",
       "    <tr>\n",
       "      <th>1</th>\n",
       "      <td>0.579426</td>\n",
       "      <td>0.028268</td>\n",
       "      <td>-0.358650</td>\n",
       "      <td>-0.692241</td>\n",
       "      <td>-0.608861</td>\n",
       "      <td>-0.403737</td>\n",
       "      <td>-0.229779</td>\n",
       "      <td>0.924372</td>\n",
       "    </tr>\n",
       "    <tr>\n",
       "      <th>2</th>\n",
       "      <td>0.579426</td>\n",
       "      <td>0.105665</td>\n",
       "      <td>-0.099505</td>\n",
       "      <td>-0.692241</td>\n",
       "      <td>-0.608861</td>\n",
       "      <td>-0.403737</td>\n",
       "      <td>-0.229779</td>\n",
       "      <td>0.924372</td>\n",
       "    </tr>\n",
       "  </tbody>\n",
       "</table>\n",
       "</div>"
      ],
      "text/plain": [
       "   Nombre pieces principales  Surface reelle bati  Surface terrain  \\\n",
       "0                   0.065350            -0.036909        -0.199286   \n",
       "1                   0.579426             0.028268        -0.358650   \n",
       "2                   0.579426             0.105665        -0.099505   \n",
       "\n",
       "   Nombre de lots  Type local_Appartement  Type local_Dépendance  \\\n",
       "0       -0.692241               -0.608861              -0.403737   \n",
       "1       -0.692241               -0.608861              -0.403737   \n",
       "2       -0.692241               -0.608861              -0.403737   \n",
       "\n",
       "   Type local_Local industriel. commercial ou assimilé  Type local_Maison  \n",
       "0                                          -0.229779             0.924372  \n",
       "1                                          -0.229779             0.924372  \n",
       "2                                          -0.229779             0.924372  "
      ]
     },
     "execution_count": 36,
     "metadata": {},
     "output_type": "execute_result"
    }
   ],
   "source": [
    "# Appliquez la standardisation aux données de X\n",
    "scaler = StandardScaler()\n",
    "X_train_CR = scaler.fit_transform(X_train)\n",
    "X_test_CR = scaler.fit_transform(X_test)\n",
    "pd.DataFrame(X_test_CR, columns=X_test.columns).head(3) "
   ]
  },
  {
   "cell_type": "markdown",
   "metadata": {},
   "source": [
    "### Régression linéaire multiple"
   ]
  },
  {
   "cell_type": "markdown",
   "metadata": {},
   "source": [
    "#### Apprentissage"
   ]
  },
  {
   "cell_type": "markdown",
   "metadata": {},
   "source": [
    "On lance l'apprentissage du modèle sur l'échantillon d'entrainement"
   ]
  },
  {
   "cell_type": "code",
   "execution_count": 10,
   "metadata": {},
   "outputs": [],
   "source": [
    "lm = LinearRegression()\n",
    "model_LinearRegression = lm.fit(X_train_CR,y_train)"
   ]
  },
  {
   "cell_type": "markdown",
   "metadata": {},
   "source": [
    "### Test"
   ]
  },
  {
   "cell_type": "code",
   "execution_count": 11,
   "metadata": {},
   "outputs": [
    {
     "data": {
      "text/plain": [
       "array([ 2.87033067e+10,  2.87033295e+10,  2.87033304e+10, ...,\n",
       "       -2.76069744e+10,  2.87033533e+10, -2.76070289e+10])"
      ]
     },
     "execution_count": 11,
     "metadata": {},
     "output_type": "execute_result"
    }
   ],
   "source": [
    "y_pred = model_LinearRegression.predict(X_test_CR)\n",
    "y_pred"
   ]
  },
  {
   "cell_type": "code",
   "execution_count": 12,
   "metadata": {},
   "outputs": [
    {
     "data": {
      "text/plain": [
       "60598593738.452576"
      ]
     },
     "execution_count": 12,
     "metadata": {},
     "output_type": "execute_result"
    }
   ],
   "source": [
    "#on multiplie par 0.3 pour avoir un résultat en metre\n",
    "mean_squared_error(y_test, y_pred, squared=False)"
   ]
  },
  {
   "cell_type": "markdown",
   "metadata": {},
   "source": [
    "On s'interesse aux coefficients de la régression"
   ]
  },
  {
   "cell_type": "code",
   "execution_count": 13,
   "metadata": {},
   "outputs": [
    {
     "data": {
      "text/html": [
       "<div>\n",
       "<style scoped>\n",
       "    .dataframe tbody tr th:only-of-type {\n",
       "        vertical-align: middle;\n",
       "    }\n",
       "\n",
       "    .dataframe tbody tr th {\n",
       "        vertical-align: top;\n",
       "    }\n",
       "\n",
       "    .dataframe thead th {\n",
       "        text-align: right;\n",
       "    }\n",
       "</style>\n",
       "<table border=\"1\" class=\"dataframe\">\n",
       "  <thead>\n",
       "    <tr style=\"text-align: right;\">\n",
       "      <th></th>\n",
       "      <th>Coef</th>\n",
       "    </tr>\n",
       "  </thead>\n",
       "  <tbody>\n",
       "    <tr>\n",
       "      <th>Nombre pieces principales</th>\n",
       "      <td>4.467470e+04</td>\n",
       "    </tr>\n",
       "    <tr>\n",
       "      <th>Nombre de lots</th>\n",
       "      <td>7.175250e+03</td>\n",
       "    </tr>\n",
       "    <tr>\n",
       "      <th>Surface reelle bati</th>\n",
       "      <td>3.514173e+03</td>\n",
       "    </tr>\n",
       "    <tr>\n",
       "      <th>Surface terrain</th>\n",
       "      <td>2.146642e+03</td>\n",
       "    </tr>\n",
       "    <tr>\n",
       "      <th>Type local_Appartement</th>\n",
       "      <td>5.904879e+13</td>\n",
       "    </tr>\n",
       "    <tr>\n",
       "      <th>Type local_Dépendance</th>\n",
       "      <td>4.616803e+13</td>\n",
       "    </tr>\n",
       "    <tr>\n",
       "      <th>Type local_Local industriel. commercial ou assimilé</th>\n",
       "      <td>2.896732e+13</td>\n",
       "    </tr>\n",
       "    <tr>\n",
       "      <th>Type local_Maison</th>\n",
       "      <td>6.629050e+13</td>\n",
       "    </tr>\n",
       "    <tr>\n",
       "      <th>Constante</th>\n",
       "      <td>1.641013e+05</td>\n",
       "    </tr>\n",
       "  </tbody>\n",
       "</table>\n",
       "</div>"
      ],
      "text/plain": [
       "                                                            Coef\n",
       "Nombre pieces principales                           4.467470e+04\n",
       "Nombre de lots                                      7.175250e+03\n",
       "Surface reelle bati                                 3.514173e+03\n",
       "Surface terrain                                     2.146642e+03\n",
       "Type local_Appartement                              5.904879e+13\n",
       "Type local_Dépendance                               4.616803e+13\n",
       "Type local_Local industriel. commercial ou assi...  2.896732e+13\n",
       "Type local_Maison                                   6.629050e+13\n",
       "Constante                                           1.641013e+05"
      ]
     },
     "execution_count": 13,
     "metadata": {},
     "output_type": "execute_result"
    }
   ],
   "source": [
    "coef = pd.DataFrame(lm.coef_ ,index = X_train.columns, columns=['Coef'])\n",
    "coef.loc['Constante'] = lm.intercept_\n",
    "coef"
   ]
  },
  {
   "cell_type": "markdown",
   "metadata": {},
   "source": [
    "### Régression Ridge"
   ]
  },
  {
   "cell_type": "markdown",
   "metadata": {},
   "source": [
    "#### Sans GridSearch"
   ]
  },
  {
   "cell_type": "code",
   "execution_count": 59,
   "metadata": {},
   "outputs": [
    {
     "name": "stdout",
     "output_type": "stream",
     "text": [
      "RMSE : 100896.70759142876\n"
     ]
    }
   ],
   "source": [
    "ridge_model = Ridge(alpha=10)\n",
    "ridge_model = ridge_model.fit(X_train_CR,y_train)\n",
    "\n",
    "y_pred = ridge_model.predict(X_test_CR)\n",
    "print(\"RMSE : \" + str(mean_squared_error(y_test, y_pred, squared= False)))"
   ]
  },
  {
   "cell_type": "markdown",
   "metadata": {},
   "source": [
    "#### Avec GridSearch"
   ]
  },
  {
   "cell_type": "code",
   "execution_count": 41,
   "metadata": {},
   "outputs": [
    {
     "name": "stdout",
     "output_type": "stream",
     "text": [
      "C'est bon tu peux envoyer l'apprentissage !\n",
      "Nombre de combinaison :\n",
      "10\n",
      "Fitting 5 folds for each of 10 candidates, totalling 50 fits\n"
     ]
    },
    {
     "data": {
      "text/html": [
       "<style>#sk-container-id-6 {color: black;}#sk-container-id-6 pre{padding: 0;}#sk-container-id-6 div.sk-toggleable {background-color: white;}#sk-container-id-6 label.sk-toggleable__label {cursor: pointer;display: block;width: 100%;margin-bottom: 0;padding: 0.3em;box-sizing: border-box;text-align: center;}#sk-container-id-6 label.sk-toggleable__label-arrow:before {content: \"▸\";float: left;margin-right: 0.25em;color: #696969;}#sk-container-id-6 label.sk-toggleable__label-arrow:hover:before {color: black;}#sk-container-id-6 div.sk-estimator:hover label.sk-toggleable__label-arrow:before {color: black;}#sk-container-id-6 div.sk-toggleable__content {max-height: 0;max-width: 0;overflow: hidden;text-align: left;background-color: #f0f8ff;}#sk-container-id-6 div.sk-toggleable__content pre {margin: 0.2em;color: black;border-radius: 0.25em;background-color: #f0f8ff;}#sk-container-id-6 input.sk-toggleable__control:checked~div.sk-toggleable__content {max-height: 200px;max-width: 100%;overflow: auto;}#sk-container-id-6 input.sk-toggleable__control:checked~label.sk-toggleable__label-arrow:before {content: \"▾\";}#sk-container-id-6 div.sk-estimator input.sk-toggleable__control:checked~label.sk-toggleable__label {background-color: #d4ebff;}#sk-container-id-6 div.sk-label input.sk-toggleable__control:checked~label.sk-toggleable__label {background-color: #d4ebff;}#sk-container-id-6 input.sk-hidden--visually {border: 0;clip: rect(1px 1px 1px 1px);clip: rect(1px, 1px, 1px, 1px);height: 1px;margin: -1px;overflow: hidden;padding: 0;position: absolute;width: 1px;}#sk-container-id-6 div.sk-estimator {font-family: monospace;background-color: #f0f8ff;border: 1px dotted black;border-radius: 0.25em;box-sizing: border-box;margin-bottom: 0.5em;}#sk-container-id-6 div.sk-estimator:hover {background-color: #d4ebff;}#sk-container-id-6 div.sk-parallel-item::after {content: \"\";width: 100%;border-bottom: 1px solid gray;flex-grow: 1;}#sk-container-id-6 div.sk-label:hover label.sk-toggleable__label {background-color: #d4ebff;}#sk-container-id-6 div.sk-serial::before {content: \"\";position: absolute;border-left: 1px solid gray;box-sizing: border-box;top: 0;bottom: 0;left: 50%;z-index: 0;}#sk-container-id-6 div.sk-serial {display: flex;flex-direction: column;align-items: center;background-color: white;padding-right: 0.2em;padding-left: 0.2em;position: relative;}#sk-container-id-6 div.sk-item {position: relative;z-index: 1;}#sk-container-id-6 div.sk-parallel {display: flex;align-items: stretch;justify-content: center;background-color: white;position: relative;}#sk-container-id-6 div.sk-item::before, #sk-container-id-6 div.sk-parallel-item::before {content: \"\";position: absolute;border-left: 1px solid gray;box-sizing: border-box;top: 0;bottom: 0;left: 50%;z-index: -1;}#sk-container-id-6 div.sk-parallel-item {display: flex;flex-direction: column;z-index: 1;position: relative;background-color: white;}#sk-container-id-6 div.sk-parallel-item:first-child::after {align-self: flex-end;width: 50%;}#sk-container-id-6 div.sk-parallel-item:last-child::after {align-self: flex-start;width: 50%;}#sk-container-id-6 div.sk-parallel-item:only-child::after {width: 0;}#sk-container-id-6 div.sk-dashed-wrapped {border: 1px dashed gray;margin: 0 0.4em 0.5em 0.4em;box-sizing: border-box;padding-bottom: 0.4em;background-color: white;}#sk-container-id-6 div.sk-label label {font-family: monospace;font-weight: bold;display: inline-block;line-height: 1.2em;}#sk-container-id-6 div.sk-label-container {text-align: center;}#sk-container-id-6 div.sk-container {/* jupyter's `normalize.less` sets `[hidden] { display: none; }` but bootstrap.min.css set `[hidden] { display: none !important; }` so we also need the `!important` here to be able to override the default hidden behavior on the sphinx rendered scikit-learn.org. See: https://github.com/scikit-learn/scikit-learn/issues/21755 */display: inline-block !important;position: relative;}#sk-container-id-6 div.sk-text-repr-fallback {display: none;}</style><div id=\"sk-container-id-6\" class=\"sk-top-container\"><div class=\"sk-text-repr-fallback\"><pre>GridSearchCV(estimator=Ridge(),\n",
       "             param_grid={&#x27;alpha&#x27;: array([0, 1, 2, 3, 4, 5, 6, 7, 8, 9])},\n",
       "             scoring=&#x27;neg_mean_squared_error&#x27;, verbose=1)</pre><b>In a Jupyter environment, please rerun this cell to show the HTML representation or trust the notebook. <br />On GitHub, the HTML representation is unable to render, please try loading this page with nbviewer.org.</b></div><div class=\"sk-container\" hidden><div class=\"sk-item sk-dashed-wrapped\"><div class=\"sk-label-container\"><div class=\"sk-label sk-toggleable\"><input class=\"sk-toggleable__control sk-hidden--visually\" id=\"sk-estimator-id-16\" type=\"checkbox\" ><label for=\"sk-estimator-id-16\" class=\"sk-toggleable__label sk-toggleable__label-arrow\">GridSearchCV</label><div class=\"sk-toggleable__content\"><pre>GridSearchCV(estimator=Ridge(),\n",
       "             param_grid={&#x27;alpha&#x27;: array([0, 1, 2, 3, 4, 5, 6, 7, 8, 9])},\n",
       "             scoring=&#x27;neg_mean_squared_error&#x27;, verbose=1)</pre></div></div></div><div class=\"sk-parallel\"><div class=\"sk-parallel-item\"><div class=\"sk-item\"><div class=\"sk-label-container\"><div class=\"sk-label sk-toggleable\"><input class=\"sk-toggleable__control sk-hidden--visually\" id=\"sk-estimator-id-17\" type=\"checkbox\" ><label for=\"sk-estimator-id-17\" class=\"sk-toggleable__label sk-toggleable__label-arrow\">estimator: Ridge</label><div class=\"sk-toggleable__content\"><pre>Ridge()</pre></div></div></div><div class=\"sk-serial\"><div class=\"sk-item\"><div class=\"sk-estimator sk-toggleable\"><input class=\"sk-toggleable__control sk-hidden--visually\" id=\"sk-estimator-id-18\" type=\"checkbox\" ><label for=\"sk-estimator-id-18\" class=\"sk-toggleable__label sk-toggleable__label-arrow\">Ridge</label><div class=\"sk-toggleable__content\"><pre>Ridge()</pre></div></div></div></div></div></div></div></div></div></div>"
      ],
      "text/plain": [
       "GridSearchCV(estimator=Ridge(),\n",
       "             param_grid={'alpha': array([0, 1, 2, 3, 4, 5, 6, 7, 8, 9])},\n",
       "             scoring='neg_mean_squared_error', verbose=1)"
      ]
     },
     "execution_count": 41,
     "metadata": {},
     "output_type": "execute_result"
    }
   ],
   "source": [
    "parameters = {'alpha': np.arange(start = 0, stop = 10, step = 1)}\n",
    "print(alerteCombinaison(parameters))\n",
    "\n",
    "ridge_model = Ridge()\n",
    "grid_ridge = GridSearchCV(ridge_model, parameters, scoring = 'neg_mean_squared_error', verbose = 1)\n",
    "grid_ridge.fit(X_train_CR, y_train)"
   ]
  },
  {
   "cell_type": "code",
   "execution_count": 42,
   "metadata": {},
   "outputs": [
    {
     "name": "stdout",
     "output_type": "stream",
     "text": [
      "         params  mean_test_score\n",
      "0  {'alpha': 0}    -1.021218e+10\n",
      "1  {'alpha': 1}    -1.021218e+10\n",
      "2  {'alpha': 2}    -1.021218e+10\n",
      "3  {'alpha': 3}    -1.021218e+10\n",
      "4  {'alpha': 4}    -1.021218e+10\n",
      "5  {'alpha': 5}    -1.021218e+10\n",
      "6  {'alpha': 6}    -1.021218e+10\n",
      "7  {'alpha': 7}    -1.021218e+10\n",
      "8  {'alpha': 8}    -1.021218e+10\n",
      "9  {'alpha': 9}    -1.021218e+10\n",
      "Meilleur paramètre : {'alpha': 1}\n",
      "Meilleur score : -10212175876.177395\n",
      "RMSE : 100896.70665757051\n"
     ]
    }
   ],
   "source": [
    "print(pd.DataFrame(grid_ridge.cv_results_).loc[:,['params','mean_test_score']])\n",
    "print(\"Meilleur paramètre :\", grid_ridge.best_params_)\n",
    "print(\"Meilleur score :\", grid_ridge.best_score_)\n",
    "y_pred = grid_ridge.best_estimator_.predict(X_test_CR)\n",
    "print(\"RMSE : \" + str(mean_squared_error(y_test, y_pred, squared= False)))"
   ]
  },
  {
   "cell_type": "markdown",
   "metadata": {},
   "source": [
    "Coefficients du modèle"
   ]
  },
  {
   "cell_type": "code",
   "execution_count": 67,
   "metadata": {},
   "outputs": [
    {
     "data": {
      "text/html": [
       "<div>\n",
       "<style scoped>\n",
       "    .dataframe tbody tr th:only-of-type {\n",
       "        vertical-align: middle;\n",
       "    }\n",
       "\n",
       "    .dataframe tbody tr th {\n",
       "        vertical-align: top;\n",
       "    }\n",
       "\n",
       "    .dataframe thead th {\n",
       "        text-align: right;\n",
       "    }\n",
       "</style>\n",
       "<table border=\"1\" class=\"dataframe\">\n",
       "  <thead>\n",
       "    <tr style=\"text-align: right;\">\n",
       "      <th></th>\n",
       "      <th>Coef</th>\n",
       "    </tr>\n",
       "  </thead>\n",
       "  <tbody>\n",
       "    <tr>\n",
       "      <th>Nombre pieces principales</th>\n",
       "      <td>44685.529907</td>\n",
       "    </tr>\n",
       "    <tr>\n",
       "      <th>Nombre de lots</th>\n",
       "      <td>7259.775261</td>\n",
       "    </tr>\n",
       "    <tr>\n",
       "      <th>Surface reelle bati</th>\n",
       "      <td>3547.566840</td>\n",
       "    </tr>\n",
       "    <tr>\n",
       "      <th>Surface terrain</th>\n",
       "      <td>1939.908889</td>\n",
       "    </tr>\n",
       "    <tr>\n",
       "      <th>Type local_Appartement</th>\n",
       "      <td>-2941.588973</td>\n",
       "    </tr>\n",
       "    <tr>\n",
       "      <th>Type local_Dépendance</th>\n",
       "      <td>2948.759634</td>\n",
       "    </tr>\n",
       "    <tr>\n",
       "      <th>Type local_Local industriel. commercial ou assimilé</th>\n",
       "      <td>10912.957287</td>\n",
       "    </tr>\n",
       "    <tr>\n",
       "      <th>Type local_Maison</th>\n",
       "      <td>-4202.114504</td>\n",
       "    </tr>\n",
       "    <tr>\n",
       "      <th>Constante</th>\n",
       "      <td>164101.304014</td>\n",
       "    </tr>\n",
       "  </tbody>\n",
       "</table>\n",
       "</div>"
      ],
      "text/plain": [
       "                                                             Coef\n",
       "Nombre pieces principales                            44685.529907\n",
       "Nombre de lots                                        7259.775261\n",
       "Surface reelle bati                                   3547.566840\n",
       "Surface terrain                                       1939.908889\n",
       "Type local_Appartement                               -2941.588973\n",
       "Type local_Dépendance                                 2948.759634\n",
       "Type local_Local industriel. commercial ou assi...   10912.957287\n",
       "Type local_Maison                                    -4202.114504\n",
       "Constante                                           164101.304014"
      ]
     },
     "execution_count": 67,
     "metadata": {},
     "output_type": "execute_result"
    }
   ],
   "source": [
    "coef = pd.DataFrame(ridge_model.best_estimator_.coef_ ,\n",
    "                    index = X_train.columns, columns=['Coef'])\n",
    "coef.loc['Constante'] = ridge_model.best_estimator_.intercept_\n",
    "coef"
   ]
  },
  {
   "cell_type": "markdown",
   "metadata": {},
   "source": [
    "### Régression Lasso"
   ]
  },
  {
   "cell_type": "code",
   "execution_count": 58,
   "metadata": {},
   "outputs": [
    {
     "name": "stdout",
     "output_type": "stream",
     "text": [
      "RMSE : 100896.75555293108\n"
     ]
    }
   ],
   "source": [
    "lasso_model = Lasso(alpha=5)\n",
    "lasso_model = lasso_model.fit(X_train_CR,y_train)\n",
    "\n",
    "y_pred = lasso_model.predict(X_test_CR)\n",
    "\n",
    "print(\"RMSE : \" + str(mean_squared_error(y_test, y_pred, squared= False)))"
   ]
  },
  {
   "cell_type": "code",
   "execution_count": 16,
   "metadata": {},
   "outputs": [
    {
     "data": {
      "text/html": [
       "<div>\n",
       "<style scoped>\n",
       "    .dataframe tbody tr th:only-of-type {\n",
       "        vertical-align: middle;\n",
       "    }\n",
       "\n",
       "    .dataframe tbody tr th {\n",
       "        vertical-align: top;\n",
       "    }\n",
       "\n",
       "    .dataframe thead th {\n",
       "        text-align: right;\n",
       "    }\n",
       "</style>\n",
       "<table border=\"1\" class=\"dataframe\">\n",
       "  <thead>\n",
       "    <tr style=\"text-align: right;\">\n",
       "      <th></th>\n",
       "      <th>Coef</th>\n",
       "    </tr>\n",
       "  </thead>\n",
       "  <tbody>\n",
       "    <tr>\n",
       "      <th>Nombre pieces principales</th>\n",
       "      <td>44632.339240</td>\n",
       "    </tr>\n",
       "    <tr>\n",
       "      <th>Nombre de lots</th>\n",
       "      <td>7128.452419</td>\n",
       "    </tr>\n",
       "    <tr>\n",
       "      <th>Surface reelle bati</th>\n",
       "      <td>3518.184656</td>\n",
       "    </tr>\n",
       "    <tr>\n",
       "      <th>Surface terrain</th>\n",
       "      <td>2140.866760</td>\n",
       "    </tr>\n",
       "    <tr>\n",
       "      <th>Type local_Appartement</th>\n",
       "      <td>-0.000000</td>\n",
       "    </tr>\n",
       "    <tr>\n",
       "      <th>Type local_Dépendance</th>\n",
       "      <td>5221.526143</td>\n",
       "    </tr>\n",
       "    <tr>\n",
       "      <th>Type local_Local industriel. commercial ou assimilé</th>\n",
       "      <td>12364.257885</td>\n",
       "    </tr>\n",
       "    <tr>\n",
       "      <th>Type local_Maison</th>\n",
       "      <td>-641.661277</td>\n",
       "    </tr>\n",
       "    <tr>\n",
       "      <th>Constante</th>\n",
       "      <td>164101.304014</td>\n",
       "    </tr>\n",
       "  </tbody>\n",
       "</table>\n",
       "</div>"
      ],
      "text/plain": [
       "                                                             Coef\n",
       "Nombre pieces principales                            44632.339240\n",
       "Nombre de lots                                        7128.452419\n",
       "Surface reelle bati                                   3518.184656\n",
       "Surface terrain                                       2140.866760\n",
       "Type local_Appartement                                  -0.000000\n",
       "Type local_Dépendance                                 5221.526143\n",
       "Type local_Local industriel. commercial ou assi...   12364.257885\n",
       "Type local_Maison                                     -641.661277\n",
       "Constante                                           164101.304014"
      ]
     },
     "execution_count": 16,
     "metadata": {},
     "output_type": "execute_result"
    }
   ],
   "source": [
    "coef = pd.DataFrame(lasso_model.coef_ ,\n",
    "                    index = X_train.columns, columns=['Coef'])\n",
    "coef.loc['Constante'] = lasso_model.intercept_\n",
    "coef"
   ]
  },
  {
   "cell_type": "markdown",
   "metadata": {},
   "source": [
    "### Avec GridSearch"
   ]
  },
  {
   "cell_type": "code",
   "execution_count": 19,
   "metadata": {},
   "outputs": [
    {
     "name": "stdout",
     "output_type": "stream",
     "text": [
      "C'est bon tu peux envoyer l'apprentissage !\n",
      "Nombre de combinaison :\n",
      "10\n",
      "Fitting 5 folds for each of 10 candidates, totalling 50 fits\n"
     ]
    },
    {
     "name": "stderr",
     "output_type": "stream",
     "text": [
      "c:\\Users\\bourh\\AppData\\Local\\Programs\\Python\\Python312\\Lib\\site-packages\\sklearn\\base.py:1152: UserWarning: With alpha=0, this algorithm does not converge well. You are advised to use the LinearRegression estimator\n",
      "  return fit_method(estimator, *args, **kwargs)\n",
      "c:\\Users\\bourh\\AppData\\Local\\Programs\\Python\\Python312\\Lib\\site-packages\\sklearn\\linear_model\\_coordinate_descent.py:628: UserWarning: Coordinate descent with no regularization may lead to unexpected results and is discouraged.\n",
      "  model = cd_fast.enet_coordinate_descent(\n",
      "c:\\Users\\bourh\\AppData\\Local\\Programs\\Python\\Python312\\Lib\\site-packages\\sklearn\\linear_model\\_coordinate_descent.py:628: ConvergenceWarning: Objective did not converge. You might want to increase the number of iterations, check the scale of the features or consider increasing regularisation. Duality gap: 7.853e+15, tolerance: 1.798e+12 Linear regression models with null weight for the l1 regularization term are more efficiently fitted using one of the solvers implemented in sklearn.linear_model.Ridge/RidgeCV instead.\n",
      "  model = cd_fast.enet_coordinate_descent(\n"
     ]
    },
    {
     "name": "stdout",
     "output_type": "stream",
     "text": [
      "[CV] END ............................................alpha=0; total time= 1.7min\n"
     ]
    },
    {
     "name": "stderr",
     "output_type": "stream",
     "text": [
      "c:\\Users\\bourh\\AppData\\Local\\Programs\\Python\\Python312\\Lib\\site-packages\\sklearn\\base.py:1152: UserWarning: With alpha=0, this algorithm does not converge well. You are advised to use the LinearRegression estimator\n",
      "  return fit_method(estimator, *args, **kwargs)\n",
      "c:\\Users\\bourh\\AppData\\Local\\Programs\\Python\\Python312\\Lib\\site-packages\\sklearn\\linear_model\\_coordinate_descent.py:628: UserWarning: Coordinate descent with no regularization may lead to unexpected results and is discouraged.\n",
      "  model = cd_fast.enet_coordinate_descent(\n",
      "c:\\Users\\bourh\\AppData\\Local\\Programs\\Python\\Python312\\Lib\\site-packages\\sklearn\\linear_model\\_coordinate_descent.py:628: ConvergenceWarning: Objective did not converge. You might want to increase the number of iterations, check the scale of the features or consider increasing regularisation. Duality gap: 7.862e+15, tolerance: 1.801e+12 Linear regression models with null weight for the l1 regularization term are more efficiently fitted using one of the solvers implemented in sklearn.linear_model.Ridge/RidgeCV instead.\n",
      "  model = cd_fast.enet_coordinate_descent(\n"
     ]
    },
    {
     "name": "stdout",
     "output_type": "stream",
     "text": [
      "[CV] END ............................................alpha=0; total time= 1.7min\n"
     ]
    },
    {
     "name": "stderr",
     "output_type": "stream",
     "text": [
      "c:\\Users\\bourh\\AppData\\Local\\Programs\\Python\\Python312\\Lib\\site-packages\\sklearn\\base.py:1152: UserWarning: With alpha=0, this algorithm does not converge well. You are advised to use the LinearRegression estimator\n",
      "  return fit_method(estimator, *args, **kwargs)\n",
      "c:\\Users\\bourh\\AppData\\Local\\Programs\\Python\\Python312\\Lib\\site-packages\\sklearn\\linear_model\\_coordinate_descent.py:628: UserWarning: Coordinate descent with no regularization may lead to unexpected results and is discouraged.\n",
      "  model = cd_fast.enet_coordinate_descent(\n",
      "c:\\Users\\bourh\\AppData\\Local\\Programs\\Python\\Python312\\Lib\\site-packages\\sklearn\\linear_model\\_coordinate_descent.py:628: ConvergenceWarning: Objective did not converge. You might want to increase the number of iterations, check the scale of the features or consider increasing regularisation. Duality gap: 7.860e+15, tolerance: 1.800e+12 Linear regression models with null weight for the l1 regularization term are more efficiently fitted using one of the solvers implemented in sklearn.linear_model.Ridge/RidgeCV instead.\n",
      "  model = cd_fast.enet_coordinate_descent(\n"
     ]
    },
    {
     "name": "stdout",
     "output_type": "stream",
     "text": [
      "[CV] END ............................................alpha=0; total time= 1.7min\n"
     ]
    },
    {
     "name": "stderr",
     "output_type": "stream",
     "text": [
      "c:\\Users\\bourh\\AppData\\Local\\Programs\\Python\\Python312\\Lib\\site-packages\\sklearn\\base.py:1152: UserWarning: With alpha=0, this algorithm does not converge well. You are advised to use the LinearRegression estimator\n",
      "  return fit_method(estimator, *args, **kwargs)\n",
      "c:\\Users\\bourh\\AppData\\Local\\Programs\\Python\\Python312\\Lib\\site-packages\\sklearn\\linear_model\\_coordinate_descent.py:628: UserWarning: Coordinate descent with no regularization may lead to unexpected results and is discouraged.\n",
      "  model = cd_fast.enet_coordinate_descent(\n"
     ]
    }
   ],
   "source": [
    "parameters = {'alpha': np.arange(start = 0, stop = 10, step = 1)}\n",
    "print(alerteCombinaison(parameters))\n",
    "lasso_model = Lasso()\n",
    "lasso_model = GridSearchCV(lasso_model, parameters, scoring = 'r2', verbose = 2)\n",
    "lasso_model.fit(X_train_CR, y_train)"
   ]
  },
  {
   "cell_type": "code",
   "execution_count": null,
   "metadata": {},
   "outputs": [],
   "source": [
    "print(\"Meilleur paramètre :\", ridge_model.best_params_)\n",
    "print(\"Meilleur score :\", ridge_model.best_score_)\n",
    "\n",
    "y_pred = ridge_model.best_estimator_.predict(X_test_CR)\n",
    "\n",
    "print(\"RMSE : \" + str(mean_squared_error(y_test, y_pred, squared= False)))"
   ]
  },
  {
   "cell_type": "markdown",
   "metadata": {},
   "source": [
    "### Régression Elasticnet"
   ]
  },
  {
   "cell_type": "markdown",
   "metadata": {},
   "source": [
    "#### Sans GridsearchCV"
   ]
  },
  {
   "cell_type": "code",
   "execution_count": 19,
   "metadata": {},
   "outputs": [
    {
     "name": "stdout",
     "output_type": "stream",
     "text": [
      "RMSE : 104905.91176840823\n"
     ]
    }
   ],
   "source": [
    "from sklearn.linear_model import ElasticNet\n",
    "elastic_model = ElasticNet(alpha=5, l1_ratio=0.2)\n",
    "elastic_model = elastic_model.fit(X_train_CR,y_train)\n",
    "\n",
    "y_pred = elastic_model.predict(X_test_CR)\n",
    "\n",
    "print(\"RMSE : \" + str(mean_squared_error(y_test, y_pred, squared= False)))"
   ]
  },
  {
   "cell_type": "markdown",
   "metadata": {},
   "source": [
    "### Arbre de décision"
   ]
  },
  {
   "cell_type": "code",
   "execution_count": 46,
   "metadata": {},
   "outputs": [
    {
     "name": "stdout",
     "output_type": "stream",
     "text": [
      "Mean Squared Error (MSE): 12777387809.924845\n"
     ]
    }
   ],
   "source": [
    "from sklearn.tree import DecisionTreeRegressor\n",
    "tree_regressor = DecisionTreeRegressor(random_state=42)\n",
    "tree_regressor.fit(X_train_CR, y_train)\n",
    "y_pred = tree_regressor.predict(X_test_CR)\n",
    "mse = mean_squared_error(y_test, y_pred)\n",
    "# Affichez le MSE pour évaluer la performance du modèle\n",
    "print(\"Mean Squared Error (MSE):\", mse)"
   ]
  },
  {
   "cell_type": "code",
   "execution_count": 47,
   "metadata": {},
   "outputs": [
    {
     "name": "stdout",
     "output_type": "stream",
     "text": [
      "Mean Squared Error (MSE): 9488751985.915815\n"
     ]
    }
   ],
   "source": [
    "tree_regressor = DecisionTreeRegressor(max_depth=10, min_samples_split=2,min_samples_leaf=1, random_state=42)\n",
    "tree_regressor.fit(X_train_CR, y_train)\n",
    "y_pred = tree_regressor.predict(X_test_CR)\n",
    "mse = mean_squared_error(y_test, y_pred)\n",
    "# Affichez le MSE pour évaluer la performance du modèle\n",
    "print(\"Mean Squared Error (MSE):\", mse)"
   ]
  },
  {
   "cell_type": "markdown",
   "metadata": {},
   "source": [
    "#### Avec GridSearch"
   ]
  },
  {
   "cell_type": "code",
   "execution_count": 48,
   "metadata": {},
   "outputs": [
    {
     "data": {
      "text/html": [
       "<style>#sk-container-id-7 {color: black;}#sk-container-id-7 pre{padding: 0;}#sk-container-id-7 div.sk-toggleable {background-color: white;}#sk-container-id-7 label.sk-toggleable__label {cursor: pointer;display: block;width: 100%;margin-bottom: 0;padding: 0.3em;box-sizing: border-box;text-align: center;}#sk-container-id-7 label.sk-toggleable__label-arrow:before {content: \"▸\";float: left;margin-right: 0.25em;color: #696969;}#sk-container-id-7 label.sk-toggleable__label-arrow:hover:before {color: black;}#sk-container-id-7 div.sk-estimator:hover label.sk-toggleable__label-arrow:before {color: black;}#sk-container-id-7 div.sk-toggleable__content {max-height: 0;max-width: 0;overflow: hidden;text-align: left;background-color: #f0f8ff;}#sk-container-id-7 div.sk-toggleable__content pre {margin: 0.2em;color: black;border-radius: 0.25em;background-color: #f0f8ff;}#sk-container-id-7 input.sk-toggleable__control:checked~div.sk-toggleable__content {max-height: 200px;max-width: 100%;overflow: auto;}#sk-container-id-7 input.sk-toggleable__control:checked~label.sk-toggleable__label-arrow:before {content: \"▾\";}#sk-container-id-7 div.sk-estimator input.sk-toggleable__control:checked~label.sk-toggleable__label {background-color: #d4ebff;}#sk-container-id-7 div.sk-label input.sk-toggleable__control:checked~label.sk-toggleable__label {background-color: #d4ebff;}#sk-container-id-7 input.sk-hidden--visually {border: 0;clip: rect(1px 1px 1px 1px);clip: rect(1px, 1px, 1px, 1px);height: 1px;margin: -1px;overflow: hidden;padding: 0;position: absolute;width: 1px;}#sk-container-id-7 div.sk-estimator {font-family: monospace;background-color: #f0f8ff;border: 1px dotted black;border-radius: 0.25em;box-sizing: border-box;margin-bottom: 0.5em;}#sk-container-id-7 div.sk-estimator:hover {background-color: #d4ebff;}#sk-container-id-7 div.sk-parallel-item::after {content: \"\";width: 100%;border-bottom: 1px solid gray;flex-grow: 1;}#sk-container-id-7 div.sk-label:hover label.sk-toggleable__label {background-color: #d4ebff;}#sk-container-id-7 div.sk-serial::before {content: \"\";position: absolute;border-left: 1px solid gray;box-sizing: border-box;top: 0;bottom: 0;left: 50%;z-index: 0;}#sk-container-id-7 div.sk-serial {display: flex;flex-direction: column;align-items: center;background-color: white;padding-right: 0.2em;padding-left: 0.2em;position: relative;}#sk-container-id-7 div.sk-item {position: relative;z-index: 1;}#sk-container-id-7 div.sk-parallel {display: flex;align-items: stretch;justify-content: center;background-color: white;position: relative;}#sk-container-id-7 div.sk-item::before, #sk-container-id-7 div.sk-parallel-item::before {content: \"\";position: absolute;border-left: 1px solid gray;box-sizing: border-box;top: 0;bottom: 0;left: 50%;z-index: -1;}#sk-container-id-7 div.sk-parallel-item {display: flex;flex-direction: column;z-index: 1;position: relative;background-color: white;}#sk-container-id-7 div.sk-parallel-item:first-child::after {align-self: flex-end;width: 50%;}#sk-container-id-7 div.sk-parallel-item:last-child::after {align-self: flex-start;width: 50%;}#sk-container-id-7 div.sk-parallel-item:only-child::after {width: 0;}#sk-container-id-7 div.sk-dashed-wrapped {border: 1px dashed gray;margin: 0 0.4em 0.5em 0.4em;box-sizing: border-box;padding-bottom: 0.4em;background-color: white;}#sk-container-id-7 div.sk-label label {font-family: monospace;font-weight: bold;display: inline-block;line-height: 1.2em;}#sk-container-id-7 div.sk-label-container {text-align: center;}#sk-container-id-7 div.sk-container {/* jupyter's `normalize.less` sets `[hidden] { display: none; }` but bootstrap.min.css set `[hidden] { display: none !important; }` so we also need the `!important` here to be able to override the default hidden behavior on the sphinx rendered scikit-learn.org. See: https://github.com/scikit-learn/scikit-learn/issues/21755 */display: inline-block !important;position: relative;}#sk-container-id-7 div.sk-text-repr-fallback {display: none;}</style><div id=\"sk-container-id-7\" class=\"sk-top-container\"><div class=\"sk-text-repr-fallback\"><pre>GridSearchCV(estimator=DecisionTreeRegressor(),\n",
       "             param_grid={&#x27;max_depth&#x27;: [None, 10, 20, 30],\n",
       "                         &#x27;min_samples_leaf&#x27;: [1, 2, 4],\n",
       "                         &#x27;min_samples_split&#x27;: [2, 5, 10]})</pre><b>In a Jupyter environment, please rerun this cell to show the HTML representation or trust the notebook. <br />On GitHub, the HTML representation is unable to render, please try loading this page with nbviewer.org.</b></div><div class=\"sk-container\" hidden><div class=\"sk-item sk-dashed-wrapped\"><div class=\"sk-label-container\"><div class=\"sk-label sk-toggleable\"><input class=\"sk-toggleable__control sk-hidden--visually\" id=\"sk-estimator-id-19\" type=\"checkbox\" ><label for=\"sk-estimator-id-19\" class=\"sk-toggleable__label sk-toggleable__label-arrow\">GridSearchCV</label><div class=\"sk-toggleable__content\"><pre>GridSearchCV(estimator=DecisionTreeRegressor(),\n",
       "             param_grid={&#x27;max_depth&#x27;: [None, 10, 20, 30],\n",
       "                         &#x27;min_samples_leaf&#x27;: [1, 2, 4],\n",
       "                         &#x27;min_samples_split&#x27;: [2, 5, 10]})</pre></div></div></div><div class=\"sk-parallel\"><div class=\"sk-parallel-item\"><div class=\"sk-item\"><div class=\"sk-label-container\"><div class=\"sk-label sk-toggleable\"><input class=\"sk-toggleable__control sk-hidden--visually\" id=\"sk-estimator-id-20\" type=\"checkbox\" ><label for=\"sk-estimator-id-20\" class=\"sk-toggleable__label sk-toggleable__label-arrow\">estimator: DecisionTreeRegressor</label><div class=\"sk-toggleable__content\"><pre>DecisionTreeRegressor()</pre></div></div></div><div class=\"sk-serial\"><div class=\"sk-item\"><div class=\"sk-estimator sk-toggleable\"><input class=\"sk-toggleable__control sk-hidden--visually\" id=\"sk-estimator-id-21\" type=\"checkbox\" ><label for=\"sk-estimator-id-21\" class=\"sk-toggleable__label sk-toggleable__label-arrow\">DecisionTreeRegressor</label><div class=\"sk-toggleable__content\"><pre>DecisionTreeRegressor()</pre></div></div></div></div></div></div></div></div></div></div>"
      ],
      "text/plain": [
       "GridSearchCV(estimator=DecisionTreeRegressor(),\n",
       "             param_grid={'max_depth': [None, 10, 20, 30],\n",
       "                         'min_samples_leaf': [1, 2, 4],\n",
       "                         'min_samples_split': [2, 5, 10]})"
      ]
     },
     "execution_count": 48,
     "metadata": {},
     "output_type": "execute_result"
    }
   ],
   "source": [
    "tree_regressor = DecisionTreeRegressor()\n",
    "param_grid = {\n",
    "    'max_depth': [None, 10, 20, 30],  # Profondeur maximale de l'arbre\n",
    "    'min_samples_split': [2, 5, 10],  # Nombre minimal d'échantillons requis pour diviser un nœud\n",
    "    'min_samples_leaf': [1, 2, 4]  # Nombre minimal d'échantillons requis dans une feuille\n",
    "}\n",
    "tree_regressor = GridSearchCV(tree_regressor, param_grid=param_grid)\n",
    "\n",
    "tree_regressor.fit(X_train_CR, y_train)"
   ]
  },
  {
   "cell_type": "code",
   "execution_count": 53,
   "metadata": {},
   "outputs": [
    {
     "name": "stdout",
     "output_type": "stream",
     "text": [
      "Meilleur paramètre : {'max_depth': 10, 'min_samples_leaf': 4, 'min_samples_split': 10}\n",
      "Meilleur score : 0.1874560876831884\n",
      "RMSE : 72615672858.32788\n"
     ]
    }
   ],
   "source": [
    "# print(pd.DataFrame(tree_regressor.cv_results_).loc[:,['params','mean_test_score']])\n",
    "print(\"Meilleur paramètre :\", tree_regressor.best_params_)\n",
    "print(\"Meilleur score :\", tree_regressor.best_score_)\n",
    "\n",
    "y_pred = ridge_model.predict(X_test_CR)\n",
    "print(\"RMSE : \" + str(mean_squared_error(y_test, y_pred, squared= False)))\n"
   ]
  },
  {
   "cell_type": "markdown",
   "metadata": {},
   "source": [
    "### Random forest"
   ]
  },
  {
   "cell_type": "code",
   "execution_count": 56,
   "metadata": {},
   "outputs": [
    {
     "name": "stdout",
     "output_type": "stream",
     "text": [
      "                                               params  mean_test_score\n",
      "0   {'max_depth': None, 'min_samples_leaf': 1, 'mi...        -0.054894\n",
      "1   {'max_depth': None, 'min_samples_leaf': 1, 'mi...        -0.009273\n",
      "2   {'max_depth': None, 'min_samples_leaf': 1, 'mi...         0.046871\n",
      "3   {'max_depth': None, 'min_samples_leaf': 2, 'mi...         0.022037\n",
      "4   {'max_depth': None, 'min_samples_leaf': 2, 'mi...         0.028152\n",
      "5   {'max_depth': None, 'min_samples_leaf': 2, 'mi...         0.064082\n",
      "6   {'max_depth': None, 'min_samples_leaf': 4, 'mi...         0.083782\n",
      "7   {'max_depth': None, 'min_samples_leaf': 4, 'mi...         0.083764\n",
      "8   {'max_depth': None, 'min_samples_leaf': 4, 'mi...         0.088451\n",
      "9   {'max_depth': 10, 'min_samples_leaf': 1, 'min_...         0.187218\n",
      "10  {'max_depth': 10, 'min_samples_leaf': 1, 'min_...         0.187263\n",
      "11  {'max_depth': 10, 'min_samples_leaf': 1, 'min_...         0.187304\n",
      "12  {'max_depth': 10, 'min_samples_leaf': 2, 'min_...         0.187289\n",
      "13  {'max_depth': 10, 'min_samples_leaf': 2, 'min_...         0.187296\n",
      "14  {'max_depth': 10, 'min_samples_leaf': 2, 'min_...         0.187336\n",
      "15  {'max_depth': 10, 'min_samples_leaf': 4, 'min_...         0.187442\n",
      "16  {'max_depth': 10, 'min_samples_leaf': 4, 'min_...         0.187442\n",
      "17  {'max_depth': 10, 'min_samples_leaf': 4, 'min_...         0.187456\n",
      "18  {'max_depth': 20, 'min_samples_leaf': 1, 'min_...         0.129547\n",
      "19  {'max_depth': 20, 'min_samples_leaf': 1, 'min_...         0.136366\n",
      "20  {'max_depth': 20, 'min_samples_leaf': 1, 'min_...         0.145345\n",
      "21  {'max_depth': 20, 'min_samples_leaf': 2, 'min_...         0.140284\n",
      "22  {'max_depth': 20, 'min_samples_leaf': 2, 'min_...         0.141347\n",
      "23  {'max_depth': 20, 'min_samples_leaf': 2, 'min_...         0.148303\n",
      "24  {'max_depth': 20, 'min_samples_leaf': 4, 'min_...         0.151070\n",
      "25  {'max_depth': 20, 'min_samples_leaf': 4, 'min_...         0.151062\n",
      "26  {'max_depth': 20, 'min_samples_leaf': 4, 'min_...         0.152268\n",
      "27  {'max_depth': 30, 'min_samples_leaf': 1, 'min_...        -0.004666\n",
      "28  {'max_depth': 30, 'min_samples_leaf': 1, 'min_...         0.027449\n",
      "29  {'max_depth': 30, 'min_samples_leaf': 1, 'min_...         0.068743\n",
      "30  {'max_depth': 30, 'min_samples_leaf': 2, 'min_...         0.048636\n",
      "31  {'max_depth': 30, 'min_samples_leaf': 2, 'min_...         0.053206\n",
      "32  {'max_depth': 30, 'min_samples_leaf': 2, 'min_...         0.080834\n",
      "33  {'max_depth': 30, 'min_samples_leaf': 4, 'min_...         0.094922\n",
      "34  {'max_depth': 30, 'min_samples_leaf': 4, 'min_...         0.094928\n",
      "35  {'max_depth': 30, 'min_samples_leaf': 4, 'min_...         0.098738\n",
      "Meilleur paramètre : {'max_depth': 10, 'min_samples_leaf': 4, 'min_samples_split': 10}\n",
      "Meilleur score : 0.1874560876831884\n",
      "RMSE : 102543.816240923\n"
     ]
    }
   ],
   "source": [
    "random_forest_regressor = RandomForestRegressor(n_estimators=100, random_state=42)\n",
    "random_forest_regressor.fit(X_train, y_train)\n",
    "y_pred = random_forest_regressor.predict(X_test)\n",
    "\n",
    "print(pd.DataFrame(tree_regressor.cv_results_).loc[:,['params','mean_test_score']])\n",
    "print(\"Meilleur paramètre :\", tree_regressor.best_params_)\n",
    "print(\"Meilleur score :\", tree_regressor.best_score_)\n",
    "print(\"RMSE : \" + str(mean_squared_error(y_test, y_pred, squared= False)))"
   ]
  },
  {
   "cell_type": "markdown",
   "metadata": {},
   "source": [
    "# Kaggle"
   ]
  },
  {
   "cell_type": "code",
   "execution_count": 20,
   "metadata": {},
   "outputs": [
    {
     "name": "stdout",
     "output_type": "stream",
     "text": [
      "ref                                                        title                                              size  lastUpdated          downloadCount  voteCount  usabilityRating  \n",
      "---------------------------------------------------------  ------------------------------------------------  -----  -------------------  -------------  ---------  ---------------  \n",
      "iamsouravbanerjee/customer-shopping-trends-dataset         Customer Shopping Trends Dataset                  146KB  2023-10-05 06:45:37           4688        116  1.0              \n",
      "nelgiriyewithana/top-spotify-songs-2023                    Most Streamed Spotify Songs 2023                   47KB  2023-08-26 11:04:57          31838        961  1.0              \n",
      "nelgiriyewithana/credit-card-fraud-detection-dataset-2023  Credit Card Fraud Detection Dataset 2023          143MB  2023-09-18 10:00:19           5456        185  1.0              \n",
      "nelgiriyewithana/billionaires-statistics-dataset           Billionaires Statistics Dataset (2023)            139KB  2023-09-29 13:39:28           3003         97  1.0              \n",
      "asaniczka/wages-by-education-in-the-usa-1973-2022          Wages by Education in the USA (1973-2022)           7KB  2023-10-09 09:43:40           1075         29  1.0              \n",
      "zedataweaver/global-salary-data                            Global Salary Data                                  5KB  2023-10-03 00:55:24           1736         47  1.0              \n",
      "qnqfbqfqo/electric-vehicle-population-in-washington-state  Electric Vehicle Population in Washington State     5MB  2023-10-10 06:44:26            539         24  1.0              \n",
      "willianoliveiragibin/10000-data-about-movies-1915-2023     10,000 Data  about movies (1915 - 2023)             1MB  2023-10-11 19:31:12            738         24  1.0              \n",
      "yakhyojon/air-quality-data                                 Air Quality Data                                    7KB  2023-10-12 07:45:04            645         26  1.0              \n",
      "anshtanwar/monthly-food-price-estimates                    Monthly Food Price Inflation                       44MB  2023-10-08 05:22:42           1639         40  1.0              \n",
      "sujaykapadnis/fast-food-calories-data                      Fast Food Calories Data                            13KB  2023-10-13 04:48:07            528         24  1.0              \n",
      "nyagami/fc-24-players-database-and-stats-from-easports     EA SPORTS FC 24 FULL PLAYERS DATABASE AND STATS     3MB  2023-10-09 22:43:27            518         27  1.0              \n",
      "alexhuitron/supermarket-sales                              Supermarket Sales                                  36KB  2023-10-02 20:42:03           1166         26  0.88235295       \n",
      "gabrielsantello/wholesale-and-retail-orders-dataset        Wholesale & Retail Orders Dataset                   3MB  2023-09-19 09:31:40            837         27  1.0              \n",
      "yakhyojon/customer-satisfaction-in-airline                 Customer Satisfaction in Airline                    2MB  2023-10-12 09:35:07            657         29  1.0              \n",
      "iamsouravbanerjee/heart-attack-prediction-dataset          Heart Attack Risk Prediction Dataset              519KB  2023-09-27 07:07:50           2736         58  1.0              \n",
      "zsinghrahulk/israel-vs-palestine                           Israel vs Palestine                                 2KB  2023-10-09 10:06:18            337         23  1.0              \n",
      "talhabarkaatahmad/laptop-prices-dataset-october-2023       Laptop Prices Dataset - October 2023               63KB  2023-10-09 13:34:58           1150         27  1.0              \n",
      "tawfikelmetwally/employee-dataset                          Employee dataset                                   19KB  2023-09-06 18:15:55           8388        143  0.9411765        \n",
      "joebeachcapital/students-performance                       Students Performance                                2KB  2023-08-31 00:50:11          10901        238  1.0              \n"
     ]
    }
   ],
   "source": [
    "!kaggle datasets list"
   ]
  },
  {
   "cell_type": "code",
   "execution_count": 21,
   "metadata": {},
   "outputs": [
    {
     "name": "stdout",
     "output_type": "stream",
     "text": [
      "Downloading m2-sise-2023.zip to c:\\Users\\bourh\\Cours\\CoursM2SISE\\Machine_Learning_Python\\ProjetPython\n",
      "\n"
     ]
    },
    {
     "name": "stderr",
     "output_type": "stream",
     "text": [
      "\n",
      "  0%|          | 0.00/295M [00:00<?, ?B/s]\n",
      "  0%|          | 1.00M/295M [00:00<03:25, 1.50MB/s]\n",
      "  1%|          | 3.00M/295M [00:00<01:05, 4.69MB/s]\n",
      "  2%|▏         | 6.00M/295M [00:00<00:32, 9.33MB/s]\n",
      "  3%|▎         | 10.0M/295M [00:01<00:19, 15.7MB/s]\n",
      "  5%|▍         | 14.0M/295M [00:01<00:15, 19.0MB/s]\n",
      "  6%|▌         | 18.0M/295M [00:01<00:12, 23.7MB/s]\n",
      "  7%|▋         | 21.0M/295M [00:01<00:12, 22.8MB/s]\n",
      "  8%|▊         | 24.0M/295M [00:01<00:11, 24.5MB/s]\n",
      "  9%|▉         | 27.0M/295M [00:01<00:12, 22.0MB/s]\n",
      " 11%|█         | 31.0M/295M [00:01<00:13, 20.6MB/s]\n",
      " 12%|█▏        | 35.0M/295M [00:02<00:11, 24.1MB/s]\n",
      " 13%|█▎        | 38.0M/295M [00:02<00:12, 21.4MB/s]\n",
      " 14%|█▍        | 41.0M/295M [00:02<00:16, 16.2MB/s]\n",
      " 15%|█▍        | 43.0M/295M [00:02<00:21, 12.6MB/s]\n",
      " 15%|█▌        | 45.0M/295M [00:03<00:23, 11.0MB/s]\n",
      " 17%|█▋        | 49.0M/295M [00:03<00:16, 15.5MB/s]\n",
      " 18%|█▊        | 52.0M/295M [00:03<00:15, 16.5MB/s]\n",
      " 19%|█▊        | 55.0M/295M [00:03<00:13, 19.0MB/s]\n",
      " 20%|█▉        | 59.0M/295M [00:03<00:10, 22.5MB/s]\n",
      " 21%|██        | 62.0M/295M [00:04<00:20, 12.2MB/s]\n",
      " 22%|██▏       | 66.0M/295M [00:04<00:20, 11.7MB/s]\n",
      " 24%|██▎       | 70.0M/295M [00:04<00:15, 15.3MB/s]\n",
      " 25%|██▌       | 74.0M/295M [00:04<00:12, 19.0MB/s]\n",
      " 26%|██▌       | 77.0M/295M [00:04<00:11, 20.3MB/s]\n",
      " 27%|██▋       | 81.0M/295M [00:05<00:09, 23.0MB/s]\n",
      " 29%|██▉       | 86.0M/295M [00:05<00:07, 28.4MB/s]\n",
      " 30%|███       | 90.0M/295M [00:05<00:07, 27.9MB/s]\n",
      " 32%|███▏      | 95.0M/295M [00:05<00:06, 32.9MB/s]\n",
      " 34%|███▎      | 99.0M/295M [00:05<00:07, 27.9MB/s]\n",
      " 35%|███▍      | 103M/295M [00:05<00:09, 22.3MB/s] \n",
      " 36%|███▌      | 106M/295M [00:06<00:10, 19.4MB/s]\n",
      " 37%|███▋      | 110M/295M [00:06<00:08, 21.7MB/s]\n",
      " 38%|███▊      | 113M/295M [00:06<00:08, 23.0MB/s]\n",
      " 40%|███▉      | 117M/295M [00:06<00:07, 26.6MB/s]\n",
      " 41%|████      | 120M/295M [00:06<00:08, 22.1MB/s]\n",
      " 42%|████▏     | 124M/295M [00:06<00:06, 25.8MB/s]\n",
      " 43%|████▎     | 128M/295M [00:06<00:06, 28.9MB/s]\n",
      " 45%|████▍     | 132M/295M [00:07<00:07, 21.8MB/s]\n",
      " 46%|████▌     | 136M/295M [00:07<00:06, 25.2MB/s]\n",
      " 47%|████▋     | 139M/295M [00:07<00:06, 24.8MB/s]\n",
      " 48%|████▊     | 143M/295M [00:07<00:05, 28.0MB/s]\n",
      " 49%|████▉     | 146M/295M [00:07<00:05, 26.9MB/s]\n",
      " 50%|█████     | 149M/295M [00:07<00:06, 25.2MB/s]\n",
      " 52%|█████▏    | 153M/295M [00:08<00:06, 22.9MB/s]\n",
      " 53%|█████▎    | 156M/295M [00:08<00:08, 16.7MB/s]\n",
      " 54%|█████▍    | 160M/295M [00:08<00:06, 20.7MB/s]\n",
      " 55%|█████▌    | 163M/295M [00:08<00:06, 22.4MB/s]\n",
      " 56%|█████▌    | 166M/295M [00:08<00:05, 24.2MB/s]\n",
      " 57%|█████▋    | 169M/295M [00:08<00:05, 24.6MB/s]\n",
      " 58%|█████▊    | 172M/295M [00:09<00:05, 24.5MB/s]\n",
      " 60%|█████▉    | 176M/295M [00:09<00:04, 28.1MB/s]\n",
      " 61%|██████    | 179M/295M [00:09<00:05, 22.6MB/s]\n",
      " 62%|██████▏   | 182M/295M [00:09<00:04, 24.4MB/s]\n",
      " 63%|██████▎   | 185M/295M [00:09<00:05, 20.7MB/s]\n",
      " 64%|██████▍   | 189M/295M [00:09<00:04, 24.8MB/s]\n",
      " 65%|██████▌   | 193M/295M [00:10<00:05, 20.4MB/s]\n",
      " 67%|██████▋   | 197M/295M [00:10<00:04, 24.1MB/s]\n",
      " 68%|██████▊   | 201M/295M [00:10<00:06, 15.3MB/s]\n",
      " 69%|██████▉   | 205M/295M [00:10<00:05, 18.5MB/s]\n",
      " 71%|███████   | 209M/295M [00:10<00:04, 18.1MB/s]\n",
      " 72%|███████▏  | 213M/295M [00:11<00:03, 21.6MB/s]\n",
      " 74%|███████▎  | 217M/295M [00:11<00:03, 21.8MB/s]\n",
      " 75%|███████▍  | 221M/295M [00:11<00:03, 25.2MB/s]\n",
      " 76%|███████▌  | 225M/295M [00:11<00:02, 28.1MB/s]\n",
      " 78%|███████▊  | 229M/295M [00:11<00:02, 29.1MB/s]\n",
      " 79%|███████▉  | 234M/295M [00:11<00:01, 34.3MB/s]\n",
      " 81%|████████  | 238M/295M [00:11<00:01, 33.0MB/s]\n",
      " 82%|████████▏ | 242M/295M [00:12<00:01, 33.4MB/s]\n",
      " 83%|████████▎ | 246M/295M [00:12<00:01, 27.9MB/s]\n",
      " 84%|████████▍ | 249M/295M [00:12<00:01, 24.8MB/s]\n",
      " 86%|████████▌ | 253M/295M [00:12<00:01, 24.8MB/s]\n",
      " 87%|████████▋ | 257M/295M [00:12<00:01, 21.1MB/s]\n",
      " 88%|████████▊ | 261M/295M [00:12<00:01, 24.7MB/s]\n",
      " 90%|████████▉ | 265M/295M [00:13<00:01, 27.4MB/s]\n",
      " 91%|█████████ | 269M/295M [00:13<00:00, 30.1MB/s]\n",
      " 92%|█████████▏| 273M/295M [00:13<00:00, 32.3MB/s]\n",
      " 94%|█████████▍| 277M/295M [00:13<00:00, 34.0MB/s]\n",
      " 95%|█████████▌| 281M/295M [00:13<00:00, 34.5MB/s]\n",
      " 97%|█████████▋| 285M/295M [00:13<00:00, 23.8MB/s]\n",
      " 98%|█████████▊| 289M/295M [00:13<00:00, 26.6MB/s]\n",
      " 99%|█████████▉| 293M/295M [00:14<00:00, 29.2MB/s]\n",
      "100%|██████████| 295M/295M [00:14<00:00, 22.0MB/s]\n"
     ]
    }
   ],
   "source": [
    "!kaggle competitions download -c m2-sise-2023"
   ]
  },
  {
   "cell_type": "code",
   "execution_count": 28,
   "metadata": {},
   "outputs": [],
   "source": [
    "import zipfile\n",
    "with zipfile.ZipFile(\"./content/m2-sise-2023.zip\", 'r') as zip_ref:\n",
    "    zip_ref.extractall(\"./content\")\n",
    "    "
   ]
  }
 ],
 "metadata": {
  "kernelspec": {
   "display_name": "Python 3",
   "language": "python",
   "name": "python3"
  },
  "language_info": {
   "codemirror_mode": {
    "name": "ipython",
    "version": 3
   },
   "file_extension": ".py",
   "mimetype": "text/x-python",
   "name": "python",
   "nbconvert_exporter": "python",
   "pygments_lexer": "ipython3",
   "version": "3.12.0"
  },
  "orig_nbformat": 4
 },
 "nbformat": 4,
 "nbformat_minor": 2
}
