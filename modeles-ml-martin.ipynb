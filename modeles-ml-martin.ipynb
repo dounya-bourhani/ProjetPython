{
 "cells": [
  {
   "cell_type": "code",
   "execution_count": 10,
   "metadata": {},
   "outputs": [],
   "source": [
    "import pickle\n",
    "import pandas as pd"
   ]
  },
  {
   "cell_type": "code",
   "execution_count": 11,
   "metadata": {},
   "outputs": [],
   "source": [
    "# J'importe le fichier pkl\n",
    "\n",
    "with open('dataframe.pkl', 'rb') as file:\n",
    "    df = pickle.load(file)"
   ]
  },
  {
   "cell_type": "code",
   "execution_count": 12,
   "metadata": {},
   "outputs": [
    {
     "data": {
      "text/html": [
       "<div>\n",
       "<style scoped>\n",
       "    .dataframe tbody tr th:only-of-type {\n",
       "        vertical-align: middle;\n",
       "    }\n",
       "\n",
       "    .dataframe tbody tr th {\n",
       "        vertical-align: top;\n",
       "    }\n",
       "\n",
       "    .dataframe thead th {\n",
       "        text-align: right;\n",
       "    }\n",
       "</style>\n",
       "<table border=\"1\" class=\"dataframe\">\n",
       "  <thead>\n",
       "    <tr style=\"text-align: right;\">\n",
       "      <th></th>\n",
       "      <th>No disposition</th>\n",
       "      <th>Date mutation</th>\n",
       "      <th>Nature mutation</th>\n",
       "      <th>Valeur fonciere</th>\n",
       "      <th>Type de voie</th>\n",
       "      <th>Voie</th>\n",
       "      <th>Code postal</th>\n",
       "      <th>Commune</th>\n",
       "      <th>Code commune</th>\n",
       "      <th>Section</th>\n",
       "      <th>No plan</th>\n",
       "      <th>1er lot</th>\n",
       "      <th>Surface Carrez du 1er lot</th>\n",
       "      <th>Nombre de lots</th>\n",
       "      <th>Type local</th>\n",
       "      <th>Surface reelle bati</th>\n",
       "      <th>Nombre pieces principales</th>\n",
       "      <th>Nature culture</th>\n",
       "      <th>Surface terrain</th>\n",
       "      <th>col_concat</th>\n",
       "    </tr>\n",
       "  </thead>\n",
       "  <tbody>\n",
       "    <tr>\n",
       "      <th>count</th>\n",
       "      <td>1.111078e+06</td>\n",
       "      <td>1111078</td>\n",
       "      <td>1111078</td>\n",
       "      <td>1.111078e+06</td>\n",
       "      <td>704354</td>\n",
       "      <td>1108595</td>\n",
       "      <td>1.108609e+06</td>\n",
       "      <td>1111078</td>\n",
       "      <td>1.111078e+06</td>\n",
       "      <td>1111054</td>\n",
       "      <td>1.111078e+06</td>\n",
       "      <td>277300.0</td>\n",
       "      <td>108230.000000</td>\n",
       "      <td>1.111078e+06</td>\n",
       "      <td>656022</td>\n",
       "      <td>655035.000000</td>\n",
       "      <td>655035.000000</td>\n",
       "      <td>828285</td>\n",
       "      <td>8.282850e+05</td>\n",
       "      <td>1111078</td>\n",
       "    </tr>\n",
       "    <tr>\n",
       "      <th>unique</th>\n",
       "      <td>NaN</td>\n",
       "      <td>359</td>\n",
       "      <td>6</td>\n",
       "      <td>NaN</td>\n",
       "      <td>132</td>\n",
       "      <td>332246</td>\n",
       "      <td>NaN</td>\n",
       "      <td>30344</td>\n",
       "      <td>NaN</td>\n",
       "      <td>584</td>\n",
       "      <td>NaN</td>\n",
       "      <td>7499.0</td>\n",
       "      <td>NaN</td>\n",
       "      <td>NaN</td>\n",
       "      <td>4</td>\n",
       "      <td>NaN</td>\n",
       "      <td>NaN</td>\n",
       "      <td>27</td>\n",
       "      <td>NaN</td>\n",
       "      <td>1111078</td>\n",
       "    </tr>\n",
       "    <tr>\n",
       "      <th>top</th>\n",
       "      <td>NaN</td>\n",
       "      <td>30/04/2021</td>\n",
       "      <td>Vente</td>\n",
       "      <td>NaN</td>\n",
       "      <td>RUE</td>\n",
       "      <td>LE VILLAGE</td>\n",
       "      <td>NaN</td>\n",
       "      <td>NICE</td>\n",
       "      <td>NaN</td>\n",
       "      <td>A</td>\n",
       "      <td>NaN</td>\n",
       "      <td>1.0</td>\n",
       "      <td>NaN</td>\n",
       "      <td>NaN</td>\n",
       "      <td>Maison</td>\n",
       "      <td>NaN</td>\n",
       "      <td>NaN</td>\n",
       "      <td>S</td>\n",
       "      <td>NaN</td>\n",
       "      <td>04/01/2021ALL7.00276DES ECUREUILS1310.0BUELLAS</td>\n",
       "    </tr>\n",
       "    <tr>\n",
       "      <th>freq</th>\n",
       "      <td>NaN</td>\n",
       "      <td>8006</td>\n",
       "      <td>1076794</td>\n",
       "      <td>NaN</td>\n",
       "      <td>422712</td>\n",
       "      <td>14002</td>\n",
       "      <td>NaN</td>\n",
       "      <td>6340</td>\n",
       "      <td>NaN</td>\n",
       "      <td>78379</td>\n",
       "      <td>NaN</td>\n",
       "      <td>10496.0</td>\n",
       "      <td>NaN</td>\n",
       "      <td>NaN</td>\n",
       "      <td>366661</td>\n",
       "      <td>NaN</td>\n",
       "      <td>NaN</td>\n",
       "      <td>484400</td>\n",
       "      <td>NaN</td>\n",
       "      <td>1</td>\n",
       "    </tr>\n",
       "    <tr>\n",
       "      <th>mean</th>\n",
       "      <td>1.051740e+00</td>\n",
       "      <td>NaN</td>\n",
       "      <td>NaN</td>\n",
       "      <td>3.178176e+05</td>\n",
       "      <td>NaN</td>\n",
       "      <td>NaN</td>\n",
       "      <td>5.045689e+04</td>\n",
       "      <td>NaN</td>\n",
       "      <td>2.115873e+02</td>\n",
       "      <td>NaN</td>\n",
       "      <td>4.240905e+02</td>\n",
       "      <td>NaN</td>\n",
       "      <td>56.980472</td>\n",
       "      <td>3.182351e-01</td>\n",
       "      <td>NaN</td>\n",
       "      <td>99.123564</td>\n",
       "      <td>2.779458</td>\n",
       "      <td>NaN</td>\n",
       "      <td>1.958955e+03</td>\n",
       "      <td>NaN</td>\n",
       "    </tr>\n",
       "    <tr>\n",
       "      <th>std</th>\n",
       "      <td>3.124035e-01</td>\n",
       "      <td>NaN</td>\n",
       "      <td>NaN</td>\n",
       "      <td>4.344339e+06</td>\n",
       "      <td>NaN</td>\n",
       "      <td>NaN</td>\n",
       "      <td>2.695645e+04</td>\n",
       "      <td>NaN</td>\n",
       "      <td>1.679774e+02</td>\n",
       "      <td>NaN</td>\n",
       "      <td>5.847717e+02</td>\n",
       "      <td>NaN</td>\n",
       "      <td>85.567029</td>\n",
       "      <td>8.161554e-01</td>\n",
       "      <td>NaN</td>\n",
       "      <td>604.846448</td>\n",
       "      <td>2.045638</td>\n",
       "      <td>NaN</td>\n",
       "      <td>8.613734e+03</td>\n",
       "      <td>NaN</td>\n",
       "    </tr>\n",
       "    <tr>\n",
       "      <th>min</th>\n",
       "      <td>1.000000e+00</td>\n",
       "      <td>NaN</td>\n",
       "      <td>NaN</td>\n",
       "      <td>1.000000e+02</td>\n",
       "      <td>NaN</td>\n",
       "      <td>NaN</td>\n",
       "      <td>1.000000e+03</td>\n",
       "      <td>NaN</td>\n",
       "      <td>1.000000e+00</td>\n",
       "      <td>NaN</td>\n",
       "      <td>1.000000e+00</td>\n",
       "      <td>NaN</td>\n",
       "      <td>0.010000</td>\n",
       "      <td>0.000000e+00</td>\n",
       "      <td>NaN</td>\n",
       "      <td>0.000000</td>\n",
       "      <td>0.000000</td>\n",
       "      <td>NaN</td>\n",
       "      <td>0.000000e+00</td>\n",
       "      <td>NaN</td>\n",
       "    </tr>\n",
       "    <tr>\n",
       "      <th>25%</th>\n",
       "      <td>1.000000e+00</td>\n",
       "      <td>NaN</td>\n",
       "      <td>NaN</td>\n",
       "      <td>4.800000e+04</td>\n",
       "      <td>NaN</td>\n",
       "      <td>NaN</td>\n",
       "      <td>2.940000e+04</td>\n",
       "      <td>NaN</td>\n",
       "      <td>8.000000e+01</td>\n",
       "      <td>NaN</td>\n",
       "      <td>9.300000e+01</td>\n",
       "      <td>NaN</td>\n",
       "      <td>28.572500</td>\n",
       "      <td>0.000000e+00</td>\n",
       "      <td>NaN</td>\n",
       "      <td>33.000000</td>\n",
       "      <td>1.000000</td>\n",
       "      <td>NaN</td>\n",
       "      <td>1.980000e+02</td>\n",
       "      <td>NaN</td>\n",
       "    </tr>\n",
       "    <tr>\n",
       "      <th>50%</th>\n",
       "      <td>1.000000e+00</td>\n",
       "      <td>NaN</td>\n",
       "      <td>NaN</td>\n",
       "      <td>1.300000e+05</td>\n",
       "      <td>NaN</td>\n",
       "      <td>NaN</td>\n",
       "      <td>5.034000e+04</td>\n",
       "      <td>NaN</td>\n",
       "      <td>1.760000e+02</td>\n",
       "      <td>NaN</td>\n",
       "      <td>2.330000e+02</td>\n",
       "      <td>NaN</td>\n",
       "      <td>46.660000</td>\n",
       "      <td>0.000000e+00</td>\n",
       "      <td>NaN</td>\n",
       "      <td>72.000000</td>\n",
       "      <td>3.000000</td>\n",
       "      <td>NaN</td>\n",
       "      <td>4.850000e+02</td>\n",
       "      <td>NaN</td>\n",
       "    </tr>\n",
       "    <tr>\n",
       "      <th>75%</th>\n",
       "      <td>1.000000e+00</td>\n",
       "      <td>NaN</td>\n",
       "      <td>NaN</td>\n",
       "      <td>2.360000e+05</td>\n",
       "      <td>NaN</td>\n",
       "      <td>NaN</td>\n",
       "      <td>7.500600e+04</td>\n",
       "      <td>NaN</td>\n",
       "      <td>3.000000e+02</td>\n",
       "      <td>NaN</td>\n",
       "      <td>5.180000e+02</td>\n",
       "      <td>NaN</td>\n",
       "      <td>70.737500</td>\n",
       "      <td>0.000000e+00</td>\n",
       "      <td>NaN</td>\n",
       "      <td>100.000000</td>\n",
       "      <td>4.000000</td>\n",
       "      <td>NaN</td>\n",
       "      <td>1.030000e+03</td>\n",
       "      <td>NaN</td>\n",
       "    </tr>\n",
       "    <tr>\n",
       "      <th>max</th>\n",
       "      <td>6.700000e+01</td>\n",
       "      <td>NaN</td>\n",
       "      <td>NaN</td>\n",
       "      <td>4.408400e+08</td>\n",
       "      <td>NaN</td>\n",
       "      <td>NaN</td>\n",
       "      <td>9.749000e+04</td>\n",
       "      <td>NaN</td>\n",
       "      <td>9.090000e+02</td>\n",
       "      <td>NaN</td>\n",
       "      <td>9.873000e+03</td>\n",
       "      <td>NaN</td>\n",
       "      <td>9614.000000</td>\n",
       "      <td>1.900000e+02</td>\n",
       "      <td>NaN</td>\n",
       "      <td>145111.000000</td>\n",
       "      <td>70.000000</td>\n",
       "      <td>NaN</td>\n",
       "      <td>2.967329e+06</td>\n",
       "      <td>NaN</td>\n",
       "    </tr>\n",
       "  </tbody>\n",
       "</table>\n",
       "</div>"
      ],
      "text/plain": [
       "        No disposition Date mutation Nature mutation  Valeur fonciere  \\\n",
       "count     1.111078e+06       1111078         1111078     1.111078e+06   \n",
       "unique             NaN           359               6              NaN   \n",
       "top                NaN    30/04/2021           Vente              NaN   \n",
       "freq               NaN          8006         1076794              NaN   \n",
       "mean      1.051740e+00           NaN             NaN     3.178176e+05   \n",
       "std       3.124035e-01           NaN             NaN     4.344339e+06   \n",
       "min       1.000000e+00           NaN             NaN     1.000000e+02   \n",
       "25%       1.000000e+00           NaN             NaN     4.800000e+04   \n",
       "50%       1.000000e+00           NaN             NaN     1.300000e+05   \n",
       "75%       1.000000e+00           NaN             NaN     2.360000e+05   \n",
       "max       6.700000e+01           NaN             NaN     4.408400e+08   \n",
       "\n",
       "       Type de voie        Voie   Code postal  Commune  Code commune  Section  \\\n",
       "count        704354     1108595  1.108609e+06  1111078  1.111078e+06  1111054   \n",
       "unique          132      332246           NaN    30344           NaN      584   \n",
       "top             RUE  LE VILLAGE           NaN     NICE           NaN        A   \n",
       "freq         422712       14002           NaN     6340           NaN    78379   \n",
       "mean            NaN         NaN  5.045689e+04      NaN  2.115873e+02      NaN   \n",
       "std             NaN         NaN  2.695645e+04      NaN  1.679774e+02      NaN   \n",
       "min             NaN         NaN  1.000000e+03      NaN  1.000000e+00      NaN   \n",
       "25%             NaN         NaN  2.940000e+04      NaN  8.000000e+01      NaN   \n",
       "50%             NaN         NaN  5.034000e+04      NaN  1.760000e+02      NaN   \n",
       "75%             NaN         NaN  7.500600e+04      NaN  3.000000e+02      NaN   \n",
       "max             NaN         NaN  9.749000e+04      NaN  9.090000e+02      NaN   \n",
       "\n",
       "             No plan   1er lot  Surface Carrez du 1er lot  Nombre de lots  \\\n",
       "count   1.111078e+06  277300.0              108230.000000    1.111078e+06   \n",
       "unique           NaN    7499.0                        NaN             NaN   \n",
       "top              NaN       1.0                        NaN             NaN   \n",
       "freq             NaN   10496.0                        NaN             NaN   \n",
       "mean    4.240905e+02       NaN                  56.980472    3.182351e-01   \n",
       "std     5.847717e+02       NaN                  85.567029    8.161554e-01   \n",
       "min     1.000000e+00       NaN                   0.010000    0.000000e+00   \n",
       "25%     9.300000e+01       NaN                  28.572500    0.000000e+00   \n",
       "50%     2.330000e+02       NaN                  46.660000    0.000000e+00   \n",
       "75%     5.180000e+02       NaN                  70.737500    0.000000e+00   \n",
       "max     9.873000e+03       NaN                9614.000000    1.900000e+02   \n",
       "\n",
       "       Type local  Surface reelle bati  Nombre pieces principales  \\\n",
       "count      656022        655035.000000              655035.000000   \n",
       "unique          4                  NaN                        NaN   \n",
       "top        Maison                  NaN                        NaN   \n",
       "freq       366661                  NaN                        NaN   \n",
       "mean          NaN            99.123564                   2.779458   \n",
       "std           NaN           604.846448                   2.045638   \n",
       "min           NaN             0.000000                   0.000000   \n",
       "25%           NaN            33.000000                   1.000000   \n",
       "50%           NaN            72.000000                   3.000000   \n",
       "75%           NaN           100.000000                   4.000000   \n",
       "max           NaN        145111.000000                  70.000000   \n",
       "\n",
       "       Nature culture  Surface terrain  \\\n",
       "count          828285     8.282850e+05   \n",
       "unique             27              NaN   \n",
       "top                 S              NaN   \n",
       "freq           484400              NaN   \n",
       "mean              NaN     1.958955e+03   \n",
       "std               NaN     8.613734e+03   \n",
       "min               NaN     0.000000e+00   \n",
       "25%               NaN     1.980000e+02   \n",
       "50%               NaN     4.850000e+02   \n",
       "75%               NaN     1.030000e+03   \n",
       "max               NaN     2.967329e+06   \n",
       "\n",
       "                                            col_concat  \n",
       "count                                          1111078  \n",
       "unique                                         1111078  \n",
       "top     04/01/2021ALL7.00276DES ECUREUILS1310.0BUELLAS  \n",
       "freq                                                 1  \n",
       "mean                                               NaN  \n",
       "std                                                NaN  \n",
       "min                                                NaN  \n",
       "25%                                                NaN  \n",
       "50%                                                NaN  \n",
       "75%                                                NaN  \n",
       "max                                                NaN  "
      ]
     },
     "execution_count": 12,
     "metadata": {},
     "output_type": "execute_result"
    }
   ],
   "source": [
    "df.describe(include='all')"
   ]
  },
  {
   "cell_type": "code",
   "execution_count": 14,
   "metadata": {},
   "outputs": [
    {
     "data": {
      "text/plain": [
       "No disposition                0.000000\n",
       "Date mutation                 0.000000\n",
       "Nature mutation               0.000000\n",
       "Valeur fonciere               0.000000\n",
       "Type de voie                 36.606251\n",
       "Voie                          0.223477\n",
       "Code postal                   0.222217\n",
       "Commune                       0.000000\n",
       "Code commune                  0.000000\n",
       "Section                       0.002160\n",
       "No plan                       0.000000\n",
       "1er lot                      75.042256\n",
       "Surface Carrez du 1er lot    90.259010\n",
       "Nombre de lots                0.000000\n",
       "Type local                   40.956260\n",
       "Surface reelle bati          41.045093\n",
       "Nombre pieces principales    41.045093\n",
       "Nature culture               25.452128\n",
       "Surface terrain              25.452128\n",
       "col_concat                    0.000000\n",
       "dtype: float64"
      ]
     },
     "execution_count": 14,
     "metadata": {},
     "output_type": "execute_result"
    }
   ],
   "source": [
    "pourcentage_manquant = (df.isna().sum() / len(df)) * 100\n",
    "pourcentage_manquant"
   ]
  },
  {
   "cell_type": "code",
   "execution_count": 15,
   "metadata": {},
   "outputs": [
    {
     "name": "stdout",
     "output_type": "stream",
     "text": [
      "Index(['No disposition', 'Date mutation', 'Nature mutation', 'Valeur fonciere',\n",
      "       'Type de voie', 'Voie', 'Code postal', 'Commune', 'Code commune',\n",
      "       'Section', 'No plan', '1er lot', 'Surface Carrez du 1er lot',\n",
      "       'Nombre de lots', 'Type local', 'Surface reelle bati',\n",
      "       'Nombre pieces principales', 'Nature culture', 'Surface terrain',\n",
      "       'col_concat'],\n",
      "      dtype='object')\n"
     ]
    }
   ],
   "source": [
    "print(df.columns)"
   ]
  },
  {
   "cell_type": "code",
   "execution_count": 19,
   "metadata": {},
   "outputs": [
    {
     "name": "stdout",
     "output_type": "stream",
     "text": [
      "Valeur fonciere              1.000000\n",
      "Surface Carrez du 1er lot    0.362928\n",
      "Surface reelle bati          0.054003\n",
      "Nombre pieces principales    0.021664\n",
      "Code commune                 0.017872\n",
      "No plan                      0.013262\n",
      "Code postal                  0.009607\n",
      "No disposition               0.007884\n",
      "Surface terrain              0.001481\n",
      "Nombre de lots              -0.005054\n",
      "Name: Valeur fonciere, dtype: float64\n"
     ]
    }
   ],
   "source": [
    "correlation = df[df.columns].corr()\n",
    "\n",
    "sorted_correlation_Valeurfonciere = correlation['Valeur fonciere'].sort_values(ascending=False)\n",
    "\n",
    "print(sorted_correlation_Valeurfonciere)"
   ]
  },
  {
   "cell_type": "markdown",
   "metadata": {},
   "source": [
    "# Arbre de décision pour predire le 'Type local'"
   ]
  },
  {
   "cell_type": "code",
   "execution_count": 38,
   "metadata": {},
   "outputs": [],
   "source": [
    "# Sélectionner uniquement les lignes où 'Type local' est renseigné\n",
    "df_filtered = df[df['Type local'].notna()]"
   ]
  },
  {
   "cell_type": "code",
   "execution_count": 57,
   "metadata": {},
   "outputs": [],
   "source": [
    "# on prend quelques variables explicatives\n",
    "\n",
    "X = df_filtered[[\"Surface reelle bati\", \"Nombre pieces principales\"]]\n",
    "\n",
    "#on nomme la variale cible\n",
    "\n",
    "Y= df_filtered[\"Type local\"]"
   ]
  },
  {
   "cell_type": "code",
   "execution_count": 58,
   "metadata": {},
   "outputs": [
    {
     "data": {
      "text/plain": [
       "False    656022\n",
       "Name: Type local, dtype: int64"
      ]
     },
     "execution_count": 58,
     "metadata": {},
     "output_type": "execute_result"
    }
   ],
   "source": [
    "#ok toutes les valeurs de Y sont renseignées\n",
    "Y.isna().value_counts()"
   ]
  },
  {
   "cell_type": "code",
   "execution_count": 59,
   "metadata": {},
   "outputs": [
    {
     "data": {
      "text/plain": [
       "Maison                                      0.558916\n",
       "Appartement                                 0.206357\n",
       "Dépendance                                  0.165135\n",
       "Local industriel. commercial ou assimilé    0.069592\n",
       "Name: Type local, dtype: float64"
      ]
     },
     "execution_count": 59,
     "metadata": {},
     "output_type": "execute_result"
    }
   ],
   "source": [
    "Y.value_counts(normalize=True)"
   ]
  },
  {
   "cell_type": "code",
   "execution_count": 113,
   "metadata": {},
   "outputs": [],
   "source": [
    "# on scinde les données en echantillon test et train\n",
    "#70% des données pour l’apprentissage\n",
    "#30% des données pour l'échantillon test\n",
    "\n",
    "from sklearn.model_selection import train_test_split\n",
    "\n",
    "X_train, X_test, y_train, y_test = train_test_split(X, Y,\n",
    "                                                    test_size = 0.30,\n",
    "                                                    stratify = Y,\n",
    "                                                    random_state = 42)"
   ]
  },
  {
   "cell_type": "markdown",
   "metadata": {},
   "source": [
    "On va gerer les valeurs manquantes dans l'echantillon d'apprentissage"
   ]
  },
  {
   "cell_type": "code",
   "execution_count": 119,
   "metadata": {},
   "outputs": [],
   "source": [
    "X_test['Surface reelle bati'].fillna(X_test['Surface reelle bati'].mean(), inplace=True)"
   ]
  },
  {
   "cell_type": "code",
   "execution_count": 120,
   "metadata": {},
   "outputs": [
    {
     "data": {
      "text/plain": [
       "False    196807\n",
       "Name: Surface reelle bati, dtype: int64"
      ]
     },
     "execution_count": 120,
     "metadata": {},
     "output_type": "execute_result"
    }
   ],
   "source": [
    "X_test['Surface reelle bati'].isna().value_counts()"
   ]
  },
  {
   "cell_type": "code",
   "execution_count": 121,
   "metadata": {},
   "outputs": [],
   "source": [
    "X_train['Surface reelle bati'].fillna(X_test['Surface reelle bati'].mean(), inplace=True)"
   ]
  },
  {
   "cell_type": "code",
   "execution_count": 122,
   "metadata": {},
   "outputs": [
    {
     "data": {
      "text/plain": [
       "False    459215\n",
       "Name: Surface reelle bati, dtype: int64"
      ]
     },
     "execution_count": 122,
     "metadata": {},
     "output_type": "execute_result"
    }
   ],
   "source": [
    "X_train['Surface reelle bati'].isna().value_counts()"
   ]
  },
  {
   "cell_type": "code",
   "execution_count": 123,
   "metadata": {},
   "outputs": [],
   "source": [
    "X_test['Nombre pieces principales'].fillna(X_test['Surface reelle bati'].mean(), inplace=True)"
   ]
  },
  {
   "cell_type": "code",
   "execution_count": 124,
   "metadata": {},
   "outputs": [
    {
     "data": {
      "text/plain": [
       "False    196807\n",
       "Name: Nombre pieces principales, dtype: int64"
      ]
     },
     "execution_count": 124,
     "metadata": {},
     "output_type": "execute_result"
    }
   ],
   "source": [
    "X_test['Nombre pieces principales'].isna().value_counts()"
   ]
  },
  {
   "cell_type": "code",
   "execution_count": 125,
   "metadata": {},
   "outputs": [],
   "source": [
    "X_train['Nombre pieces principales'].fillna(X_test['Surface reelle bati'].mean(), inplace=True)"
   ]
  },
  {
   "cell_type": "code",
   "execution_count": 126,
   "metadata": {},
   "outputs": [
    {
     "data": {
      "text/plain": [
       "False    459215\n",
       "Name: Nombre pieces principales, dtype: int64"
      ]
     },
     "execution_count": 126,
     "metadata": {},
     "output_type": "execute_result"
    }
   ],
   "source": [
    "X_train['Nombre pieces principales'].isna().value_counts()"
   ]
  },
  {
   "cell_type": "markdown",
   "metadata": {},
   "source": [
    "# Apprentissage"
   ]
  },
  {
   "cell_type": "code",
   "execution_count": 127,
   "metadata": {},
   "outputs": [],
   "source": [
    "from sklearn.tree import DecisionTreeClassifier\n",
    "from sklearn.tree import plot_tree"
   ]
  },
  {
   "cell_type": "code",
   "execution_count": 128,
   "metadata": {},
   "outputs": [],
   "source": [
    "model_1 = DecisionTreeClassifier(max_depth=3 , min_samples_leaf=10, min_samples_split=20)\n",
    "model_1 = model_1.fit(X_train,y_train)"
   ]
  },
  {
   "cell_type": "markdown",
   "metadata": {},
   "source": [
    "# Prediction"
   ]
  },
  {
   "cell_type": "code",
   "execution_count": 131,
   "metadata": {},
   "outputs": [
    {
     "data": {
      "text/plain": [
       "array(['Local industriel. commercial ou assimilé', 'Maison', 'Dépendance',\n",
       "       'Maison', 'Dépendance', 'Appartement', 'Maison', 'Maison',\n",
       "       'Maison', 'Dépendance'], dtype=object)"
      ]
     },
     "execution_count": 131,
     "metadata": {},
     "output_type": "execute_result"
    }
   ],
   "source": [
    "y_pred = model_1.predict(X_test)\n",
    "y_pred[0:10]"
   ]
  },
  {
   "cell_type": "code",
   "execution_count": 130,
   "metadata": {},
   "outputs": [
    {
     "data": {
      "text/plain": [
       "array([[5.55291131e-04, 0.00000000e+00, 9.95478344e-01, 3.96636522e-03],\n",
       "       [6.60720043e-02, 5.37345513e-06, 3.68619022e-03, 9.30236432e-01],\n",
       "       [1.29590752e-05, 9.82699635e-01, 1.72874064e-02, 0.00000000e+00],\n",
       "       [2.75469392e-01, 0.00000000e+00, 0.00000000e+00, 7.24530608e-01],\n",
       "       [1.29590752e-05, 9.82699635e-01, 1.72874064e-02, 0.00000000e+00],\n",
       "       [7.54306156e-01, 0.00000000e+00, 0.00000000e+00, 2.45693844e-01],\n",
       "       [2.75469392e-01, 0.00000000e+00, 0.00000000e+00, 7.24530608e-01],\n",
       "       [6.60720043e-02, 5.37345513e-06, 3.68619022e-03, 9.30236432e-01],\n",
       "       [2.75469392e-01, 0.00000000e+00, 0.00000000e+00, 7.24530608e-01],\n",
       "       [1.29590752e-05, 9.82699635e-01, 1.72874064e-02, 0.00000000e+00]])"
      ]
     },
     "execution_count": 130,
     "metadata": {},
     "output_type": "execute_result"
    }
   ],
   "source": [
    "y_pred_proba = model_1.predict_proba(X_test)\n",
    "y_pred_proba[0:10]"
   ]
  },
  {
   "cell_type": "code",
   "execution_count": 132,
   "metadata": {},
   "outputs": [
    {
     "data": {
      "text/html": [
       "<div>\n",
       "<style scoped>\n",
       "    .dataframe tbody tr th:only-of-type {\n",
       "        vertical-align: middle;\n",
       "    }\n",
       "\n",
       "    .dataframe tbody tr th {\n",
       "        vertical-align: top;\n",
       "    }\n",
       "\n",
       "    .dataframe thead th {\n",
       "        text-align: right;\n",
       "    }\n",
       "</style>\n",
       "<table border=\"1\" class=\"dataframe\">\n",
       "  <thead>\n",
       "    <tr style=\"text-align: right;\">\n",
       "      <th>pred</th>\n",
       "      <th>Appartement</th>\n",
       "      <th>Dépendance</th>\n",
       "      <th>Local industriel. commercial ou assimilé</th>\n",
       "      <th>Maison</th>\n",
       "      <th>All</th>\n",
       "    </tr>\n",
       "    <tr>\n",
       "      <th>obs</th>\n",
       "      <th></th>\n",
       "      <th></th>\n",
       "      <th></th>\n",
       "      <th></th>\n",
       "      <th></th>\n",
       "    </tr>\n",
       "  </thead>\n",
       "  <tbody>\n",
       "    <tr>\n",
       "      <th>Appartement</th>\n",
       "      <td>22623</td>\n",
       "      <td>0</td>\n",
       "      <td>74</td>\n",
       "      <td>17916</td>\n",
       "      <td>40613</td>\n",
       "    </tr>\n",
       "    <tr>\n",
       "      <th>Dépendance</th>\n",
       "      <td>0</td>\n",
       "      <td>32500</td>\n",
       "      <td>0</td>\n",
       "      <td>0</td>\n",
       "      <td>32500</td>\n",
       "    </tr>\n",
       "    <tr>\n",
       "      <th>Local industriel. commercial ou assimilé</th>\n",
       "      <td>0</td>\n",
       "      <td>538</td>\n",
       "      <td>12866</td>\n",
       "      <td>292</td>\n",
       "      <td>13696</td>\n",
       "    </tr>\n",
       "    <tr>\n",
       "      <th>Maison</th>\n",
       "      <td>7397</td>\n",
       "      <td>0</td>\n",
       "      <td>165</td>\n",
       "      <td>102436</td>\n",
       "      <td>109998</td>\n",
       "    </tr>\n",
       "    <tr>\n",
       "      <th>All</th>\n",
       "      <td>30020</td>\n",
       "      <td>33038</td>\n",
       "      <td>13105</td>\n",
       "      <td>120644</td>\n",
       "      <td>196807</td>\n",
       "    </tr>\n",
       "  </tbody>\n",
       "</table>\n",
       "</div>"
      ],
      "text/plain": [
       "pred                                      Appartement  Dépendance  \\\n",
       "obs                                                                 \n",
       "Appartement                                     22623           0   \n",
       "Dépendance                                          0       32500   \n",
       "Local industriel. commercial ou assimilé            0         538   \n",
       "Maison                                           7397           0   \n",
       "All                                             30020       33038   \n",
       "\n",
       "pred                                      Local industriel. commercial ou assimilé  \\\n",
       "obs                                                                                  \n",
       "Appartement                                                                     74   \n",
       "Dépendance                                                                       0   \n",
       "Local industriel. commercial ou assimilé                                     12866   \n",
       "Maison                                                                         165   \n",
       "All                                                                          13105   \n",
       "\n",
       "pred                                      Maison     All  \n",
       "obs                                                       \n",
       "Appartement                                17916   40613  \n",
       "Dépendance                                     0   32500  \n",
       "Local industriel. commercial ou assimilé     292   13696  \n",
       "Maison                                    102436  109998  \n",
       "All                                       120644  196807  "
      ]
     },
     "execution_count": 132,
     "metadata": {},
     "output_type": "execute_result"
    }
   ],
   "source": [
    "pd.crosstab(y_test,y_pred, colnames=['pred'], rownames=['obs'], margins=True)"
   ]
  },
  {
   "cell_type": "code",
   "execution_count": 135,
   "metadata": {},
   "outputs": [
    {
     "name": "stdout",
     "output_type": "stream",
     "text": [
      "recall : 0.856922511680977\n",
      "precision : 0.8920381577537984\n",
      "f1_score : 0.8701879038871843\n"
     ]
    }
   ],
   "source": [
    "from sklearn.metrics import recall_score, precision_score, f1_score\n",
    "\n",
    "print('recall : ' + str(recall_score(y_test,y_pred,average='macro')))\n",
    "print('precision : ' + str(precision_score(y_test,y_pred, average='macro')))\n",
    "print('f1_score : ' + str(f1_score(y_test,y_pred, average='macro')))\n"
   ]
  },
  {
   "cell_type": "markdown",
   "metadata": {},
   "source": [
    "# Optimisation des parametres de l'arbre"
   ]
  },
  {
   "cell_type": "code",
   "execution_count": 136,
   "metadata": {},
   "outputs": [],
   "source": [
    "from sklearn.model_selection import GridSearchCV\n",
    "from sklearn.model_selection import ShuffleSplit"
   ]
  },
  {
   "cell_type": "code",
   "execution_count": 137,
   "metadata": {},
   "outputs": [
    {
     "name": "stdout",
     "output_type": "stream",
     "text": [
      "Voici les paramètres du meilleure modèle : DecisionTreeClassifier(max_depth=6, min_samples_leaf=10, min_samples_split=100)\n",
      "Voici le score make_scorer(accuracy_score) du meilleure modèle : 0.8700831125467281\n"
     ]
    }
   ],
   "source": [
    "parameters = {'max_depth' : [1,2,3,4,5,6] ,\n",
    "              'min_samples_leaf' : [10,20,30,40],\n",
    "              'min_samples_split' : [50,100,200]}\n",
    "\n",
    "dtc = DecisionTreeClassifier()\n",
    "dtc_model_1 = GridSearchCV(dtc, parameters, scoring = 'accuracy' ,\n",
    "                   cv = ShuffleSplit(test_size=0.30, n_splits=1, random_state=0))\n",
    "dtc_model_1.fit(X_train, y_train )\n",
    "\n",
    "print(\"Voici les paramètres du meilleure modèle : \" + str(dtc_model_1.best_estimator_))\n",
    "print(\"Voici le score \"  + str(dtc_model_1.scorer_) + \" du meilleure modèle : \" + str(dtc_model_1.best_score_))"
   ]
  },
  {
   "cell_type": "markdown",
   "metadata": {},
   "source": [
    "Comment c'est possible que avec le gridsearch le score make_scorer(accuracy_score) du meilleure modèle : 0.8700831125467281 et que sans le gridsearch precision : 0.8920381577537984??"
   ]
  },
  {
   "cell_type": "markdown",
   "metadata": {},
   "source": []
  }
 ],
 "metadata": {
  "kernelspec": {
   "display_name": "base",
   "language": "python",
   "name": "python3"
  },
  "language_info": {
   "codemirror_mode": {
    "name": "ipython",
    "version": 3
   },
   "file_extension": ".py",
   "mimetype": "text/x-python",
   "name": "python",
   "nbconvert_exporter": "python",
   "pygments_lexer": "ipython3",
   "version": "3.9.12"
  },
  "orig_nbformat": 4
 },
 "nbformat": 4,
 "nbformat_minor": 2
}
