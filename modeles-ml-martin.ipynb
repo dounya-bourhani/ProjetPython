{
 "cells": [
  {
   "cell_type": "code",
   "execution_count": 4,
   "metadata": {},
   "outputs": [],
   "source": [
    "import pickle\n",
    "import pandas as pd"
   ]
  },
  {
   "cell_type": "code",
   "execution_count": 5,
   "metadata": {},
   "outputs": [],
   "source": [
    "# J'importe le fichier pkl\n",
    "\n",
    "with open('dataframe2.pkl', 'rb') as file:\n",
    "    df = pickle.load(file)"
   ]
  },
  {
   "cell_type": "code",
   "execution_count": 6,
   "metadata": {},
   "outputs": [
    {
     "name": "stderr",
     "output_type": "stream",
     "text": [
      "c:\\Python311\\Lib\\site-packages\\pandas\\core\\nanops.py:1010: RuntimeWarning: invalid value encountered in subtract\n",
      "  sqr = _ensure_numeric((avg - values) ** 2)\n"
     ]
    },
    {
     "data": {
      "text/html": [
       "<div>\n",
       "<style scoped>\n",
       "    .dataframe tbody tr th:only-of-type {\n",
       "        vertical-align: middle;\n",
       "    }\n",
       "\n",
       "    .dataframe tbody tr th {\n",
       "        vertical-align: top;\n",
       "    }\n",
       "\n",
       "    .dataframe thead th {\n",
       "        text-align: right;\n",
       "    }\n",
       "</style>\n",
       "<table border=\"1\" class=\"dataframe\">\n",
       "  <thead>\n",
       "    <tr style=\"text-align: right;\">\n",
       "      <th></th>\n",
       "      <th>No disposition</th>\n",
       "      <th>Date mutation</th>\n",
       "      <th>Nature mutation</th>\n",
       "      <th>Valeur fonciere</th>\n",
       "      <th>Type de voie</th>\n",
       "      <th>Voie</th>\n",
       "      <th>Code postal</th>\n",
       "      <th>Commune</th>\n",
       "      <th>Code commune</th>\n",
       "      <th>Section</th>\n",
       "      <th>...</th>\n",
       "      <th>Nombre de lots</th>\n",
       "      <th>Type local</th>\n",
       "      <th>Surface reelle bati</th>\n",
       "      <th>Nombre pieces principales</th>\n",
       "      <th>Nature culture</th>\n",
       "      <th>Surface terrain</th>\n",
       "      <th>col_concat</th>\n",
       "      <th>Moyenne Taux Chomage</th>\n",
       "      <th>prix_par_m2</th>\n",
       "      <th>moyenne_prix_par_m2_par_code_postal</th>\n",
       "    </tr>\n",
       "  </thead>\n",
       "  <tbody>\n",
       "    <tr>\n",
       "      <th>count</th>\n",
       "      <td>2.717931e+06</td>\n",
       "      <td>2717931</td>\n",
       "      <td>2717931</td>\n",
       "      <td>2.717931e+06</td>\n",
       "      <td>2432565</td>\n",
       "      <td>2717903</td>\n",
       "      <td>2717931</td>\n",
       "      <td>2717931</td>\n",
       "      <td>2.717931e+06</td>\n",
       "      <td>2717824</td>\n",
       "      <td>...</td>\n",
       "      <td>2.717931e+06</td>\n",
       "      <td>2717931</td>\n",
       "      <td>2.715891e+06</td>\n",
       "      <td>2.715891e+06</td>\n",
       "      <td>1527360</td>\n",
       "      <td>1.527360e+06</td>\n",
       "      <td>2717931</td>\n",
       "      <td>2.678409e+06</td>\n",
       "      <td>2.715891e+06</td>\n",
       "      <td>2.717931e+06</td>\n",
       "    </tr>\n",
       "    <tr>\n",
       "      <th>unique</th>\n",
       "      <td>NaN</td>\n",
       "      <td>1421</td>\n",
       "      <td>1</td>\n",
       "      <td>NaN</td>\n",
       "      <td>138</td>\n",
       "      <td>337716</td>\n",
       "      <td>93</td>\n",
       "      <td>31367</td>\n",
       "      <td>NaN</td>\n",
       "      <td>579</td>\n",
       "      <td>...</td>\n",
       "      <td>NaN</td>\n",
       "      <td>4</td>\n",
       "      <td>NaN</td>\n",
       "      <td>NaN</td>\n",
       "      <td>25</td>\n",
       "      <td>NaN</td>\n",
       "      <td>2717931</td>\n",
       "      <td>NaN</td>\n",
       "      <td>NaN</td>\n",
       "      <td>NaN</td>\n",
       "    </tr>\n",
       "    <tr>\n",
       "      <th>top</th>\n",
       "      <td>NaN</td>\n",
       "      <td>29/05/2020</td>\n",
       "      <td>Vente</td>\n",
       "      <td>NaN</td>\n",
       "      <td>RUE</td>\n",
       "      <td>DE LA REPUBLIQUE</td>\n",
       "      <td>59</td>\n",
       "      <td>NICE</td>\n",
       "      <td>NaN</td>\n",
       "      <td>AB</td>\n",
       "      <td>...</td>\n",
       "      <td>NaN</td>\n",
       "      <td>Maison</td>\n",
       "      <td>NaN</td>\n",
       "      <td>NaN</td>\n",
       "      <td>S</td>\n",
       "      <td>NaN</td>\n",
       "      <td>04/01/2021ALL7.00276DES ECUREUILS1310.0BUELLAS</td>\n",
       "      <td>NaN</td>\n",
       "      <td>NaN</td>\n",
       "      <td>NaN</td>\n",
       "    </tr>\n",
       "    <tr>\n",
       "      <th>freq</th>\n",
       "      <td>NaN</td>\n",
       "      <td>6749</td>\n",
       "      <td>2717931</td>\n",
       "      <td>NaN</td>\n",
       "      <td>1475999</td>\n",
       "      <td>15201</td>\n",
       "      <td>119708</td>\n",
       "      <td>27027</td>\n",
       "      <td>NaN</td>\n",
       "      <td>148533</td>\n",
       "      <td>...</td>\n",
       "      <td>NaN</td>\n",
       "      <td>1482506</td>\n",
       "      <td>NaN</td>\n",
       "      <td>NaN</td>\n",
       "      <td>1494211</td>\n",
       "      <td>NaN</td>\n",
       "      <td>1</td>\n",
       "      <td>NaN</td>\n",
       "      <td>NaN</td>\n",
       "      <td>NaN</td>\n",
       "    </tr>\n",
       "    <tr>\n",
       "      <th>mean</th>\n",
       "      <td>1.019747e+00</td>\n",
       "      <td>NaN</td>\n",
       "      <td>NaN</td>\n",
       "      <td>1.641322e+05</td>\n",
       "      <td>NaN</td>\n",
       "      <td>NaN</td>\n",
       "      <td>NaN</td>\n",
       "      <td>NaN</td>\n",
       "      <td>2.100234e+02</td>\n",
       "      <td>NaN</td>\n",
       "      <td>...</td>\n",
       "      <td>6.132290e-01</td>\n",
       "      <td>NaN</td>\n",
       "      <td>7.966071e+01</td>\n",
       "      <td>2.891018e+00</td>\n",
       "      <td>NaN</td>\n",
       "      <td>5.583576e+02</td>\n",
       "      <td>NaN</td>\n",
       "      <td>8.199691e+00</td>\n",
       "      <td>inf</td>\n",
       "      <td>1.637623e+05</td>\n",
       "    </tr>\n",
       "    <tr>\n",
       "      <th>std</th>\n",
       "      <td>1.717355e-01</td>\n",
       "      <td>NaN</td>\n",
       "      <td>NaN</td>\n",
       "      <td>1.077381e+05</td>\n",
       "      <td>NaN</td>\n",
       "      <td>NaN</td>\n",
       "      <td>NaN</td>\n",
       "      <td>NaN</td>\n",
       "      <td>1.701774e+02</td>\n",
       "      <td>NaN</td>\n",
       "      <td>...</td>\n",
       "      <td>8.846453e-01</td>\n",
       "      <td>NaN</td>\n",
       "      <td>2.572901e+02</td>\n",
       "      <td>1.943744e+00</td>\n",
       "      <td>NaN</td>\n",
       "      <td>1.748071e+03</td>\n",
       "      <td>NaN</td>\n",
       "      <td>1.613604e+00</td>\n",
       "      <td>NaN</td>\n",
       "      <td>3.951063e+04</td>\n",
       "    </tr>\n",
       "    <tr>\n",
       "      <th>min</th>\n",
       "      <td>1.000000e+00</td>\n",
       "      <td>NaN</td>\n",
       "      <td>NaN</td>\n",
       "      <td>1.000000e+02</td>\n",
       "      <td>NaN</td>\n",
       "      <td>NaN</td>\n",
       "      <td>NaN</td>\n",
       "      <td>NaN</td>\n",
       "      <td>1.000000e+00</td>\n",
       "      <td>NaN</td>\n",
       "      <td>...</td>\n",
       "      <td>0.000000e+00</td>\n",
       "      <td>NaN</td>\n",
       "      <td>0.000000e+00</td>\n",
       "      <td>0.000000e+00</td>\n",
       "      <td>NaN</td>\n",
       "      <td>0.000000e+00</td>\n",
       "      <td>NaN</td>\n",
       "      <td>4.806250e+00</td>\n",
       "      <td>1.855976e-02</td>\n",
       "      <td>6.498137e+04</td>\n",
       "    </tr>\n",
       "    <tr>\n",
       "      <th>25%</th>\n",
       "      <td>1.000000e+00</td>\n",
       "      <td>NaN</td>\n",
       "      <td>NaN</td>\n",
       "      <td>8.150000e+04</td>\n",
       "      <td>NaN</td>\n",
       "      <td>NaN</td>\n",
       "      <td>NaN</td>\n",
       "      <td>NaN</td>\n",
       "      <td>7.600000e+01</td>\n",
       "      <td>NaN</td>\n",
       "      <td>...</td>\n",
       "      <td>0.000000e+00</td>\n",
       "      <td>NaN</td>\n",
       "      <td>3.800000e+01</td>\n",
       "      <td>1.000000e+00</td>\n",
       "      <td>NaN</td>\n",
       "      <td>1.970000e+02</td>\n",
       "      <td>NaN</td>\n",
       "      <td>6.837500e+00</td>\n",
       "      <td>1.388889e+03</td>\n",
       "      <td>1.367267e+05</td>\n",
       "    </tr>\n",
       "    <tr>\n",
       "      <th>50%</th>\n",
       "      <td>1.000000e+00</td>\n",
       "      <td>NaN</td>\n",
       "      <td>NaN</td>\n",
       "      <td>1.450000e+05</td>\n",
       "      <td>NaN</td>\n",
       "      <td>NaN</td>\n",
       "      <td>NaN</td>\n",
       "      <td>NaN</td>\n",
       "      <td>1.720000e+02</td>\n",
       "      <td>NaN</td>\n",
       "      <td>...</td>\n",
       "      <td>0.000000e+00</td>\n",
       "      <td>NaN</td>\n",
       "      <td>7.100000e+01</td>\n",
       "      <td>3.000000e+00</td>\n",
       "      <td>NaN</td>\n",
       "      <td>4.080000e+02</td>\n",
       "      <td>NaN</td>\n",
       "      <td>7.906250e+00</td>\n",
       "      <td>2.287500e+03</td>\n",
       "      <td>1.620838e+05</td>\n",
       "    </tr>\n",
       "    <tr>\n",
       "      <th>75%</th>\n",
       "      <td>1.000000e+00</td>\n",
       "      <td>NaN</td>\n",
       "      <td>NaN</td>\n",
       "      <td>2.265000e+05</td>\n",
       "      <td>NaN</td>\n",
       "      <td>NaN</td>\n",
       "      <td>NaN</td>\n",
       "      <td>NaN</td>\n",
       "      <td>3.000000e+02</td>\n",
       "      <td>NaN</td>\n",
       "      <td>...</td>\n",
       "      <td>1.000000e+00</td>\n",
       "      <td>NaN</td>\n",
       "      <td>9.800000e+01</td>\n",
       "      <td>4.000000e+00</td>\n",
       "      <td>NaN</td>\n",
       "      <td>6.780000e+02</td>\n",
       "      <td>NaN</td>\n",
       "      <td>9.031250e+00</td>\n",
       "      <td>4.111111e+03</td>\n",
       "      <td>1.976331e+05</td>\n",
       "    </tr>\n",
       "    <tr>\n",
       "      <th>max</th>\n",
       "      <td>3.800000e+01</td>\n",
       "      <td>NaN</td>\n",
       "      <td>NaN</td>\n",
       "      <td>4.975000e+05</td>\n",
       "      <td>NaN</td>\n",
       "      <td>NaN</td>\n",
       "      <td>NaN</td>\n",
       "      <td>NaN</td>\n",
       "      <td>9.090000e+02</td>\n",
       "      <td>NaN</td>\n",
       "      <td>...</td>\n",
       "      <td>1.260000e+02</td>\n",
       "      <td>NaN</td>\n",
       "      <td>1.030040e+05</td>\n",
       "      <td>1.090000e+02</td>\n",
       "      <td>NaN</td>\n",
       "      <td>6.821210e+05</td>\n",
       "      <td>NaN</td>\n",
       "      <td>1.311875e+01</td>\n",
       "      <td>inf</td>\n",
       "      <td>2.364741e+05</td>\n",
       "    </tr>\n",
       "  </tbody>\n",
       "</table>\n",
       "<p>11 rows × 23 columns</p>\n",
       "</div>"
      ],
      "text/plain": [
       "        No disposition Date mutation Nature mutation  Valeur fonciere  \\\n",
       "count     2.717931e+06       2717931         2717931     2.717931e+06   \n",
       "unique             NaN          1421               1              NaN   \n",
       "top                NaN    29/05/2020           Vente              NaN   \n",
       "freq               NaN          6749         2717931              NaN   \n",
       "mean      1.019747e+00           NaN             NaN     1.641322e+05   \n",
       "std       1.717355e-01           NaN             NaN     1.077381e+05   \n",
       "min       1.000000e+00           NaN             NaN     1.000000e+02   \n",
       "25%       1.000000e+00           NaN             NaN     8.150000e+04   \n",
       "50%       1.000000e+00           NaN             NaN     1.450000e+05   \n",
       "75%       1.000000e+00           NaN             NaN     2.265000e+05   \n",
       "max       3.800000e+01           NaN             NaN     4.975000e+05   \n",
       "\n",
       "       Type de voie              Voie Code postal  Commune  Code commune  \\\n",
       "count       2432565           2717903     2717931  2717931  2.717931e+06   \n",
       "unique          138            337716          93    31367           NaN   \n",
       "top             RUE  DE LA REPUBLIQUE          59     NICE           NaN   \n",
       "freq        1475999             15201      119708    27027           NaN   \n",
       "mean            NaN               NaN         NaN      NaN  2.100234e+02   \n",
       "std             NaN               NaN         NaN      NaN  1.701774e+02   \n",
       "min             NaN               NaN         NaN      NaN  1.000000e+00   \n",
       "25%             NaN               NaN         NaN      NaN  7.600000e+01   \n",
       "50%             NaN               NaN         NaN      NaN  1.720000e+02   \n",
       "75%             NaN               NaN         NaN      NaN  3.000000e+02   \n",
       "max             NaN               NaN         NaN      NaN  9.090000e+02   \n",
       "\n",
       "        Section  ...  Nombre de lots  Type local  Surface reelle bati  \\\n",
       "count   2717824  ...    2.717931e+06     2717931         2.715891e+06   \n",
       "unique      579  ...             NaN           4                  NaN   \n",
       "top          AB  ...             NaN      Maison                  NaN   \n",
       "freq     148533  ...             NaN     1482506                  NaN   \n",
       "mean        NaN  ...    6.132290e-01         NaN         7.966071e+01   \n",
       "std         NaN  ...    8.846453e-01         NaN         2.572901e+02   \n",
       "min         NaN  ...    0.000000e+00         NaN         0.000000e+00   \n",
       "25%         NaN  ...    0.000000e+00         NaN         3.800000e+01   \n",
       "50%         NaN  ...    0.000000e+00         NaN         7.100000e+01   \n",
       "75%         NaN  ...    1.000000e+00         NaN         9.800000e+01   \n",
       "max         NaN  ...    1.260000e+02         NaN         1.030040e+05   \n",
       "\n",
       "        Nombre pieces principales Nature culture  Surface terrain  \\\n",
       "count                2.715891e+06        1527360     1.527360e+06   \n",
       "unique                        NaN             25              NaN   \n",
       "top                           NaN              S              NaN   \n",
       "freq                          NaN        1494211              NaN   \n",
       "mean                 2.891018e+00            NaN     5.583576e+02   \n",
       "std                  1.943744e+00            NaN     1.748071e+03   \n",
       "min                  0.000000e+00            NaN     0.000000e+00   \n",
       "25%                  1.000000e+00            NaN     1.970000e+02   \n",
       "50%                  3.000000e+00            NaN     4.080000e+02   \n",
       "75%                  4.000000e+00            NaN     6.780000e+02   \n",
       "max                  1.090000e+02            NaN     6.821210e+05   \n",
       "\n",
       "                                            col_concat Moyenne Taux Chomage  \\\n",
       "count                                          2717931         2.678409e+06   \n",
       "unique                                         2717931                  NaN   \n",
       "top     04/01/2021ALL7.00276DES ECUREUILS1310.0BUELLAS                  NaN   \n",
       "freq                                                 1                  NaN   \n",
       "mean                                               NaN         8.199691e+00   \n",
       "std                                                NaN         1.613604e+00   \n",
       "min                                                NaN         4.806250e+00   \n",
       "25%                                                NaN         6.837500e+00   \n",
       "50%                                                NaN         7.906250e+00   \n",
       "75%                                                NaN         9.031250e+00   \n",
       "max                                                NaN         1.311875e+01   \n",
       "\n",
       "         prix_par_m2 moyenne_prix_par_m2_par_code_postal  \n",
       "count   2.715891e+06                        2.717931e+06  \n",
       "unique           NaN                                 NaN  \n",
       "top              NaN                                 NaN  \n",
       "freq             NaN                                 NaN  \n",
       "mean             inf                        1.637623e+05  \n",
       "std              NaN                        3.951063e+04  \n",
       "min     1.855976e-02                        6.498137e+04  \n",
       "25%     1.388889e+03                        1.367267e+05  \n",
       "50%     2.287500e+03                        1.620838e+05  \n",
       "75%     4.111111e+03                        1.976331e+05  \n",
       "max              inf                        2.364741e+05  \n",
       "\n",
       "[11 rows x 23 columns]"
      ]
     },
     "execution_count": 6,
     "metadata": {},
     "output_type": "execute_result"
    }
   ],
   "source": [
    "df.describe(include='all')"
   ]
  },
  {
   "cell_type": "code",
   "execution_count": 7,
   "metadata": {},
   "outputs": [
    {
     "data": {
      "text/plain": [
       "No disposition                          0.000000\n",
       "Date mutation                           0.000000\n",
       "Nature mutation                         0.000000\n",
       "Valeur fonciere                         0.000000\n",
       "Type de voie                           10.499384\n",
       "Voie                                    0.001030\n",
       "Code postal                             0.000000\n",
       "Commune                                 0.000000\n",
       "Code commune                            0.000000\n",
       "Section                                 0.003937\n",
       "No plan                                 0.000000\n",
       "1er lot                                56.721160\n",
       "Surface Carrez du 1er lot              81.489670\n",
       "Nombre de lots                          0.000000\n",
       "Type local                              0.000000\n",
       "Surface reelle bati                     0.075057\n",
       "Nombre pieces principales               0.075057\n",
       "Nature culture                         43.804313\n",
       "Surface terrain                        43.804313\n",
       "col_concat                              0.000000\n",
       "Moyenne Taux Chomage                    1.454121\n",
       "prix_par_m2                             0.075057\n",
       "moyenne_prix_par_m2_par_code_postal     0.000000\n",
       "dtype: float64"
      ]
     },
     "execution_count": 7,
     "metadata": {},
     "output_type": "execute_result"
    }
   ],
   "source": [
    "pourcentage_manquant = (df.isna().sum() / len(df)) * 100\n",
    "pourcentage_manquant"
   ]
  },
  {
   "cell_type": "code",
   "execution_count": 8,
   "metadata": {},
   "outputs": [
    {
     "name": "stdout",
     "output_type": "stream",
     "text": [
      "Index(['No disposition', 'Date mutation', 'Nature mutation', 'Valeur fonciere',\n",
      "       'Type de voie', 'Voie', 'Code postal', 'Commune', 'Code commune',\n",
      "       'Section', 'No plan', '1er lot', 'Surface Carrez du 1er lot',\n",
      "       'Nombre de lots', 'Type local', 'Surface reelle bati',\n",
      "       'Nombre pieces principales', 'Nature culture', 'Surface terrain',\n",
      "       'col_concat', 'Moyenne Taux Chomage', 'prix_par_m2',\n",
      "       'moyenne_prix_par_m2_par_code_postal'],\n",
      "      dtype='object')\n"
     ]
    }
   ],
   "source": [
    "print(df.columns)"
   ]
  },
  {
   "cell_type": "code",
   "execution_count": 9,
   "metadata": {},
   "outputs": [
    {
     "ename": "ValueError",
     "evalue": "could not convert string to float: '04/01/2021'",
     "output_type": "error",
     "traceback": [
      "\u001b[1;31m---------------------------------------------------------------------------\u001b[0m",
      "\u001b[1;31mValueError\u001b[0m                                Traceback (most recent call last)",
      "Cell \u001b[1;32mIn[9], line 1\u001b[0m\n\u001b[1;32m----> 1\u001b[0m correlation \u001b[39m=\u001b[39m df[df\u001b[39m.\u001b[39;49mcolumns]\u001b[39m.\u001b[39;49mcorr()\n\u001b[0;32m      3\u001b[0m sorted_correlation_Valeurfonciere \u001b[39m=\u001b[39m correlation[\u001b[39m'\u001b[39m\u001b[39mValeur fonciere\u001b[39m\u001b[39m'\u001b[39m]\u001b[39m.\u001b[39msort_values(ascending\u001b[39m=\u001b[39m\u001b[39mFalse\u001b[39;00m)\n\u001b[0;32m      5\u001b[0m \u001b[39mprint\u001b[39m(sorted_correlation_Valeurfonciere)\n",
      "File \u001b[1;32mc:\\Python311\\Lib\\site-packages\\pandas\\core\\frame.py:10707\u001b[0m, in \u001b[0;36mDataFrame.corr\u001b[1;34m(self, method, min_periods, numeric_only)\u001b[0m\n\u001b[0;32m  10705\u001b[0m cols \u001b[39m=\u001b[39m data\u001b[39m.\u001b[39mcolumns\n\u001b[0;32m  10706\u001b[0m idx \u001b[39m=\u001b[39m cols\u001b[39m.\u001b[39mcopy()\n\u001b[1;32m> 10707\u001b[0m mat \u001b[39m=\u001b[39m data\u001b[39m.\u001b[39;49mto_numpy(dtype\u001b[39m=\u001b[39;49m\u001b[39mfloat\u001b[39;49m, na_value\u001b[39m=\u001b[39;49mnp\u001b[39m.\u001b[39;49mnan, copy\u001b[39m=\u001b[39;49m\u001b[39mFalse\u001b[39;49;00m)\n\u001b[0;32m  10709\u001b[0m \u001b[39mif\u001b[39;00m method \u001b[39m==\u001b[39m \u001b[39m\"\u001b[39m\u001b[39mpearson\u001b[39m\u001b[39m\"\u001b[39m:\n\u001b[0;32m  10710\u001b[0m     correl \u001b[39m=\u001b[39m libalgos\u001b[39m.\u001b[39mnancorr(mat, minp\u001b[39m=\u001b[39mmin_periods)\n",
      "File \u001b[1;32mc:\\Python311\\Lib\\site-packages\\pandas\\core\\frame.py:1892\u001b[0m, in \u001b[0;36mDataFrame.to_numpy\u001b[1;34m(self, dtype, copy, na_value)\u001b[0m\n\u001b[0;32m   1890\u001b[0m \u001b[39mif\u001b[39;00m dtype \u001b[39mis\u001b[39;00m \u001b[39mnot\u001b[39;00m \u001b[39mNone\u001b[39;00m:\n\u001b[0;32m   1891\u001b[0m     dtype \u001b[39m=\u001b[39m np\u001b[39m.\u001b[39mdtype(dtype)\n\u001b[1;32m-> 1892\u001b[0m result \u001b[39m=\u001b[39m \u001b[39mself\u001b[39;49m\u001b[39m.\u001b[39;49m_mgr\u001b[39m.\u001b[39;49mas_array(dtype\u001b[39m=\u001b[39;49mdtype, copy\u001b[39m=\u001b[39;49mcopy, na_value\u001b[39m=\u001b[39;49mna_value)\n\u001b[0;32m   1893\u001b[0m \u001b[39mif\u001b[39;00m result\u001b[39m.\u001b[39mdtype \u001b[39mis\u001b[39;00m \u001b[39mnot\u001b[39;00m dtype:\n\u001b[0;32m   1894\u001b[0m     result \u001b[39m=\u001b[39m np\u001b[39m.\u001b[39marray(result, dtype\u001b[39m=\u001b[39mdtype, copy\u001b[39m=\u001b[39m\u001b[39mFalse\u001b[39;00m)\n",
      "File \u001b[1;32mc:\\Python311\\Lib\\site-packages\\pandas\\core\\internals\\managers.py:1656\u001b[0m, in \u001b[0;36mBlockManager.as_array\u001b[1;34m(self, dtype, copy, na_value)\u001b[0m\n\u001b[0;32m   1654\u001b[0m         arr\u001b[39m.\u001b[39mflags\u001b[39m.\u001b[39mwriteable \u001b[39m=\u001b[39m \u001b[39mFalse\u001b[39;00m\n\u001b[0;32m   1655\u001b[0m \u001b[39melse\u001b[39;00m:\n\u001b[1;32m-> 1656\u001b[0m     arr \u001b[39m=\u001b[39m \u001b[39mself\u001b[39;49m\u001b[39m.\u001b[39;49m_interleave(dtype\u001b[39m=\u001b[39;49mdtype, na_value\u001b[39m=\u001b[39;49mna_value)\n\u001b[0;32m   1657\u001b[0m     \u001b[39m# The underlying data was copied within _interleave, so no need\u001b[39;00m\n\u001b[0;32m   1658\u001b[0m     \u001b[39m# to further copy if copy=True or setting na_value\u001b[39;00m\n\u001b[0;32m   1660\u001b[0m \u001b[39mif\u001b[39;00m na_value \u001b[39mis\u001b[39;00m lib\u001b[39m.\u001b[39mno_default:\n",
      "File \u001b[1;32mc:\\Python311\\Lib\\site-packages\\pandas\\core\\internals\\managers.py:1715\u001b[0m, in \u001b[0;36mBlockManager._interleave\u001b[1;34m(self, dtype, na_value)\u001b[0m\n\u001b[0;32m   1713\u001b[0m     \u001b[39melse\u001b[39;00m:\n\u001b[0;32m   1714\u001b[0m         arr \u001b[39m=\u001b[39m blk\u001b[39m.\u001b[39mget_values(dtype)\n\u001b[1;32m-> 1715\u001b[0m     result[rl\u001b[39m.\u001b[39;49mindexer] \u001b[39m=\u001b[39m arr\n\u001b[0;32m   1716\u001b[0m     itemmask[rl\u001b[39m.\u001b[39mindexer] \u001b[39m=\u001b[39m \u001b[39m1\u001b[39m\n\u001b[0;32m   1718\u001b[0m \u001b[39mif\u001b[39;00m \u001b[39mnot\u001b[39;00m itemmask\u001b[39m.\u001b[39mall():\n",
      "\u001b[1;31mValueError\u001b[0m: could not convert string to float: '04/01/2021'"
     ]
    }
   ],
   "source": [
    "correlation = df[df.columns].corr()\n",
    "\n",
    "sorted_correlation_Valeurfonciere = correlation['Valeur fonciere'].sort_values(ascending=False)\n",
    "\n",
    "print(sorted_correlation_Valeurfonciere)"
   ]
  },
  {
   "cell_type": "code",
   "execution_count": 10,
   "metadata": {},
   "outputs": [
    {
     "name": "stdout",
     "output_type": "stream",
     "text": [
      "No disposition                           int64\n",
      "Date mutation                           object\n",
      "Nature mutation                         object\n",
      "Valeur fonciere                        float64\n",
      "Type de voie                            object\n",
      "Voie                                    object\n",
      "Code postal                             object\n",
      "Commune                                 object\n",
      "Code commune                             int64\n",
      "Section                                 object\n",
      "No plan                                  int64\n",
      "1er lot                                 object\n",
      "Surface Carrez du 1er lot              float64\n",
      "Nombre de lots                           int64\n",
      "Type local                              object\n",
      "Surface reelle bati                    float64\n",
      "Nombre pieces principales              float64\n",
      "Nature culture                          object\n",
      "Surface terrain                        float64\n",
      "col_concat                              object\n",
      "Moyenne Taux Chomage                   float64\n",
      "prix_par_m2                            float64\n",
      "moyenne_prix_par_m2_par_code_postal    float64\n",
      "dtype: object\n"
     ]
    }
   ],
   "source": [
    "print(df.dtypes)"
   ]
  },
  {
   "cell_type": "markdown",
   "metadata": {},
   "source": [
    "# Arbre de décision pour predire le 'Type local'"
   ]
  },
  {
   "cell_type": "code",
   "execution_count": 11,
   "metadata": {},
   "outputs": [],
   "source": [
    "# Sélectionner uniquement les lignes où 'Type local' est renseigné\n",
    "df_filtered = df[df['Type local'].notna()]"
   ]
  },
  {
   "cell_type": "code",
   "execution_count": 12,
   "metadata": {},
   "outputs": [],
   "source": [
    "# on prend quelques variables explicatives\n",
    "\n",
    "X = df_filtered[[\"Surface reelle bati\", \"Surface terrain\", \"Nombre pieces principales\", \"Nombre de lots\",\"Code commune\" ]]\n",
    "\n",
    "#on nomme la variale cible\n",
    "\n",
    "Y= df_filtered[\"Type local\"]"
   ]
  },
  {
   "cell_type": "code",
   "execution_count": 13,
   "metadata": {},
   "outputs": [
    {
     "data": {
      "text/plain": [
       "Type local\n",
       "False    2717931\n",
       "Name: count, dtype: int64"
      ]
     },
     "execution_count": 13,
     "metadata": {},
     "output_type": "execute_result"
    }
   ],
   "source": [
    "#ok toutes les valeurs de Y sont renseignées\n",
    "Y.isna().value_counts()"
   ]
  },
  {
   "cell_type": "code",
   "execution_count": 14,
   "metadata": {},
   "outputs": [
    {
     "data": {
      "text/plain": [
       "Type local\n",
       "Maison                                      0.545454\n",
       "Appartement                                 0.267654\n",
       "Dépendance                                  0.138505\n",
       "Local industriel. commercial ou assimilé    0.048388\n",
       "Name: proportion, dtype: float64"
      ]
     },
     "execution_count": 14,
     "metadata": {},
     "output_type": "execute_result"
    }
   ],
   "source": [
    "Y.value_counts(normalize=True)"
   ]
  },
  {
   "cell_type": "code",
   "execution_count": 16,
   "metadata": {},
   "outputs": [
    {
     "name": "stdout",
     "output_type": "stream",
     "text": [
      "Collecting scikit-learn\n",
      "  Using cached scikit_learn-1.3.1-cp311-cp311-win_amd64.whl (9.2 MB)\n",
      "Requirement already satisfied: numpy<2.0,>=1.17.3 in c:\\python311\\lib\\site-packages (from scikit-learn) (1.26.0)\n",
      "Collecting scipy>=1.5.0 (from scikit-learn)\n",
      "  Using cached scipy-1.11.3-cp311-cp311-win_amd64.whl (44.1 MB)\n",
      "Collecting joblib>=1.1.1 (from scikit-learn)\n",
      "  Using cached joblib-1.3.2-py3-none-any.whl (302 kB)\n",
      "Collecting threadpoolctl>=2.0.0 (from scikit-learn)\n",
      "  Using cached threadpoolctl-3.2.0-py3-none-any.whl (15 kB)\n",
      "Installing collected packages: threadpoolctl, scipy, joblib, scikit-learn\n",
      "Successfully installed joblib-1.3.2 scikit-learn-1.3.1 scipy-1.11.3 threadpoolctl-3.2.0\n",
      "Note: you may need to restart the kernel to use updated packages.\n"
     ]
    },
    {
     "name": "stderr",
     "output_type": "stream",
     "text": [
      "\n",
      "[notice] A new release of pip is available: 23.1.2 -> 23.2.1\n",
      "[notice] To update, run: python.exe -m pip install --upgrade pip\n"
     ]
    }
   ],
   "source": [
    "pip install scikit-learn\n"
   ]
  },
  {
   "cell_type": "code",
   "execution_count": 17,
   "metadata": {},
   "outputs": [],
   "source": [
    "# on scinde les données en echantillon test et train\n",
    "#70% des données pour l’apprentissage\n",
    "#30% des données pour l'échantillon test\n",
    "\n",
    "from sklearn.model_selection import train_test_split\n",
    "\n",
    "X_train, X_test, y_train, y_test = train_test_split(X, Y,\n",
    "                                                    test_size = 0.30,\n",
    "                                                    stratify = Y,\n",
    "                                                    random_state = 42)"
   ]
  },
  {
   "cell_type": "markdown",
   "metadata": {},
   "source": [
    "On va gerer les valeurs manquantes dans l'echantillon d'apprentissage"
   ]
  },
  {
   "cell_type": "code",
   "execution_count": 25,
   "metadata": {},
   "outputs": [],
   "source": [
    "X_train['Nombre pieces principales'].fillna(X_train['Nombre pieces principales'].mean(), inplace=True)\n",
    "X_test['Nombre pieces principales'].fillna(X_test['Nombre pieces principales'].mean(), inplace=True)\n",
    "X_train['Surface reelle bati'].fillna(X_train['Surface reelle bati'].mean(), inplace=True)\n",
    "X_test['Surface reelle bati'].fillna(X_test['Surface reelle bati'].mean(), inplace=True)\n",
    "X_train[\"Surface terrain\"].fillna(X_train[\"Surface terrain\"].mean(), inplace=True)\n",
    "X_test[\"Surface terrain\"].fillna(X_test[\"Surface terrain\"].mean(), inplace=True)\n",
    "X_train[\"Nombre de lots\"].fillna(X_train[\"Nombre de lots\"].mean(), inplace=True)\n",
    "X_test[\"Nombre de lots\"].fillna(X_test[\"Nombre de lots\"].mean(), inplace=True)\n",
    "X_train[\"Code commune\"].fillna(X_train[\"Code commune\"].mean(), inplace=True)\n",
    "X_test[\"Code commune\"].fillna(X_test[\"Code commune\"].mean(), inplace=True)\n"
   ]
  },
  {
   "cell_type": "markdown",
   "metadata": {},
   "source": [
    "# Apprentissage"
   ]
  },
  {
   "cell_type": "code",
   "execution_count": 26,
   "metadata": {},
   "outputs": [],
   "source": [
    "from sklearn.tree import DecisionTreeClassifier\n",
    "from sklearn.tree import plot_tree"
   ]
  },
  {
   "cell_type": "code",
   "execution_count": 27,
   "metadata": {},
   "outputs": [],
   "source": [
    "model_1 = DecisionTreeClassifier(max_depth=3 , min_samples_leaf=10, min_samples_split=20)\n",
    "model_1 = model_1.fit(X_train,y_train)"
   ]
  },
  {
   "cell_type": "markdown",
   "metadata": {},
   "source": [
    "# Prediction"
   ]
  },
  {
   "cell_type": "code",
   "execution_count": 28,
   "metadata": {},
   "outputs": [
    {
     "data": {
      "text/plain": [
       "array(['Maison', 'Local industriel. commercial ou assimilé', 'Maison',\n",
       "       'Maison', 'Dépendance', 'Maison', 'Maison', 'Maison',\n",
       "       'Appartement', 'Maison'], dtype=object)"
      ]
     },
     "execution_count": 28,
     "metadata": {},
     "output_type": "execute_result"
    }
   ],
   "source": [
    "y_pred = model_1.predict(X_test)\n",
    "y_pred[0:10]"
   ]
  },
  {
   "cell_type": "code",
   "execution_count": 29,
   "metadata": {},
   "outputs": [
    {
     "data": {
      "text/plain": [
       "array([[2.86242796e-03, 0.00000000e+00, 1.08122719e-03, 9.96056345e-01],\n",
       "       [1.50270674e-02, 0.00000000e+00, 9.83946239e-01, 1.02669405e-03],\n",
       "       [2.86242796e-03, 0.00000000e+00, 1.08122719e-03, 9.96056345e-01],\n",
       "       [2.86242796e-03, 0.00000000e+00, 1.08122719e-03, 9.96056345e-01],\n",
       "       [4.62280244e-06, 9.99791974e-01, 2.03403307e-04, 0.00000000e+00],\n",
       "       [2.86242796e-03, 0.00000000e+00, 1.08122719e-03, 9.96056345e-01],\n",
       "       [2.86242796e-03, 0.00000000e+00, 1.08122719e-03, 9.96056345e-01],\n",
       "       [2.86242796e-03, 0.00000000e+00, 1.08122719e-03, 9.96056345e-01],\n",
       "       [9.55478040e-01, 0.00000000e+00, 0.00000000e+00, 4.45219601e-02],\n",
       "       [2.86242796e-03, 0.00000000e+00, 1.08122719e-03, 9.96056345e-01]])"
      ]
     },
     "execution_count": 29,
     "metadata": {},
     "output_type": "execute_result"
    }
   ],
   "source": [
    "y_pred_proba = model_1.predict_proba(X_test)\n",
    "y_pred_proba[0:10]"
   ]
  },
  {
   "cell_type": "code",
   "execution_count": 30,
   "metadata": {},
   "outputs": [
    {
     "data": {
      "text/html": [
       "<div>\n",
       "<style scoped>\n",
       "    .dataframe tbody tr th:only-of-type {\n",
       "        vertical-align: middle;\n",
       "    }\n",
       "\n",
       "    .dataframe tbody tr th {\n",
       "        vertical-align: top;\n",
       "    }\n",
       "\n",
       "    .dataframe thead th {\n",
       "        text-align: right;\n",
       "    }\n",
       "</style>\n",
       "<table border=\"1\" class=\"dataframe\">\n",
       "  <thead>\n",
       "    <tr style=\"text-align: right;\">\n",
       "      <th>pred</th>\n",
       "      <th>Appartement</th>\n",
       "      <th>Dépendance</th>\n",
       "      <th>Local industriel. commercial ou assimilé</th>\n",
       "      <th>Maison</th>\n",
       "      <th>All</th>\n",
       "    </tr>\n",
       "    <tr>\n",
       "      <th>obs</th>\n",
       "      <th></th>\n",
       "      <th></th>\n",
       "      <th></th>\n",
       "      <th></th>\n",
       "      <th></th>\n",
       "    </tr>\n",
       "  </thead>\n",
       "  <tbody>\n",
       "    <tr>\n",
       "      <th>Appartement</th>\n",
       "      <td>216690</td>\n",
       "      <td>0</td>\n",
       "      <td>332</td>\n",
       "      <td>1218</td>\n",
       "      <td>218240</td>\n",
       "    </tr>\n",
       "    <tr>\n",
       "      <th>Dépendance</th>\n",
       "      <td>1</td>\n",
       "      <td>112932</td>\n",
       "      <td>0</td>\n",
       "      <td>1</td>\n",
       "      <td>112934</td>\n",
       "    </tr>\n",
       "    <tr>\n",
       "      <th>Local industriel. commercial ou assimilé</th>\n",
       "      <td>9</td>\n",
       "      <td>1549</td>\n",
       "      <td>37347</td>\n",
       "      <td>549</td>\n",
       "      <td>39454</td>\n",
       "    </tr>\n",
       "    <tr>\n",
       "      <th>Maison</th>\n",
       "      <td>20362</td>\n",
       "      <td>0</td>\n",
       "      <td>577</td>\n",
       "      <td>423813</td>\n",
       "      <td>444752</td>\n",
       "    </tr>\n",
       "    <tr>\n",
       "      <th>All</th>\n",
       "      <td>237062</td>\n",
       "      <td>114481</td>\n",
       "      <td>38256</td>\n",
       "      <td>425581</td>\n",
       "      <td>815380</td>\n",
       "    </tr>\n",
       "  </tbody>\n",
       "</table>\n",
       "</div>"
      ],
      "text/plain": [
       "pred                                      Appartement  Dépendance  \\\n",
       "obs                                                                 \n",
       "Appartement                                    216690           0   \n",
       "Dépendance                                          1      112932   \n",
       "Local industriel. commercial ou assimilé            9        1549   \n",
       "Maison                                          20362           0   \n",
       "All                                            237062      114481   \n",
       "\n",
       "pred                                      Local industriel. commercial ou assimilé  \\\n",
       "obs                                                                                  \n",
       "Appartement                                                                    332   \n",
       "Dépendance                                                                       0   \n",
       "Local industriel. commercial ou assimilé                                     37347   \n",
       "Maison                                                                         577   \n",
       "All                                                                          38256   \n",
       "\n",
       "pred                                      Maison     All  \n",
       "obs                                                       \n",
       "Appartement                                 1218  218240  \n",
       "Dépendance                                     1  112934  \n",
       "Local industriel. commercial ou assimilé     549   39454  \n",
       "Maison                                    423813  444752  \n",
       "All                                       425581  815380  "
      ]
     },
     "execution_count": 30,
     "metadata": {},
     "output_type": "execute_result"
    }
   ],
   "source": [
    "pd.crosstab(y_test,y_pred, colnames=['pred'], rownames=['obs'], margins=True)"
   ]
  },
  {
   "cell_type": "code",
   "execution_count": 31,
   "metadata": {},
   "outputs": [
    {
     "name": "stdout",
     "output_type": "stream",
     "text": [
      "recall : 0.9730989707955009\n",
      "precision : 0.9681546865145049\n",
      "f1_score : 0.9700326574267171\n"
     ]
    }
   ],
   "source": [
    "from sklearn.metrics import recall_score, precision_score, f1_score\n",
    "\n",
    "print('recall : ' + str(recall_score(y_test,y_pred,average='macro')))\n",
    "print('precision : ' + str(precision_score(y_test,y_pred, average='macro')))\n",
    "print('f1_score : ' + str(f1_score(y_test,y_pred, average='macro')))\n"
   ]
  },
  {
   "cell_type": "markdown",
   "metadata": {},
   "source": [
    "# Optimisation des parametres de l'arbre"
   ]
  },
  {
   "cell_type": "code",
   "execution_count": 32,
   "metadata": {},
   "outputs": [],
   "source": [
    "from sklearn.model_selection import GridSearchCV\n",
    "from sklearn.model_selection import ShuffleSplit"
   ]
  },
  {
   "cell_type": "code",
   "execution_count": 33,
   "metadata": {},
   "outputs": [
    {
     "name": "stdout",
     "output_type": "stream",
     "text": [
      "Voici les paramètres du meilleure modèle : DecisionTreeClassifier(max_depth=6, min_samples_leaf=10, min_samples_split=100)\n",
      "Voici le score make_scorer(accuracy_score) du meilleure modèle : 0.9731413574039098\n"
     ]
    }
   ],
   "source": [
    "parameters = {'max_depth' : [1,2,3,4,5,6] ,\n",
    "              'min_samples_leaf' : [10,20,30,40],\n",
    "              'min_samples_split' : [50,100,200]}\n",
    "\n",
    "dtc = DecisionTreeClassifier()\n",
    "dtc_model_1 = GridSearchCV(dtc, parameters, scoring = 'accuracy' ,\n",
    "                   cv = ShuffleSplit(test_size=0.30, n_splits=1, random_state=0))\n",
    "dtc_model_1.fit(X_train, y_train )\n",
    "\n",
    "print(\"Voici les paramètres du meilleure modèle : \" + str(dtc_model_1.best_estimator_))\n",
    "print(\"Voici le score \"  + str(dtc_model_1.scorer_) + \" du meilleure modèle : \" + str(dtc_model_1.best_score_))"
   ]
  },
  {
   "cell_type": "code",
   "execution_count": 34,
   "metadata": {},
   "outputs": [],
   "source": [
    "y_pred_dtc = dtc_model_1.predict(X_test)"
   ]
  },
  {
   "cell_type": "code",
   "execution_count": 35,
   "metadata": {},
   "outputs": [
    {
     "name": "stdout",
     "output_type": "stream",
     "text": [
      "recall : 0.9776428794967764\n",
      "precision : 0.9710341328596991\n",
      "f1_score : 0.9741343893976641\n"
     ]
    }
   ],
   "source": [
    "print('recall : ' + str(recall_score(y_test,y_pred_dtc,average='macro')))\n",
    "print('precision : ' + str(precision_score(y_test,y_pred_dtc, average='macro')))\n",
    "print('f1_score : ' + str(f1_score(y_test,y_pred_dtc, average='macro')))"
   ]
  },
  {
   "cell_type": "code",
   "execution_count": 36,
   "metadata": {},
   "outputs": [],
   "source": [
    "import pickle\n",
    "\n",
    "with open('modele_classif.pkl', 'wb') as fichier:\n",
    "    pickle.dump(dtc_model_1, fichier)\n"
   ]
  }
 ],
 "metadata": {
  "kernelspec": {
   "display_name": "base",
   "language": "python",
   "name": "python3"
  },
  "language_info": {
   "codemirror_mode": {
    "name": "ipython",
    "version": 3
   },
   "file_extension": ".py",
   "mimetype": "text/x-python",
   "name": "python",
   "nbconvert_exporter": "python",
   "pygments_lexer": "ipython3",
   "version": "3.9.12"
  },
  "orig_nbformat": 4
 },
 "nbformat": 4,
 "nbformat_minor": 2
}
