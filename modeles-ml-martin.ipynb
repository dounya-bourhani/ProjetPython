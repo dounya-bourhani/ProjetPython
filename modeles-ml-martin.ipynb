{
 "cells": [
  {
   "cell_type": "code",
   "execution_count": 116,
   "metadata": {},
   "outputs": [],
   "source": [
    "import pickle\n",
    "import pandas as pd"
   ]
  },
  {
   "cell_type": "code",
   "execution_count": 117,
   "metadata": {},
   "outputs": [],
   "source": [
    "# J'importe le fichier pkl\n",
    "\n",
    "with open('dataframe.pkl', 'rb') as file:\n",
    "    df = pickle.load(file)"
   ]
  },
  {
   "cell_type": "code",
   "execution_count": 119,
   "metadata": {},
   "outputs": [
    {
     "data": {
      "text/html": [
       "<div>\n",
       "<style scoped>\n",
       "    .dataframe tbody tr th:only-of-type {\n",
       "        vertical-align: middle;\n",
       "    }\n",
       "\n",
       "    .dataframe tbody tr th {\n",
       "        vertical-align: top;\n",
       "    }\n",
       "\n",
       "    .dataframe thead th {\n",
       "        text-align: right;\n",
       "    }\n",
       "</style>\n",
       "<table border=\"1\" class=\"dataframe\">\n",
       "  <thead>\n",
       "    <tr style=\"text-align: right;\">\n",
       "      <th></th>\n",
       "      <th>No disposition</th>\n",
       "      <th>Date mutation</th>\n",
       "      <th>Nature mutation</th>\n",
       "      <th>Valeur fonciere</th>\n",
       "      <th>Type de voie</th>\n",
       "      <th>Voie</th>\n",
       "      <th>Code postal</th>\n",
       "      <th>Commune</th>\n",
       "      <th>Code commune</th>\n",
       "      <th>Section</th>\n",
       "      <th>No plan</th>\n",
       "      <th>1er lot</th>\n",
       "      <th>Surface Carrez du 1er lot</th>\n",
       "      <th>Nombre de lots</th>\n",
       "      <th>Type local</th>\n",
       "      <th>Surface reelle bati</th>\n",
       "      <th>Nombre pieces principales</th>\n",
       "      <th>Nature culture</th>\n",
       "      <th>Surface terrain</th>\n",
       "      <th>col_concat</th>\n",
       "    </tr>\n",
       "  </thead>\n",
       "  <tbody>\n",
       "    <tr>\n",
       "      <th>count</th>\n",
       "      <td>500000.000000</td>\n",
       "      <td>500000</td>\n",
       "      <td>500000</td>\n",
       "      <td>500000.000000</td>\n",
       "      <td>447240</td>\n",
       "      <td>499993</td>\n",
       "      <td>499972.000000</td>\n",
       "      <td>500000</td>\n",
       "      <td>500000.000000</td>\n",
       "      <td>499975</td>\n",
       "      <td>500000.000000</td>\n",
       "      <td>219436.0</td>\n",
       "      <td>91686.000000</td>\n",
       "      <td>500000.000000</td>\n",
       "      <td>500000</td>\n",
       "      <td>499634.000000</td>\n",
       "      <td>499634.000000</td>\n",
       "      <td>277984</td>\n",
       "      <td>277984.000000</td>\n",
       "      <td>500000</td>\n",
       "    </tr>\n",
       "    <tr>\n",
       "      <th>unique</th>\n",
       "      <td>NaN</td>\n",
       "      <td>1308</td>\n",
       "      <td>6</td>\n",
       "      <td>NaN</td>\n",
       "      <td>125</td>\n",
       "      <td>136969</td>\n",
       "      <td>NaN</td>\n",
       "      <td>26735</td>\n",
       "      <td>NaN</td>\n",
       "      <td>569</td>\n",
       "      <td>NaN</td>\n",
       "      <td>6412.0</td>\n",
       "      <td>NaN</td>\n",
       "      <td>NaN</td>\n",
       "      <td>4</td>\n",
       "      <td>NaN</td>\n",
       "      <td>NaN</td>\n",
       "      <td>23</td>\n",
       "      <td>NaN</td>\n",
       "      <td>500000</td>\n",
       "    </tr>\n",
       "    <tr>\n",
       "      <th>top</th>\n",
       "      <td>NaN</td>\n",
       "      <td>29/05/2020</td>\n",
       "      <td>Vente</td>\n",
       "      <td>NaN</td>\n",
       "      <td>RUE</td>\n",
       "      <td>JEAN JAURES</td>\n",
       "      <td>NaN</td>\n",
       "      <td>NICE</td>\n",
       "      <td>NaN</td>\n",
       "      <td>AB</td>\n",
       "      <td>NaN</td>\n",
       "      <td>1.0</td>\n",
       "      <td>NaN</td>\n",
       "      <td>NaN</td>\n",
       "      <td>Maison</td>\n",
       "      <td>NaN</td>\n",
       "      <td>NaN</td>\n",
       "      <td>S</td>\n",
       "      <td>NaN</td>\n",
       "      <td>31/01/2020ALL19.00308DU CLOS DES CARROSSES4120...</td>\n",
       "    </tr>\n",
       "    <tr>\n",
       "      <th>freq</th>\n",
       "      <td>NaN</td>\n",
       "      <td>1211</td>\n",
       "      <td>491620</td>\n",
       "      <td>NaN</td>\n",
       "      <td>270586</td>\n",
       "      <td>2912</td>\n",
       "      <td>NaN</td>\n",
       "      <td>4933</td>\n",
       "      <td>NaN</td>\n",
       "      <td>27087</td>\n",
       "      <td>NaN</td>\n",
       "      <td>8293.0</td>\n",
       "      <td>NaN</td>\n",
       "      <td>NaN</td>\n",
       "      <td>269590</td>\n",
       "      <td>NaN</td>\n",
       "      <td>NaN</td>\n",
       "      <td>271828</td>\n",
       "      <td>NaN</td>\n",
       "      <td>1</td>\n",
       "    </tr>\n",
       "    <tr>\n",
       "      <th>mean</th>\n",
       "      <td>1.021984</td>\n",
       "      <td>NaN</td>\n",
       "      <td>NaN</td>\n",
       "      <td>163958.541030</td>\n",
       "      <td>NaN</td>\n",
       "      <td>NaN</td>\n",
       "      <td>52279.510811</td>\n",
       "      <td>NaN</td>\n",
       "      <td>209.579846</td>\n",
       "      <td>NaN</td>\n",
       "      <td>367.303672</td>\n",
       "      <td>NaN</td>\n",
       "      <td>53.820757</td>\n",
       "      <td>0.620788</td>\n",
       "      <td>NaN</td>\n",
       "      <td>78.792912</td>\n",
       "      <td>2.872413</td>\n",
       "      <td>NaN</td>\n",
       "      <td>557.554730</td>\n",
       "      <td>NaN</td>\n",
       "    </tr>\n",
       "    <tr>\n",
       "      <th>std</th>\n",
       "      <td>0.388686</td>\n",
       "      <td>NaN</td>\n",
       "      <td>NaN</td>\n",
       "      <td>107703.350214</td>\n",
       "      <td>NaN</td>\n",
       "      <td>NaN</td>\n",
       "      <td>27538.484283</td>\n",
       "      <td>NaN</td>\n",
       "      <td>169.702964</td>\n",
       "      <td>NaN</td>\n",
       "      <td>536.231230</td>\n",
       "      <td>NaN</td>\n",
       "      <td>51.233492</td>\n",
       "      <td>0.908775</td>\n",
       "      <td>NaN</td>\n",
       "      <td>249.255014</td>\n",
       "      <td>1.943918</td>\n",
       "      <td>NaN</td>\n",
       "      <td>2100.006156</td>\n",
       "      <td>NaN</td>\n",
       "    </tr>\n",
       "    <tr>\n",
       "      <th>min</th>\n",
       "      <td>1.000000</td>\n",
       "      <td>NaN</td>\n",
       "      <td>NaN</td>\n",
       "      <td>100.000000</td>\n",
       "      <td>NaN</td>\n",
       "      <td>NaN</td>\n",
       "      <td>1000.000000</td>\n",
       "      <td>NaN</td>\n",
       "      <td>1.000000</td>\n",
       "      <td>NaN</td>\n",
       "      <td>1.000000</td>\n",
       "      <td>NaN</td>\n",
       "      <td>0.440000</td>\n",
       "      <td>0.000000</td>\n",
       "      <td>NaN</td>\n",
       "      <td>0.000000</td>\n",
       "      <td>0.000000</td>\n",
       "      <td>NaN</td>\n",
       "      <td>0.000000</td>\n",
       "      <td>NaN</td>\n",
       "    </tr>\n",
       "    <tr>\n",
       "      <th>25%</th>\n",
       "      <td>1.000000</td>\n",
       "      <td>NaN</td>\n",
       "      <td>NaN</td>\n",
       "      <td>81250.000000</td>\n",
       "      <td>NaN</td>\n",
       "      <td>NaN</td>\n",
       "      <td>30500.000000</td>\n",
       "      <td>NaN</td>\n",
       "      <td>76.000000</td>\n",
       "      <td>NaN</td>\n",
       "      <td>82.000000</td>\n",
       "      <td>NaN</td>\n",
       "      <td>29.890000</td>\n",
       "      <td>0.000000</td>\n",
       "      <td>NaN</td>\n",
       "      <td>37.000000</td>\n",
       "      <td>1.000000</td>\n",
       "      <td>NaN</td>\n",
       "      <td>197.000000</td>\n",
       "      <td>NaN</td>\n",
       "    </tr>\n",
       "    <tr>\n",
       "      <th>50%</th>\n",
       "      <td>1.000000</td>\n",
       "      <td>NaN</td>\n",
       "      <td>NaN</td>\n",
       "      <td>145000.000000</td>\n",
       "      <td>NaN</td>\n",
       "      <td>NaN</td>\n",
       "      <td>54680.000000</td>\n",
       "      <td>NaN</td>\n",
       "      <td>172.000000</td>\n",
       "      <td>NaN</td>\n",
       "      <td>200.000000</td>\n",
       "      <td>NaN</td>\n",
       "      <td>47.810000</td>\n",
       "      <td>0.000000</td>\n",
       "      <td>NaN</td>\n",
       "      <td>70.000000</td>\n",
       "      <td>3.000000</td>\n",
       "      <td>NaN</td>\n",
       "      <td>409.000000</td>\n",
       "      <td>NaN</td>\n",
       "    </tr>\n",
       "    <tr>\n",
       "      <th>75%</th>\n",
       "      <td>1.000000</td>\n",
       "      <td>NaN</td>\n",
       "      <td>NaN</td>\n",
       "      <td>226500.000000</td>\n",
       "      <td>NaN</td>\n",
       "      <td>NaN</td>\n",
       "      <td>76210.000000</td>\n",
       "      <td>NaN</td>\n",
       "      <td>300.000000</td>\n",
       "      <td>NaN</td>\n",
       "      <td>435.000000</td>\n",
       "      <td>NaN</td>\n",
       "      <td>69.100000</td>\n",
       "      <td>1.000000</td>\n",
       "      <td>NaN</td>\n",
       "      <td>97.000000</td>\n",
       "      <td>4.000000</td>\n",
       "      <td>NaN</td>\n",
       "      <td>678.000000</td>\n",
       "      <td>NaN</td>\n",
       "    </tr>\n",
       "    <tr>\n",
       "      <th>max</th>\n",
       "      <td>152.000000</td>\n",
       "      <td>NaN</td>\n",
       "      <td>NaN</td>\n",
       "      <td>497500.000000</td>\n",
       "      <td>NaN</td>\n",
       "      <td>NaN</td>\n",
       "      <td>97490.000000</td>\n",
       "      <td>NaN</td>\n",
       "      <td>909.000000</td>\n",
       "      <td>NaN</td>\n",
       "      <td>9609.000000</td>\n",
       "      <td>NaN</td>\n",
       "      <td>5518.000000</td>\n",
       "      <td>111.000000</td>\n",
       "      <td>NaN</td>\n",
       "      <td>69000.000000</td>\n",
       "      <td>55.000000</td>\n",
       "      <td>NaN</td>\n",
       "      <td>682121.000000</td>\n",
       "      <td>NaN</td>\n",
       "    </tr>\n",
       "  </tbody>\n",
       "</table>\n",
       "</div>"
      ],
      "text/plain": [
       "        No disposition Date mutation Nature mutation  Valeur fonciere  \\\n",
       "count    500000.000000        500000          500000    500000.000000   \n",
       "unique             NaN          1308               6              NaN   \n",
       "top                NaN    29/05/2020           Vente              NaN   \n",
       "freq               NaN          1211          491620              NaN   \n",
       "mean          1.021984           NaN             NaN    163958.541030   \n",
       "std           0.388686           NaN             NaN    107703.350214   \n",
       "min           1.000000           NaN             NaN       100.000000   \n",
       "25%           1.000000           NaN             NaN     81250.000000   \n",
       "50%           1.000000           NaN             NaN    145000.000000   \n",
       "75%           1.000000           NaN             NaN    226500.000000   \n",
       "max         152.000000           NaN             NaN    497500.000000   \n",
       "\n",
       "       Type de voie         Voie    Code postal Commune   Code commune  \\\n",
       "count        447240       499993  499972.000000  500000  500000.000000   \n",
       "unique          125       136969            NaN   26735            NaN   \n",
       "top             RUE  JEAN JAURES            NaN    NICE            NaN   \n",
       "freq         270586         2912            NaN    4933            NaN   \n",
       "mean            NaN          NaN   52279.510811     NaN     209.579846   \n",
       "std             NaN          NaN   27538.484283     NaN     169.702964   \n",
       "min             NaN          NaN    1000.000000     NaN       1.000000   \n",
       "25%             NaN          NaN   30500.000000     NaN      76.000000   \n",
       "50%             NaN          NaN   54680.000000     NaN     172.000000   \n",
       "75%             NaN          NaN   76210.000000     NaN     300.000000   \n",
       "max             NaN          NaN   97490.000000     NaN     909.000000   \n",
       "\n",
       "       Section        No plan   1er lot  Surface Carrez du 1er lot  \\\n",
       "count   499975  500000.000000  219436.0               91686.000000   \n",
       "unique     569            NaN    6412.0                        NaN   \n",
       "top         AB            NaN       1.0                        NaN   \n",
       "freq     27087            NaN    8293.0                        NaN   \n",
       "mean       NaN     367.303672       NaN                  53.820757   \n",
       "std        NaN     536.231230       NaN                  51.233492   \n",
       "min        NaN       1.000000       NaN                   0.440000   \n",
       "25%        NaN      82.000000       NaN                  29.890000   \n",
       "50%        NaN     200.000000       NaN                  47.810000   \n",
       "75%        NaN     435.000000       NaN                  69.100000   \n",
       "max        NaN    9609.000000       NaN                5518.000000   \n",
       "\n",
       "        Nombre de lots Type local  Surface reelle bati  \\\n",
       "count    500000.000000     500000        499634.000000   \n",
       "unique             NaN          4                  NaN   \n",
       "top                NaN     Maison                  NaN   \n",
       "freq               NaN     269590                  NaN   \n",
       "mean          0.620788        NaN            78.792912   \n",
       "std           0.908775        NaN           249.255014   \n",
       "min           0.000000        NaN             0.000000   \n",
       "25%           0.000000        NaN            37.000000   \n",
       "50%           0.000000        NaN            70.000000   \n",
       "75%           1.000000        NaN            97.000000   \n",
       "max         111.000000        NaN         69000.000000   \n",
       "\n",
       "        Nombre pieces principales Nature culture  Surface terrain  \\\n",
       "count               499634.000000         277984    277984.000000   \n",
       "unique                        NaN             23              NaN   \n",
       "top                           NaN              S              NaN   \n",
       "freq                          NaN         271828              NaN   \n",
       "mean                     2.872413            NaN       557.554730   \n",
       "std                      1.943918            NaN      2100.006156   \n",
       "min                      0.000000            NaN         0.000000   \n",
       "25%                      1.000000            NaN       197.000000   \n",
       "50%                      3.000000            NaN       409.000000   \n",
       "75%                      4.000000            NaN       678.000000   \n",
       "max                     55.000000            NaN    682121.000000   \n",
       "\n",
       "                                               col_concat  \n",
       "count                                              500000  \n",
       "unique                                             500000  \n",
       "top     31/01/2020ALL19.00308DU CLOS DES CARROSSES4120...  \n",
       "freq                                                    1  \n",
       "mean                                                  NaN  \n",
       "std                                                   NaN  \n",
       "min                                                   NaN  \n",
       "25%                                                   NaN  \n",
       "50%                                                   NaN  \n",
       "75%                                                   NaN  \n",
       "max                                                   NaN  "
      ]
     },
     "execution_count": 119,
     "metadata": {},
     "output_type": "execute_result"
    }
   ],
   "source": [
    "df.describe(include='all')"
   ]
  },
  {
   "cell_type": "code",
   "execution_count": 120,
   "metadata": {},
   "outputs": [
    {
     "data": {
      "text/plain": [
       "No disposition                0.0000\n",
       "Date mutation                 0.0000\n",
       "Nature mutation               0.0000\n",
       "Valeur fonciere               0.0000\n",
       "Type de voie                 10.5520\n",
       "Voie                          0.0014\n",
       "Code postal                   0.0056\n",
       "Commune                       0.0000\n",
       "Code commune                  0.0000\n",
       "Section                       0.0050\n",
       "No plan                       0.0000\n",
       "1er lot                      56.1128\n",
       "Surface Carrez du 1er lot    81.6628\n",
       "Nombre de lots                0.0000\n",
       "Type local                    0.0000\n",
       "Surface reelle bati           0.0732\n",
       "Nombre pieces principales     0.0732\n",
       "Nature culture               44.4032\n",
       "Surface terrain              44.4032\n",
       "col_concat                    0.0000\n",
       "dtype: float64"
      ]
     },
     "execution_count": 120,
     "metadata": {},
     "output_type": "execute_result"
    }
   ],
   "source": [
    "pourcentage_manquant = (df.isna().sum() / len(df)) * 100\n",
    "pourcentage_manquant"
   ]
  },
  {
   "cell_type": "code",
   "execution_count": 121,
   "metadata": {},
   "outputs": [
    {
     "name": "stdout",
     "output_type": "stream",
     "text": [
      "Index(['No disposition', 'Date mutation', 'Nature mutation', 'Valeur fonciere',\n",
      "       'Type de voie', 'Voie', 'Code postal', 'Commune', 'Code commune',\n",
      "       'Section', 'No plan', '1er lot', 'Surface Carrez du 1er lot',\n",
      "       'Nombre de lots', 'Type local', 'Surface reelle bati',\n",
      "       'Nombre pieces principales', 'Nature culture', 'Surface terrain',\n",
      "       'col_concat'],\n",
      "      dtype='object')\n"
     ]
    }
   ],
   "source": [
    "print(df.columns)"
   ]
  },
  {
   "cell_type": "code",
   "execution_count": 122,
   "metadata": {},
   "outputs": [
    {
     "name": "stdout",
     "output_type": "stream",
     "text": [
      "Valeur fonciere              1.000000\n",
      "Nombre pieces principales    0.326372\n",
      "Surface Carrez du 1er lot    0.217824\n",
      "Code postal                  0.135500\n",
      "Surface reelle bati          0.084807\n",
      "Surface terrain              0.037059\n",
      "No plan                      0.016501\n",
      "Code commune                -0.010230\n",
      "No disposition              -0.011302\n",
      "Nombre de lots              -0.053876\n",
      "Name: Valeur fonciere, dtype: float64\n"
     ]
    }
   ],
   "source": [
    "correlation = df[df.columns].corr()\n",
    "\n",
    "sorted_correlation_Valeurfonciere = correlation['Valeur fonciere'].sort_values(ascending=False)\n",
    "\n",
    "print(sorted_correlation_Valeurfonciere)"
   ]
  },
  {
   "cell_type": "code",
   "execution_count": 123,
   "metadata": {},
   "outputs": [
    {
     "name": "stdout",
     "output_type": "stream",
     "text": [
      "No disposition                 int64\n",
      "Date mutation                 object\n",
      "Nature mutation               object\n",
      "Valeur fonciere              float64\n",
      "Type de voie                  object\n",
      "Voie                          object\n",
      "Code postal                  float64\n",
      "Commune                       object\n",
      "Code commune                   int64\n",
      "Section                       object\n",
      "No plan                        int64\n",
      "1er lot                       object\n",
      "Surface Carrez du 1er lot    float64\n",
      "Nombre de lots                 int64\n",
      "Type local                    object\n",
      "Surface reelle bati          float64\n",
      "Nombre pieces principales    float64\n",
      "Nature culture                object\n",
      "Surface terrain              float64\n",
      "col_concat                    object\n",
      "dtype: object\n"
     ]
    }
   ],
   "source": [
    "print(df.dtypes)"
   ]
  },
  {
   "cell_type": "markdown",
   "metadata": {},
   "source": [
    "# Arbre de décision pour predire le 'Type local'"
   ]
  },
  {
   "cell_type": "code",
   "execution_count": 124,
   "metadata": {},
   "outputs": [],
   "source": [
    "# Sélectionner uniquement les lignes où 'Type local' est renseigné\n",
    "df_filtered = df[df['Type local'].notna()]"
   ]
  },
  {
   "cell_type": "code",
   "execution_count": 125,
   "metadata": {},
   "outputs": [],
   "source": [
    "# on prend quelques variables explicatives\n",
    "\n",
    "X = df_filtered[[\"Surface reelle bati\", \"Surface terrain\", \"Nombre pieces principales\", \"Nombre de lots\",\"Code commune\" ]]\n",
    "\n",
    "#on nomme la variale cible\n",
    "\n",
    "Y= df_filtered[\"Type local\"]"
   ]
  },
  {
   "cell_type": "code",
   "execution_count": 126,
   "metadata": {},
   "outputs": [
    {
     "data": {
      "text/plain": [
       "False    500000\n",
       "Name: Type local, dtype: int64"
      ]
     },
     "execution_count": 126,
     "metadata": {},
     "output_type": "execute_result"
    }
   ],
   "source": [
    "#ok toutes les valeurs de Y sont renseignées\n",
    "Y.isna().value_counts()"
   ]
  },
  {
   "cell_type": "code",
   "execution_count": 127,
   "metadata": {},
   "outputs": [
    {
     "data": {
      "text/plain": [
       "Maison                                      0.539180\n",
       "Appartement                                 0.270370\n",
       "Dépendance                                  0.140194\n",
       "Local industriel. commercial ou assimilé    0.050256\n",
       "Name: Type local, dtype: float64"
      ]
     },
     "execution_count": 127,
     "metadata": {},
     "output_type": "execute_result"
    }
   ],
   "source": [
    "Y.value_counts(normalize=True)"
   ]
  },
  {
   "cell_type": "code",
   "execution_count": 128,
   "metadata": {},
   "outputs": [],
   "source": [
    "# on scinde les données en echantillon test et train\n",
    "#70% des données pour l’apprentissage\n",
    "#30% des données pour l'échantillon test\n",
    "\n",
    "from sklearn.model_selection import train_test_split\n",
    "\n",
    "X_train, X_test, y_train, y_test = train_test_split(X, Y,\n",
    "                                                    test_size = 0.30,\n",
    "                                                    stratify = Y,\n",
    "                                                    random_state = 42)"
   ]
  },
  {
   "cell_type": "markdown",
   "metadata": {},
   "source": [
    "On va gerer les valeurs manquantes dans l'echantillon d'apprentissage"
   ]
  },
  {
   "cell_type": "code",
   "execution_count": 129,
   "metadata": {},
   "outputs": [],
   "source": [
    "X_train['Nombre pieces principales'].fillna(X_test['Nombre pieces principales'].mean(), inplace=True)\n",
    "X_test['Nombre pieces principales'].fillna(X_test['Nombre pieces principales'].mean(), inplace=True)\n",
    "X_train['Surface reelle bati'].fillna(X_test['Surface reelle bati'].mean(), inplace=True)\n",
    "X_test['Surface reelle bati'].fillna(X_test['Surface reelle bati'].mean(), inplace=True)\n",
    "X_train[\"Surface terrain\"].fillna(X_test[\"Surface terrain\"].mean(), inplace=True)\n",
    "X_test[\"Surface terrain\"].fillna(X_test[\"Surface terrain\"].mean(), inplace=True)\n",
    "X_train[\"Nombre de lots\"].fillna(X_test[\"Nombre de lots\"].mean(), inplace=True)\n",
    "X_test[\"Nombre de lots\"].fillna(X_test[\"Nombre de lots\"].mean(), inplace=True)\n",
    "X_train[\"Code commune\"].fillna(X_test[\"Code commune\"].mean(), inplace=True)\n",
    "X_test[\"Code commune\"].fillna(X_test[\"Code commune\"].mean(), inplace=True)\n"
   ]
  },
  {
   "cell_type": "markdown",
   "metadata": {},
   "source": [
    "# Apprentissage"
   ]
  },
  {
   "cell_type": "code",
   "execution_count": 130,
   "metadata": {},
   "outputs": [],
   "source": [
    "from sklearn.tree import DecisionTreeClassifier\n",
    "from sklearn.tree import plot_tree"
   ]
  },
  {
   "cell_type": "code",
   "execution_count": 131,
   "metadata": {},
   "outputs": [],
   "source": [
    "model_1 = DecisionTreeClassifier(max_depth=3 , min_samples_leaf=10, min_samples_split=20)\n",
    "model_1 = model_1.fit(X_train,y_train)"
   ]
  },
  {
   "cell_type": "markdown",
   "metadata": {},
   "source": [
    "# Prediction"
   ]
  },
  {
   "cell_type": "code",
   "execution_count": 132,
   "metadata": {},
   "outputs": [
    {
     "data": {
      "text/plain": [
       "array(['Appartement', 'Appartement', 'Maison', 'Maison', 'Dépendance',\n",
       "       'Maison', 'Maison', 'Dépendance', 'Appartement', 'Appartement'],\n",
       "      dtype=object)"
      ]
     },
     "execution_count": 132,
     "metadata": {},
     "output_type": "execute_result"
    }
   ],
   "source": [
    "y_pred = model_1.predict(X_test)\n",
    "y_pred[0:10]"
   ]
  },
  {
   "cell_type": "code",
   "execution_count": 133,
   "metadata": {},
   "outputs": [
    {
     "data": {
      "text/plain": [
       "array([[7.36474965e-01, 5.16715755e-05, 2.06686302e-04, 2.63266677e-01],\n",
       "       [9.56413734e-01, 0.00000000e+00, 0.00000000e+00, 4.35862665e-02],\n",
       "       [2.94818195e-03, 0.00000000e+00, 9.10549606e-04, 9.96141268e-01],\n",
       "       [2.94818195e-03, 0.00000000e+00, 9.10549606e-04, 9.96141268e-01],\n",
       "       [0.00000000e+00, 9.99753025e-01, 2.46974562e-04, 0.00000000e+00],\n",
       "       [2.94818195e-03, 0.00000000e+00, 9.10549606e-04, 9.96141268e-01],\n",
       "       [2.94818195e-03, 0.00000000e+00, 9.10549606e-04, 9.96141268e-01],\n",
       "       [0.00000000e+00, 9.99753025e-01, 2.46974562e-04, 0.00000000e+00],\n",
       "       [7.36474965e-01, 5.16715755e-05, 2.06686302e-04, 2.63266677e-01],\n",
       "       [9.56413734e-01, 0.00000000e+00, 0.00000000e+00, 4.35862665e-02]])"
      ]
     },
     "execution_count": 133,
     "metadata": {},
     "output_type": "execute_result"
    }
   ],
   "source": [
    "y_pred_proba = model_1.predict_proba(X_test)\n",
    "y_pred_proba[0:10]"
   ]
  },
  {
   "cell_type": "code",
   "execution_count": 134,
   "metadata": {},
   "outputs": [
    {
     "data": {
      "text/html": [
       "<div>\n",
       "<style scoped>\n",
       "    .dataframe tbody tr th:only-of-type {\n",
       "        vertical-align: middle;\n",
       "    }\n",
       "\n",
       "    .dataframe tbody tr th {\n",
       "        vertical-align: top;\n",
       "    }\n",
       "\n",
       "    .dataframe thead th {\n",
       "        text-align: right;\n",
       "    }\n",
       "</style>\n",
       "<table border=\"1\" class=\"dataframe\">\n",
       "  <thead>\n",
       "    <tr style=\"text-align: right;\">\n",
       "      <th>pred</th>\n",
       "      <th>Appartement</th>\n",
       "      <th>Dépendance</th>\n",
       "      <th>Local industriel. commercial ou assimilé</th>\n",
       "      <th>Maison</th>\n",
       "      <th>All</th>\n",
       "    </tr>\n",
       "    <tr>\n",
       "      <th>obs</th>\n",
       "      <th></th>\n",
       "      <th></th>\n",
       "      <th></th>\n",
       "      <th></th>\n",
       "      <th></th>\n",
       "    </tr>\n",
       "  </thead>\n",
       "  <tbody>\n",
       "    <tr>\n",
       "      <th>Appartement</th>\n",
       "      <td>40260</td>\n",
       "      <td>0</td>\n",
       "      <td>68</td>\n",
       "      <td>228</td>\n",
       "      <td>40556</td>\n",
       "    </tr>\n",
       "    <tr>\n",
       "      <th>Dépendance</th>\n",
       "      <td>0</td>\n",
       "      <td>21029</td>\n",
       "      <td>0</td>\n",
       "      <td>0</td>\n",
       "      <td>21029</td>\n",
       "    </tr>\n",
       "    <tr>\n",
       "      <th>Local industriel. commercial ou assimilé</th>\n",
       "      <td>5</td>\n",
       "      <td>304</td>\n",
       "      <td>7121</td>\n",
       "      <td>108</td>\n",
       "      <td>7538</td>\n",
       "    </tr>\n",
       "    <tr>\n",
       "      <th>Maison</th>\n",
       "      <td>3685</td>\n",
       "      <td>0</td>\n",
       "      <td>103</td>\n",
       "      <td>77089</td>\n",
       "      <td>80877</td>\n",
       "    </tr>\n",
       "    <tr>\n",
       "      <th>All</th>\n",
       "      <td>43950</td>\n",
       "      <td>21333</td>\n",
       "      <td>7292</td>\n",
       "      <td>77425</td>\n",
       "      <td>150000</td>\n",
       "    </tr>\n",
       "  </tbody>\n",
       "</table>\n",
       "</div>"
      ],
      "text/plain": [
       "pred                                      Appartement  Dépendance  \\\n",
       "obs                                                                 \n",
       "Appartement                                     40260           0   \n",
       "Dépendance                                          0       21029   \n",
       "Local industriel. commercial ou assimilé            5         304   \n",
       "Maison                                           3685           0   \n",
       "All                                             43950       21333   \n",
       "\n",
       "pred                                      Local industriel. commercial ou assimilé  \\\n",
       "obs                                                                                  \n",
       "Appartement                                                                     68   \n",
       "Dépendance                                                                       0   \n",
       "Local industriel. commercial ou assimilé                                      7121   \n",
       "Maison                                                                         103   \n",
       "All                                                                           7292   \n",
       "\n",
       "pred                                      Maison     All  \n",
       "obs                                                       \n",
       "Appartement                                  228   40556  \n",
       "Dépendance                                     0   21029  \n",
       "Local industriel. commercial ou assimilé     108    7538  \n",
       "Maison                                     77089   80877  \n",
       "All                                        77425  150000  "
      ]
     },
     "execution_count": 134,
     "metadata": {},
     "output_type": "execute_result"
    }
   ],
   "source": [
    "pd.crosstab(y_test,y_pred, colnames=['pred'], rownames=['obs'], margins=True)"
   ]
  },
  {
   "cell_type": "code",
   "execution_count": 135,
   "metadata": {},
   "outputs": [
    {
     "name": "stdout",
     "output_type": "stream",
     "text": [
      "recall : 0.9726362955303768\n",
      "precision : 0.9685001732129503\n",
      "f1_score : 0.9699886695218274\n"
     ]
    }
   ],
   "source": [
    "from sklearn.metrics import recall_score, precision_score, f1_score\n",
    "\n",
    "print('recall : ' + str(recall_score(y_test,y_pred,average='macro')))\n",
    "print('precision : ' + str(precision_score(y_test,y_pred, average='macro')))\n",
    "print('f1_score : ' + str(f1_score(y_test,y_pred, average='macro')))\n"
   ]
  },
  {
   "cell_type": "markdown",
   "metadata": {},
   "source": [
    "# Optimisation des parametres de l'arbre"
   ]
  },
  {
   "cell_type": "code",
   "execution_count": 136,
   "metadata": {},
   "outputs": [],
   "source": [
    "from sklearn.model_selection import GridSearchCV\n",
    "from sklearn.model_selection import ShuffleSplit"
   ]
  },
  {
   "cell_type": "code",
   "execution_count": 137,
   "metadata": {},
   "outputs": [
    {
     "name": "stdout",
     "output_type": "stream",
     "text": [
      "Voici les paramètres du meilleure modèle : DecisionTreeClassifier(max_depth=6, min_samples_leaf=40, min_samples_split=50)\n",
      "Voici le score make_scorer(accuracy_score) du meilleure modèle : 0.9729142857142857\n"
     ]
    }
   ],
   "source": [
    "parameters = {'max_depth' : [1,2,3,4,5,6] ,\n",
    "              'min_samples_leaf' : [10,20,30,40],\n",
    "              'min_samples_split' : [50,100,200]}\n",
    "\n",
    "dtc = DecisionTreeClassifier()\n",
    "dtc_model_1 = GridSearchCV(dtc, parameters, scoring = 'accuracy' ,\n",
    "                   cv = ShuffleSplit(test_size=0.30, n_splits=1, random_state=0))\n",
    "dtc_model_1.fit(X_train, y_train )\n",
    "\n",
    "print(\"Voici les paramètres du meilleure modèle : \" + str(dtc_model_1.best_estimator_))\n",
    "print(\"Voici le score \"  + str(dtc_model_1.scorer_) + \" du meilleure modèle : \" + str(dtc_model_1.best_score_))"
   ]
  },
  {
   "cell_type": "markdown",
   "metadata": {},
   "source": [
    "Comment c'est possible que avec le gridsearch le score make_scorer(accuracy_score) du meilleure modèle : 0.8700831125467281 et que sans le gridsearch precision : 0.8920381577537984??"
   ]
  },
  {
   "cell_type": "code",
   "execution_count": 138,
   "metadata": {},
   "outputs": [],
   "source": [
    "y_pred_dtc = dtc_model_1.predict(X_test)"
   ]
  },
  {
   "cell_type": "code",
   "execution_count": 139,
   "metadata": {},
   "outputs": [
    {
     "name": "stdout",
     "output_type": "stream",
     "text": [
      "recall : 0.9763936830748909\n",
      "precision : 0.9721491500184998\n",
      "f1_score : 0.974065784191871\n"
     ]
    }
   ],
   "source": [
    "print('recall : ' + str(recall_score(y_test,y_pred_dtc,average='macro')))\n",
    "print('precision : ' + str(precision_score(y_test,y_pred_dtc, average='macro')))\n",
    "print('f1_score : ' + str(f1_score(y_test,y_pred_dtc, average='macro')))"
   ]
  },
  {
   "cell_type": "markdown",
   "metadata": {},
   "source": [
    "# Bonne précision"
   ]
  }
 ],
 "metadata": {
  "kernelspec": {
   "display_name": "base",
   "language": "python",
   "name": "python3"
  },
  "language_info": {
   "codemirror_mode": {
    "name": "ipython",
    "version": 3
   },
   "file_extension": ".py",
   "mimetype": "text/x-python",
   "name": "python",
   "nbconvert_exporter": "python",
   "pygments_lexer": "ipython3",
   "version": "3.9.12"
  },
  "orig_nbformat": 4
 },
 "nbformat": 4,
 "nbformat_minor": 2
}
